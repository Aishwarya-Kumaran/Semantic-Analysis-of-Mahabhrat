{
  "nbformat": 4,
  "nbformat_minor": 0,
  "metadata": {
    "colab": {
      "name": "NER-inferences.ipynb",
      "provenance": [],
      "collapsed_sections": []
    },
    "kernelspec": {
      "name": "python3",
      "display_name": "Python 3"
    },
    "language_info": {
      "name": "python"
    }
  },
  "cells": [
    {
      "cell_type": "code",
      "execution_count": null,
      "metadata": {
        "id": "xhteZDwT-_vX"
      },
      "outputs": [],
      "source": [
        "import pandas as pd\n",
        "\n",
        "df = pd.read_csv('/content/drive/MyDrive/Nith_tagged/crf_tagged.csv')\n",
        "df1 = pd.read_csv('/content/drive/MyDrive/Nith_tagged/crf_tagged1.csv')\n",
        "df2 = pd.read_csv('/content/drive/MyDrive/Nith_tagged/crf_tagged2.csv')\n",
        "df3 = pd.read_csv('/content/drive/MyDrive/Nith_tagged/crf_tagged3.csv')\n",
        "df4 = pd.read_csv('/content/drive/MyDrive/Nith_tagged/crf_tagged4.csv')\n",
        "df5 = pd.read_csv('/content/drive/MyDrive/Nith_tagged/crf_tagged5.csv')\n",
        "df6 = pd.read_csv('/content/drive/MyDrive/Nith_tagged/crf_tagged6.csv')\n",
        "df7 = pd.read_csv('/content/drive/MyDrive/Nith_tagged/crf_tagged7.csv')\n",
        "df8 = pd.read_csv('/content/drive/MyDrive/Nith_tagged/crf_tagged8.csv')\n",
        "df9 = pd.read_csv('/content/drive/MyDrive/Nith_tagged/crf_tagged9.csv')"
      ]
    },
    {
      "cell_type": "code",
      "source": [
        "frame = [df, df1, df2, df3, df4, df5, df6, df7, df8, df9]\n",
        "result = pd.concat(frame)"
      ],
      "metadata": {
        "id": "uIeORYBDAlYV"
      },
      "execution_count": null,
      "outputs": []
    },
    {
      "cell_type": "code",
      "source": [
        "print(result.head())"
      ],
      "metadata": {
        "colab": {
          "base_uri": "https://localhost:8080/"
        },
        "id": "ViZuifejAy2y",
        "outputId": "6cfaa1e2-04dd-4a77-dcba-3319562fac6d"
      },
      "execution_count": null,
      "outputs": [
        {
          "output_type": "stream",
          "name": "stdout",
          "text": [
            "   Unnamed: 0  Unnamed: 0.1  sentence_no        word predicted_tag POS_Tags\n",
            "0           0             0            1        BOOK             O      NNP\n",
            "1           1             1            1           1             O       CD\n",
            "2           2             2            1         ADI             O      NNP\n",
            "3           3             3            1       PARVA     I-LIT&ART      NNP\n",
            "4           4             4            1  Translated             O      VBN\n"
          ]
        }
      ]
    },
    {
      "cell_type": "code",
      "source": [
        "print(len(result))"
      ],
      "metadata": {
        "colab": {
          "base_uri": "https://localhost:8080/"
        },
        "id": "doFixrLHHYvN",
        "outputId": "170c9656-77ce-4d04-d8e9-477e878755fb"
      },
      "execution_count": null,
      "outputs": [
        {
          "output_type": "stream",
          "name": "stdout",
          "text": [
            "1086469\n"
          ]
        }
      ]
    },
    {
      "cell_type": "code",
      "source": [
        "df = pd.read_csv('/content/drive/MyDrive/shans_tagged/crf_tagged/crf_tagged1.csv')\n",
        "df1 = pd.read_csv('/content/drive/MyDrive/shans_tagged/crf_tagged/crf_tagged2.csv')\n",
        "df2 = pd.read_csv('/content/drive/MyDrive/shans_tagged/crf_tagged/crf_tagged3.csv')\n",
        "df3 = pd.read_csv('/content/drive/MyDrive/shans_tagged/crf_tagged/crf_tagged4.csv')\n",
        "df4 = pd.read_csv('/content/drive/MyDrive/shans_tagged/crf_tagged/crf_tagged5.csv')\n",
        "df5 = pd.read_csv('/content/drive/MyDrive/shans_tagged/crf_tagged/crf_tagged6.csv')\n",
        "df6 = pd.read_csv('/content/drive/MyDrive/shans_tagged/crf_tagged/crf_tagged7.csv')\n",
        "df7 = pd.read_csv('/content/drive/MyDrive/shans_tagged/crf_tagged/crf_tagged8.csv')\n",
        "df8 = pd.read_csv('/content/drive/MyDrive/shans_tagged/crf_tagged/crf_tagged9.csv')\n",
        "df9 = pd.read_csv('/content/drive/MyDrive/shans_tagged/crf_tagged/crf_tagged10.csv')\n",
        "df10 = pd.read_csv('/content/drive/MyDrive/shans_tagged/crf_tagged/crf_tagged11.csv')\n",
        "df11 = pd.read_csv('/content/drive/MyDrive/shans_tagged/crf_tagged/crf_tagged12.csv')\n",
        "df12 = pd.read_csv('/content/drive/MyDrive/shans_tagged/crf_tagged/crf_tagged13.csv')\n",
        "df13 = pd.read_csv('/content/drive/MyDrive/shans_tagged/crf_tagged/crf_tagged14.csv')\n",
        "df14 = pd.read_csv('/content/drive/MyDrive/shans_tagged/crf_tagged/crf_tagged15.csv')\n",
        "df15 = pd.read_csv('/content/drive/MyDrive/shans_tagged/crf_tagged/crf_tagged16.csv')\n",
        "df16 = pd.read_csv('/content/drive/MyDrive/shans_tagged/crf_tagged/crf_tagged17.csv')\n",
        "df17 = pd.read_csv('/content/drive/MyDrive/shans_tagged/crf_tagged/crf_tagged18.csv')\n",
        "df18 = pd.read_csv('/content/drive/MyDrive/shans_tagged/crf_tagged/crf_tagged19.csv')\n",
        "df19 = pd.read_csv('/content/drive/MyDrive/shans_tagged/crf_tagged/crf_tagged20.csv')\n",
        "df20 = pd.read_csv('/content/drive/MyDrive/shans_tagged/crf_tagged/crf_tagged21.csv')\n",
        "df21 = pd.read_csv('/content/drive/MyDrive/shans_tagged/crf_tagged/crf_tagged22.csv')\n",
        "df22 = pd.read_csv('/content/drive/MyDrive/shans_tagged/crf_tagged/crf_tagged23.csv')\n",
        "df23 = pd.read_csv('/content/drive/MyDrive/shans_tagged/crf_tagged/crf_tagged24.csv')\n",
        "df24 = pd.read_csv('/content/drive/MyDrive/shans_tagged/crf_tagged/crf_tagged25.csv')\n",
        "df25 = pd.read_csv('/content/drive/MyDrive/shans_tagged/crf_tagged/crf_tagged26.csv')\n",
        "df26 = pd.read_csv('/content/drive/MyDrive/shans_tagged/crf_tagged/crf_tagged27.csv')\n",
        "df27 = pd.read_csv('/content/drive/MyDrive/shans_tagged/crf_tagged/crf_tagged28.csv')\n",
        "df28 = pd.read_csv('/content/drive/MyDrive/shans_tagged/crf_tagged/crf_tagged29.csv')\n",
        "df29 = pd.read_csv('/content/drive/MyDrive/shans_tagged/crf_tagged/crf_tagged30.csv')\n",
        "df30 = pd.read_csv('/content/drive/MyDrive/shans_tagged/crf_tagged/crf_tagged31.csv')\n",
        "df31 = pd.read_csv('/content/drive/MyDrive/shans_tagged/crf_tagged/crf_tagged32.csv')\n",
        "df32 = pd.read_csv('/content/drive/MyDrive/shans_tagged/crf_tagged/crf_tagged33.csv')\n",
        "df33 = pd.read_csv('/content/drive/MyDrive/shans_tagged/crf_tagged/crf_tagged34.csv')\n",
        "df34 = pd.read_csv('/content/drive/MyDrive/shans_tagged/crf_tagged/crf_tagged35.csv')\n",
        "df35 = pd.read_csv('/content/drive/MyDrive/shans_tagged/crf_tagged/crf_tagged36.csv')\n",
        "df36 = pd.read_csv('/content/drive/MyDrive/shans_tagged/crf_tagged/crf_tagged37.csv')\n",
        "df37 = pd.read_csv('/content/drive/MyDrive/shans_tagged/crf_tagged/crf_tagged38.csv')\n",
        "df38 = pd.read_csv('/content/drive/MyDrive/shans_tagged/crf_tagged/crf_tagged39.csv')\n",
        "df39 = pd.read_csv('/content/drive/MyDrive/shans_tagged/crf_tagged/crf_tagged40.csv')\n",
        "df40 = pd.read_csv('/content/drive/MyDrive/shans_tagged/crf_tagged/crf_tagged41.csv')\n",
        "df41 = pd.read_csv('/content/drive/MyDrive/shans_tagged/crf_tagged/crf_tagged42.csv')\n",
        "df42 = pd.read_csv('/content/drive/MyDrive/shans_tagged/crf_tagged/crf_tagged43.csv')\n",
        "df43 = pd.read_csv('/content/drive/MyDrive/shans_tagged/crf_tagged/crf_tagged44.csv')"
      ],
      "metadata": {
        "id": "O11n8Q_nBA2g"
      },
      "execution_count": null,
      "outputs": []
    },
    {
      "cell_type": "code",
      "source": [
        "frame = [df, df1, df2, df3, df4, df5, df6, df7, df8, df9, df11, df12, df13, df14, df15, df16, df17, df18, df19, df20, df21, df22, df23, df24, df25, df26, df27, df28, df29, df30, df31, df32, df33,  df34, df35, df36, df37, df38, df39, df40, df41, df42, df43]\n",
        "result2 = pd.concat(frame)"
      ],
      "metadata": {
        "id": "9o1zVFqrCZWy"
      },
      "execution_count": null,
      "outputs": []
    },
    {
      "cell_type": "code",
      "source": [
        "print(len(result2))"
      ],
      "metadata": {
        "colab": {
          "base_uri": "https://localhost:8080/"
        },
        "id": "5ZpQRyiQHdRo",
        "outputId": "e1f2db39-3dbc-4e50-a22c-ef0c8b3b904f"
      },
      "execution_count": null,
      "outputs": [
        {
          "output_type": "stream",
          "name": "stdout",
          "text": [
            "896390\n"
          ]
        }
      ]
    },
    {
      "cell_type": "code",
      "source": [
        "frame = [result, result2]\n",
        "result = pd.concat(frame)\n"
      ],
      "metadata": {
        "id": "xMH0TruWDRlM"
      },
      "execution_count": null,
      "outputs": []
    },
    {
      "cell_type": "code",
      "source": [
        "print(len(result))"
      ],
      "metadata": {
        "colab": {
          "base_uri": "https://localhost:8080/"
        },
        "id": "7EL2LWmIHh04",
        "outputId": "f602a87a-ac1b-4047-dcc2-803caeab455c"
      },
      "execution_count": null,
      "outputs": [
        {
          "output_type": "stream",
          "name": "stdout",
          "text": [
            "1982859\n"
          ]
        }
      ]
    },
    {
      "cell_type": "code",
      "source": [
        "df = pd.read_csv('/content/drive/MyDrive/aish_tagged/Merged file.csv')\n",
        "frame = [result, df]\n",
        "result = pd.concat(frame)"
      ],
      "metadata": {
        "colab": {
          "base_uri": "https://localhost:8080/"
        },
        "id": "nnmaAYHVDWEM",
        "outputId": "b6961196-528f-4533-d5ad-2856d0e96e6d"
      },
      "execution_count": null,
      "outputs": [
        {
          "output_type": "stream",
          "name": "stderr",
          "text": [
            "/usr/local/lib/python3.7/dist-packages/IPython/core/interactiveshell.py:2882: DtypeWarning: Columns (1,2) have mixed types.Specify dtype option on import or set low_memory=False.\n",
            "  exec(code_obj, self.user_global_ns, self.user_ns)\n"
          ]
        }
      ]
    },
    {
      "cell_type": "code",
      "source": [
        "print(len(result))"
      ],
      "metadata": {
        "colab": {
          "base_uri": "https://localhost:8080/"
        },
        "id": "dEWnBPjHHlef",
        "outputId": "e5c238ba-9f2e-4d9e-9718-d85fab688576"
      },
      "execution_count": null,
      "outputs": [
        {
          "output_type": "stream",
          "name": "stdout",
          "text": [
            "2722757\n"
          ]
        }
      ]
    },
    {
      "cell_type": "code",
      "source": [
        "print(result.tail(10))\n",
        "print(len(result))"
      ],
      "metadata": {
        "colab": {
          "base_uri": "https://localhost:8080/"
        },
        "id": "Zl2zjPi6DsIy",
        "outputId": "254cb0cd-9fac-4ac3-9478-0b3d4db482cc"
      },
      "execution_count": null,
      "outputs": [
        {
          "output_type": "stream",
          "name": "stdout",
          "text": [
            "        Unnamed: 0 Unnamed: 0.1 sentence_no       word predicted_tag POS_Tags  \\\n",
            "739888    498162.0       498162       19999      cloud             O       NN   \n",
            "739889    498163.0       498163       19999          ,             O        ,   \n",
            "739890    498164.0       498164       19999   ascended             O      VBD   \n",
            "739891    498165.0       498165       19999        his             O     PRP$   \n",
            "739892    498166.0       498166       19999        car             O       NN   \n",
            "739893    498167.0       498167       19999        and             O       CC   \n",
            "739894    498168.0       498168       19999  proceeded             O      VBD   \n",
            "739895    498169.0       498169       19999    towards             O       IN   \n",
            "739896    498170.0       498170       19999    Dwaraka       B-PLACE      NNP   \n",
            "739897    498171.0       498171       19999          .             O        .   \n",
            "\n",
            "       tag  \n",
            "739888   O  \n",
            "739889   O  \n",
            "739890   O  \n",
            "739891   O  \n",
            "739892   O  \n",
            "739893   O  \n",
            "739894   O  \n",
            "739895   O  \n",
            "739896   O  \n",
            "739897   O  \n",
            "2722757\n"
          ]
        }
      ]
    },
    {
      "cell_type": "code",
      "source": [
        "print(result.head(10))"
      ],
      "metadata": {
        "colab": {
          "base_uri": "https://localhost:8080/"
        },
        "id": "6QacOC42WOFq",
        "outputId": "e7bba121-36e3-4754-b6e8-53346b0fa470"
      },
      "execution_count": null,
      "outputs": [
        {
          "output_type": "stream",
          "name": "stdout",
          "text": [
            "   Unnamed: 0 Unnamed: 0.1 sentence_no        word predicted_tag POS_Tags  tag\n",
            "0         0.0            0           1        BOOK             O      NNP  NaN\n",
            "1         1.0            1           1           1             O       CD  NaN\n",
            "2         2.0            2           1         ADI             O      NNP  NaN\n",
            "3         3.0            3           1       PARVA     I-LIT&ART      NNP  NaN\n",
            "4         4.0            4           1  Translated             O      VBN  NaN\n",
            "5         5.0            5           1        into             O       IN  NaN\n",
            "6         6.0            6           1     English             O      NNP  NaN\n",
            "7         7.0            7           1       Prose             O       NN  NaN\n",
            "8         8.0            8           1        from             O       IN  NaN\n",
            "9         9.0            9           1         the             O       DT  NaN\n"
          ]
        }
      ]
    },
    {
      "cell_type": "code",
      "source": [
        "persons = {\"Arjuna\"}\n",
        "\n",
        "for ind in result.index:\n",
        "     if df['predicted_tag'][ind] == 'B-PER' or df['predicted_tag'][ind] == 'I-PER':\n",
        "       persons.add(df['word'][ind])\n"
      ],
      "metadata": {
        "id": "kF4LLibFD4e4"
      },
      "execution_count": null,
      "outputs": []
    },
    {
      "cell_type": "code",
      "source": [
        "result.predicted_tag.unique()"
      ],
      "metadata": {
        "colab": {
          "base_uri": "https://localhost:8080/"
        },
        "id": "sU1YaB8pINk4",
        "outputId": "73c99cb9-a142-4b8f-bef0-47438610feac"
      },
      "execution_count": null,
      "outputs": [
        {
          "output_type": "execute_result",
          "data": {
            "text/plain": [
              "array(['O', 'I-LIT&ART', 'B-PER', 'I-PER', 'B-EVE', 'B-PLACE',\n",
              "       'B-COMMUNITY', 'B-LIT&ART', 'B-WEAPON&WAR_STRATEGY', 'I-PLACE',\n",
              "       'I-COMMUNITY', 'I-EVE', 'predicted_tag'], dtype=object)"
            ]
          },
          "metadata": {},
          "execution_count": 15
        }
      ]
    },
    {
      "cell_type": "code",
      "source": [
        "print(len(persons))"
      ],
      "metadata": {
        "colab": {
          "base_uri": "https://localhost:8080/"
        },
        "id": "3zET6_9PFg_S",
        "outputId": "8130380e-18ec-4545-e35c-13a4db4a2e20"
      },
      "execution_count": null,
      "outputs": [
        {
          "output_type": "stream",
          "name": "stdout",
          "text": [
            "1689\n"
          ]
        }
      ]
    },
    {
      "cell_type": "code",
      "source": [
        "with open(\"data.txt\", 'w') as f:\n",
        "    f.write(\"\\n\".join(map(str, persons)))"
      ],
      "metadata": {
        "id": "RvOSBufiuiO_"
      },
      "execution_count": null,
      "outputs": []
    },
    {
      "cell_type": "code",
      "source": [
        "# for x in persons:\n",
        "#   print(x)"
      ],
      "metadata": {
        "id": "zYl0a9ojFkZd"
      },
      "execution_count": null,
      "outputs": []
    },
    {
      "cell_type": "code",
      "source": [
        "places = {\" \"}\n",
        "\n",
        "for ind in result.index:\n",
        "     if df['predicted_tag'][ind] == 'B-PLACE' or df['predicted_tag'][ind] == 'I-PLACE':\n",
        "       places.add(df['word'][ind])"
      ],
      "metadata": {
        "id": "DrCJ9ul1Fap8"
      },
      "execution_count": null,
      "outputs": []
    },
    {
      "cell_type": "code",
      "source": [
        "print(len(places))"
      ],
      "metadata": {
        "colab": {
          "base_uri": "https://localhost:8080/"
        },
        "id": "D6tL0fWLGU3s",
        "outputId": "7f4e8ec2-a607-4f24-bd56-ef22beddd1a7"
      },
      "execution_count": null,
      "outputs": [
        {
          "output_type": "stream",
          "name": "stdout",
          "text": [
            "173\n"
          ]
        }
      ]
    },
    {
      "cell_type": "code",
      "source": [
        "community = {\" \"}\n",
        "for ind in result.index:\n",
        "     if df['predicted_tag'][ind] == 'B-COMMUNITY' or df['predicted_tag'][ind] == 'I-COMMUNITY':\n",
        "       community.add(df['word'][ind])"
      ],
      "metadata": {
        "id": "Yxa0-B7WGALM"
      },
      "execution_count": null,
      "outputs": []
    },
    {
      "cell_type": "code",
      "source": [
        "print(len(community))"
      ],
      "metadata": {
        "colab": {
          "base_uri": "https://localhost:8080/"
        },
        "id": "DJNyHHcfIiMl",
        "outputId": "919125a9-6d51-43d9-a71f-fed36e3c57f4"
      },
      "execution_count": null,
      "outputs": [
        {
          "output_type": "stream",
          "name": "stdout",
          "text": [
            "524\n"
          ]
        }
      ]
    },
    {
      "cell_type": "code",
      "source": [
        "lit = {\" \"}\n",
        "\n",
        "for ind in result.index:\n",
        "     if df['predicted_tag'][ind] == 'B-LIT&ART' or df['predicted_tag'][ind] == 'I-LIT&ART':\n",
        "       lit.add(df['word'][ind])"
      ],
      "metadata": {
        "id": "RKcUyQi5GMTz"
      },
      "execution_count": null,
      "outputs": []
    },
    {
      "cell_type": "code",
      "source": [
        "print(len(lit))"
      ],
      "metadata": {
        "colab": {
          "base_uri": "https://localhost:8080/"
        },
        "id": "XOCCledZIv7x",
        "outputId": "6ff5f200-26ce-4df3-ffca-85be8cb637c4"
      },
      "execution_count": null,
      "outputs": [
        {
          "output_type": "stream",
          "name": "stdout",
          "text": [
            "20\n"
          ]
        }
      ]
    },
    {
      "cell_type": "code",
      "source": [
        "weapons = {\" \"}\n",
        "for ind in result.index:\n",
        "     if df['predicted_tag'][ind] == 'B-WEAPON&WAR_STRATEGY' or df['predicted_tag'][ind] == 'I-WEAPON&WAR_STRATEGY':\n",
        "       weapons.add(df['word'][ind])"
      ],
      "metadata": {
        "id": "uOyyIqx5Ixin"
      },
      "execution_count": null,
      "outputs": []
    },
    {
      "cell_type": "code",
      "source": [
        "print(len(weapons))"
      ],
      "metadata": {
        "colab": {
          "base_uri": "https://localhost:8080/"
        },
        "id": "IOuATGHXI9ub",
        "outputId": "113ac837-ebf2-4d60-9a05-d7ae8e7491c6"
      },
      "execution_count": null,
      "outputs": [
        {
          "output_type": "stream",
          "name": "stdout",
          "text": [
            "22\n"
          ]
        }
      ]
    },
    {
      "cell_type": "code",
      "source": [
        "eve = {\" \"}\n",
        "for ind in result.index:\n",
        "     if df['predicted_tag'][ind] == 'B-EVE' or df['predicted_tag'][ind] == 'I-EVE':\n",
        "       eve.add(df['word'][ind])\n"
      ],
      "metadata": {
        "id": "KY0bynBjJCBD"
      },
      "execution_count": null,
      "outputs": []
    },
    {
      "cell_type": "code",
      "source": [
        "print(len(eve))"
      ],
      "metadata": {
        "colab": {
          "base_uri": "https://localhost:8080/"
        },
        "id": "p6NOINJyJj6T",
        "outputId": "60445eee-3c66-4fb3-f7e6-bd3484ab1287"
      },
      "execution_count": null,
      "outputs": [
        {
          "output_type": "stream",
          "name": "stdout",
          "text": [
            "23\n"
          ]
        }
      ]
    },
    {
      "cell_type": "code",
      "source": [
        "print(eve)"
      ],
      "metadata": {
        "colab": {
          "base_uri": "https://localhost:8080/"
        },
        "id": "LYymhzu4Utv8",
        "outputId": "1db42804-9367-47c6-a07a-ea3674d9fc94"
      },
      "execution_count": null,
      "outputs": [
        {
          "output_type": "stream",
          "name": "stdout",
          "text": [
            "{'Kala', 'Agnishtoma', 'Arghya', 'Dwapara', 'Yojana', 'Magha', 'Yuga', 'Pushya', 'Atiratra', 'Maharatha', 'Mahabharata', 'Agnihotra', 'Sraddha', 'Krittika', 'Agnihotras', 'Kurukshetra', ' ', 'Vajapeya', 'Swayamvara', 'Phalguni', 'Rajasuya', 'Chaturmasya', 'Paurnamasa'}\n"
          ]
        }
      ]
    },
    {
      "cell_type": "code",
      "source": [
        "!pip install matplotlib"
      ],
      "metadata": {
        "colab": {
          "base_uri": "https://localhost:8080/"
        },
        "id": "_Z1WQjMOKBOG",
        "outputId": "7832178f-e49a-4480-cde2-381b78770601"
      },
      "execution_count": null,
      "outputs": [
        {
          "output_type": "stream",
          "name": "stdout",
          "text": [
            "Requirement already satisfied: matplotlib in /usr/local/lib/python3.7/dist-packages (3.2.2)\n",
            "Requirement already satisfied: cycler>=0.10 in /usr/local/lib/python3.7/dist-packages (from matplotlib) (0.11.0)\n",
            "Requirement already satisfied: kiwisolver>=1.0.1 in /usr/local/lib/python3.7/dist-packages (from matplotlib) (1.4.2)\n",
            "Requirement already satisfied: python-dateutil>=2.1 in /usr/local/lib/python3.7/dist-packages (from matplotlib) (2.8.2)\n",
            "Requirement already satisfied: pyparsing!=2.0.4,!=2.1.2,!=2.1.6,>=2.0.1 in /usr/local/lib/python3.7/dist-packages (from matplotlib) (3.0.9)\n",
            "Requirement already satisfied: numpy>=1.11 in /usr/local/lib/python3.7/dist-packages (from matplotlib) (1.21.6)\n",
            "Requirement already satisfied: typing-extensions in /usr/local/lib/python3.7/dist-packages (from kiwisolver>=1.0.1->matplotlib) (4.2.0)\n",
            "Requirement already satisfied: six>=1.5 in /usr/local/lib/python3.7/dist-packages (from python-dateutil>=2.1->matplotlib) (1.15.0)\n"
          ]
        }
      ]
    },
    {
      "cell_type": "code",
      "source": [
        "import matplotlib.pyplot as plt\n",
        "\n",
        "tags = ['person', 'event', 'place', 'weapons&war_strategies', 'communities', 'lit&art']\n",
        "\n",
        "cnt = [len(persons), len(eve),  len(places), len(weapons), len(community),  len(lit)]\n",
        "\n",
        "colors = ['#ff9999','#66b3ff','#99ff99','#ffcc99', '#33bff3', '#ffbc33']\n",
        "\n",
        "plt.pie(cnt, labels = tags, colors=colors,\n",
        "\t\tstartangle=90, shadow = True, explode = (0, 0, 0.1, 0.1, 0, 0),\n",
        "\t\tradius = 3.2, autopct = '%1.1f%%')\n",
        "\n",
        "plt.legend()\n",
        "\n",
        "plt.show()\n"
      ],
      "metadata": {
        "colab": {
          "base_uri": "https://localhost:8080/",
          "height": 569
        },
        "id": "9Fz65QT_Kauh",
        "outputId": "57e4a7d9-47e6-4f61-acb2-a362b9422140"
      },
      "execution_count": null,
      "outputs": [
        {
          "output_type": "display_data",
          "data": {
            "text/plain": [
              "<Figure size 432x288 with 1 Axes>"
            ],
            "image/png": "[encoded data removed]"
          },
          "metadata": {}
        }
      ]
    },
    {
      "cell_type": "code",
      "source": [
        "freq = {}\n",
        "\n",
        "for ind in result.index:\n",
        "     if df['predicted_tag'][ind] == 'B-PER' or df['predicted_tag'][ind] == 'I-PER':\n",
        "       per = df['word'][ind]\n",
        "       if(per in freq):\n",
        "         freq[per]+=1\n",
        "       else:\n",
        "        freq[per] = 1"
      ],
      "metadata": {
        "id": "_FpstbGQM9Kn"
      },
      "execution_count": null,
      "outputs": []
    },
    {
      "cell_type": "code",
      "source": [
        "print(freq)"
      ],
      "metadata": {
        "colab": {
          "base_uri": "https://localhost:8080/"
        },
        "id": "dfD3sBoZOi6-",
        "outputId": "4e5cacfa-45bd-4ea4-f33c-8e0790457798"
      },
      "execution_count": null,
      "outputs": [
        {
          "output_type": "stream",
          "name": "stdout",
          "text": [
            "{'Vyasa': 262, 'Nara': 133, 'Narayana': 174, 'Dwaipayana': 65, 'Narada': 226, 'Kanwa': 56, 'Rama': 252, 'Krishna': 1595, 'Dhritarashtra': 946, 'Sanjaya': 2254, 'Gita': 181, 'Duryodhana': 2257, 'Drona': 3582, 'Pandu': 2415, 'Drupada': 580, 'Dhrishtadyumna': 1230, 'Bhima': 2156, 'Arjuna': 4852, 'Yuyudhana': 201, 'Virata': 518, 'Dhrishtaketu': 232, 'Yudhamanyu': 100, 'Subhadra': 651, 'Draupadi': 461, 'Bhishma': 4855, 'Karna': 2155, 'Kripa': 852, 'Aswatthaman': 415, 'Vikarna': 450, 'Saumadatta': 54, 'Jayadratha': 435, 'Madhava': 294, 'Hrishikesa': 148, 'Panchajanya': 104, 'Dhananjaya': 1453, 'Vrikodara': 345, 'Kunti': 1673, 'Yudhishthira': 1842, 'Anantavijaya': 54, 'Nakula': 470, 'Sahadeva': 461, 'Manipushpaka': 64, 'Sikhandin': 645, 'Satyaki': 1224, 'Dhartarashtras': 265, 'Gudakesa': 110, 'Bharata': 1165, 'Partha': 1956, 'Pritha': 1318, 'Kesava': 575, 'Govinda': 223, 'Madhu': 468, 'Janardana': 494, 'Bhagavadgita': 54, 'Brahma': 1987, 'Sankhya': 287, 'Janaka': 54, 'Manu': 56, 'Ikshaku': 54, 'Prana': 56, 'Kusa': 58, 'Vasudeva': 788, 'Adhyatma': 162, 'Adhibhuta': 108, 'Adhiyajna': 108, \"'Brahman\": 55, 'Swadha': 55, 'Soma': 131, 'Vishnu': 286, 'Marichi': 50, 'Vasava': 263, 'Sankara': 157, 'Vrihaspati': 79, 'Skanda': 91, 'Chitraratha': 48, 'Kapila': 53, 'Kandarpa': 46, 'Vasuki': 55, 'Ananta': 65, 'Varuna': 185, 'Aryaman': 47, 'Yama': 621, 'Prahlada': 53, 'Vinata': 49, 'Jahnavi': 48, 'Dwanda': 52, 'Margasirsha': 48, 'Usanas': 53, 'Adhyatman': 50, 'Hari': 92, 'Vayu': 45, 'Agni': 132, 'Prajapati': 46, 'Kshetrajna': 128, 'Prakriti': 46, 'Kshetra': 42, 'Aswattha': 78, 'Vaiswanara': 37, 'Paramatman': 36, 'Purushottama': 36, 'Indra': 698, 'Bhimasena': 2246, 'Salya': 745, 'Santanu': 645, 'Bharadwaja': 528, 'Saradwat': 81, 'Gautama': 156, \"Suta's\": 26, 'Radha': 250, 'Gada': 15, 'Yuyutsu': 58, 'Dussasana': 270, 'Sakra': 239, 'Durmarshana': 97, 'Vivinsati': 85, 'Chitrasena': 331, 'Purumitra': 63, 'Jaya': 48, 'Bhoja': 15, 'Somadatta': 283, 'Saubhadra': 11, 'Prishata': 655, 'Kritavarman': 50, 'Abhimanyu': 765, 'Vrihadvala': 114, 'Kosala': 12, 'Madri': 204, 'Valhika': 153, 'Angaraka': 21, 'Sukra': 43, 'Alamvusha': 178, 'Vala': 47, 'Bhagadatta': 518, 'Vrihadkshatra': 32, 'Susarman': 168, 'Sakuni': 191, 'Prativindhya': 55, 'Suvala': 222, 'Maghavat': 35, 'Sudakshina': 24, 'Iravan': 20, 'Falguni': 10, 'Vinda': 150, 'Anuvinda': 170, 'Avanti': 161, 'Kuntibhoja': 10, 'Kekaya': 31, 'Viravahu': 31, 'Uttara': 62, 'Uluka': 74, \"Durmukha's\": 10, 'Sweta': 557, 'Rukmaratha': 35, 'Pandava': 60, \"Salya's\": 23, 'Devavrata': 230, 'Vritra': 121, 'Jarasandha': 28, 'Ganga': 72, 'Maheswara': 38, \"Sweta's\": 10, 'Gandhari': 79, 'Vidura': 148, 'Jamadagni': 39, 'Dhristadyumna': 25, \"Bharata's\": 66, 'Vibhatsu': 137, 'Kartikeya': 38, 'Sambhu': 13, \"Pritha's\": 12, 'Krauncharuma': 10, 'Nanda': 17, 'Ketumat': 62, 'Devadatta': 19, 'Saurin': 33, 'Saindhava': 20, \"Drona's\": 64, 'Kinsuka': 25, \"Sakra's\": 12, \"Drupada's\": 10, \"Dhrishtadyumna's\": 10, 'Diti': 20, 'Sakradeva': 60, \"Bhimasena's\": 12, 'Bhanumat': 40, 'Asoka': 10, 'Satyadeva': 10, \"Yama's\": 34, 'Sini': 332, \"Bhima's\": 35, 'Lakshmana': 97, 'Savyasachin': 74, 'Asta': 24, 'Garuda': 118, 'Vrithadvala': 10, 'Nila': 82, 'Phalguni': 150, \"Suvala's\": 22, 'Dharma': 147, \"Dhritarashtra's\": 14, 'Kiritin': 35, \"Sini's\": 14, 'Ajatasatru': 29, 'Mahendra': 51, 'Kansa': 11, 'Yadu': 47, 'Jishnu': 55, 'Angada': 13, 'Samyamani': 70, \"Samyamani's\": 10, 'Sala': 13, 'Damana': 10, 'Paurava': 39, 'Artayani': 17, 'Dussala': 11, 'Satyabrata': 10, 'Satyavrata': 32, 'Airavata': 14, 'Pinaka': 24, \"Subhadra's\": 12, 'Rudra': 95, 'Saika': 10, 'Bhurisravas': 70, 'Nandaka': 21, 'Visoka': 84, \"Death's\": 19, 'Senapati': 21, 'Sushena': 51, 'Jalasandha': 51, 'Sulochana': 20, 'Ugra': 20, 'Bhimaratha': 12, 'Dushpradarsha': 10, 'Vivitsu': 12, 'Vikata': 12, 'Sama': 10, 'Vamana': 13, 'Mahapadma': 10, 'Ghatotkacha': 137, 'Suyodhana': 107, \"'Drona\": 26, 'Hridika': 96, 'Brahman': 57, 'Pradyumna': 28, 'Aniruddha': 19, 'Purusha': 12, 'Markandeya': 28, 'Kali': 14, 'Sankarshana': 18, \"'Vasudeva\": 22, 'Sesha': 11, 'Bhrigu': 14, 'Daksha': 29, 'Angiras': 19, 'Syena': 9, 'Dussaha': 9, 'Surasena': 10, 'Prasthala': 10, 'Durmada': 15, 'Sudarsana': 29, 'Charuchitra': 10, 'Suvarman': 11, 'Duskarna': 9, 'Surya': 52, 'Prajna': 9, \"Prishata's\": 23, 'Durjaya': 26, 'Sutasoma': 17, 'Srutakarman': 13, 'Srutakirti': 11, 'Satanika': 90, 'Jayatsena': 18, 'Dushkarna': 67, 'Satrunjaya': 17, 'Satrusha': 9, 'Krita': 15, 'Mandala': 9, 'Vijaya': 42, 'Sankha': 9, 'Atiratha': 28, 'Iravat': 162, 'Taraka': 29, 'Namuchi': 16, 'Srutayush': 9, \"Chekitana's\": 9, 'Chekitana': 9, 'Purandara': 44, 'Karakarsha': 9, 'Ajamida': 11, 'Aratta': 17, 'Dhartarashtra': 16, \"Bhishma's\": 21, 'Adityaketu': 24, 'Vahvasin': 16, 'Mahodara': 29, 'Aparajita': 24, 'Panditaka': 24, 'Visalaksha': 24, 'Kundadhara': 8, 'Srinjayas': 13, 'Vanayu': 10, 'Tittri': 7, 'Airavat': 7, 'Gavaksha': 8, 'Arjava': 7, 'Suka': 8, 'Rishyasringa': 59, 'Parshata': 8, 'Vegavat': 7, 'Maharudra': 7, 'Vidyujihva': 7, 'Pramathin': 7, \"Duryodhana's\": 13, 'Satyadhriti': 19, 'Sauchiti': 7, 'Kshatradeva': 35, 'Kshatradharman': 12, 'Viprachitti': 11, 'Supratika': 24, 'Chitraketu': 8, 'Amvashta': 14, 'Vyudoroska': 7, 'Kundalin': 7, 'Anadhriti': 7, 'Kundabhedin': 10, 'Dirghalochana': 8, 'Dirghavahu': 9, 'Suvahu': 13, 'Kanykadhyaja': 7, 'Ranku': 16, \"Ganga's\": 13, \"'Yudhamanyu\": 7, 'Sarvatobhadra': 9, 'Kaikeya': 15, 'Maya': 22, 'Samvara': 19, 'Danava': 6, 'Rahu': 22, 'Budha': 9, 'Vichitravirya': 9, \"Vrishni's\": 11, \"'Bhishma\": 7, 'Naga': 3, 'Takshaka': 9, \"'Sikhandin\": 3, \"Bharadwaja's\": 7, 'Yajnasena': 21, 'Phalguna': 122, 'Sindhu': 7, \"Jayatsena's\": 2, 'Puru': 8, 'Vardhakshatra': 2, 'Karnikara': 2, \"Arjuna's\": 16, 'Vali': 29, 'Ratha': 2, 'Devaki': 23, \"Phalguni's\": 2, 'Kama': 4, 'Parjanya': 4, 'Pasupati': 2, 'Paramesthi': 2, 'Dhatri': 6, 'Tashtri': 2, 'Savitri': 4, 'Vrisha': 27, 'Adhiratha': 76, 'Krishna-Dwaipayana': 2, \"'Varna\": 2, 'Castropanayishu': 2, 'Castropojibishu': 2, 'Kukkutan': 2, 'Burdwan': 46, 'Paricchanna': 2, 'Paricchinna': 2, 'Nilakantha': 90, 'Conitam': 2, 'Paksha': 2, 'Vishamam': 4, 'akranda': 2, 'Gajapati': 2, 'Aswapati': 2, 'Narapati': 2, 'Aswini': 2, 'Mula': 2, 'Aparvani': 2, 'Kurddanti': 2, 'Mahabhuta': 2, 'Parena': 2, 'Trina': 2, 'Gayatri': 4, 'Samyam': 2, 'Varsha': 2, 'Pinaddha': 2, 'Vichitra': 2, 'Sarvata': 2, 'Siva': 21, 'Ketumala': 2, 'Ketumali': 2, 'Jamvukhanda': 2, 'Mandakini': 2, 'Sakram': 4, 'Satram': 2, 'Gatimanti': 2, 'Merorapyyantaram': 2, 'Merorathottaram': 2, 'Chandraprabha': 2, 'Sringa': 2, 'Ikshula': 2, 'Krimi': 2, 'Ikshumlavi': 2, 'Vandanancha': 2, 'Nischita': 2, 'Tridiva': 2, 'Lohatarini': 2, 'Vetravati': 4, 'Sakadwipa': 2, \"'Parvataccha\": 2, 'Vamanaka': 2, 'Andhakara': 2, 'Asamyadha': 2, \"'Yathadishtam\": 2, \"'Yathoddishtam\": 2, 'Sadhusattamas': 2, 'Yoddha': 2, 'Sandhi': 6, \"'Asyaram\": 2, 'Pandavanam': 2, 'Ghatayitwa': 2, 'Vyotthiopatti': 2, 'Vyutthita': 2, 'Amaravati': 4, 'Chandramas': 2, 'Ketu': 5, 'Bhanuman': 2, 'Srutija': 2, 'Chamupari': 2, \"'Vyuha\": 2, 'Yamunantara': 2, 'Syandamana': 2, 'Spandamana': 2, 'Chalanta': 2, 'Jimuta': 4, 'Ksharantaiva': 2, 'Prachakarsha': 2, 'Yenarjunastena': 2, 'Yena': 5, 'Dharmenikena': 2, 'Dharmenaivodyamena': 2, 'Anu': 2, 'Katham': 2, 'Nagakulasya': 2, 'Nagapurasya': 2, 'Mahindram': 2, 'Mahendram': 4, 'Stutavanta': 2, 'Savastrani': 2, 'Achakarsha': 2, 'Sambhavam': 2, 'Jagama': 2, 'Kastha': 2, 'Khyanam': 2, 'Prakasana': 2, 'Yasmin': 2, 'Aparyaptam': 4, 'Paryaptam': 4, 'Dulcisona': 2, 'Gemmiflora': 2, 'Sreedhara': 122, 'Anandagiri': 8, 'Arthakaman': 2, 'Karpanya': 4, 'Upahata': 2, 'Dhira': 4, 'Pandita': 4, 'Amritatwa': 2, 'Yudhaya': 4, 'Yujyaswa': 2, 'Yudhaywa': 2, 'Srotavyasya': 2, 'Srutasyacha': 2, 'Yasmat': 2, 'Buddhi': 2, 'Bhavanta': 2, 'Dhyanam': 2, 'Bhavana': 2, 'Charatam': 2, 'Ragadveshadi': 2, 'Bhavaya': 2, 'Vradhaya': 2, 'Parjjanya': 2, 'Pramanam': 2, 'Guna-karmashu': 2, 'Prajahi': 2, 'Chitta': 4, 'Pura': 2, 'Nischayena': 2, 'Mriti-grahitaya': 2, 'Buddhya': 2, 'Calcutta': 4, 'Daivi': 2, 'Bhava': 24, 'Udbhava': 2, 'Karma': 6, 'Mantra': 4, 'Iman': 2, 'Paramam': 2, 'Tityam': 2, 'Vistarasya': 2, 'Vibhutinam': 2, 'Surabhi': 3, 'Pavatam': 2, 'Dasaratha': 12, 'Valmiki': 3, 'Jahnu': 2, \"'Pravadatam\": 2, 'Avyayam': 2, 'Ekastham': 4, 'Devam': 2, 'Dyotanatmakam': 2, 'Twam': 2, 'Surasangha': 2, 'Stuvanti': 2, 'Pravritti': 2, 'Chesta': 2, 'Kala': 3, 'Pravriddha': 2, 'Nidhanam': 2, 'Gururgariyan': 4, 'Adhyayana': 2, 'Yajna': 2, 'Vivikta': 2, 'Suddha': 2, 'Chittaprasadakara': 2, 'Janasamsadi': 2, 'Pratishtha': 3, 'Pratima': 2, \"'Aswattha\": 2, 'Akritatman': 2, 'Hindu': 2, 'Apohanam': 2, 'Kutashtha': 2, 'Sarvabhavena': 2, 'Sarvaprakarena': 2, 'Prabritti': 2, 'Nivritti': 2, 'Kshayaya': 2, 'Vedanta': 2, 'Atra': 2, 'Avyabhicharinya': 2, 'Dhritya': 2, 'Asamsayam': 2, 'Bhuti': 2, 'Niti': 2, 'Varayudham': 2, 'Yatra': 2, 'Klivavat': 2, 'Kataravat': 2, 'Raja': 2, 'Paran': 2, 'Vritosmi': 2, 'Vaddhosmi': 2, 'Puskalan': 2, 'Nimitta': 2, \"'Sukra\": 2, 'Viparitam': 2, 'Aprabhinna': 2, \"'Mahaprajna\": 2, 'Rathan': 4, 'Talaketu': 2, 'Laghavamargasya': 2, 'Laghavamargastham': 2, 'Vritascha': 2, 'Sainyena': 4, 'Sarva': 8, 'Parvam': 2, \"'Yavana\": 2, \"'Swayam\": 2, \"'Kshayam\": 2, 'Chakrapani': 2, \"'Yuthan\": 2, \"'Laghu\": 2, \"'Ghoram\": 2, 'Dhaneswara': 2, 'Kuvera': 10, 'inipainya': 2, 'Ganesa': 2, 'Yudhishthiram': 2, 'Aviseshana': 2, 'Avaseshena': 2, 'Indrayudha': 2, 'Merurivabhanuna': 2, \"'Dhajeshu\": 2, 'Parvan': 5, 'Prishna': 2, 'Pritana': 2, \"'Samuchchhritam\": 2, \"'Samutthitam\": 2, \"'Satpurushochitam\": 2, \"'Satparushairvritam\": 2, \"'Kovdara\": 2, 'Bauhinia': 2, 'Variegata': 2, \"'Vegavattaram\": 2, 'Charmanam': 2, 'Varmanam': 2, \"'Satyatha\": 2, \"'Satyasandhena\": 2, 'Indrajala': 2, 'Vyala': 2, 'Saykanam': 2, 'Saditanam': 2, 'Aklishtakarman': 3, 'Gooranamatitejasa': 2, 'Ghoranamapnitaujasam': 2, 'Arjunam': 4, 'Kurunam': 2, 'Kirtivardhanas': 2, 'Suchimukha': 2, 'Vimana': 2, 'Vahuvarnarupam': 2, 'Samudirnamevam': 2, 'Samudirnavarnam': 2, 'Divakaram': 2, 'Viryavat': 2, 'Satam': 2, 'Vipralapapavidham': 2, 'Survamarmajna': 2, 'Sarvadharmajna': 2, 'Rathavansena': 2, 'Padarakshan': 2, 'Vahu': 2, 'Arjuni': 2, 'Yatavrata': 2, 'Yatavratam': 2, 'Gajanika': 3, 'Evam': 2, 'Brahma-danda': 2, 'Vasishtha': 32, 'Viswamitra': 4, 'Ramayana': 2, 'Valakanda': 2, 'Salwa': 14, 'Indraddhwaja': 2, 'Mohan': 4, 'Narayan': 2, 'Janamejaya': 51, 'Panda': 3, 'Vaisampayana': 5, 'Gavalgana': 11, 'Amvika': 3, 'Sarabha': 7, 'Lakshmi': 4, 'Mahadeva': 77, 'Nagnajit': 1, 'Vikartana': 22, \"'Karna\": 15, \"'Duryodhana\": 28, 'Kapali': 1, 'Duhsasana': 111, 'Sivi': 14, 'Sauvira': 3, 'Aditya': 6, 'Kshatranjaya': 1, 'Kshatravarman': 1, 'Manada': 1, 'Srinjaya': 29, 'Hayaraja': 2, 'Pralamva': 3, 'Naraka': 7, 'Jambha': 11, 'Pitha': 1, 'Mura': 2, 'Valadeva': 14, 'Akshauhini': 11, 'Patala': 1, 'Parijata': 2, 'Viduratha': 1, 'Sarana': 2, 'Ulmukha': 1, 'Jhilivabhru': 1, 'Samika': 1, 'Arimejaya': 1, \"Yudhishthira's\": 6, \"'Arjuna\": 15, 'Sauvala': 2, 'Hiranyaksha': 3, 'Vriddhakshatra': 11, 'Vrishasena': 58, 'Kumara': 17, 'Yugandhara': 2, 'Vyaghradatta': 7, 'Singhasena': 4, 'Satyaratha': 1, 'Satyavarman': 1, 'Satyeshu': 2, 'Satyakarman': 2, \"'Yudhishthira\": 16, 'Satyajit': 16, 'Sarayu': 1, 'Sudharman': 2, 'Sudhanwan': 5, \"Kunti's\": 4, \"Partha's\": 7, 'Bhutasarman': 1, 'Kshemasarman': 1, 'Karakaksha': 1, 'Bhuminjaya': 1, 'Kratha': 13, \"'Dhrishtadyumna\": 3, 'Vrika': 2, 'Uttamaujas': 2, 'Dridhasena': 1, 'Kshema': 2, 'Kshemavarman': 1, 'Radheya': 1, 'Senavindu': 1, 'Srutkirti': 1, 'Sauchitti': 2, 'Srenimat': 1, 'Vibhu': 3, 'Rochamana': 3, 'Gopati': 1, 'Dandadhara': 9, \"Indra's\": 3, 'Chitrayudha': 2, 'Chakravaka': 1, 'Sukshatra': 1, 'Sukla': 1, 'Chandrasena': 2, 'Samudrasena': 2, 'Saiva': 1, 'Kalaya': 1, 'Rathasena': 1, 'Chitra': 2, 'Hemavarna': 1, 'Dandaketu': 1, 'Sarangadhwaja': 2, 'Rukmi': 1, 'Achyuta': 8, 'Vrihanta': 3, \"'Bharadwaja\": 1, 'Upananda': 2, 'Marut': 3, 'Ravana': 13, 'Raudra': 2, 'Agneya': 6, 'Yamya': 2, 'Bhutakarman': 2, \"Nakula's\": 2, 'Kshemadhurti': 15, 'Amvashtha': 4, 'Saradwata': 8, 'Manimat': 2, 'Pavana': 2, 'Mleccha': 2, 'Pragjyotisha': 3, 'Kriti': 1, 'Ruchiparvan': 5, 'Asura': 14, 'Virochana': 8, \"Bhagadatta's\": 1, 'Achala': 6, \"'Vrikodara\": 1, 'Vipatha': 1, 'Charmavarman': 1, 'Suta': 1, 'Sisupala': 3, \"'Abhimanyu\": 2, \"'Bhima\": 5, 'Sumitra': 1, 'Duhsaha': 1, 'Kundavedhin': 2, 'Pratardana': 1, 'Lalithya': 1, 'Pravahu': 1, 'Drighalochana': 2, 'Hara': 9, 'Pratha': 1, \"Abhimanyu's\": 1, 'Vasatiya': 2, 'Vrindaraka': 2, \"'Phalguni\": 1, 'Aswaketu': 1, \"Duhsasana's\": 2, 'Chandraketu': 1, 'Kausika': 12, 'Kalikeya': 1, 'Andhaka': 10, \"'Vyasa\": 11, 'Akampana': 5, 'Sthanu': 15, \"'Sthanu\": 1, \"'Brahma\": 2, \"'Rudra\": 1, 'Dhenuka': 1, 'Kausiki': 1, 'Vetasa': 1, 'Pushkara': 5, 'Gokarna': 1, 'Nandava': 1, 'Switya': 1, 'Parvata': 4, 'Hri': 2, 'Kirti': 2, 'Dhriti': 1, 'Pushti': 2, 'Siddhi': 2, 'Suvarnashthivin': 1, \"'Srinjaya\": 1, 'Avikshit': 2, 'Marutta': 5, 'Samvatta': 1, 'Swaitya': 24, 'Suhotra': 4, 'Akshara': 2, \"'Usinara\": 1, \"'Rama\": 1, 'Janasthana': 3, \"Pulastya's\": 1, 'Pulastya': 3, 'Apana': 2, 'Samana': 1, 'Urvasi': 1, 'Ikshvaku': 1, \"'Dilipa\": 1, 'Dilipa': 5, \"'Mandhatri\": 1, 'Yuvanaswa': 4, 'Mandhatri': 4, 'Suna': 2, 'Vrihadratha': 1, 'Nriga': 2, \"'Yayati\": 1, 'Nahusha': 8, 'Yayati': 11, 'Devayani': 2, 'Sarmishtha': 1, \"'Nabhaga\": 1, 'Amvarisha': 4, 'Sasavindu': 3, \"'Rantideva\": 1, 'Rantideva': 6, \"'Dushmanta\": 1, 'Sakuntala': 2, \"'Vena\": 1, 'Prithu': 9, 'Vena': 1, 'Banian': 1, 'Dwimurddhan': 1, 'Viswaruchi': 1, 'Swaha': 3, 'Kartavirya': 8, 'Kasyapa': 10, 'Sraddha': 1, 'Kokila': 1, 'Madhva': 1, 'Subahu': 1, \"'Dhananjaya\": 2, 'Pakasasana': 1, 'Samantapanchaka': 4, 'Panchali': 1, 'Daruka': 22, 'Valahaka': 2, \"'Daruka\": 1, \"'Kunti\": 1, 'Pasupata': 7, 'Sharyati': 1, 'Atharvana': 1, 'Vrishadansa': 1, 'Parvati': 5, 'Kapardin': 3, 'Hotri': 1, 'Brahmachakra': 1, 'Vaikuntha': 1, 'Matali': 5, 'Upaplavya': 2, 'Sakata': 5, 'Pakasana': 1, 'Ruru': 3, \"Kritavarman's\": 1, 'Srutayudha': 11, 'Sauri': 6, 'Daradas': 4, 'Dhundhumara': 1, 'Sachi': 6, 'Arundhati': 13, 'Asita': 8, 'Karttikeya': 2, 'Tvashtri': 9, 'Agnivesya': 2, \"Somadatta's\": 2, \"Dasarha's\": 1, 'Ravi': 3, 'Gandiva': 2, 'Vrihatkshatra': 5, 'Viradhanwan': 5, 'Vyughradatta': 1, \"'Kshemadhurti\": 1, 'Niramitra': 4, 'Khara': 1, 'Saumadatti': 2, \"'Satyaki\": 4, 'Maharatha': 1, 'Dwaita': 4, 'Satwata': 13, 'Rukmini': 1, 'Vasudana': 4, \"Satyaki's\": 3, 'Durmukha': 1, 'Vaivaswata': 1, 'Durdharshana': 1, 'Anjana': 1, 'Viraketu': 2, 'Chitravarman': 2, \"Jayadratha's\": 3, 'Makara': 1, 'Kairataka': 1, 'Suhasta': 2, 'Abhaya': 2, 'Raudrakarman': 2, 'Durvimochana': 4, 'Dirghanetra': 1, 'Nivatakavachas': 3, \"Karna's\": 14, 'Vasushena': 1, 'Durdhara': 2, 'Upachitra': 1, 'Dridha': 2, 'Kichaka': 2, 'Praya': 2, 'Atri': 4, 'Vudha': 1, 'Ayus': 1, 'Devamidha': 1, 'Sura': 5, 'Aindra': 4, 'Rishabha': 1, 'Dhruva': 3, 'Jayarata': 2, \"Yuyudhana's\": 1, 'Anjanaparvan': 5, \"'Ghatotkacha\": 2, \"'Aswatthaman\": 4, 'Aksha': 5, 'Nikumbha': 1, 'Puranjaya': 1, 'Dridharatha': 2, 'Hemakampana': 1, 'Aruni': 1, 'Indrasena': 1, 'Purakrathin': 1, 'Jayavarman': 1, 'Samvartaka': 1, 'Suratha': 8, 'Valanika': 2, 'Jayanika': 2, 'Prishdhra': 1, 'Pratipa': 1, 'Nagadatta': 1, 'Ayobhuja': 1, 'Pramatha': 2, 'Vrikaratha': 1, 'Satachandra': 2, 'Bibhu': 1, 'Subhaga': 2, 'Bhanudatta': 1, \"'Kripa\": 4, 'Durmuksha': 1, 'Dhara': 1, 'Vasuchandra': 1, 'Sutejana': 1, 'Virabhadra': 1, 'Srutadhwaja': 1, 'Labhalaksha': 1, 'Kamaratha': 1, 'Durdharsha': 1, 'Bhuri': 2, 'Alambhusha': 1, \"'Bhuri\": 1, 'Mahisha': 3, \"Virata's\": 2, \"Chitrasena's\": 1, \"'Vrishasena\": 2, 'Salmali': 3, 'Gotama': 2, 'Drumasena': 3, \"Radha's\": 3, \"'Sakuni\": 1, 'Champaka': 1, 'Jatasura': 6, 'Aruna': 11, \"Ghatotkacha's\": 1, 'Raksha': 1, 'Alayudha': 29, 'Parigha': 1, 'Kuvara': 2, 'Sami': 2, 'Karira': 3, 'Kovidara': 2, 'Arimeda': 1, 'Vaikartana': 17, 'Loud': 5, 'Naikartana': 1, \"Hidimva's\": 1, 'Ekalavya': 2, 'Sthunakarna': 3, \"Phalguna's\": 1, 'Yasodhara': 1, \"'Bhimasena\": 4, \"Madri's\": 1, 'Indravarman': 3, 'Satyavati': 1, \"Saradwat's\": 1, 'Kauraveya': 2, 'Bali': 6, \"Aswatthaman's\": 1, 'Iswara': 1, 'Parumesthin': 1, 'Uma': 10, 'Bhaga': 1, 'Kamalaksha': 3, 'Tarakaksha': 5, 'Vidyunmalin': 3, 'Vindhya': 3, 'Elapatra': 1, 'Pushpadanta': 2, 'Vidhatri': 3, 'Vyomakesa': 1, 'Kapi': 1, 'Vrishakapi': 1, 'Kula': 1, 'Kaliprasanna': 1, 'Singha': 3, 'Sloka': 3, 'Prataptam': 1, 'hayan': 1, 'Sampata': 1, 'Abhighata': 1, 'Nipata': 1, 'Nishka': 1, 'Vidhayaivam': 1, 'Vihayainam': 1, 'Vahupellava': 1, 'Parvatapati': 1, 'Lokam': 1, 'Purvabhilashi': 1, 'Purvabhilbhashi': 1, 'Pravanddiva': 1, 'Bhita': 1, 'Sokam': 1, 'Samvartam': 1, 'Atavika': 1, 'Vyatahan': 1, 'Siksha': 1, 'Murddhabhishikta': 1, 'Havisha': 1, 'Jalaughena': 1, 'Janaughena': 2, 'hetuna': 1, 'Sagara': 2, 'Vaswoksara': 1, 'Vyama': 1, 'Sinha': 1, 'Dwijaidhitam': 1, 'Dwijochitam': 1, 'Vasavamiva': 1, 'Vasavasyeva': 1, 'Apavrittam': 1, 'tatsainyanyabhyapujayan': 1, 'Avabhritha': 1, 'Praviddham': 1, 'Arka': 1, 'Nidas': 1, 'Samakulam': 1, 'Jhashakulam': 1, 'Calada': 1, 'Vrikodaram': 1, 'Ayastam': 1, 'Hanumat': 1, \"'Satyavikrama\": 1, 'Pratapam': 1, 'Kavandha': 1, 'Patanipam': 1, 'Asani': 1, 'Sahanujam': 1, 'Sahanugam': 1, 'Rathanaga': 1, 'Naranaga': 1, 'Avyayatturnam': 1, 'Maharaja': 1, 'Vanaganan': 1, 'Sagadaya': 1, 'Triyama': 1, 'Hindoos': 1, 'Vrishodara': 1, 'Vrishottama': 1, 'Rajanam': 1, 'Venisamhara': 1, 'Sugriva': 2, 'Hiranyakasipu': 1, 'Purana': 1, 'Yakshas': 1, 'Caitanya': 2, 'Sarasvati': 99, 'Vaishampayana': 46, 'Sharadvata': 14, 'Duhshasana': 64, 'Shakuni': 107, 'Ambika': 8, 'Shantanu': 3, 'Bahlika': 7, 'Nagapura': 1, 'Kritavarma': 79, 'Subala': 87, 'Vivingsati': 2, 'Citrasena': 24, 'Shalya': 139, 'Vrishavarman': 1, 'Shalva': 1, 'Vrishanta': 1, 'Baladeva': 35, 'Ashvatthama': 75, 'Citrayudha': 3, 'Citrayodhin': 1, 'Abhibhu': 1, 'Uttamauja': 13, 'Pancala': 36, 'Mitravarman': 4, 'Shikhandi': 48, 'Sucitra': 1, 'Citravarman': 3, 'Shishupala': 2, 'Suryadatta': 1, \"Artayana's\": 1, 'Satyasena': 18, 'Srutavarman': 1, 'Dala': 1, 'Srutayu': 1, 'Citrangada': 1, 'Satyasandha': 2, 'Shukra': 3, 'Vaishravana': 2, 'Shakra': 45, 'Citra': 11, 'Dravida': 2, 'Kaikaya': 5, \"'Srutakarman\": 1, 'Kanka': 3, 'Yamas': 2, 'Brihaspati': 18, 'Savyasaci': 1, 'Angirasa': 3, 'Girivraja': 1, 'Danda': 5, 'Ugrayudha': 3, 'Pandya': 24, 'Malayadhwaja': 1, 'Hrishikesha': 8, \"'Nakula\": 1, \"Vikartana's\": 1, 'Vivingsu': 1, 'Candradeva': 5, 'Mitradeva': 3, \"Susruta's\": 1, 'Susruta': 3, 'Mitrasena': 1, 'Susharma': 6, \"Dharma's\": 1, 'Vasusena': 3, 'Acyuta': 9, 'Bhadra': 1, \"'Shalya\": 18, \"Devaki's\": 1, 'Purandra': 1, 'Ishana': 6, 'Udaya': 2, 'Dhritri': 1, 'Medha': 1, 'Sthiti': 1, 'Sannati': 1, 'Kalaprishtha': 1, 'Karkotaka': 1, \"Rudra's\": 1, 'Atharvan': 6, 'Yajurveda': 1, 'Ratri': 1, 'Kapaddin': 1, 'Maheshwara': 1, 'Homa': 1, 'Usana': 1, 'Citraratha': 1, 'Madraka': 13, 'Shudra': 1, 'Vahika': 3, 'Sakala': 4, 'Hika': 1, 'Virshasena': 1, 'Bhanudeva': 1, 'Bhanusena': 1, 'Patatri': 1, 'Punarvasu': 1, 'Srutarvan': 6, 'Durddhara': 1, 'Kavashin': 1, 'Duspradharsha': 1, 'Vatavega': 2, 'Keshava': 1, 'Sauparna': 1, 'Suketu': 2, 'Citraketu': 1, \"Kritavarma's\": 2, 'Vyaghraketu': 1, 'Jishnukarman': 1, 'Devapi': 4, 'Singhaketu': 1, 'Salabha': 1, \"Ashvatthama's\": 1, 'Bhargava': 3, 'Vaddhrinasa': 1, \"Vritra's\": 1, 'Aditi': 4, \"'Govinda\": 1, 'Kshatri': 1, 'Valaka': 3, \"'Partha\": 1, \"Kshatriya's\": 1, 'Dakshina': 1, 'Acyutayudha': 1, \"'Visoka\": 1, \"Garuda's\": 1, 'Vaitarani': 1, 'Vasu': 1, 'Rush': 1, 'Ashadha': 1, 'Jyeshtha': 1, \"Dhananjaya's\": 1, 'Kadamva': 1, 'Ugrakarman': 1, 'Prasena': 2, 'Somaka': 1, 'Kavachin': 1, 'Dundadhara': 1, 'Alolupa': 1, 'Shanda': 1, \"Pandu's\": 1, 'Devavridha': 1, 'Kulinda': 3, 'Vabhru': 1, 'Kadru': 1, 'Vaisali': 1, 'Pradha': 1, 'Mauni': 1, 'Saka': 1, 'Tukhara': 1, 'Prachetas': 1, 'Virocana': 2, 'Sabhapati': 1, 'Adhitratha': 1, 'Aswasena': 1, 'Nala': 1, 'Anjalika': 1, 'Pancajanya': 1, 'Dvaipayana': 2, 'Kshattri': 2, 'Alambusa': 2, 'Bhurishrava': 2, 'Arishtasena': 1, 'Dhritasena': 1, \"Shalya's\": 3, 'Maheshvara': 4, 'Mandara': 1, 'Candrasena': 1, 'Anukarsha': 1, 'Madravati': 1, 'Agnirasa': 1, \"'Shakuni\": 1, 'Madhyama': 1, \"Shalva's\": 1, 'Kshemakirti': 1, 'Prishta': 1, 'Sadakshina': 1, 'Srutanta': 2, 'Jaitra': 2, 'Bhurivala': 2, 'Dushpradharsha': 2, 'Vaisya': 1, \"Vidura's\": 1, 'Vatapi': 1, 'Ilwala': 1, 'Sunda': 2, 'Upasunda': 2, 'Pratikamin': 2, 'Sravana': 1, 'Rohini': 3, 'Valarama': 1, \"'Soma\": 2, 'Sasin': 3, 'Candramas': 3, 'Prabhasa': 1, 'Prabha': 1, 'Udapana': 4, 'Trita': 27, 'Dwita': 5, 'Ekata': 4, \"'Trita\": 2, 'Subhumika': 2, 'Viswavasu': 1, 'Sapta-Saraswat': 3, 'Inguda': 1, 'Kakkola': 1, 'Mankanaka': 7, 'Visala': 1, 'Manorama': 2, 'Oghavati': 2, 'Surenu': 2, 'Vimalodaka': 1, 'Suprava': 1, 'Auddalaka': 3, 'Sapta': 1, 'Vayuvega': 1, 'Vayuhan': 1, 'Vayumandala': 1, 'Vayujata': 1, 'Vayuchakra': 1, 'Sukanya': 1, 'Kavi': 1, 'Usanasa': 1, 'Sindhudwipa': 3, 'Kusika': 2, 'Vishvamitra': 19, 'Gadhi': 1, 'Dalvya': 4, 'Vaka': 3, 'Dalvyavaka': 1, 'Vasishthapavaha': 1, 'Sthanu-tirtha': 1, 'Rishi': 2, \"'Vasishtha\": 1, 'Dyuti': 1, 'Svaha': 1, 'Gangeya': 1, 'Sakha': 2, 'Naigameya': 2, 'Visakha': 1, 'Pushan': 2, 'Mitra': 2, 'Kratu': 1, 'Sinivali': 1, 'Anumati': 1, 'Kuhu': 1, 'Kashtha': 1, 'Nandisena': 1, 'Lohitaksha': 1, 'Ghantakarna': 1, 'Kumudamalin': 1, 'Unmatha': 1, 'Subhraja': 1, 'Bhaswara': 1, 'Jwalajihbha': 1, 'Jyoti': 1, 'Ansa': 1, 'Vata': 1, 'Dahati': 1, 'Dahana': 1, 'Chakra': 2, 'Vikrama': 1, 'Sankrama': 1, 'Vardhana': 1, 'Kunda': 1, 'Kusuma': 1, 'Kumuda': 1, 'Damvara': 1, 'Adamvara': 1, 'Anuchakra': 1, 'Suvrata': 1, 'Suprabha': 2, 'Subhakarman': 1, 'Panitraka': 1, 'Kalika': 2, 'Ativala': 1, 'Kanchana': 1, 'Meghamalin': 1, 'Sthira': 1, 'Atisthira': 1, 'Uschrita': 1, 'Sangraha': 1, 'Unmada': 1, 'Sankukarna': 2, 'Mahajaya': 1, 'Nilkumbha': 1, 'Dwadasabhuja': 1, 'Upakrishnaka': 1, 'Kapiskandha': 1, 'Kanchanaksha': 1, 'Jalandhama': 1, 'Akshasantarjana': 1, 'Kunadika': 1, 'Ekaksha': 1, 'Dwadasaksha': 1, 'Ekajata': 1, 'Sahasravahu': 1, 'Vyaghraksha': 1, 'Kshitikampana': 1, 'Punyanaman': 1, 'Suvaktra': 2, 'Priyadarsana': 1, 'Parisruta': 1, 'Kokonada': 1, 'Priyamalyanulepana': 1, 'Ajodara': 1, 'Skandhaksha': 1, 'Satalochana': 1, 'Jwalajibha': 1, 'Karala': 1, 'Sitakesa': 1, 'Jati': 1, 'Krishnakesa': 1, 'Jatadhara': 1, 'Chaturdanshtra': 1, 'Ashtajihva': 1, 'Meghananda': 1, 'Prithusravas': 1, 'Vidyutaksha': 1, 'Dhanurvaktra': 1, 'Jathara': 1, 'Marutasana': 1, 'Udaraksha': 1, 'Rathaksha': 1, 'Vajranabha': 1, 'Vasurprabha': 1, 'Upadanka': 1, 'Siddhartha': 1, 'Varada': 1, 'Priyaka': 1, 'Gonanda': 1, 'Ananda': 1, 'Pramoda': 1, 'Dhruvaka': 1, 'Siddhapatra': 1, 'Govraja': 1, 'Kanakapida': 1, 'Gayana': 1, 'Hasana': 1, 'Vana': 2, 'Vaitali': 1, 'Atitali': 1, 'Kathaka': 1, 'Vatika': 1, 'Hansaja': 1, 'Pakshadigdhanga': 1, 'Samudronmadana': 1, 'Ranotkata': 1, 'Prashasa': 1, 'Swetasiddha': 1, 'Kalakantha': 1, 'Kumbhandaka': 1, 'Kalakaksha': 1, 'Sita': 1, 'Bhutalonmathana': 1, 'Devajali': 1, 'Somapa': 1, 'Majjala': 1, 'Tuhara': 1, 'Chitradeva': 1, 'Madhura': 1, 'Suprasada': 2, 'Vatsala': 1, 'Madhuvarna': 1, 'Kalasodara': 1, 'Dharmada': 1, 'Manma': 1, 'Thakara': 1, 'Suchivaktra': 1, 'Swetavaktra': 1, 'Charuvaktra': 1, 'Pandura': 1, 'Dandavahu': 1, 'Kokilaka': 1, 'Kanakaksha': 1, 'Valakarakshaka': 1, 'Sancharaka': 1, 'Kokanada': 1, 'Gridhrapatra': 1, 'Jamvuka': 2, 'Lohajvaktra': 1, 'Javana': 1, 'Kumbhavaktra': 1, 'Kumbhaka': 1, 'Hansavaktra': 1, 'Candrabha': 1, 'Samvuka': 1, 'Panchavaktra': 1, 'Sikshaka': 1, 'Chasavaktra': 1, 'Kharvaktra': 1, 'Kunchaka': 1, 'Prabhavati': 1, 'Palita': 1, 'Shrimati': 1, 'Bahula': 1, 'Bahuputrika': 1, 'Apsujata': 1, 'Gopali': 1, 'Brihadambalika': 1, 'Jayavati': 1, 'Malatika': 1, 'Dhruvaratna': 1, 'Bhayankari': 1, 'Vasudama': 1, 'Sudama': 2, 'Vishoka': 1, 'Nandini': 1, 'Ekacuda': 1, 'Mahacuda': 1, 'Uttejani': 1, 'Shobhana': 1, 'Shatrunjaya': 1, 'Khari': 1, 'Madhavi': 1, 'Shubhavaktra': 1, 'Gitapriya': 1, 'Kalyani': 1, 'Kadrula': 1, 'Amitashana': 1, 'Meghasvana': 1, 'Bhogavati': 1, 'Subhru': 1, 'Kanakavati': 1, 'Viryavati': 1, 'Vidyujjihva': 1, 'Padmavati': 1, 'Sunakshatra': 1, 'Kandara': 2, 'Bahuyojana': 1, 'Santanika': 1, 'Kamala': 1, 'Mahabala': 1, 'Bahudama': 1, 'Yashasvini': 1, 'Nrityapriya': 1, 'Shatolukhalamekhala': 1, 'Shataghanta': 1, 'Shatananda': 1, 'Bhagananda': 1, 'Bhamini': 1, 'Vapushmati': 1, 'Candrashita': 1, 'Bhadrakali': 1, 'Samkarika': 1, 'Nishkutika': 1, 'Bhrama': 1, 'Catvaravasini': 1, 'Sumangala': 1, 'Svastimati': 1, 'Vriddhikama': 1, 'Jayapriya': 1, 'Dhanada': 1, 'Bhavada': 1, 'Jaleshvari': 1, 'Edi': 1, 'Vetalajanani': 1, 'Kanduti': 1, 'Devamitra': 1, 'Ketaki': 1, 'Bala': 2, 'Kukkutika': 1, 'Shankhanika': 1, 'Jarjarika': 1, 'Kundarika': 1, 'Kokalika': 1, 'Shatodari': 1, 'Utkrathini': 1, 'Jarena': 1, 'Kankana': 1, 'Manojava': 1, 'Kantakini': 1, 'Praghasa': 1, 'Khashaya': 1, 'Curvyuti': 1, 'Vama': 1, 'Kroshanatha': 1, 'Taditprabha': 1, 'Mandodari': 1, 'Tunda': 1, 'Kotara': 1, 'Meghavasini': 1, 'Lambini': 1, 'Vasucuda': 1, 'Vikatthani': 1, 'Urdhvavenidhara': 1, 'Lohamekhala': 2, 'Prithuvaktra': 1, 'Madhurika': 1, 'Madhukumbha': 1, 'Pakshalika': 1, 'Manthanika': 1, 'Jarayu': 1, 'Jarjaranana': 1, 'Khyata': 1, 'Dhamadhama': 1, 'Khandakhanda': 1, 'Pushana': 1, 'Manikundala': 1, 'Lambapayodhara': 1, 'Venuvinadhara': 1, 'Shasholukamukhi': 1, 'Mahajava': 1, 'Shishumaramukhi': 1, 'Shveta': 1, 'Vibhishana': 1, 'Jatalika': 1, 'Kamacari': 1, 'Dirghajihva': 1, 'Balotkata': 1, 'Kaledika': 1, 'Vamanika': 1, 'Mukuta': 1, 'Mahakaya': 1, 'Haripindi': 1, 'Ekakshara': 1, 'Sukusuma': 1, 'Krishnakarni': 1, 'Kshurakarni': 1, 'Catushkarni': 1, 'Karnapravarana': 1, 'Catushpathaniketa': 1, 'Gokarni': 1, 'Mahishanana': 1, 'Kharakarni': 1, 'Bherisvanamahasvana': 1, 'Shankhakumbhasvana': 1, 'Bhangada': 1, 'Sugana': 1, 'Bhiti': 1, 'Catushpatharata': 1, 'Bhutirtha': 1, 'Anyagocara': 1, 'Pashuda': 1, 'Vittada': 1, 'Sukhada': 1, 'Mahayasha': 1, 'Payoda': 1, 'Gomahishada': 1, 'Suvishana': 1, 'Supratishtha': 1, 'Rocamana': 1, 'Surocana': 1, 'Naukarni': 1, 'Mukhakarni': 1, 'Sasira': 1, 'Stherika': 1, 'Ekacakra': 1, 'Megharava': 1, 'Meghamala': 1, 'Paka': 4, 'Guha': 1, 'Shiva': 1, 'Tripada': 1, 'Hradodara': 1, \"Skanda's\": 1, 'Canda': 1, 'Taijasa': 1, 'Agnitirtha': 1, 'Balarama': 2, 'Nakakuvera': 1, 'Vadarapachana': 3, 'Sruvavati': 6, 'Brahmacharini': 1, 'Ghritachi': 1, 'Sakta': 1, 'Kaitabha': 2, 'Asita-Devala': 2, 'Devala': 4, 'Jaigishavya': 6, 'Pundarika': 1, \"Jaigishavya's\": 1, 'Moksha': 3, 'Sarasvata': 11, 'Kuni-Garga': 1, 'Galava': 3, 'Sringavat': 1, \"Brahman's\": 1, 'Shamachakra': 1, 'Madhuka': 1, 'Sandilya': 1, 'Karavapana': 1, 'Visravana': 1, 'Profit': 1}\n"
          ]
        }
      ]
    },
    {
      "cell_type": "code",
      "source": [
        "per_freq = dict(sorted(freq.items(), key=lambda item: item[1]))"
      ],
      "metadata": {
        "id": "oryvd7LZOp7t"
      },
      "execution_count": null,
      "outputs": []
    },
    {
      "cell_type": "code",
      "source": [
        "print(per_freq)"
      ],
      "metadata": {
        "colab": {
          "base_uri": "https://localhost:8080/"
        },
        "id": "9AbFHC84QcLn",
        "outputId": "2a723fc0-5039-4f0f-8eb2-91947739ff8d"
      },
      "execution_count": null,
      "outputs": [
        {
          "output_type": "stream",
          "name": "stdout",
          "text": [
            "{'Nagnajit': 1, 'Kapali': 1, 'Kshatranjaya': 1, 'Kshatravarman': 1, 'Manada': 1, 'Pitha': 1, 'Patala': 1, 'Viduratha': 1, 'Ulmukha': 1, 'Jhilivabhru': 1, 'Samika': 1, 'Arimejaya': 1, 'Satyaratha': 1, 'Satyavarman': 1, 'Sarayu': 1, 'Bhutasarman': 1, 'Kshemasarman': 1, 'Karakaksha': 1, 'Bhuminjaya': 1, 'Dridhasena': 1, 'Kshemavarman': 1, 'Radheya': 1, 'Senavindu': 1, 'Srutkirti': 1, 'Srenimat': 1, 'Gopati': 1, 'Chakravaka': 1, 'Sukshatra': 1, 'Sukla': 1, 'Saiva': 1, 'Kalaya': 1, 'Rathasena': 1, 'Hemavarna': 1, 'Dandaketu': 1, 'Rukmi': 1, \"'Bharadwaja\": 1, 'Kriti': 1, \"Bhagadatta's\": 1, \"'Vrikodara\": 1, 'Vipatha': 1, 'Charmavarman': 1, 'Suta': 1, 'Sumitra': 1, 'Duhsaha': 1, 'Pratardana': 1, 'Lalithya': 1, 'Pravahu': 1, 'Pratha': 1, \"Abhimanyu's\": 1, \"'Phalguni\": 1, 'Aswaketu': 1, 'Chandraketu': 1, 'Kalikeya': 1, \"'Sthanu\": 1, \"'Rudra\": 1, 'Dhenuka': 1, 'Kausiki': 1, 'Vetasa': 1, 'Gokarna': 1, 'Nandava': 1, 'Switya': 1, 'Dhriti': 1, 'Suvarnashthivin': 1, \"'Srinjaya\": 1, 'Samvatta': 1, \"'Usinara\": 1, \"'Rama\": 1, \"Pulastya's\": 1, 'Samana': 1, 'Urvasi': 1, 'Ikshvaku': 1, \"'Dilipa\": 1, \"'Mandhatri\": 1, 'Vrihadratha': 1, \"'Yayati\": 1, 'Sarmishtha': 1, \"'Nabhaga\": 1, \"'Rantideva\": 1, \"'Dushmanta\": 1, \"'Vena\": 1, 'Vena': 1, 'Banian': 1, 'Dwimurddhan': 1, 'Viswaruchi': 1, 'Sraddha': 1, 'Kokila': 1, 'Madhva': 1, 'Subahu': 1, 'Pakasasana': 1, 'Panchali': 1, \"'Daruka\": 1, \"'Kunti\": 1, 'Sharyati': 1, 'Atharvana': 1, 'Vrishadansa': 1, 'Hotri': 1, 'Brahmachakra': 1, 'Vaikuntha': 1, 'Pakasana': 1, \"Kritavarman's\": 1, 'Dhundhumara': 1, \"Dasarha's\": 1, 'Vyughradatta': 1, \"'Kshemadhurti\": 1, 'Khara': 1, 'Maharatha': 1, 'Rukmini': 1, 'Durmukha': 1, 'Vaivaswata': 1, 'Durdharshana': 1, 'Anjana': 1, 'Makara': 1, 'Kairataka': 1, 'Dirghanetra': 1, 'Vasushena': 1, 'Upachitra': 1, 'Vudha': 1, 'Ayus': 1, 'Devamidha': 1, 'Rishabha': 1, \"Yuyudhana's\": 1, 'Nikumbha': 1, 'Puranjaya': 1, 'Hemakampana': 1, 'Aruni': 1, 'Indrasena': 1, 'Purakrathin': 1, 'Jayavarman': 1, 'Samvartaka': 1, 'Prishdhra': 1, 'Pratipa': 1, 'Nagadatta': 1, 'Ayobhuja': 1, 'Vrikaratha': 1, 'Bibhu': 1, 'Bhanudatta': 1, 'Durmuksha': 1, 'Dhara': 1, 'Vasuchandra': 1, 'Sutejana': 1, 'Virabhadra': 1, 'Srutadhwaja': 1, 'Labhalaksha': 1, 'Kamaratha': 1, 'Durdharsha': 1, 'Alambhusha': 1, \"'Bhuri\": 1, \"Chitrasena's\": 1, \"'Sakuni\": 1, 'Champaka': 1, \"Ghatotkacha's\": 1, 'Raksha': 1, 'Parigha': 1, 'Arimeda': 1, 'Naikartana': 1, \"Hidimva's\": 1, \"Phalguna's\": 1, 'Yasodhara': 1, \"Madri's\": 1, 'Satyavati': 1, \"Saradwat's\": 1, \"Aswatthaman's\": 1, 'Iswara': 1, 'Parumesthin': 1, 'Bhaga': 1, 'Elapatra': 1, 'Vyomakesa': 1, 'Kapi': 1, 'Vrishakapi': 1, 'Kula': 1, 'Kaliprasanna': 1, 'Prataptam': 1, 'hayan': 1, 'Sampata': 1, 'Abhighata': 1, 'Nipata': 1, 'Nishka': 1, 'Vidhayaivam': 1, 'Vihayainam': 1, 'Vahupellava': 1, 'Parvatapati': 1, 'Lokam': 1, 'Purvabhilashi': 1, 'Purvabhilbhashi': 1, 'Pravanddiva': 1, 'Bhita': 1, 'Sokam': 1, 'Samvartam': 1, 'Atavika': 1, 'Vyatahan': 1, 'Siksha': 1, 'Murddhabhishikta': 1, 'Havisha': 1, 'Jalaughena': 1, 'hetuna': 1, 'Vaswoksara': 1, 'Vyama': 1, 'Sinha': 1, 'Dwijaidhitam': 1, 'Dwijochitam': 1, 'Vasavamiva': 1, 'Vasavasyeva': 1, 'Apavrittam': 1, 'tatsainyanyabhyapujayan': 1, 'Avabhritha': 1, 'Praviddham': 1, 'Arka': 1, 'Nidas': 1, 'Samakulam': 1, 'Jhashakulam': 1, 'Calada': 1, 'Vrikodaram': 1, 'Ayastam': 1, 'Hanumat': 1, \"'Satyavikrama\": 1, 'Pratapam': 1, 'Kavandha': 1, 'Patanipam': 1, 'Asani': 1, 'Sahanujam': 1, 'Sahanugam': 1, 'Rathanaga': 1, 'Naranaga': 1, 'Avyayatturnam': 1, 'Maharaja': 1, 'Vanaganan': 1, 'Sagadaya': 1, 'Triyama': 1, 'Hindoos': 1, 'Vrishodara': 1, 'Vrishottama': 1, 'Rajanam': 1, 'Venisamhara': 1, 'Hiranyakasipu': 1, 'Purana': 1, 'Yakshas': 1, 'Nagapura': 1, 'Vrishavarman': 1, 'Shalva': 1, 'Vrishanta': 1, 'Citrayodhin': 1, 'Abhibhu': 1, 'Sucitra': 1, 'Suryadatta': 1, \"Artayana's\": 1, 'Srutavarman': 1, 'Dala': 1, 'Srutayu': 1, 'Citrangada': 1, \"'Srutakarman\": 1, 'Savyasaci': 1, 'Girivraja': 1, 'Malayadhwaja': 1, \"'Nakula\": 1, \"Vikartana's\": 1, 'Vivingsu': 1, \"Susruta's\": 1, 'Mitrasena': 1, \"Dharma's\": 1, 'Bhadra': 1, \"Devaki's\": 1, 'Purandra': 1, 'Dhritri': 1, 'Medha': 1, 'Sthiti': 1, 'Sannati': 1, 'Kalaprishtha': 1, 'Karkotaka': 1, \"Rudra's\": 1, 'Yajurveda': 1, 'Ratri': 1, 'Kapaddin': 1, 'Maheshwara': 1, 'Homa': 1, 'Usana': 1, 'Citraratha': 1, 'Shudra': 1, 'Hika': 1, 'Virshasena': 1, 'Bhanudeva': 1, 'Bhanusena': 1, 'Patatri': 1, 'Punarvasu': 1, 'Durddhara': 1, 'Kavashin': 1, 'Duspradharsha': 1, 'Keshava': 1, 'Sauparna': 1, 'Citraketu': 1, 'Vyaghraketu': 1, 'Jishnukarman': 1, 'Singhaketu': 1, 'Salabha': 1, \"Ashvatthama's\": 1, 'Vaddhrinasa': 1, \"Vritra's\": 1, \"'Govinda\": 1, 'Kshatri': 1, \"'Partha\": 1, \"Kshatriya's\": 1, 'Dakshina': 1, 'Acyutayudha': 1, \"'Visoka\": 1, \"Garuda's\": 1, 'Vaitarani': 1, 'Vasu': 1, 'Rush': 1, 'Ashadha': 1, 'Jyeshtha': 1, \"Dhananjaya's\": 1, 'Kadamva': 1, 'Ugrakarman': 1, 'Somaka': 1, 'Kavachin': 1, 'Dundadhara': 1, 'Alolupa': 1, 'Shanda': 1, \"Pandu's\": 1, 'Devavridha': 1, 'Vabhru': 1, 'Kadru': 1, 'Vaisali': 1, 'Pradha': 1, 'Mauni': 1, 'Saka': 1, 'Tukhara': 1, 'Prachetas': 1, 'Sabhapati': 1, 'Adhitratha': 1, 'Aswasena': 1, 'Nala': 1, 'Anjalika': 1, 'Pancajanya': 1, 'Arishtasena': 1, 'Dhritasena': 1, 'Mandara': 1, 'Candrasena': 1, 'Anukarsha': 1, 'Madravati': 1, 'Agnirasa': 1, \"'Shakuni\": 1, 'Madhyama': 1, \"Shalva's\": 1, 'Kshemakirti': 1, 'Prishta': 1, 'Sadakshina': 1, 'Vaisya': 1, \"Vidura's\": 1, 'Vatapi': 1, 'Ilwala': 1, 'Sravana': 1, 'Valarama': 1, 'Prabhasa': 1, 'Prabha': 1, 'Viswavasu': 1, 'Inguda': 1, 'Kakkola': 1, 'Visala': 1, 'Vimalodaka': 1, 'Suprava': 1, 'Sapta': 1, 'Vayuvega': 1, 'Vayuhan': 1, 'Vayumandala': 1, 'Vayujata': 1, 'Vayuchakra': 1, 'Sukanya': 1, 'Kavi': 1, 'Usanasa': 1, 'Gadhi': 1, 'Dalvyavaka': 1, 'Vasishthapavaha': 1, 'Sthanu-tirtha': 1, \"'Vasishtha\": 1, 'Dyuti': 1, 'Svaha': 1, 'Gangeya': 1, 'Visakha': 1, 'Kratu': 1, 'Sinivali': 1, 'Anumati': 1, 'Kuhu': 1, 'Kashtha': 1, 'Nandisena': 1, 'Lohitaksha': 1, 'Ghantakarna': 1, 'Kumudamalin': 1, 'Unmatha': 1, 'Subhraja': 1, 'Bhaswara': 1, 'Jwalajihbha': 1, 'Jyoti': 1, 'Ansa': 1, 'Vata': 1, 'Dahati': 1, 'Dahana': 1, 'Vikrama': 1, 'Sankrama': 1, 'Vardhana': 1, 'Kunda': 1, 'Kusuma': 1, 'Kumuda': 1, 'Damvara': 1, 'Adamvara': 1, 'Anuchakra': 1, 'Suvrata': 1, 'Subhakarman': 1, 'Panitraka': 1, 'Ativala': 1, 'Kanchana': 1, 'Meghamalin': 1, 'Sthira': 1, 'Atisthira': 1, 'Uschrita': 1, 'Sangraha': 1, 'Unmada': 1, 'Mahajaya': 1, 'Nilkumbha': 1, 'Dwadasabhuja': 1, 'Upakrishnaka': 1, 'Kapiskandha': 1, 'Kanchanaksha': 1, 'Jalandhama': 1, 'Akshasantarjana': 1, 'Kunadika': 1, 'Ekaksha': 1, 'Dwadasaksha': 1, 'Ekajata': 1, 'Sahasravahu': 1, 'Vyaghraksha': 1, 'Kshitikampana': 1, 'Punyanaman': 1, 'Priyadarsana': 1, 'Parisruta': 1, 'Kokonada': 1, 'Priyamalyanulepana': 1, 'Ajodara': 1, 'Skandhaksha': 1, 'Satalochana': 1, 'Jwalajibha': 1, 'Karala': 1, 'Sitakesa': 1, 'Jati': 1, 'Krishnakesa': 1, 'Jatadhara': 1, 'Chaturdanshtra': 1, 'Ashtajihva': 1, 'Meghananda': 1, 'Prithusravas': 1, 'Vidyutaksha': 1, 'Dhanurvaktra': 1, 'Jathara': 1, 'Marutasana': 1, 'Udaraksha': 1, 'Rathaksha': 1, 'Vajranabha': 1, 'Vasurprabha': 1, 'Upadanka': 1, 'Siddhartha': 1, 'Varada': 1, 'Priyaka': 1, 'Gonanda': 1, 'Ananda': 1, 'Pramoda': 1, 'Dhruvaka': 1, 'Siddhapatra': 1, 'Govraja': 1, 'Kanakapida': 1, 'Gayana': 1, 'Hasana': 1, 'Vaitali': 1, 'Atitali': 1, 'Kathaka': 1, 'Vatika': 1, 'Hansaja': 1, 'Pakshadigdhanga': 1, 'Samudronmadana': 1, 'Ranotkata': 1, 'Prashasa': 1, 'Swetasiddha': 1, 'Kalakantha': 1, 'Kumbhandaka': 1, 'Kalakaksha': 1, 'Sita': 1, 'Bhutalonmathana': 1, 'Devajali': 1, 'Somapa': 1, 'Majjala': 1, 'Tuhara': 1, 'Chitradeva': 1, 'Madhura': 1, 'Vatsala': 1, 'Madhuvarna': 1, 'Kalasodara': 1, 'Dharmada': 1, 'Manma': 1, 'Thakara': 1, 'Suchivaktra': 1, 'Swetavaktra': 1, 'Charuvaktra': 1, 'Pandura': 1, 'Dandavahu': 1, 'Kokilaka': 1, 'Kanakaksha': 1, 'Valakarakshaka': 1, 'Sancharaka': 1, 'Kokanada': 1, 'Gridhrapatra': 1, 'Lohajvaktra': 1, 'Javana': 1, 'Kumbhavaktra': 1, 'Kumbhaka': 1, 'Hansavaktra': 1, 'Candrabha': 1, 'Samvuka': 1, 'Panchavaktra': 1, 'Sikshaka': 1, 'Chasavaktra': 1, 'Kharvaktra': 1, 'Kunchaka': 1, 'Prabhavati': 1, 'Palita': 1, 'Shrimati': 1, 'Bahula': 1, 'Bahuputrika': 1, 'Apsujata': 1, 'Gopali': 1, 'Brihadambalika': 1, 'Jayavati': 1, 'Malatika': 1, 'Dhruvaratna': 1, 'Bhayankari': 1, 'Vasudama': 1, 'Vishoka': 1, 'Nandini': 1, 'Ekacuda': 1, 'Mahacuda': 1, 'Uttejani': 1, 'Shobhana': 1, 'Shatrunjaya': 1, 'Khari': 1, 'Madhavi': 1, 'Shubhavaktra': 1, 'Gitapriya': 1, 'Kalyani': 1, 'Kadrula': 1, 'Amitashana': 1, 'Meghasvana': 1, 'Bhogavati': 1, 'Subhru': 1, 'Kanakavati': 1, 'Viryavati': 1, 'Vidyujjihva': 1, 'Padmavati': 1, 'Sunakshatra': 1, 'Bahuyojana': 1, 'Santanika': 1, 'Kamala': 1, 'Mahabala': 1, 'Bahudama': 1, 'Yashasvini': 1, 'Nrityapriya': 1, 'Shatolukhalamekhala': 1, 'Shataghanta': 1, 'Shatananda': 1, 'Bhagananda': 1, 'Bhamini': 1, 'Vapushmati': 1, 'Candrashita': 1, 'Bhadrakali': 1, 'Samkarika': 1, 'Nishkutika': 1, 'Bhrama': 1, 'Catvaravasini': 1, 'Sumangala': 1, 'Svastimati': 1, 'Vriddhikama': 1, 'Jayapriya': 1, 'Dhanada': 1, 'Bhavada': 1, 'Jaleshvari': 1, 'Edi': 1, 'Vetalajanani': 1, 'Kanduti': 1, 'Devamitra': 1, 'Ketaki': 1, 'Kukkutika': 1, 'Shankhanika': 1, 'Jarjarika': 1, 'Kundarika': 1, 'Kokalika': 1, 'Shatodari': 1, 'Utkrathini': 1, 'Jarena': 1, 'Kankana': 1, 'Manojava': 1, 'Kantakini': 1, 'Praghasa': 1, 'Khashaya': 1, 'Curvyuti': 1, 'Vama': 1, 'Kroshanatha': 1, 'Taditprabha': 1, 'Mandodari': 1, 'Tunda': 1, 'Kotara': 1, 'Meghavasini': 1, 'Lambini': 1, 'Vasucuda': 1, 'Vikatthani': 1, 'Urdhvavenidhara': 1, 'Prithuvaktra': 1, 'Madhurika': 1, 'Madhukumbha': 1, 'Pakshalika': 1, 'Manthanika': 1, 'Jarayu': 1, 'Jarjaranana': 1, 'Khyata': 1, 'Dhamadhama': 1, 'Khandakhanda': 1, 'Pushana': 1, 'Manikundala': 1, 'Lambapayodhara': 1, 'Venuvinadhara': 1, 'Shasholukamukhi': 1, 'Mahajava': 1, 'Shishumaramukhi': 1, 'Shveta': 1, 'Vibhishana': 1, 'Jatalika': 1, 'Kamacari': 1, 'Dirghajihva': 1, 'Balotkata': 1, 'Kaledika': 1, 'Vamanika': 1, 'Mukuta': 1, 'Mahakaya': 1, 'Haripindi': 1, 'Ekakshara': 1, 'Sukusuma': 1, 'Krishnakarni': 1, 'Kshurakarni': 1, 'Catushkarni': 1, 'Karnapravarana': 1, 'Catushpathaniketa': 1, 'Gokarni': 1, 'Mahishanana': 1, 'Kharakarni': 1, 'Bherisvanamahasvana': 1, 'Shankhakumbhasvana': 1, 'Bhangada': 1, 'Sugana': 1, 'Bhiti': 1, 'Catushpatharata': 1, 'Bhutirtha': 1, 'Anyagocara': 1, 'Pashuda': 1, 'Vittada': 1, 'Sukhada': 1, 'Mahayasha': 1, 'Payoda': 1, 'Gomahishada': 1, 'Suvishana': 1, 'Supratishtha': 1, 'Rocamana': 1, 'Surocana': 1, 'Naukarni': 1, 'Mukhakarni': 1, 'Sasira': 1, 'Stherika': 1, 'Ekacakra': 1, 'Megharava': 1, 'Meghamala': 1, 'Guha': 1, 'Shiva': 1, 'Tripada': 1, 'Hradodara': 1, \"Skanda's\": 1, 'Canda': 1, 'Taijasa': 1, 'Agnitirtha': 1, 'Nakakuvera': 1, 'Brahmacharini': 1, 'Ghritachi': 1, 'Sakta': 1, 'Pundarika': 1, \"Jaigishavya's\": 1, 'Kuni-Garga': 1, 'Sringavat': 1, \"Brahman's\": 1, 'Shamachakra': 1, 'Madhuka': 1, 'Sandilya': 1, 'Karavapana': 1, 'Visravana': 1, 'Profit': 1, \"Jayatsena's\": 2, 'Vardhakshatra': 2, 'Karnikara': 2, 'Ratha': 2, \"Phalguni's\": 2, 'Pasupati': 2, 'Paramesthi': 2, 'Tashtri': 2, 'Krishna-Dwaipayana': 2, \"'Varna\": 2, 'Castropanayishu': 2, 'Castropojibishu': 2, 'Kukkutan': 2, 'Paricchanna': 2, 'Paricchinna': 2, 'Conitam': 2, 'Paksha': 2, 'akranda': 2, 'Gajapati': 2, 'Aswapati': 2, 'Narapati': 2, 'Aswini': 2, 'Mula': 2, 'Aparvani': 2, 'Kurddanti': 2, 'Mahabhuta': 2, 'Parena': 2, 'Trina': 2, 'Samyam': 2, 'Varsha': 2, 'Pinaddha': 2, 'Vichitra': 2, 'Sarvata': 2, 'Ketumala': 2, 'Ketumali': 2, 'Jamvukhanda': 2, 'Mandakini': 2, 'Satram': 2, 'Gatimanti': 2, 'Merorapyyantaram': 2, 'Merorathottaram': 2, 'Chandraprabha': 2, 'Sringa': 2, 'Ikshula': 2, 'Krimi': 2, 'Ikshumlavi': 2, 'Vandanancha': 2, 'Nischita': 2, 'Tridiva': 2, 'Lohatarini': 2, 'Sakadwipa': 2, \"'Parvataccha\": 2, 'Vamanaka': 2, 'Andhakara': 2, 'Asamyadha': 2, \"'Yathadishtam\": 2, \"'Yathoddishtam\": 2, 'Sadhusattamas': 2, 'Yoddha': 2, \"'Asyaram\": 2, 'Pandavanam': 2, 'Ghatayitwa': 2, 'Vyotthiopatti': 2, 'Vyutthita': 2, 'Chandramas': 2, 'Bhanuman': 2, 'Srutija': 2, 'Chamupari': 2, \"'Vyuha\": 2, 'Yamunantara': 2, 'Syandamana': 2, 'Spandamana': 2, 'Chalanta': 2, 'Ksharantaiva': 2, 'Prachakarsha': 2, 'Yenarjunastena': 2, 'Dharmenikena': 2, 'Dharmenaivodyamena': 2, 'Anu': 2, 'Katham': 2, 'Nagakulasya': 2, 'Nagapurasya': 2, 'Mahindram': 2, 'Stutavanta': 2, 'Savastrani': 2, 'Achakarsha': 2, 'Sambhavam': 2, 'Jagama': 2, 'Kastha': 2, 'Khyanam': 2, 'Prakasana': 2, 'Yasmin': 2, 'Dulcisona': 2, 'Gemmiflora': 2, 'Arthakaman': 2, 'Upahata': 2, 'Amritatwa': 2, 'Yujyaswa': 2, 'Yudhaywa': 2, 'Srotavyasya': 2, 'Srutasyacha': 2, 'Yasmat': 2, 'Buddhi': 2, 'Bhavanta': 2, 'Dhyanam': 2, 'Bhavana': 2, 'Charatam': 2, 'Ragadveshadi': 2, 'Bhavaya': 2, 'Vradhaya': 2, 'Parjjanya': 2, 'Pramanam': 2, 'Guna-karmashu': 2, 'Prajahi': 2, 'Pura': 2, 'Nischayena': 2, 'Mriti-grahitaya': 2, 'Buddhya': 2, 'Daivi': 2, 'Udbhava': 2, 'Iman': 2, 'Paramam': 2, 'Tityam': 2, 'Vistarasya': 2, 'Vibhutinam': 2, 'Pavatam': 2, 'Jahnu': 2, \"'Pravadatam\": 2, 'Avyayam': 2, 'Devam': 2, 'Dyotanatmakam': 2, 'Twam': 2, 'Surasangha': 2, 'Stuvanti': 2, 'Pravritti': 2, 'Chesta': 2, 'Pravriddha': 2, 'Nidhanam': 2, 'Adhyayana': 2, 'Yajna': 2, 'Vivikta': 2, 'Suddha': 2, 'Chittaprasadakara': 2, 'Janasamsadi': 2, 'Pratima': 2, \"'Aswattha\": 2, 'Akritatman': 2, 'Hindu': 2, 'Apohanam': 2, 'Kutashtha': 2, 'Sarvabhavena': 2, 'Sarvaprakarena': 2, 'Prabritti': 2, 'Nivritti': 2, 'Kshayaya': 2, 'Vedanta': 2, 'Atra': 2, 'Avyabhicharinya': 2, 'Dhritya': 2, 'Asamsayam': 2, 'Bhuti': 2, 'Niti': 2, 'Varayudham': 2, 'Yatra': 2, 'Klivavat': 2, 'Kataravat': 2, 'Raja': 2, 'Paran': 2, 'Vritosmi': 2, 'Vaddhosmi': 2, 'Puskalan': 2, 'Nimitta': 2, \"'Sukra\": 2, 'Viparitam': 2, 'Aprabhinna': 2, \"'Mahaprajna\": 2, 'Talaketu': 2, 'Laghavamargasya': 2, 'Laghavamargastham': 2, 'Vritascha': 2, 'Parvam': 2, \"'Yavana\": 2, \"'Swayam\": 2, \"'Kshayam\": 2, 'Chakrapani': 2, \"'Yuthan\": 2, \"'Laghu\": 2, \"'Ghoram\": 2, 'Dhaneswara': 2, 'inipainya': 2, 'Ganesa': 2, 'Yudhishthiram': 2, 'Aviseshana': 2, 'Avaseshena': 2, 'Indrayudha': 2, 'Merurivabhanuna': 2, \"'Dhajeshu\": 2, 'Prishna': 2, 'Pritana': 2, \"'Samuchchhritam\": 2, \"'Samutthitam\": 2, \"'Satpurushochitam\": 2, \"'Satparushairvritam\": 2, \"'Kovdara\": 2, 'Bauhinia': 2, 'Variegata': 2, \"'Vegavattaram\": 2, 'Charmanam': 2, 'Varmanam': 2, \"'Satyatha\": 2, \"'Satyasandhena\": 2, 'Indrajala': 2, 'Vyala': 2, 'Saykanam': 2, 'Saditanam': 2, 'Gooranamatitejasa': 2, 'Ghoranamapnitaujasam': 2, 'Kurunam': 2, 'Kirtivardhanas': 2, 'Suchimukha': 2, 'Vimana': 2, 'Vahuvarnarupam': 2, 'Samudirnamevam': 2, 'Samudirnavarnam': 2, 'Divakaram': 2, 'Viryavat': 2, 'Satam': 2, 'Vipralapapavidham': 2, 'Survamarmajna': 2, 'Sarvadharmajna': 2, 'Rathavansena': 2, 'Padarakshan': 2, 'Vahu': 2, 'Arjuni': 2, 'Yatavrata': 2, 'Yatavratam': 2, 'Evam': 2, 'Brahma-danda': 2, 'Ramayana': 2, 'Valakanda': 2, 'Indraddhwaja': 2, 'Narayan': 2, 'Hayaraja': 2, 'Mura': 2, 'Parijata': 2, 'Sarana': 2, 'Sauvala': 2, 'Yugandhara': 2, 'Satyeshu': 2, 'Satyakarman': 2, 'Sudharman': 2, 'Vrika': 2, 'Uttamaujas': 2, 'Kshema': 2, 'Sauchitti': 2, 'Chitrayudha': 2, 'Chandrasena': 2, 'Samudrasena': 2, 'Chitra': 2, 'Sarangadhwaja': 2, 'Upananda': 2, 'Raudra': 2, 'Yamya': 2, 'Bhutakarman': 2, \"Nakula's\": 2, 'Manimat': 2, 'Pavana': 2, 'Mleccha': 2, \"'Abhimanyu\": 2, 'Kundavedhin': 2, 'Drighalochana': 2, 'Vasatiya': 2, 'Vrindaraka': 2, \"Duhsasana's\": 2, \"'Brahma\": 2, 'Hri': 2, 'Kirti': 2, 'Pushti': 2, 'Siddhi': 2, 'Avikshit': 2, 'Akshara': 2, 'Apana': 2, 'Suna': 2, 'Nriga': 2, 'Devayani': 2, 'Sakuntala': 2, \"'Dhananjaya\": 2, 'Valahaka': 2, 'Upaplavya': 2, 'Karttikeya': 2, 'Agnivesya': 2, \"Somadatta's\": 2, 'Gandiva': 2, 'Saumadatti': 2, 'Viraketu': 2, 'Chitravarman': 2, 'Suhasta': 2, 'Abhaya': 2, 'Raudrakarman': 2, 'Durdhara': 2, 'Dridha': 2, 'Kichaka': 2, 'Praya': 2, 'Jayarata': 2, \"'Ghatotkacha\": 2, 'Dridharatha': 2, 'Valanika': 2, 'Jayanika': 2, 'Pramatha': 2, 'Satachandra': 2, 'Subhaga': 2, 'Bhuri': 2, \"Virata's\": 2, \"'Vrishasena\": 2, 'Gotama': 2, 'Kuvara': 2, 'Sami': 2, 'Kovidara': 2, 'Ekalavya': 2, 'Kauraveya': 2, 'Pushpadanta': 2, 'Janaughena': 2, 'Sagara': 2, 'Sugriva': 2, 'Caitanya': 2, 'Vivingsati': 2, 'Shishupala': 2, 'Satyasandha': 2, 'Vaishravana': 2, 'Dravida': 2, 'Yamas': 2, 'Udaya': 2, 'Vatavega': 2, 'Suketu': 2, \"Kritavarma's\": 2, 'Prasena': 2, 'Virocana': 2, 'Dvaipayana': 2, 'Kshattri': 2, 'Alambusa': 2, 'Bhurishrava': 2, 'Srutanta': 2, 'Jaitra': 2, 'Bhurivala': 2, 'Dushpradharsha': 2, 'Sunda': 2, 'Upasunda': 2, 'Pratikamin': 2, \"'Soma\": 2, \"'Trita\": 2, 'Subhumika': 2, 'Manorama': 2, 'Oghavati': 2, 'Surenu': 2, 'Kusika': 2, 'Rishi': 2, 'Sakha': 2, 'Naigameya': 2, 'Pushan': 2, 'Mitra': 2, 'Chakra': 2, 'Suprabha': 2, 'Kalika': 2, 'Sankukarna': 2, 'Suvaktra': 2, 'Vana': 2, 'Suprasada': 2, 'Jamvuka': 2, 'Sudama': 2, 'Kandara': 2, 'Bala': 2, 'Lohamekhala': 2, 'Balarama': 2, 'Kaitabha': 2, 'Asita-Devala': 2, 'Naga': 3, \"'Sikhandin\": 3, 'Surabhi': 3, 'Valmiki': 3, 'Kala': 3, 'Pratishtha': 3, 'Aklishtakarman': 3, 'Gajanika': 3, 'Panda': 3, 'Amvika': 3, 'Sauvira': 3, 'Pralamva': 3, 'Hiranyaksha': 3, \"'Dhrishtadyumna\": 3, 'Vibhu': 3, 'Rochamana': 3, \"Indra's\": 3, 'Vrihanta': 3, 'Marut': 3, 'Pragjyotisha': 3, 'Sisupala': 3, 'Janasthana': 3, 'Pulastya': 3, 'Sasavindu': 3, 'Swaha': 3, 'Kapardin': 3, 'Ruru': 3, 'Ravi': 3, \"Satyaki's\": 3, \"Jayadratha's\": 3, 'Nivatakavachas': 3, 'Dhruva': 3, 'Mahisha': 3, 'Salmali': 3, 'Drumasena': 3, \"Radha's\": 3, 'Karira': 3, 'Sthunakarna': 3, 'Indravarman': 3, 'Kamalaksha': 3, 'Vidyunmalin': 3, 'Vindhya': 3, 'Vidhatri': 3, 'Singha': 3, 'Sloka': 3, 'Shantanu': 3, 'Citrayudha': 3, 'Citravarman': 3, 'Shukra': 3, 'Kanka': 3, 'Angirasa': 3, 'Ugrayudha': 3, 'Mitradeva': 3, 'Susruta': 3, 'Vasusena': 3, 'Vahika': 3, 'Bhargava': 3, 'Valaka': 3, 'Kulinda': 3, \"Shalya's\": 3, 'Rohini': 3, 'Sasin': 3, 'Candramas': 3, 'Sapta-Saraswat': 3, 'Auddalaka': 3, 'Sindhudwipa': 3, 'Vaka': 3, 'Vadarapachana': 3, 'Moksha': 3, 'Galava': 3, 'Kama': 4, 'Parjanya': 4, 'Savitri': 4, 'Vishamam': 4, 'Gayatri': 4, 'Sakram': 4, 'Vetravati': 4, 'Amaravati': 4, 'Jimuta': 4, 'Mahendram': 4, 'Aparyaptam': 4, 'Paryaptam': 4, 'Karpanya': 4, 'Dhira': 4, 'Pandita': 4, 'Yudhaya': 4, 'Chitta': 4, 'Calcutta': 4, 'Mantra': 4, 'Ekastham': 4, 'Gururgariyan': 4, 'Rathan': 4, 'Sainyena': 4, 'Arjunam': 4, 'Viswamitra': 4, 'Mohan': 4, 'Lakshmi': 4, 'Singhasena': 4, \"Kunti's\": 4, 'Amvashtha': 4, 'Parvata': 4, 'Suhotra': 4, 'Yuvanaswa': 4, 'Mandhatri': 4, 'Amvarisha': 4, 'Samantapanchaka': 4, 'Daradas': 4, 'Niramitra': 4, \"'Satyaki\": 4, 'Dwaita': 4, 'Vasudana': 4, 'Durvimochana': 4, 'Atri': 4, 'Aindra': 4, \"'Aswatthaman\": 4, \"'Kripa\": 4, \"'Bhimasena\": 4, 'Mitravarman': 4, 'Sakala': 4, 'Devapi': 4, 'Aditi': 4, 'Maheshvara': 4, 'Udapana': 4, 'Ekata': 4, 'Dalvya': 4, 'Paka': 4, 'Devala': 4, 'Ketu': 5, 'Yena': 5, 'Parvan': 5, 'Vaisampayana': 5, 'Sudhanwan': 5, 'Ruchiparvan': 5, \"'Bhima\": 5, 'Akampana': 5, 'Pushkara': 5, 'Marutta': 5, 'Dilipa': 5, 'Parvati': 5, 'Matali': 5, 'Sakata': 5, 'Vrihatkshatra': 5, 'Viradhanwan': 5, 'Sura': 5, 'Anjanaparvan': 5, 'Aksha': 5, 'Loud': 5, 'Tarakaksha': 5, 'Kaikaya': 5, 'Danda': 5, 'Candradeva': 5, 'Dwita': 5, 'Danava': 6, 'Dhatri': 6, 'Sandhi': 6, 'Karma': 6, 'Aditya': 6, \"Yudhishthira's\": 6, 'Agneya': 6, 'Achala': 6, 'Rantideva': 6, 'Sauri': 6, 'Sachi': 6, 'Jatasura': 6, 'Bali': 6, 'Susharma': 6, 'Ishana': 6, 'Atharvan': 6, 'Srutarvan': 6, 'Sruvavati': 6, 'Jaigishavya': 6, 'Tittri': 7, 'Airavat': 7, 'Arjava': 7, 'Vegavat': 7, 'Maharudra': 7, 'Vidyujihva': 7, 'Pramathin': 7, 'Sauchiti': 7, 'Vyudoroska': 7, 'Kundalin': 7, 'Anadhriti': 7, 'Kanykadhyaja': 7, \"'Yudhamanyu\": 7, \"'Bhishma\": 7, \"Bharadwaja's\": 7, 'Sindhu': 7, 'Sarabha': 7, 'Naraka': 7, 'Vyaghradatta': 7, \"Partha's\": 7, 'Pasupata': 7, 'Bahlika': 7, 'Mankanaka': 7, 'Kundadhara': 8, 'Gavaksha': 8, 'Suka': 8, 'Parshata': 8, 'Chitraketu': 8, 'Dirghalochana': 8, 'Puru': 8, 'Anandagiri': 8, 'Sarva': 8, 'Achyuta': 8, 'Saradwata': 8, 'Virochana': 8, 'Nahusha': 8, 'Kartavirya': 8, 'Asita': 8, 'Suratha': 8, 'Ambika': 8, 'Hrishikesha': 8, 'Syena': 9, 'Dussaha': 9, 'Duskarna': 9, 'Prajna': 9, 'Satrusha': 9, 'Mandala': 9, 'Sankha': 9, 'Srutayush': 9, \"Chekitana's\": 9, 'Chekitana': 9, 'Karakarsha': 9, 'Dirghavahu': 9, 'Sarvatobhadra': 9, 'Budha': 9, 'Vichitravirya': 9, 'Takshaka': 9, 'Dandadhara': 9, 'Hara': 9, 'Prithu': 9, 'Tvashtri': 9, 'Acyuta': 9, 'Falguni': 10, 'Kuntibhoja': 10, \"Durmukha's\": 10, \"Sweta's\": 10, 'Krauncharuma': 10, \"Drupada's\": 10, \"Dhrishtadyumna's\": 10, 'Asoka': 10, 'Satyadeva': 10, 'Vrithadvala': 10, \"Samyamani's\": 10, 'Damana': 10, 'Satyabrata': 10, 'Saika': 10, 'Dushpradarsha': 10, 'Sama': 10, 'Mahapadma': 10, 'Surasena': 10, 'Prasthala': 10, 'Charuchitra': 10, 'Vanayu': 10, 'Kundabhedin': 10, 'Kuvera': 10, 'Andhaka': 10, 'Kasyapa': 10, 'Uma': 10, 'Saubhadra': 11, 'Kansa': 11, 'Dussala': 11, 'Sesha': 11, 'Suvarman': 11, 'Srutakirti': 11, 'Ajamida': 11, 'Viprachitti': 11, \"Vrishni's\": 11, 'Gavalgana': 11, 'Jambha': 11, 'Akshauhini': 11, 'Vriddhakshatra': 11, \"'Vyasa\": 11, 'Yayati': 11, 'Srutayudha': 11, 'Aruna': 11, 'Citra': 11, 'Sarasvata': 11, 'Kosala': 12, \"Pritha's\": 12, \"Sakra's\": 12, \"Bhimasena's\": 12, \"Subhadra's\": 12, 'Bhimaratha': 12, 'Vivitsu': 12, 'Vikata': 12, 'Purusha': 12, 'Kshatradharman': 12, 'Dasaratha': 12, 'Kausika': 12, 'Sambhu': 13, 'Angada': 13, 'Sala': 13, 'Vamana': 13, 'Srutakarman': 13, 'Srinjayas': 13, \"Duryodhana's\": 13, 'Suvahu': 13, \"Ganga's\": 13, 'Kratha': 13, 'Ravana': 13, 'Arundhati': 13, 'Satwata': 13, 'Uttamauja': 13, 'Madraka': 13, \"Dhritarashtra's\": 14, \"Sini's\": 14, 'Airavata': 14, 'Kali': 14, 'Bhrigu': 14, 'Amvashta': 14, 'Salwa': 14, 'Sivi': 14, 'Valadeva': 14, 'Asura': 14, \"Karna's\": 14, 'Sharadvata': 14, 'Gada': 15, 'Bhoja': 15, 'Durmada': 15, 'Krita': 15, 'Kaikeya': 15, \"'Karna\": 15, \"'Arjuna\": 15, 'Kshemadhurti': 15, 'Sthanu': 15, 'Namuchi': 16, 'Dhartarashtra': 16, 'Vahvasin': 16, 'Ranku': 16, \"Arjuna's\": 16, \"'Yudhishthira\": 16, 'Satyajit': 16, 'Nanda': 17, 'Artayani': 17, 'Sutasoma': 17, 'Satrunjaya': 17, 'Aratta': 17, 'Kumara': 17, 'Vaikartana': 17, 'Sankarshana': 18, 'Jayatsena': 18, 'Satyasena': 18, 'Brihaspati': 18, \"'Shalya\": 18, 'Devadatta': 19, \"Death's\": 19, 'Aniruddha': 19, 'Angiras': 19, 'Satyadhriti': 19, 'Samvara': 19, 'Vishvamitra': 19, 'Iravan': 20, 'Saindhava': 20, 'Diti': 20, 'Sulochana': 20, 'Ugra': 20, 'Angaraka': 21, 'Nandaka': 21, 'Senapati': 21, \"Bhishma's\": 21, 'Yajnasena': 21, 'Siva': 21, \"Suvala's\": 22, \"'Vasudeva\": 22, 'Maya': 22, 'Rahu': 22, 'Vikartana': 22, 'Daruka': 22, \"Salya's\": 23, \"Prishata's\": 23, 'Devaki': 23, 'Sudakshina': 24, 'Asta': 24, 'Pinaka': 24, 'Adityaketu': 24, 'Aparajita': 24, 'Panditaka': 24, 'Visalaksha': 24, 'Supratika': 24, 'Bhava': 24, 'Swaitya': 24, 'Citrasena': 24, 'Pandya': 24, 'Dhristadyumna': 25, 'Kinsuka': 25, \"Suta's\": 26, \"'Drona\": 26, 'Durjaya': 26, 'Vrisha': 27, 'Trita': 27, 'Jarasandha': 28, 'Pradyumna': 28, 'Markandeya': 28, 'Atiratha': 28, \"'Duryodhana\": 28, 'Ajatasatru': 29, 'Daksha': 29, 'Sudarsana': 29, 'Taraka': 29, 'Mahodara': 29, 'Vali': 29, 'Srinjaya': 29, 'Alayudha': 29, 'Kekaya': 31, 'Viravahu': 31, 'Vrihadkshatra': 32, 'Satyavrata': 32, 'Vasishtha': 32, 'Saurin': 33, \"Yama's\": 34, 'Maghavat': 35, 'Rukmaratha': 35, \"Bhima's\": 35, 'Kiritin': 35, 'Kshatradeva': 35, 'Baladeva': 35, 'Paramatman': 36, 'Purushottama': 36, 'Pancala': 36, 'Vaiswanara': 37, 'Maheswara': 38, 'Kartikeya': 38, 'Jamadagni': 39, 'Paurava': 39, 'Bhanumat': 40, 'Kshetra': 42, 'Vijaya': 42, 'Sukra': 43, 'Purandara': 44, 'Vayu': 45, 'Shakra': 45, 'Kandarpa': 46, 'Prajapati': 46, 'Prakriti': 46, 'Burdwan': 46, 'Vaishampayana': 46, 'Aryaman': 47, 'Vala': 47, 'Yadu': 47, 'Chitraratha': 48, 'Jahnavi': 48, 'Margasirsha': 48, 'Jaya': 48, 'Shikhandi': 48, 'Vinata': 49, 'Marichi': 50, 'Adhyatman': 50, 'Kritavarman': 50, 'Mahendra': 51, 'Sushena': 51, 'Jalasandha': 51, 'Janamejaya': 51, 'Dwanda': 52, 'Surya': 52, 'Kapila': 53, 'Prahlada': 53, 'Usanas': 53, 'Saumadatta': 54, 'Anantavijaya': 54, 'Bhagavadgita': 54, 'Janaka': 54, 'Ikshaku': 54, \"'Brahman\": 55, 'Swadha': 55, 'Vasuki': 55, 'Prativindhya': 55, 'Jishnu': 55, 'Kanwa': 56, 'Manu': 56, 'Prana': 56, 'Brahman': 57, 'Kusa': 58, 'Yuyutsu': 58, 'Vrishasena': 58, 'Rishyasringa': 59, 'Pandava': 60, 'Sakradeva': 60, 'Uttara': 62, 'Ketumat': 62, 'Purumitra': 63, 'Manipushpaka': 64, \"Drona's\": 64, 'Duhshasana': 64, 'Dwaipayana': 65, 'Ananta': 65, \"Bharata's\": 66, 'Dushkarna': 67, 'Samyamani': 70, 'Bhurisravas': 70, 'Ganga': 72, 'Uluka': 74, 'Savyasachin': 74, 'Ashvatthama': 75, 'Adhiratha': 76, 'Mahadeva': 77, 'Aswattha': 78, 'Vrihaspati': 79, 'Gandhari': 79, 'Kritavarma': 79, 'Saradwat': 81, 'Nila': 82, 'Visoka': 84, 'Vivinsati': 85, 'Subala': 87, 'Satanika': 90, 'Nilakantha': 90, 'Skanda': 91, 'Hari': 92, 'Rudra': 95, 'Hridika': 96, 'Durmarshana': 97, 'Lakshmana': 97, 'Sarasvati': 99, 'Yudhamanyu': 100, 'Panchajanya': 104, 'Suyodhana': 107, 'Shakuni': 107, 'Adhibhuta': 108, 'Adhiyajna': 108, 'Gudakesa': 110, 'Duhsasana': 111, 'Vrihadvala': 114, 'Garuda': 118, 'Vritra': 121, 'Phalguna': 122, 'Sreedhara': 122, 'Kshetrajna': 128, 'Soma': 131, 'Agni': 132, 'Nara': 133, 'Vibhatsu': 137, 'Ghatotkacha': 137, 'Shalya': 139, 'Dharma': 147, 'Hrishikesa': 148, 'Vidura': 148, 'Vinda': 150, 'Phalguni': 150, 'Valhika': 153, 'Gautama': 156, 'Sankara': 157, 'Avanti': 161, 'Adhyatma': 162, 'Iravat': 162, 'Susarman': 168, 'Anuvinda': 170, 'Narayana': 174, 'Alamvusha': 178, 'Gita': 181, 'Varuna': 185, 'Sakuni': 191, 'Yuyudhana': 201, 'Madri': 204, 'Suvala': 222, 'Govinda': 223, 'Narada': 226, 'Devavrata': 230, 'Dhrishtaketu': 232, 'Sakra': 239, 'Radha': 250, 'Rama': 252, 'Vyasa': 262, 'Vasava': 263, 'Dhartarashtras': 265, 'Dussasana': 270, 'Somadatta': 283, 'Vishnu': 286, 'Sankhya': 287, 'Madhava': 294, 'Chitrasena': 331, 'Sini': 332, 'Vrikodara': 345, 'Aswatthaman': 415, 'Jayadratha': 435, 'Vikarna': 450, 'Draupadi': 461, 'Sahadeva': 461, 'Madhu': 468, 'Nakula': 470, 'Janardana': 494, 'Virata': 518, 'Bhagadatta': 518, 'Bharadwaja': 528, 'Sweta': 557, 'Kesava': 575, 'Drupada': 580, 'Yama': 621, 'Sikhandin': 645, 'Santanu': 645, 'Subhadra': 651, 'Prishata': 655, 'Indra': 698, 'Salya': 745, 'Abhimanyu': 765, 'Vasudeva': 788, 'Kripa': 852, 'Dhritarashtra': 946, 'Bharata': 1165, 'Satyaki': 1224, 'Dhrishtadyumna': 1230, 'Pritha': 1318, 'Dhananjaya': 1453, 'Krishna': 1595, 'Kunti': 1673, 'Yudhishthira': 1842, 'Partha': 1956, 'Brahma': 1987, 'Karna': 2155, 'Bhima': 2156, 'Bhimasena': 2246, 'Sanjaya': 2254, 'Duryodhana': 2257, 'Pandu': 2415, 'Drona': 3582, 'Arjuna': 4852, 'Bhishma': 4855}\n"
          ]
        }
      ]
    },
    {
      "cell_type": "code",
      "source": [
        "top_ten = list(per_freq)[1649:]\n",
        "print(top_ten)\n",
        "for p in top_ten:\n",
        "  print(p, per_freq[p])"
      ],
      "metadata": {
        "colab": {
          "base_uri": "https://localhost:8080/"
        },
        "id": "NrSgP6S7RSkt",
        "outputId": "bbccd6e1-54e0-4e01-a29c-bae53b2fe054"
      },
      "execution_count": null,
      "outputs": [
        {
          "output_type": "stream",
          "name": "stdout",
          "text": [
            "['Sahadeva', 'Madhu', 'Nakula', 'Janardana', 'Virata', 'Bhagadatta', 'Bharadwaja', 'Sweta', 'Kesava', 'Drupada', 'Yama', 'Sikhandin', 'Santanu', 'Subhadra', 'Prishata', 'Indra', 'Salya', 'Abhimanyu', 'Vasudeva', 'Kripa', 'Dhritarashtra', 'Bharata', 'Satyaki', 'Dhrishtadyumna', 'Pritha', 'Dhananjaya', 'Krishna', 'Kunti', 'Yudhishthira', 'Partha', 'Brahma', 'Karna', 'Bhima', 'Bhimasena', 'Sanjaya', 'Duryodhana', 'Pandu', 'Drona', 'Arjuna', 'Bhishma']\n",
            "Sahadeva 461\n",
            "Madhu 468\n",
            "Nakula 470\n",
            "Janardana 494\n",
            "Virata 518\n",
            "Bhagadatta 518\n",
            "Bharadwaja 528\n",
            "Sweta 557\n",
            "Kesava 575\n",
            "Drupada 580\n",
            "Yama 621\n",
            "Sikhandin 645\n",
            "Santanu 645\n",
            "Subhadra 651\n",
            "Prishata 655\n",
            "Indra 698\n",
            "Salya 745\n",
            "Abhimanyu 765\n",
            "Vasudeva 788\n",
            "Kripa 852\n",
            "Dhritarashtra 946\n",
            "Bharata 1165\n",
            "Satyaki 1224\n",
            "Dhrishtadyumna 1230\n",
            "Pritha 1318\n",
            "Dhananjaya 1453\n",
            "Krishna 1595\n",
            "Kunti 1673\n",
            "Yudhishthira 1842\n",
            "Partha 1956\n",
            "Brahma 1987\n",
            "Karna 2155\n",
            "Bhima 2156\n",
            "Bhimasena 2246\n",
            "Sanjaya 2254\n",
            "Duryodhana 2257\n",
            "Pandu 2415\n",
            "Drona 3582\n",
            "Arjuna 4852\n",
            "Bhishma 4855\n"
          ]
        }
      ]
    },
    {
      "cell_type": "code",
      "source": [
        "char_list_top = []\n",
        "for key in top_ten:\n",
        "  char_list_top.append(key)"
      ],
      "metadata": {
        "id": "psWOBE0qFiSi"
      },
      "execution_count": null,
      "outputs": []
    },
    {
      "cell_type": "code",
      "source": [
        "with open(\"top_chars.txt\", 'w') as f:\n",
        "    f.write(\"\\n\".join(map(str, char_list_top)))"
      ],
      "metadata": {
        "id": "STrakFGJGj1A"
      },
      "execution_count": null,
      "outputs": []
    },
    {
      "cell_type": "code",
      "source": [
        "freq = {}\n",
        "\n",
        "for ind in result.index:\n",
        "     if df['predicted_tag'][ind] == 'B-PLACE' or df['predicted_tag'][ind] == 'I-PLACE':\n",
        "       place = df['word'][ind]\n",
        "       if(place in freq):\n",
        "         freq[place]+=1\n",
        "       else:\n",
        "        freq[place] = 1"
      ],
      "metadata": {
        "id": "--VgmOULTcY7"
      },
      "execution_count": null,
      "outputs": []
    },
    {
      "cell_type": "code",
      "source": [
        "print(freq)"
      ],
      "metadata": {
        "colab": {
          "base_uri": "https://localhost:8080/"
        },
        "id": "S8ymdAmTUMbZ",
        "outputId": "d6b3c754-d60e-440c-8772-9040f9f85d33"
      },
      "execution_count": null,
      "outputs": [
        {
          "output_type": "stream",
          "name": "stdout",
          "text": [
            "{'Kuntibhoja': 132, 'Kasi': 107, 'earth': 1892, 'Bharata': 1824, 'Earth': 523, 'Prana': 109, 'Himavat': 89, 'Ganga': 471, 'Kesi': 28, 'Madras': 551, 'Panchala': 243, 'Mainaka': 33, 'Uluka': 11, 'Meru': 89, 'Kosalas': 57, 'Magadha': 12, 'Chedi': 20, 'Kekaya': 37, 'Matsya': 24, 'Krauncha': 10, 'Vidarbhas': 10, 'Anantavijaya': 10, 'Kalinga': 96, 'Phalguni': 17, 'Sudarsana': 12, 'Vaitarani': 17, 'Kailasa': 25, 'Gandhamadana': 23, 'Saranga': 11, 'Saraswati': 16, 'Airavata': 9, 'Makara': 10, 'Pramohana': 9, 'Suchimukha': 9, 'Mandala': 18, 'Iravat': 23, 'Avanti': 10, 'Sringataka': 8, 'Panditaka': 8, 'Bhandi': 7, 'Prasthala': 2, 'Bhagirathi': 2, 'Manasa': 4, 'Indraprastha': 2, 'Gangadhara': 2, 'Bhogavati': 3, 'Indrakila': 2, 'Yamuna': 8, 'Rajpura': 1, 'Girivraja': 2, 'Gandhara': 13, 'Bhoja': 13, 'Varanavata': 4, 'Varanasi': 1, 'Sarnga': 1, 'Saubha': 1, 'Tvashtra': 1, 'Kamvoja': 1, 'Dwaraka': 5, 'Aswina': 1, 'Sabhapati': 1, 'Anjalikabedha': 1, 'Jyotishka': 1, 'Martikavata': 1, 'Hiranyapura': 3, 'Sthanu': 8, 'Dhenuka': 1, 'Nanda': 1, 'Panchaganga': 1, 'Naimisha': 9, 'Srinjaya': 1, 'Kurujangala': 4, 'Videha': 1, 'Jaruthya': 1, 'Bhagiratha': 9, 'Khattanga': 1, 'Charmanwati': 1, 'Dantakura': 1, 'Manimat': 1, 'Mandara': 6, 'Kala': 1, 'Brahmatunga': 1, 'Satasinga': 1, 'Vishnupada': 1, 'Sarva': 4, 'Pasupata': 1, 'Vindhya': 3, 'Bhaganetra': 1, 'Satwata': 2, 'Trigarta': 1, 'Vudha': 1, 'Jayadratha': 1, 'Samantapanchaka': 5, 'Praya': 4, 'Vaikartana': 11, 'Kamyaka': 1, 'Udaya': 3, 'Hara': 4, 'Malaya': 2, 'Sata': 1, 'Pasupati': 1, 'Vahurupa': 1, 'Dhurjjati': 1, 'Viswarupa': 1, 'Tryamvaka': 1, 'Tripura': 3, 'Calabha': 1, 'Hastinapura': 5, 'Gokula': 1, 'Anarta': 1, 'Vanga': 1, 'Pundra': 1, 'Vijaya': 6, 'Shalya': 3, 'Ishana': 2, 'Samvartaka': 1, 'Rigveda': 1, 'Samaveda': 1, \"'Shalya\": 1, 'Kamboja': 4, 'Apaga': 1, 'Gauda': 1, 'Yugandhara': 1, 'Acyutasthala': 1, 'Bhutilaya': 1, 'Vipasa': 1, 'Citraratha': 1, 'Naga': 1, 'Shikhandi': 3, 'Satasringa': 1, 'Cedi': 1, 'Pramanakoti': 2, 'Acyuta': 1, 'Kunti-Bhoja': 1, 'Ganges': 1, 'Dvaipayana': 1, 'Maitra': 1, 'Prabhasa': 4, 'Chamasodbheda': 1, 'Udapana': 1, 'Ekata': 1, 'Vinasana': 3, 'Mohasankha': 1, 'Nagadhanwana': 1, 'Mandakini': 1, 'Sarasvati': 5, 'Kurukshetra': 5, 'Visala': 1, 'Kosala': 1, 'Sapta': 1, 'Kapalamochana': 3, 'Dandaka': 1, 'Lokaloka': 1, 'Yayata': 1, 'Vasishthapavaha': 1, 'Vasishthapravaha': 1, 'Kumara': 1, 'Skanda': 1, 'Nandana': 1, 'Bhedi': 1, 'Samedi': 1, 'Brahmayoni': 1, 'Kauvera': 1, 'Vadarapachana': 1, 'Agnishutta': 1, 'Sautramani': 1, 'Goloka': 1, 'Arantuka': 1, 'Plakshaprasravana': 2, 'Karavapana': 1, 'Gomutraka': 1, 'Avasthana': 1}\n"
          ]
        }
      ]
    },
    {
      "cell_type": "code",
      "source": [
        "place_freq = dict(sorted(freq.items(), key=lambda item: item[1]))"
      ],
      "metadata": {
        "id": "LoYjQX7PT45t"
      },
      "execution_count": null,
      "outputs": []
    },
    {
      "cell_type": "code",
      "source": [
        "print(len(place_freq))"
      ],
      "metadata": {
        "colab": {
          "base_uri": "https://localhost:8080/"
        },
        "id": "vtZfvmUkUedR",
        "outputId": "676bf5b5-b7c1-43ae-84f6-127e3b7378d2"
      },
      "execution_count": null,
      "outputs": [
        {
          "output_type": "stream",
          "name": "stdout",
          "text": [
            "172\n"
          ]
        }
      ]
    },
    {
      "cell_type": "code",
      "source": [
        "top_ten_place = list(place_freq)[160:]\n",
        "print(top_ten_place)\n",
        "for p in top_ten_place:\n",
        "  print(p, place_freq[p])"
      ],
      "metadata": {
        "colab": {
          "base_uri": "https://localhost:8080/"
        },
        "id": "rwOwkIqJUCZV",
        "outputId": "e71fef91-000a-453c-f073-197397982efb"
      },
      "execution_count": null,
      "outputs": [
        {
          "output_type": "stream",
          "name": "stdout",
          "text": [
            "['Himavat', 'Meru', 'Kalinga', 'Kasi', 'Prana', 'Kuntibhoja', 'Panchala', 'Ganga', 'Earth', 'Madras', 'Bharata', 'earth']\n",
            "Himavat 89\n",
            "Meru 89\n",
            "Kalinga 96\n",
            "Kasi 107\n",
            "Prana 109\n",
            "Kuntibhoja 132\n",
            "Panchala 243\n",
            "Ganga 471\n",
            "Earth 523\n",
            "Madras 551\n",
            "Bharata 1824\n",
            "earth 1892\n"
          ]
        }
      ]
    },
    {
      "cell_type": "code",
      "source": [
        "freq = {}\n",
        "\n",
        "for ind in result.index:\n",
        "     if df['predicted_tag'][ind] == 'B-COMMUNITY' or df['predicted_tag'][ind] == 'I-COMMUNITY':\n",
        "       community = df['word'][ind]\n",
        "       if(community in freq):\n",
        "         freq[community]+=1\n",
        "       else:\n",
        "        freq[community] = 1"
      ],
      "metadata": {
        "id": "QkhXZ829Uqq6"
      },
      "execution_count": null,
      "outputs": []
    },
    {
      "cell_type": "code",
      "source": [
        "print(freq)"
      ],
      "metadata": {
        "colab": {
          "base_uri": "https://localhost:8080/"
        },
        "id": "llCz5g1CU-gg",
        "outputId": "b66474ef-6e50-48a1-905f-4725e8266597"
      },
      "execution_count": null,
      "outputs": [
        {
          "output_type": "stream",
          "name": "stdout",
          "text": [
            "{'Pandavas': 2719, 'Bharata': 1072, 'Kurus': 861, 'Kshatriya': 297, 'Kshatriyas': 538, 'Kuru': 1138, 'Brahmana': 261, 'Muni': 122, 'Sankhyas': 54, \"Kuru's\": 57, 'Brahman': 532, 'Yugas': 53, 'Asuras': 435, 'Rakshasas': 688, 'Saman': 52, 'Pitris': 196, 'Bhutas': 136, 'Vaisyas': 111, 'Sudras': 113, 'Brahmanas': 392, 'Rishis': 784, 'Manus': 50, 'Rishi': 120, 'Danavas': 247, 'Adityas': 144, 'Maruts': 158, 'Rudras': 102, 'Yakshas': 166, 'Vasus': 175, 'Bhrigu': 66, 'Gandharvas': 326, 'Uchchaisravas': 47, 'Nagas': 116, 'Daityas': 148, 'Vrishnis': 97, 'Aswins': 119, 'Siddhas': 211, 'Viswas': 45, 'Suta': 494, 'Kshetras': 42, 'munis': 42, 'Chhandas': 38, 'Vedantas': 37, 'brahmanas': 31, 'Pandava': 1068, 'Somakas': 213, 'Karkachas': 15, 'Charanas': 59, 'Kauravas': 706, 'Kaurava': 414, 'Mlecchas': 39, 'Aryas': 11, 'Krakachas': 19, 'Srinjayas': 279, 'Chedis': 179, 'Rakshasa': 819, 'Kaikeyas': 90, 'Karushas': 57, 'Panchalas': 569, 'Bharatas': 323, 'Kekayas': 160, 'Angadas': 42, 'Vrishni': 217, 'Parthas': 201, 'Kuvera': 23, 'Dasarnas': 50, 'Prayagas': 10, 'Dasarakas': 10, 'Anupakas': 10, 'Patachcharas': 12, 'Hunas': 10, 'Pauravakas': 10, 'Nishadas': 61, 'Pisachas': 49, 'Kundavishas': 10, 'Mandakas': 10, 'Ladakas': 10, 'Tanganas': 15, 'Uddras': 10, 'Saravas': 10, 'Tumbhumas': 10, 'Vatsas': 11, 'Nakulas': 10, 'Samsthanas': 10, 'Surasenas': 51, 'Venikas': 10, 'Kukkuras': 10, 'Rechakas': 10, 'Trigartas': 192, 'Yavanas': 48, 'Satrunjayas': 10, 'Manibhadrakas': 10, 'Magadhas': 94, 'Melakas': 18, 'Karnas': 11, 'Pravaranas': 10, 'Gandharas': 42, 'Sindhusauviras': 10, 'Sivis': 28, 'Aswalakas': 10, 'Vikarnas': 10, 'Vamanas': 12, 'Daradas': 16, 'Vrikas': 10, 'Kshudrakas': 32, 'Malavas': 62, 'Bhurisravas': 228, 'Satayus': 10, 'Srutayus': 38, 'Satwata': 63, 'Sauviras': 62, 'lapis': 28, 'lazuli': 28, 'Kalingas': 420, 'Matsyas': 140, 'Yadus': 52, 'Vatadhanas': 12, 'Sindhu-Souviras': 10, 'Sakas': 36, 'Daserakas': 12, 'Vikunjas': 10, 'Mundas': 10, 'Kaundivrishas': 10, 'Pauravas': 10, 'Prabhadrakas': 36, 'Kampanas': 15, 'Uragas': 13, 'Yadavas': 19, 'Krishnas': 99, 'Amvashtas': 21, 'Sinis': 49, 'Andhakas': 18, 'Kurushas': 10, 'Pinaka': 10, 'Pragjyotishas': 117, 'Munis': 34, 'Apsaras': 40, 'Asura': 90, 'Sadhyas': 12, 'Valhikas': 37, 'Tusharas': 10, 'Chulikas': 9, 'Pulindas': 11, 'Paradas': 10, 'Kshudraka-Malavas': 8, 'Tripuras': 8, 'Chichilas': 8, 'Vangas': 34, 'Danava': 8, 'Akshauhinis': 21, 'Sataghnis': 23, 'Jhariharas': 7, 'Nivatakavachas': 10, 'Uttamaujas': 11, 'Phalgunis': 6, 'Kinsukas': 17, 'Venus': 12, 'Garudas': 7, 'Kitavas': 7, 'Abhishahas': 13, 'Satwatas': 18, 'Kankas': 18, 'Atirathas': 13, 'Videhas': 7, 'Daserkas': 2, 'Abhighatas': 2, 'Amvashthas': 14, \"Brahmana's\": 3, 'Sayas': 4, 'Durddharshas': 2, 'Vishthitas': 2, 'Narapatis': 2, 'Sarvatas': 2, 'Sirasas': 2, 'Bhayanakas': 2, 'Purvabhishekas': 2, 'Subhas': 2, 'Tasmat-sritigamatas': 2, 'Yasmat-sringamatas': 2, 'Tatas': 4, 'Evametais': 2, 'Hindus': 2, 'Sadhusammatas': 2, 'Mahavalas': 2, 'Putras': 2, 'Vishayagas': 2, 'Somas': 2, 'Upagrahas': 2, 'Ravis': 4, 'Sanatanas': 2, 'Srutijas': 2, 'Vasavartinas': 2, 'Dayadas': 2, 'Gunas': 2, 'Tamas': 2, 'Prayatatmanas': 2, 'Sarvassas': 2, 'Kathayantas': 2, 'Sarpas': 2, 'twa-Asurasanghas': 2, 'Itas': 2, 'Jagatas': 2, \"'Tyaga\": 2, 'Samgrahas': 2, 'Asamsayas': 2, 'vigatakalmashas': 2, 'Bhallas': 2, 'Toranas': 2, 'Avinitas': 2, 'Abhinitas': 2, \"'Mahaprasas\": 2, \"'Suaris\": 2, 'Rathas': 11, \"'Yodhas\": 2, \"'Bhimainipatitiya\": 2, 'Vyasakutas': 2, 'Aplavas': 2, 'Kshuras': 2, 'Purvadevas': 2, 'Kandigbhutas': 2, 'Mahabhujas': 2, 'Ekayangatas': 2, 'Maharathas': 6, 'Gangasutas': 2, 'Saindhavas': 5, 'Vichnvantas': 2, 'ajnayamanas': 2, 'Vanaradhvajas': 2, 'Nadijas': 2, 'Mahadwijas': 2, 'Chamarais': 2, 'Arjunas': 3, 'Kiratas': 6, 'Paundras': 3, 'Andhras': 1, 'Maladas': 1, 'Kaitavas': 1, 'Indragopakas': 2, 'Usinara': 1, 'Bhojas': 31, 'Daitya': 3, 'Angas': 16, 'Vatsyas': 1, 'Gargyas': 1, 'Kasmirakas': 1, 'Aurasikas': 1, 'Cholas': 2, 'Pandyas': 4, 'Dasarha': 23, 'Paurava': 1, 'Dhritarashtras': 6, 'Tundikeras': 2, 'Mavellakas': 2, 'Lalithas': 1, 'Samsaptakas': 32, 'Narayanas': 5, 'Abhiras': 2, 'Hangsapadas': 1, 'Kalikeyas': 2, 'Sakunas': 1, 'Nishadhas': 2, 'Suvarchas': 4, 'Gopalas': 1, 'Vaishnava': 3, 'Nalikas': 5, 'Naishadhas': 1, 'Kachagrahas': 1, 'Dasanas': 1, 'Asmakas': 3, 'Mridangas': 4, 'Anakas': 3, 'Upashkaras': 3, 'Adhishthanas': 5, 'Akshas': 15, 'Vasatiya': 1, 'Dandakas': 1, 'Anukarashas': 1, 'Satyasravas': 1, 'Gandharva': 3, \"Pandu's\": 2, 'Brahma-Vasatiya': 1, 'Kalakeyas': 4, 'Paulomas': 1, 'Dhartarashtras': 2, 'Pundarikas': 1, 'Atiratras': 1, 'Chaturmasyas': 2, 'Agnishtomas': 1, 'Vasava': 1, 'Purikas': 1, 'Karambhas': 1, 'Prithumridwikas': 1, 'Ragakhandavas': 1, 'Amartarayas': 1, 'Angiras': 1, 'Karukas': 1, 'Sraddhas': 1, 'Vajapeyas': 1, 'Haihayas': 1, 'Kashmiras': 1, 'Tamraliptakas': 5, 'Rakshovahas': 1, 'Vitahotras': 1, 'Martikavatas': 1, 'Indrajopakas': 1, 'Sudra': 1, 'Vaisya': 1, 'Viswadevas': 1, 'Makaras': 4, 'Kinnaras': 5, 'Paniswanikas': 1, 'Madhuparkikas': 1, 'Sutas': 4, 'Jharjharas': 1, 'Panavas': 1, 'Gomukhas': 1, 'Swastikas': 1, 'Nandyavartas': 1, 'Kalikayas': 1, 'Saryati': 1, 'Lilithyas': 1, 'Achyutayus': 8, 'Niyatayus': 1, 'Dirghayus': 1, 'Darvabhisaras': 2, 'Pundras': 3, 'Govasanas': 2, 'Karnikaras': 2, 'Gotama': 12, 'Sindhus': 1, \"Madhu's\": 4, 'Sindhu-Sauviras': 2, 'Sauvirakas': 1, 'Sindhava-Pauravas': 1, 'Rukmarathas': 1, 'Snataka': 1, 'Avantis': 1, 'Anjalikas': 4, 'Barbaras': 2, 'Anuskarshas': 1, 'Lampakas': 1, 'Sarabhas': 1, \"'Bhurisravas\": 2, 'Agnihotras': 1, 'Pururavas': 3, 'Ayus': 1, 'Charnas': 1, 'Kanthasutras': 1, 'Anuskaras': 1, 'Upaskaras': 1, 'Kundas': 1, 'Varuthas': 1, 'Vasatis': 1, 'Patahas': 2, 'Yadu': 1, 'Yatudhanas': 3, 'Asanis': 3, 'Viragas': 1, 'Yaudheyas': 3, 'Yaksha': 1, 'Rakshas': 3, 'Kailkeyas': 1, 'Parighas': 2, 'Pinakas': 2, 'Sthunas': 1, 'Nishada': 7, 'Khandavas': 1, 'Nalihas': 1, 'Srikatas': 1, 'Prisnis': 1, 'Valkhilyas': 2, 'Marichis': 1, 'Malava': 1, 'Prajapatis': 2, 'Ganas': 1, 'Rudriya': 1, 'Viswedevas': 4, 'Sata-Rudriya': 1, 'Vajinas': 1, 'Dhanus': 1, 'Drupadeyas': 1, 'Draupadeyas': 1, 'Kshubitas': 1, 'Gharmamvubhis': 1, 'Kshurupras': 1, 'Vatsadantas': 1, 'Vipathas': 1, 'Narachas': 1, 'Devas': 1, 'Valguvadinas': 1, 'Satyaratas': 1, 'Vrikodaras': 1, 'Ayastas': 1, 'Praluvdhas': 1, 'Surhittamais': 1, 'Utkrisha-vikramas': 1, 'Aklivhtavikramas': 1, 'Pandava-Kauraveyais': 1, 'Yamas': 5, 'Srenis': 1, 'Dravidas': 1, 'Lalittyas': 1, 'Usinaras': 1, 'Savitriputras': 1, 'Valabhadras': 1, 'Patachchatras': 1, 'Cedis': 24, 'Ajaneyas': 1, 'Kambojas': 11, 'Vanayus': 1, 'Kaitavyas': 1, 'Kulindas': 4, 'Suhmas': 1, 'Kichakas': 1, 'Rishikas': 1, 'Uccaisravas': 1, 'Vaishyas': 6, 'Shudras': 7, 'Niskas': 1, 'Pancalas': 48, 'Dindimas': 1, 'Kaikayas': 14, 'Maghadhas': 1, 'Kulutas': 2, 'Dasharhas': 2, 'Trivenus': 4, 'Kuntas': 4, 'Mushalas': 2, 'Nakharas': 1, 'Keyuras': 3, 'Bahlikas': 3, 'asura': 6, 'Dasharnas': 1, 'Mekalas': 1, \"Yuyutsu's\": 1, 'Hridikas': 1, 'Dasharha': 8, 'Kaunteyas': 1, 'Kasthas': 1, 'Bhargavas': 1, 'Madras': 2, 'Ritwiks': 1, 'Sadasyas': 1, 'Candramas': 2, 'Phalgunas': 1, 'Madrakas': 10, 'Madraka': 1, 'Gandharakas': 1, 'Salyas': 1, 'Vahikas': 24, 'Jarttikas': 1, 'Pilus': 1, 'Arattas': 6, 'Aratta-Vahikas': 2, 'Pishacas': 4, 'Karashakas': 1, 'Mahishakas': 1, 'Karkotakas': 1, 'Virakas': 1, 'Naimishas': 3, 'Kasapaundras': 1, 'Saurashtras': 1, 'Guhyakas': 3, 'Koshalas': 1, 'Ashvinis': 7, 'Karusas': 1, 'Vasatas': 1, 'Bhargava': 3, 'Govasas': 1, 'Dasamiyas': 1, 'Kamathas': 1, 'Ramathas': 1, 'Andhrakas': 1, 'Prithas': 1, 'Srutasravas': 1, 'Pradaras': 1, 'Kalakhanjas': 1, 'Makara': 1, 'Asokas': 1, 'Krathas': 1, 'Upavedas': 1, 'Vishvedevas': 1, \"Yadu's\": 2, 'Samhitas': 1, 'Dakshinas': 1, 'Yojanas': 1, 'Akhyanas': 1, 'Anukarshas': 1, 'Anartas': 1, 'Saradwat': 1, 'Pandus': 1, 'Yajamanas': 1, 'Samans': 1, 'Adharyus': 1, 'Asmakuttas': 1, 'Dantolakhalinas': 1, 'Samprakshanas': 1, 'Karushakas': 1, 'Amratakas': 1, 'Atimuktas': 1, 'Vaneyas': 1, 'Sarasvatis': 2, 'Savaras': 1, 'Brahamanas': 2, 'Brahma-Rakshasas': 1, 'Krittikas': 4, 'Matris': 1, 'Dharmas': 1, 'Saddhyas': 2, 'Valakhilyas': 1, 'Yatis': 1, 'Ucchaisravas': 1, 'Ativarchas': 1, 'Ghranasravas': 1, 'Apsara': 1, 'Agnihotris': 1, 'Brahmasatris': 3, 'Siddhis': 1, 'rishi': 2, 'Vishvadevas': 1, 'Plakshas': 1, 'Nyagrodhas': 1, 'Mitra-Varunas': 1}\n"
          ]
        }
      ]
    },
    {
      "cell_type": "code",
      "source": [
        "community_freq = dict(sorted(freq.items(), key=lambda item: item[1]))"
      ],
      "metadata": {
        "id": "dNT8Z0s9VBp9"
      },
      "execution_count": null,
      "outputs": []
    },
    {
      "cell_type": "code",
      "source": [
        "print(len(community_freq))"
      ],
      "metadata": {
        "colab": {
          "base_uri": "https://localhost:8080/"
        },
        "id": "2YFfANnMVFvg",
        "outputId": "acc47c31-6fa5-4a7f-a992-77d119727785"
      },
      "execution_count": null,
      "outputs": [
        {
          "output_type": "stream",
          "name": "stdout",
          "text": [
            "523\n"
          ]
        }
      ]
    },
    {
      "cell_type": "code",
      "source": [
        "top_ten_community = list(community_freq)[512:]\n",
        "print(top_ten_community)\n",
        "for p in top_ten_community:\n",
        "  print(p, community_freq[p])"
      ],
      "metadata": {
        "colab": {
          "base_uri": "https://localhost:8080/"
        },
        "id": "MTC94n-CVLo6",
        "outputId": "b163d624-1824-4b0a-c258-3fdf3345d640"
      },
      "execution_count": null,
      "outputs": [
        {
          "output_type": "stream",
          "name": "stdout",
          "text": [
            "['Kshatriyas', 'Panchalas', 'Rakshasas', 'Kauravas', 'Rishis', 'Rakshasa', 'Kurus', 'Pandava', 'Bharata', 'Kuru', 'Pandavas']\n",
            "Kshatriyas 538\n",
            "Panchalas 569\n",
            "Rakshasas 688\n",
            "Kauravas 706\n",
            "Rishis 784\n",
            "Rakshasa 819\n",
            "Kurus 861\n",
            "Pandava 1068\n",
            "Bharata 1072\n",
            "Kuru 1138\n",
            "Pandavas 2719\n"
          ]
        }
      ]
    }
  ]
}
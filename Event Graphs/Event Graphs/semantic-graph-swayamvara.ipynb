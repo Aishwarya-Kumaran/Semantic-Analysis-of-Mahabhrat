{
  "nbformat": 4,
  "nbformat_minor": 0,
  "metadata": {
    "colab": {
      "name": "json-to-tree.ipynb",
      "provenance": [],
      "collapsed_sections": []
    },
    "kernelspec": {
      "name": "python3",
      "display_name": "Python 3"
    },
    "language_info": {
      "name": "python"
    }
  },
  "cells": [
    {
      "cell_type": "code",
      "source": [
        "!pip install treelib"
      ],
      "metadata": {
        "colab": {
          "base_uri": "https://localhost:8080/"
        },
        "id": "qUw-h89hMCl8",
        "outputId": "d85c43d6-9e29-4261-9832-16a1cdab5660"
      },
      "execution_count": null,
      "outputs": [
        {
          "output_type": "stream",
          "name": "stdout",
          "text": [
            "Looking in indexes: https://pypi.org/simple, https://us-python.pkg.dev/colab-wheels/public/simple/\n",
            "Requirement already satisfied: treelib in /usr/local/lib/python3.7/dist-packages (1.6.1)\n",
            "Requirement already satisfied: future in /usr/local/lib/python3.7/dist-packages (from treelib) (0.16.0)\n"
          ]
        }
      ]
    },
    {
      "cell_type": "code",
      "source": [
        "import pandas as pd\n",
        "\n",
        "def checkKey(dict, key):\n",
        "    if key in dict.keys():\n",
        "        return True\n",
        "    else:\n",
        "        return False\n",
        "\n",
        "attendees = {\" \"}\n",
        "bride = {\" \"}\n",
        "father = {\" \"}\n",
        "chosen = {\" \"}\n",
        "weapon = {\" \"}\n",
        "place = {\" \"}\n",
        "# df1 = pd.read_csv('/content/swayamvara_entities_1.csv')\n",
        "# df2 = pd.read_csv('/content/Swayamvara_entities_2.csv')\n",
        "\n",
        "\n",
        "# frame =  [df1, df2]\n",
        "# df = pd.concat(frame)\n",
        "\n",
        "# df = pd.read_csv('/content/drive/MyDrive/swayamvara-summary/relationship-elements/semantic_graph_elements_damayanti.csv')\n",
        "df = pd.read_csv('/content/drive/MyDrive/swayamvara-summary/relationship-elements/semantic_graph_entities_panchali.csv')\n",
        "# dict = df.to_dict()\n",
        "# print(dict)\n",
        "# print(df[:10])\n",
        "dict = {}\n",
        "l = []\n",
        "for it, rows in df.iterrows():\n",
        "  if rows['subject'] not in l:\n",
        "    if 'chosen' in rows['attribute']:\n",
        "      chosen.add(rows['subject'])\n",
        "      l.append(rows['subject'])\n",
        "    if 'place' in rows['attribute']:\n",
        "      place.add(rows['subject'])\n",
        "      l.append(rows['subject'])\n",
        "    if 'bride' in rows['attribute']:\n",
        "      bride.add(rows['subject'])\n",
        "      l.append(rows['subject'])\n",
        "    if 'attendees' in rows['attribute']:\n",
        "      attendees.add(rows['subject'])\n",
        "      l.append(rows['subject'])\n",
        "    if 'father' in rows['attribute']:\n",
        "      father.add(rows['subject'])\n",
        "      l.append(rows['subject'])\n",
        "    if 'weapon' in rows['attribute']:\n",
        "      weapon.add(rows['subject'])\n",
        "      l.append(rows['subject'])\n",
        "\n",
        "chosen.add('arjuna') \n",
        "\n",
        "\n",
        "\n",
        "dict = {'bride':list(bride) , 'father':list(father) , 'attendees':list(attendees) , 'Weapons':list(weapon) , 'Chosen': list(chosen), 'Place': list(place) }\n",
        "d = {}\n",
        "d['event_name'] = 'Panchali - Entities'\n",
        "d['entities'] = dict\n",
        "import json\n",
        "# d['entities']['Chosen'] = 'arjuna'\n",
        "\n",
        "json_object = json.dumps(d, indent = 4) \n",
        "print(json_object)\n",
        "\n",
        "\n",
        "with open('damayanti.json', 'w') as json_file:\n",
        "    json.dump(d, json_file)\n",
        "\n",
        "\n",
        "\n",
        "\n",
        "from treelib import Node, Tree\n",
        "tree = Tree()\n",
        "tree.create_node(\"Panchali - Entities\", \"Entities\")  # root node\n",
        "\n",
        "\n",
        "for key in dict:\n",
        "  tree.create_node(key,key, parent=\"Entities\")  \n",
        "for key in dict:\n",
        "  for x in dict[key]:\n",
        "    if(len(x) == 1):\n",
        "      continue\n",
        "    tree.create_node(x,x, parent=str(key))  \n",
        "\n",
        "tree.show()"
      ],
      "metadata": {
        "colab": {
          "base_uri": "https://localhost:8080/"
        },
        "id": "PxJfOqmcZ8RJ",
        "outputId": "8a6445e7-9558-4ce6-9d07-72a02a0346ab"
      },
      "execution_count": null,
      "outputs": [
        {
          "output_type": "stream",
          "name": "stdout",
          "text": [
            "{\n",
            "    \"event_name\": \"Panchali - Entities\",\n",
            "    \"entities\": {\n",
            "        \"bride\": [\n",
            "            \" \",\n",
            "            \"Draupadi\"\n",
            "        ],\n",
            "        \"father\": [\n",
            "            \" \",\n",
            "            \"Drupad\"\n",
            "        ],\n",
            "        \"attendees\": [\n",
            "            \"Aswatthaman\",\n",
            "            \"Duhsasana\",\n",
            "            \"Karna\",\n",
            "            \"Arjuna\",\n",
            "            \"Yuyutsu\",\n",
            "            \"Dhurvisha\",\n",
            "            \"Vrihadvala\",\n",
            "            \"Saha\",\n",
            "            \"Suvarcha\",\n",
            "            \"Vayuvega\",\n",
            "            \"Virochana\",\n",
            "            \"Sakuni\",\n",
            "            \"Vrisaka\",\n",
            "            \" \",\n",
            "            \"Sauvala\",\n",
            "            \"Durmukha\",\n",
            "            \"Bhoja\",\n",
            "            \"Vivinsati\",\n",
            "            \"Dhuryodhan\",\n",
            "            \"Kanakayu\",\n",
            "            \"Vikarna\",\n",
            "            \"Kanakadhwaja\"\n",
            "        ],\n",
            "        \"Weapons\": [\n",
            "            \" \",\n",
            "            \"bow\"\n",
            "        ],\n",
            "        \"Chosen\": [\n",
            "            \" \",\n",
            "            \"arjuna\"\n",
            "        ],\n",
            "        \"Place\": [\n",
            "            \" \",\n",
            "            \"Panchala\"\n",
            "        ]\n",
            "    }\n",
            "}\n",
            "Panchali - Entities\n",
            "├── Chosen\n",
            "│   └── arjuna\n",
            "├── Place\n",
            "│   └── Panchala\n",
            "├── Weapons\n",
            "│   └── bow\n",
            "├── attendees\n",
            "│   ├── Arjuna\n",
            "│   ├── Aswatthaman\n",
            "│   ├── Bhoja\n",
            "│   ├── Dhurvisha\n",
            "│   ├── Dhuryodhan\n",
            "│   ├── Duhsasana\n",
            "│   ├── Durmukha\n",
            "│   ├── Kanakadhwaja\n",
            "│   ├── Kanakayu\n",
            "│   ├── Karna\n",
            "│   ├── Saha\n",
            "│   ├── Sakuni\n",
            "│   ├── Sauvala\n",
            "│   ├── Suvarcha\n",
            "│   ├── Vayuvega\n",
            "│   ├── Vikarna\n",
            "│   ├── Virochana\n",
            "│   ├── Vivinsati\n",
            "│   ├── Vrihadvala\n",
            "│   ├── Vrisaka\n",
            "│   └── Yuyutsu\n",
            "├── bride\n",
            "│   └── Draupadi\n",
            "└── father\n",
            "    └── Drupad\n",
            "\n"
          ]
        }
      ]
    },
    {
      "cell_type": "code",
      "source": [
        "tree.to_graphviz(filename='test_tree.dot', shape=u'circle', graph=u'digraph')"
      ],
      "metadata": {
        "id": "L8M2HUMzex6E"
      },
      "execution_count": null,
      "outputs": []
    },
    {
      "cell_type": "code",
      "source": [
        "!pip install graphviz"
      ],
      "metadata": {
        "colab": {
          "base_uri": "https://localhost:8080/"
        },
        "id": "sJ_KTw8DkmqF",
        "outputId": "4c047c44-e603-4fbc-bb98-22358827ade8"
      },
      "execution_count": null,
      "outputs": [
        {
          "output_type": "stream",
          "name": "stdout",
          "text": [
            "Looking in indexes: https://pypi.org/simple, https://us-python.pkg.dev/colab-wheels/public/simple/\n",
            "Requirement already satisfied: graphviz in /usr/local/lib/python3.7/dist-packages (0.10.1)\n"
          ]
        }
      ]
    },
    {
      "cell_type": "code",
      "source": [
        "!dot test_tree.dot -Tpng -o panchali_swayamvara.png"
      ],
      "metadata": {
        "id": "Bykf8UWakp-v"
      },
      "execution_count": null,
      "outputs": []
    }
  ]
}
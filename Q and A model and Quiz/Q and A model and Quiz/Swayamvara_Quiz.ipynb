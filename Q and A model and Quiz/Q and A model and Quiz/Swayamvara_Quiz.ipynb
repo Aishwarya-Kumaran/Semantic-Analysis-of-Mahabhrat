{
  "cells": [
    {
      "cell_type": "code",
      "execution_count": 1,
      "metadata": {
        "colab": {
          "base_uri": "https://localhost:8080/"
        },
        "id": "glp6LIKbxmUh",
        "outputId": "a97f43a8-f67c-4a6d-93d7-de9dce540112"
      },
      "outputs": [
        {
          "output_type": "stream",
          "name": "stdout",
          "text": [
            "Looking in indexes: https://pypi.org/simple, https://us-python.pkg.dev/colab-wheels/public/simple/\n",
            "Collecting transformers\n",
            "  Downloading transformers-4.20.1-py3-none-any.whl (4.4 MB)\n",
            "\u001b[K     |████████████████████████████████| 4.4 MB 5.4 MB/s \n",
            "\u001b[?25hRequirement already satisfied: importlib-metadata in /usr/local/lib/python3.7/dist-packages (from transformers) (4.11.4)\n",
            "Requirement already satisfied: numpy>=1.17 in /usr/local/lib/python3.7/dist-packages (from transformers) (1.21.6)\n",
            "Requirement already satisfied: packaging>=20.0 in /usr/local/lib/python3.7/dist-packages (from transformers) (21.3)\n",
            "Collecting tokenizers!=0.11.3,<0.13,>=0.11.1\n",
            "  Downloading tokenizers-0.12.1-cp37-cp37m-manylinux_2_12_x86_64.manylinux2010_x86_64.whl (6.6 MB)\n",
            "\u001b[K     |████████████████████████████████| 6.6 MB 38.3 MB/s \n",
            "\u001b[?25hRequirement already satisfied: requests in /usr/local/lib/python3.7/dist-packages (from transformers) (2.23.0)\n",
            "Requirement already satisfied: filelock in /usr/local/lib/python3.7/dist-packages (from transformers) (3.7.1)\n",
            "Collecting pyyaml>=5.1\n",
            "  Downloading PyYAML-6.0-cp37-cp37m-manylinux_2_5_x86_64.manylinux1_x86_64.manylinux_2_12_x86_64.manylinux2010_x86_64.whl (596 kB)\n",
            "\u001b[K     |████████████████████████████████| 596 kB 70.4 MB/s \n",
            "\u001b[?25hCollecting huggingface-hub<1.0,>=0.1.0\n",
            "  Downloading huggingface_hub-0.8.1-py3-none-any.whl (101 kB)\n",
            "\u001b[K     |████████████████████████████████| 101 kB 10.6 MB/s \n",
            "\u001b[?25hRequirement already satisfied: regex!=2019.12.17 in /usr/local/lib/python3.7/dist-packages (from transformers) (2022.6.2)\n",
            "Requirement already satisfied: tqdm>=4.27 in /usr/local/lib/python3.7/dist-packages (from transformers) (4.64.0)\n",
            "Requirement already satisfied: typing-extensions>=3.7.4.3 in /usr/local/lib/python3.7/dist-packages (from huggingface-hub<1.0,>=0.1.0->transformers) (4.1.1)\n",
            "Requirement already satisfied: pyparsing!=3.0.5,>=2.0.2 in /usr/local/lib/python3.7/dist-packages (from packaging>=20.0->transformers) (3.0.9)\n",
            "Requirement already satisfied: zipp>=0.5 in /usr/local/lib/python3.7/dist-packages (from importlib-metadata->transformers) (3.8.0)\n",
            "Requirement already satisfied: idna<3,>=2.5 in /usr/local/lib/python3.7/dist-packages (from requests->transformers) (2.10)\n",
            "Requirement already satisfied: chardet<4,>=3.0.2 in /usr/local/lib/python3.7/dist-packages (from requests->transformers) (3.0.4)\n",
            "Requirement already satisfied: urllib3!=1.25.0,!=1.25.1,<1.26,>=1.21.1 in /usr/local/lib/python3.7/dist-packages (from requests->transformers) (1.24.3)\n",
            "Requirement already satisfied: certifi>=2017.4.17 in /usr/local/lib/python3.7/dist-packages (from requests->transformers) (2022.6.15)\n",
            "Installing collected packages: pyyaml, tokenizers, huggingface-hub, transformers\n",
            "  Attempting uninstall: pyyaml\n",
            "    Found existing installation: PyYAML 3.13\n",
            "    Uninstalling PyYAML-3.13:\n",
            "      Successfully uninstalled PyYAML-3.13\n",
            "Successfully installed huggingface-hub-0.8.1 pyyaml-6.0 tokenizers-0.12.1 transformers-4.20.1\n"
          ]
        }
      ],
      "source": [
        "!pip install transformers"
      ]
    },
    {
      "cell_type": "code",
      "execution_count": 2,
      "metadata": {
        "id": "B3c4lp289pio"
      },
      "outputs": [],
      "source": [
        "dict = {\n",
        "    'phalguna': ['arjun', 'kiriti', 'parth', 'phalguna', 'arjuna'],\n",
        "    'kiriti':['arjun', 'kiriti', 'parth', 'phalguna', 'arjuna'],\n",
        "    'suta': ['suta', 'vikartana', 'karna'],\n",
        "    'nala': ['naishadha', 'nala'],\n",
        "    'naishadha': ['naishadha', 'nala'],\n",
        "    'bhishma': ['devvrat', 'son of shantanu', 'bhishma'],\n",
        "    'kali': ['kali'],\n",
        "    'vichitravirya': ['vichitravirya'],\n",
        "    'salya':['shalya', 'salya']\n",
        "}"
      ]
    },
    {
      "cell_type": "code",
      "execution_count": 3,
      "metadata": {
        "colab": {
          "base_uri": "https://localhost:8080/"
        },
        "id": "YNA8MM6nx-xP",
        "outputId": "52681e4c-be58-4cc5-ba39-79a013f70886"
      },
      "outputs": [
        {
          "output_type": "stream",
          "name": "stderr",
          "text": [
            "[nltk_data] Downloading package punkt to /root/nltk_data...\n",
            "[nltk_data]   Unzipping tokenizers/punkt.zip.\n"
          ]
        },
        {
          "output_type": "execute_result",
          "data": {
            "text/plain": [
              "True"
            ]
          },
          "metadata": {},
          "execution_count": 3
        }
      ],
      "source": [
        "import nltk\n",
        "from nltk.tokenize import sent_tokenize\n",
        "nltk.download('punkt')"
      ]
    },
    {
      "cell_type": "code",
      "execution_count": 4,
      "metadata": {
        "colab": {
          "base_uri": "https://localhost:8080/",
          "height": 177,
          "referenced_widgets": [
            "399ea3e50d1341bda6bea729d87ee015",
            "c79a32e24d644932ad0b1ba1b329e3fa",
            "255b4359c78c436eb1e7be189b3982b0",
            "c41578d83b134977a115242c2ce9e484",
            "a0687f295f144789a7b03dd5d6fb2c64",
            "b5809368a61d4227a48c4540cea89050",
            "63335a57af384c2d8945d7428d9e91ea",
            "87fe762ac7a04aea99ce06cd67852387",
            "62ddb20294dc475c8e67e441671bd3e5",
            "93ed5d2eefeb4b559d5f2c447970f77c",
            "2aed90005283433ba00c1e2da9dfd32f",
            "8982316f0f6143feb16e68cc3fe34c1c",
            "a591f2cb080946c88652feec266da604",
            "c0d9926ae63540ac822f69357e0f6302",
            "e6aac8f546c04b2dbc3344f21ec09782",
            "8f9bca691dae441f802622cb019a169e",
            "0cf67f6bb56c4343aca4e61b98e699aa",
            "fce575ebfcef48cc8f7ba12258b712d7",
            "806e6f635c0e42569addf510249976e3",
            "95dc1c2a71164769b3dcae806bc79ca1",
            "e3610214675e4d97ba27e05e479ac515",
            "7390a0b6fb0d4fe3bf44742d2dd5fc41",
            "e04460e6d765414c926b636f70b4d662",
            "b170caa7c2f0453d9717e9c471672521",
            "0b245f0646844050b08361672b5c973d",
            "e6b4b307cf324704a867889f4fd7dd6f",
            "0d3bceb0765047c0878e3fc9e6eb02fa",
            "a1b7f9889aed40b2881dc82cfb726d35",
            "530580cfe88f48538ec6ba707a79e2cb",
            "c65a2f5566704116bc19513e48bc3c56",
            "7cb7f97343144e20944c279807c7a809",
            "336ae5d5e8e1441a9f94edf7cf8168e4",
            "09127d2efc7244b499c70938f8d4f4d9",
            "de5387925ef94f0d90522088807fd515",
            "8a72f0743ebb49f785baf022e9ceb722",
            "eb72c8e5a5774a808f4fd5c37ff2b705",
            "e3e804e994c7439aa757aacdddffacb0",
            "71b6eea8ac654cc4a7c5c9cb1489295a",
            "5f02abe2562d4310930cdecf86f4122b",
            "062060d978fe4205a742f855d95e26e5",
            "f11d7e9734e74d38871cb7bbb44af8e4",
            "d46ac21143be4807a39beb4842e39437",
            "012e028bc5d0438d9746217f9aa99cf4",
            "5dc2653f9e8b424aa08965167f39fda5",
            "28957230ad304779b3255849297d16d8",
            "3716caad8325444fa6246870f0f0b10e",
            "7a9d5996b068426bb0dd059788dc6f46",
            "94a20539a43a42069671dd077756c104",
            "5fbb4cb0df2744998fc5f4a8345c479a",
            "45e8da1da4e34d1e8ac0c4bf56d33aca",
            "9e7b1989dcd64bec8ff816bb9b8d1ae5",
            "d5470dc82713462c9ec167c9d97d3a68",
            "4014364d40744c56a431043183f0109e",
            "99c4ea4d916e434aa9520887dbb2e015",
            "db159dce970c4e4da06de31311625df7"
          ]
        },
        "id": "JG6-NipwyjS7",
        "outputId": "c2843ab5-90d1-4b42-d138-3a855913685e"
      },
      "outputs": [
        {
          "output_type": "display_data",
          "data": {
            "text/plain": [
              "Downloading:   0%|          | 0.00/443 [00:00<?, ?B/s]"
            ],
            "application/vnd.jupyter.widget-view+json": {
              "version_major": 2,
              "version_minor": 0,
              "model_id": "399ea3e50d1341bda6bea729d87ee015"
            }
          },
          "metadata": {}
        },
        {
          "output_type": "display_data",
          "data": {
            "text/plain": [
              "Downloading:   0%|          | 0.00/1.25G [00:00<?, ?B/s]"
            ],
            "application/vnd.jupyter.widget-view+json": {
              "version_major": 2,
              "version_minor": 0,
              "model_id": "8982316f0f6143feb16e68cc3fe34c1c"
            }
          },
          "metadata": {}
        },
        {
          "output_type": "display_data",
          "data": {
            "text/plain": [
              "Downloading:   0%|          | 0.00/28.0 [00:00<?, ?B/s]"
            ],
            "application/vnd.jupyter.widget-view+json": {
              "version_major": 2,
              "version_minor": 0,
              "model_id": "e04460e6d765414c926b636f70b4d662"
            }
          },
          "metadata": {}
        },
        {
          "output_type": "display_data",
          "data": {
            "text/plain": [
              "Downloading:   0%|          | 0.00/226k [00:00<?, ?B/s]"
            ],
            "application/vnd.jupyter.widget-view+json": {
              "version_major": 2,
              "version_minor": 0,
              "model_id": "de5387925ef94f0d90522088807fd515"
            }
          },
          "metadata": {}
        },
        {
          "output_type": "display_data",
          "data": {
            "text/plain": [
              "Downloading:   0%|          | 0.00/455k [00:00<?, ?B/s]"
            ],
            "application/vnd.jupyter.widget-view+json": {
              "version_major": 2,
              "version_minor": 0,
              "model_id": "28957230ad304779b3255849297d16d8"
            }
          },
          "metadata": {}
        }
      ],
      "source": [
        "from transformers import pipeline\n",
        "\n",
        "# Replace this with your own checkpoint\n",
        "model_checkpoint = \"bert-large-uncased-whole-word-masking-finetuned-squad\"\n",
        "question_answerer = pipeline(\"question-answering\", model=model_checkpoint)\n"
      ]
    },
    {
      "cell_type": "code",
      "execution_count": 5,
      "metadata": {
        "id": "Bu93L4EnBu0Y"
      },
      "outputs": [],
      "source": [
        "def check_ans(correct_ans, input_ans):\n",
        "  l = dict[correct_ans]\n",
        "  if input_ans in l:\n",
        "    return True\n",
        "  else:\n",
        "    return False\n"
      ]
    },
    {
      "cell_type": "markdown",
      "metadata": {
        "id": "LcdGDbO2xUmD"
      },
      "source": [
        "## **Amba's Swayamvara Quiz**"
      ]
    },
    {
      "cell_type": "code",
      "execution_count": 6,
      "metadata": {
        "id": "WPu3N3JGw65B"
      },
      "outputs": [],
      "source": [
        "import pandas as pd\n",
        "\n",
        "df = pd.read_csv('/content/drive/MyDrive/swayamvara-summary/summary_swayamvara-amba.csv')"
      ]
    },
    {
      "cell_type": "code",
      "execution_count": 7,
      "metadata": {
        "colab": {
          "base_uri": "https://localhost:8080/"
        },
        "id": "z7rynb_JxbCi",
        "outputId": "ffc46e0b-3b9e-48bf-ab3f-78cd0671c5ac"
      },
      "outputs": [
        {
          "output_type": "stream",
          "name": "stdout",
          "text": [
            " Bhishma, the son of Santanu, wanted to marry Vichitravirya, the daughter of the king of Kasi, so he went to Varanasi in a single chariot to see the self-choice ceremony where the three daughters of the Kasi king would be married.He chose them on behalf of his brother. Bhishma took them on his car and challenged the assembled kings to a fight. Bhishma, the Kuruwarrior, defeated the assembled monarchs and their car-warriors in a fierce battle. Bhishma took the title of the foremost wielder of weapons after the battle.He then pursued his way to the capital of the Bharatas with maidens. Salya and Bhishma fought each other in a battle. The Kuru chief killed Salya's charioteer with Varuna weapon on his bowstring, and the other kings who had come to witness it returned to their own kingdoms. Vichitravirya was married to Ambika and Ambalika, the daughters of the king of Kasi, but he soon became lustful after his marriage.He died in the prime of his youth.The funeral rites were performed by learned priests and the several of the Kuru race.\n"
          ]
        }
      ],
      "source": [
        "summary = \"\"\n",
        "from nltk import sent_tokenize\n",
        "for it, rows in df.iterrows():\n",
        "  x = rows['summary']\n",
        "  x = sent_tokenize(x)\n",
        "  for i in x:\n",
        "    summary = summary + ' ' + i\n",
        "print(summary)"
      ]
    },
    {
      "cell_type": "markdown",
      "metadata": {
        "id": "KKCe3F8F2oaz"
      },
      "source": [
        "Question 1"
      ]
    },
    {
      "cell_type": "code",
      "execution_count": 8,
      "metadata": {
        "id": "jC7DUqj6yo8J"
      },
      "outputs": [],
      "source": [
        "context = summary\n",
        "question1 = \"who wanted to win the kasi princes?\"\n",
        "ans1 = question_answerer(question=question1, context=context)\n",
        "# print(ans['answer'])"
      ]
    },
    {
      "cell_type": "code",
      "execution_count": 9,
      "metadata": {
        "id": "j0-lWhJr0NUN",
        "colab": {
          "base_uri": "https://localhost:8080/"
        },
        "outputId": "94492f5f-2173-4974-e1ff-dff172aeea9e"
      },
      "outputs": [
        {
          "output_type": "stream",
          "name": "stdout",
          "text": [
            "Enter answer for the question:\n",
            " who wanted to win the kasi princes?\n",
            "bhishma\n",
            "correct answer\n"
          ]
        }
      ],
      "source": [
        "input_answer = input(\"Enter answer for the question:\\n \"+ question1+ '\\n')\n",
        "# print(type(input_answer))\n",
        "if(check_ans(ans1['answer'].lower(), input_answer.lower())):\n",
        "  print(\"correct answer\")"
      ]
    },
    {
      "cell_type": "markdown",
      "metadata": {
        "id": "6YtCymQS2r1K"
      },
      "source": [
        "Question 2"
      ]
    },
    {
      "cell_type": "code",
      "execution_count": 10,
      "metadata": {
        "id": "dg8tydig0Q1f"
      },
      "outputs": [],
      "source": [
        "context = summary\n",
        "question2 = \"who married Ambika and Ambalika\"\n",
        "ans2 = question_answerer(question=question2, context=context)\n",
        "# print(ans['answer'])"
      ]
    },
    {
      "cell_type": "code",
      "execution_count": 11,
      "metadata": {
        "id": "VzkJ25mK0a3e",
        "colab": {
          "base_uri": "https://localhost:8080/"
        },
        "outputId": "0f0cd136-bc1f-450d-b384-9100707f65cc"
      },
      "outputs": [
        {
          "output_type": "stream",
          "name": "stdout",
          "text": [
            "Enter answer for the question:\n",
            " who married Ambika and Ambalika\n",
            "vichitravirya\n",
            "<class 'str'>\n",
            "correct answer\n"
          ]
        }
      ],
      "source": [
        "# print(ans2['answer'])\n",
        "input_answer = input(\"Enter answer for the question:\\n \"+ question2+ '\\n')\n",
        "print(type(input_answer))\n",
        "if(check_ans(ans2['answer'].lower(), input_answer.lower())):\n",
        "  print(\"correct answer\")"
      ]
    },
    {
      "cell_type": "markdown",
      "metadata": {
        "id": "m4ovQ31Z2ugh"
      },
      "source": [
        "Question 3"
      ]
    },
    {
      "cell_type": "code",
      "execution_count": 12,
      "metadata": {
        "id": "OdwXcg-30v43"
      },
      "outputs": [],
      "source": [
        "context = summary\n",
        "question3 = \"Who fought Bhishma at the swayamvara?\"\n",
        "ans3 = question_answerer(question=question3, context=context)\n",
        "# print(ans['answer'])"
      ]
    },
    {
      "cell_type": "code",
      "execution_count": 13,
      "metadata": {
        "id": "mMEZHxco04yt",
        "colab": {
          "base_uri": "https://localhost:8080/"
        },
        "outputId": "9a273ad6-8d16-432e-9ffa-c54ef67c3482"
      },
      "outputs": [
        {
          "output_type": "stream",
          "name": "stdout",
          "text": [
            "Enter answer for the question: \n",
            "Who fought Bhishma at the swayamvara?\n",
            "salya\n",
            "<class 'str'>\n",
            "correct answer\n"
          ]
        }
      ],
      "source": [
        "# print(ans3['answer'])\n",
        "input_answer = input(\"Enter answer for the question: \\n\"+ question3+ '\\n')\n",
        "print(type(input_answer))\n",
        "if(check_ans(ans3['answer'].lower(), input_answer.lower())):\n",
        "  print(\"correct answer\")"
      ]
    },
    {
      "cell_type": "markdown",
      "metadata": {
        "id": "m-yjHBEF1qMe"
      },
      "source": [
        "## **Panchali's Swayamvara**"
      ]
    },
    {
      "cell_type": "code",
      "execution_count": 14,
      "metadata": {
        "id": "8hoiZxX315La"
      },
      "outputs": [],
      "source": [
        "df = pd.read_csv('/content/drive/MyDrive/swayamvara-summary/summary_swayamvara_panchali.csv')"
      ]
    },
    {
      "cell_type": "code",
      "execution_count": 15,
      "metadata": {
        "id": "uDTyR8042Kol",
        "colab": {
          "base_uri": "https://localhost:8080/"
        },
        "outputId": "af34a5d8-5e70-4104-853a-8a74c9b0a9ed"
      },
      "outputs": [
        {
          "output_type": "stream",
          "name": "stdout",
          "text": [
            " Arjuna asked Gandharva if Veda-knowing Brahmana is worthy to be appointed as a priest.He replied that he is, because he is well-versed in Vedic literature.Arjuna then asked for a priest to be chosen. Dhaumya, the younger brother of Devala, is engaged there in ascetic penances.Gandharva suggests appointing him as a priest in Utkochaka as a shrine in the woods.He agrees to do so if he is appointed. The Pandavas went to Utkochaka, the sacred asylum of Dhaumya, and they got the blessings of Brahmana, their priest.He made them his Yajamanas (spiritual disciples).Then they went to the Swayamvara of the Princess of Panchala. The Pandavas are going to Panchala to see Draupadi's marriage.The Brahmanas are coming from Ekachakra to the abode of Drupada in the country of the Panchalas to see the Swayamvara.They will also be there to witness the festivities of the wedding of the daughter of Yajnasena, who will choose a husband from the invited princes. Brahmanas will go with Yudhishthira to witness Swayamvara's jubilee to witness the maiden's maiden's wedding.Yudhistthira is excited about it.  .  \"Yeu The Pandavas entered the country of the Panchalas ruled by the king Drupada.They took up quarters in the house of a potter and adopted the Brahmanical profession.No one recognised them during their stay in Drupado's capital. Yajnasena always wanted to bestow his daughter on Kiriti (Arjuna), the son of Pandu.O Janamejaya, the king of Panchala, made a very stiff bow that was incapable of being bent by anyone except Arjuna.Drupada said, 'He that will string this bow and with these well-adorned arrows shoot the mark above the machine shall obtain my daughter' King Drupada proclaimed the Swayamvara.King Duryodhana and the Kurus accompanied by Kama came to his capital.The monarch entered the grand amphitheatre by the north-eastern gate.It was surrounded by mansions with high walls and a moat.The windows of the mansions were covered with net works of gold.The walls were set with diamonds and precious costly carpets and cloths. The Pandavas and the Brahmanas were watching the performance of the king of the Panchalas. Drupada's daughter entered the amphitheatre with a dish of gold and a garland of flowers. Drupada's son recited to his sister the names and lineages of the assembled lords of the earth. \"Dhrishtadyumna said, 'Duryodhana, Durvisaha, Durmukha, Vivinsati, Vikarna, Saha, Duhsasana, Yuyutsu, Vayuvega, Kanakayu, Virochana, Suvarcha, and Kanakadhwaja have come from Dhritarashtra's land.Sakuni, Sauvala, Vrisaka, and Vrihadvala of the king Gandhara have also come .Aswatthaman and Bhoja of the Kshatriyas have come. Vaisampayana describes the scene of the wedding of Draupadi in which the Kshatriyas, princes, celestials, the Adityas, the Vasus, the Aswins, the Swadhas, the Marutas, and Kuvera with Yama were present. Karna, the foremost wielder of the bow, strung the bow and placed the arrows on the string. Draupadi refused to choose a Suta for her lord, so Karna threw the bow aside and drew a circle around the bow. Sisupala, Jarasandha, Jishnu, the son of Kunti, and Salya, the king of Madra, fell upon their knees trying to string the bow.They became subjects of derisive talk, but foremost of heroes Jishna managed to do it. Brahmanas were displeased when the monarchs had stopped stringing the bow.Arjuna took up the bow and strung it with great exertion and resolve.Vaisampayana explains that there is nothing in the world that Brahmanas of all mortal men cannot accomplish. Drupada wanted to bestow his daughter on a Brahmana.All the monarchs who had been invited to the Swayamvara were filled with wrath.Vaisampayana said that the Vedic declaration is well-known.The Brahmanas have no claim in respect of a Kshatriya damsel. The Kuru princes Bhima, Jishnu, Damodara, Valadeva, Vrikodara and Yudhishthira, along with their mother Pritha, escaped from the clutches of the Kaurava monarchs. Arjuna, Bhima, Karna and Radheya were fighting against the Brahmanas.Arjuna fired hundreds of arrows at them.Karna, the son of Vikartana (Surya), pieced him with his sharp arrows.They both became invisible. Bhima, Karna, Salya and Vrikodara engaged in a fight.Bhima, the foremost of the Kuru heroes, hurled Saly a distance.Bhimasena surprised all by the dexterity of his feat.The othermonarchs were alarmed and surrounded Bhima and surrounded him. Krishna convinced the assembled monarchs to abandon the fight against Bhima and Dhananjaya.Bhima was the son of Kunti.The princess of Panchala was the bride of a Brahmana.The festive scene was terminated in the victory of the Brahmanas. Kunti's sons were late in returning from theireleemosynary round.Jishnu, accompanied by a body of Brahmanas, entered the abode of the potter in the late afternoon.Kunti was worried that her sons had been killed. The sons of Pritha returned from the potter's abode and presented Yajnaseni as the alms they had obtained to their mother.Kunti was there within the room and saw not her sons, so she said, 'Enjoy ye all (what ye have obtained). Yudhishthira consoled Kunti, and addressed Dhananjaya, said, 'By thee, O Phalguna, hath Yajnaseni been won.It is proper that we all should wed her. Arjuna doesn't want to be a participant in sin.Arjuna wants to be married first, followed by Bhima, Nakula, Vrikodara, the twins and Sahadeva, and then Arjun.Arjun wants Panchala to command them as helikest. The Pandavas all looked at Draupadi, the princess of Panchala.Yudhishthira, the son of Kunti, understood the meaning of Krishna-Dwaipayana's words.The king, from fear of a division among the brothers, addressed all of them and said that Drauupadi will be the common wife of them all. Krishna and Valadeva went to the potter's house.They saw Ajatasanu (Yudhishthira) and his younger brothers passing the splendour of fire sitting around him.Vasudeva touched the feet of Kunti, the son of Ajamida.The Pandavas, the sons of Pandu, saw them and were delighted. The Panchala prince hid himself in the potter's house.Bhima, Jishnu, and the illustrious twins, cheerfully gave everything to Yudhishthira.Kunti, the daughter of Drupada, divided the food into six parts and divided it into half for Bhima and half for himself. Dhristadyumna went to Drupada to report what had happened at the potter's abode.The king of Panchala was sad because Krishna had taken away his daughter.Arjuna took up the bow and shot the mark.\n"
          ]
        }
      ],
      "source": [
        "summary = \"\"\n",
        "from nltk import sent_tokenize\n",
        "for it, rows in df.iterrows():\n",
        "  x = rows['summary']\n",
        "  x = sent_tokenize(x)\n",
        "  for i in x:\n",
        "    summary = summary + ' ' + i\n",
        "print(summary)"
      ]
    },
    {
      "cell_type": "markdown",
      "metadata": {
        "id": "i65_sP9s20Kk"
      },
      "source": [
        "Question 1"
      ]
    },
    {
      "cell_type": "code",
      "execution_count": 16,
      "metadata": {
        "id": "cIb1cjDN2ze7"
      },
      "outputs": [],
      "source": [
        "context = summary\n",
        "question1 = \"by whom was the yajnaseni won?\"\n",
        "ans1 = question_answerer(question=question1, context=context)\n",
        "# print(ans['answer'])"
      ]
    },
    {
      "cell_type": "code",
      "execution_count": 17,
      "metadata": {
        "id": "6BJiVGWu25k1",
        "colab": {
          "base_uri": "https://localhost:8080/"
        },
        "outputId": "484b2f3a-19eb-4146-cd6e-453b7c9fde57"
      },
      "outputs": [
        {
          "output_type": "stream",
          "name": "stdout",
          "text": [
            "Enter answer for the question:\n",
            " by whom was the yajnaseni won?\n",
            "arjun\n",
            "<class 'str'>\n",
            "correct answer\n"
          ]
        }
      ],
      "source": [
        "# print(ans1['answer'])\n",
        "input_answer = input(\"Enter answer for the question:\\n \"+ question1+ '\\n')\n",
        "print(type(input_answer))\n",
        "if(check_ans(ans1['answer'].lower(), input_answer.lower())):\n",
        "  print(\"correct answer\")"
      ]
    },
    {
      "cell_type": "markdown",
      "metadata": {
        "id": "WAP9f43c4lwv"
      },
      "source": [
        "Question 2\n"
      ]
    },
    {
      "cell_type": "code",
      "execution_count": 18,
      "metadata": {
        "id": "LtrfOT7r4j1Y"
      },
      "outputs": [],
      "source": [
        "context = summary\n",
        "question2 = \"who did draupadi refuse to marry\"\n",
        "ans2 = question_answerer(question=question2, context=context)\n",
        "# print(ans['answer'])"
      ]
    },
    {
      "cell_type": "code",
      "execution_count": 19,
      "metadata": {
        "id": "he4Tkmtb4qNd",
        "colab": {
          "base_uri": "https://localhost:8080/"
        },
        "outputId": "2e0beb19-f415-42a6-d26e-f2181288b369"
      },
      "outputs": [
        {
          "output_type": "stream",
          "name": "stdout",
          "text": [
            "Enter answer for the question:\n",
            "who did draupadi refuse to marry?\n",
            "karna\n",
            "correct answer\n"
          ]
        }
      ],
      "source": [
        "# print(ans2['answer'])\n",
        "input_answer = input(\"Enter answer for the question:\\n\"+ question2+ '?\\n')\n",
        "# print(type(input_answer))\n",
        "if(check_ans(ans2['answer'].lower(), input_answer.lower())):\n",
        "  print(\"correct answer\")"
      ]
    },
    {
      "cell_type": "markdown",
      "metadata": {
        "id": "osI4vL3U5fN2"
      },
      "source": [
        "Question 3"
      ]
    },
    {
      "cell_type": "code",
      "execution_count": 20,
      "metadata": {
        "id": "C7OePs0H5jOn"
      },
      "outputs": [],
      "source": [
        "context = summary\n",
        "question3 = \"who did yajnasena want his daughter to marry?\"\n",
        "ans3 = question_answerer(question=question3, context=context)\n",
        "# print(ans['answer'])"
      ]
    },
    {
      "cell_type": "code",
      "execution_count": 21,
      "metadata": {
        "id": "MTIDAPqi5kgR",
        "colab": {
          "base_uri": "https://localhost:8080/"
        },
        "outputId": "9267e88d-1c94-4354-cde1-117a1d66db06"
      },
      "outputs": [
        {
          "output_type": "stream",
          "name": "stdout",
          "text": [
            "Enter answer for the question:\n",
            "who did yajnasena want his daughter to marry??\n",
            "arjun\n",
            "correct answer\n"
          ]
        }
      ],
      "source": [
        "# print(ans3['answer'])\n",
        "input_answer = input(\"Enter answer for the question:\\n\"+ question3+ '?\\n')\n",
        "# print(type(input_answer))\n",
        "if(check_ans(ans3['answer'].lower(), input_answer.lower())):\n",
        "  print(\"correct answer\")"
      ]
    },
    {
      "cell_type": "markdown",
      "metadata": {
        "id": "WqB3lBTl61iY"
      },
      "source": [
        "# **Damayanti's Swayamvara**"
      ]
    },
    {
      "cell_type": "code",
      "execution_count": 22,
      "metadata": {
        "id": "GcYV-e977LoH"
      },
      "outputs": [],
      "source": [
        "df = pd.read_csv('/content/drive/MyDrive/swayamvara-summary/summary_swayamvara_damayanti.csv')"
      ]
    },
    {
      "cell_type": "code",
      "execution_count": 23,
      "metadata": {
        "id": "G4m8p9_J7RNb",
        "colab": {
          "base_uri": "https://localhost:8080/"
        },
        "outputId": "648eb8ec-e0ec-4540-a445-f277c7bcff18"
      },
      "outputs": [
        {
          "output_type": "stream",
          "name": "stdout",
          "text": [
            " Damayanti is ill and her handmaids informed the ruler of Vidarbha that Damayanti is having an affair with Nala. King Bhima invited all the rulers of the earth to a Swayamvara. All the kings came and were honoured by Bhima. Narada and Parvata visited Maghavat the mansion of the lord of the immortals. They received proper worship and were treated with utmost respect. Maghvat inquired after their undisturbed peace and welfare. Narada said, 'O lord, O divine one, peace attendeth us in every respect' Narada, the slaver of Vala and Vritra, is looking for the Kshatriya heroes. Sakra, the ruler of Vidarbhas, has a daughter, Damayanti, whose Swayamvara is about to take place. All the lords of the earth want to have her. Nala, the high-souled king of Nishadhas, is on his way to meet her. Nala has been chosen by the gods to be Damayanti's messenger. Maghavat, Indra, Agni, Varuna, Yama and Sakra are coming to the assembly. Sakra and Agni want Nala to choose one of them for Damayante's sake. Nala refuses. But eventually agrees Nala came to the palace of Damayanti to see the daughter of the king of Vidarbha. She is the foremost of the celestials, Sakra, Agni, Varuna, and Yama. Nala has entered the palace unperceived. Damayanti bowed down to the gods.Nala asked Damayanti to choose between Mahendra, Hutasana, Varuna and the Lokapalas as her lord. Damayani chose the celestials and Nala returned to the Swayamvara where the gods were staying. King Bhima summoned the kings to the Swayamvara .Damayanti of beauteous face stole the eyes and hearts of the princes by her dazzling light.The daughter of Bhima saw five people all like in appearance. She could not ascertain which of them was king Nala.Damayanti chose the king of the Nishadhas as her lord. Damayanti, daughter of Bhima, chose Naishadha for her husband. The gods and the great Rishis congratulated the king on his choice. Damayanti also paid homage to Nala. Lokapalas of exceeding effulgence bestowed on Nala eight boons. Sakra, Sakra and Hutasana gave him a boon of his own presence whenever he wanted. Kali is angry because Damayanti's Swayamvara has chosen Nala for her husband. Kali and Dwapara are going to kill Nala and destroy the kingdom of Bhima's daughter, Naishadha, because she chose Nala over her.\n"
          ]
        }
      ],
      "source": [
        "summary = \"\"\n",
        "from nltk import sent_tokenize\n",
        "for it, rows in df.iterrows():\n",
        "  x = rows['summary']\n",
        "  x = sent_tokenize(x)\n",
        "  for i in x:\n",
        "    summary = summary + ' ' + i\n",
        "print(summary)"
      ]
    },
    {
      "cell_type": "markdown",
      "metadata": {
        "id": "peL0EVLF7bUX"
      },
      "source": [
        "Question 1\n"
      ]
    },
    {
      "cell_type": "code",
      "execution_count": 24,
      "metadata": {
        "id": "fnIz1ruS69CD"
      },
      "outputs": [],
      "source": [
        "context = summary\n",
        "question1 = \"Who is angry after Damayanti chooses Nala?\"\n",
        "ans1 = question_answerer(question=question1, context=context)\n",
        "# print(ans['answer'])"
      ]
    },
    {
      "cell_type": "code",
      "execution_count": 25,
      "metadata": {
        "id": "4iCdNcof6-Rj",
        "colab": {
          "base_uri": "https://localhost:8080/"
        },
        "outputId": "b1dc31df-7511-4cbe-dcb5-1fc20e89dbe3"
      },
      "outputs": [
        {
          "output_type": "stream",
          "name": "stdout",
          "text": [
            "Enter answer for the question:\n",
            "Who is angry after Damayanti chooses Nala??\n",
            "kali\n",
            "correct answer\n"
          ]
        }
      ],
      "source": [
        "# print(ans1['answer'])\n",
        "input_answer = input(\"Enter answer for the question:\\n\"+ question1+ '?\\n')\n",
        "# print(type(input_answer))\n",
        "if(check_ans(ans1['answer'].lower(), input_answer.lower())):\n",
        "  print(\"correct answer\")"
      ]
    },
    {
      "cell_type": "markdown",
      "metadata": {
        "id": "_tSFP4CC7yf-"
      },
      "source": [
        "Question 2"
      ]
    },
    {
      "cell_type": "code",
      "execution_count": 26,
      "metadata": {
        "id": "PsnAcF3a71i5"
      },
      "outputs": [],
      "source": [
        "context = summary\n",
        "question2 = \"who is chosen as a messenger of the Gods for Damayanti?\"\n",
        "ans2 = question_answerer(question=question2, context=context)\n",
        "# print(ans['answer'])"
      ]
    },
    {
      "cell_type": "code",
      "execution_count": 27,
      "metadata": {
        "id": "JCBXyqUo720S",
        "colab": {
          "base_uri": "https://localhost:8080/"
        },
        "outputId": "16c3f654-1e77-42f4-8e60-1275f8d4c63d"
      },
      "outputs": [
        {
          "output_type": "stream",
          "name": "stdout",
          "text": [
            "Enter answer for the question:\n",
            "who is chosed as a messenger of the Gods for Damayanti??\n",
            "nala\n",
            "correct answer\n"
          ]
        }
      ],
      "source": [
        "# print(ans2['answer'])\n",
        "input_answer = input(\"Enter answer for the question:\\n\"+ question2+ '?\\n')\n",
        "# print(type(input_answer))\n",
        "if(check_ans(ans2['answer'].lower(), input_answer.lower())):\n",
        "  print(\"correct answer\")"
      ]
    },
    {
      "cell_type": "markdown",
      "metadata": {
        "id": "8NRhv8R683Kv"
      },
      "source": [
        "Question 3\n"
      ]
    },
    {
      "cell_type": "code",
      "execution_count": 28,
      "metadata": {
        "id": "roNIlsIV9FB7"
      },
      "outputs": [],
      "source": [
        "context = summary\n",
        "question3 = \"Who did Damayanti choose as her husband?\"\n",
        "ans3 = question_answerer(question=question3, context=context)"
      ]
    },
    {
      "cell_type": "code",
      "execution_count": 29,
      "metadata": {
        "id": "c28ZAC9n9Vh6",
        "colab": {
          "base_uri": "https://localhost:8080/"
        },
        "outputId": "02c5c0f5-7e71-4d7e-c6ab-a7d1622fe356"
      },
      "outputs": [
        {
          "output_type": "stream",
          "name": "stdout",
          "text": [
            "Enter answer for the question:\n",
            "Who did Damayanti choose as her husband??\n",
            "nala\n",
            "correct answer\n"
          ]
        }
      ],
      "source": [
        "# print(ans3['answer'])\n",
        "input_answer = input(\"Enter answer for the question:\\n\"+ question3+ '?\\n')\n",
        "# print(type(input_answer))\n",
        "if(check_ans(ans3['answer'].lower(), input_answer.lower())):\n",
        "  print(\"correct answer\")"
      ]
    }
  ],
  "metadata": {
    "colab": {
      "collapsed_sections": [],
      "name": "Swayamvara Quiz.ipynb",
      "provenance": []
    },
    "kernelspec": {
      "display_name": "Python 3",
      "name": "python3"
    },
    "language_info": {
      "name": "python"
    },
    "widgets": {
      "application/vnd.jupyter.widget-state+json": {
        "399ea3e50d1341bda6bea729d87ee015": {
          "model_module": "@jupyter-widgets/controls",
          "model_name": "HBoxModel",
          "model_module_version": "1.5.0",
          "state": {
            "_dom_classes": [],
            "_model_module": "@jupyter-widgets/controls",
            "_model_module_version": "1.5.0",
            "_model_name": "HBoxModel",
            "_view_count": null,
            "_view_module": "@jupyter-widgets/controls",
            "_view_module_version": "1.5.0",
            "_view_name": "HBoxView",
            "box_style": "",
            "children": [
              "IPY_MODEL_c79a32e24d644932ad0b1ba1b329e3fa",
              "IPY_MODEL_255b4359c78c436eb1e7be189b3982b0",
              "IPY_MODEL_c41578d83b134977a115242c2ce9e484"
            ],
            "layout": "IPY_MODEL_a0687f295f144789a7b03dd5d6fb2c64"
          }
        },
        "c79a32e24d644932ad0b1ba1b329e3fa": {
          "model_module": "@jupyter-widgets/controls",
          "model_name": "HTMLModel",
          "model_module_version": "1.5.0",
          "state": {
            "_dom_classes": [],
            "_model_module": "@jupyter-widgets/controls",
            "_model_module_version": "1.5.0",
            "_model_name": "HTMLModel",
            "_view_count": null,
            "_view_module": "@jupyter-widgets/controls",
            "_view_module_version": "1.5.0",
            "_view_name": "HTMLView",
            "description": "",
            "description_tooltip": null,
            "layout": "IPY_MODEL_b5809368a61d4227a48c4540cea89050",
            "placeholder": "​",
            "style": "IPY_MODEL_63335a57af384c2d8945d7428d9e91ea",
            "value": "Downloading: 100%"
          }
        },
        "255b4359c78c436eb1e7be189b3982b0": {
          "model_module": "@jupyter-widgets/controls",
          "model_name": "FloatProgressModel",
          "model_module_version": "1.5.0",
          "state": {
            "_dom_classes": [],
            "_model_module": "@jupyter-widgets/controls",
            "_model_module_version": "1.5.0",
            "_model_name": "FloatProgressModel",
            "_view_count": null,
            "_view_module": "@jupyter-widgets/controls",
            "_view_module_version": "1.5.0",
            "_view_name": "ProgressView",
            "bar_style": "success",
            "description": "",
            "description_tooltip": null,
            "layout": "IPY_MODEL_87fe762ac7a04aea99ce06cd67852387",
            "max": 443,
            "min": 0,
            "orientation": "horizontal",
            "style": "IPY_MODEL_62ddb20294dc475c8e67e441671bd3e5",
            "value": 443
          }
        },
        "c41578d83b134977a115242c2ce9e484": {
          "model_module": "@jupyter-widgets/controls",
          "model_name": "HTMLModel",
          "model_module_version": "1.5.0",
          "state": {
            "_dom_classes": [],
            "_model_module": "@jupyter-widgets/controls",
            "_model_module_version": "1.5.0",
            "_model_name": "HTMLModel",
            "_view_count": null,
            "_view_module": "@jupyter-widgets/controls",
            "_view_module_version": "1.5.0",
            "_view_name": "HTMLView",
            "description": "",
            "description_tooltip": null,
            "layout": "IPY_MODEL_93ed5d2eefeb4b559d5f2c447970f77c",
            "placeholder": "​",
            "style": "IPY_MODEL_2aed90005283433ba00c1e2da9dfd32f",
            "value": " 443/443 [00:00&lt;00:00, 3.47kB/s]"
          }
        },
        "a0687f295f144789a7b03dd5d6fb2c64": {
          "model_module": "@jupyter-widgets/base",
          "model_name": "LayoutModel",
          "model_module_version": "1.2.0",
          "state": {
            "_model_module": "@jupyter-widgets/base",
            "_model_module_version": "1.2.0",
            "_model_name": "LayoutModel",
            "_view_count": null,
            "_view_module": "@jupyter-widgets/base",
            "_view_module_version": "1.2.0",
            "_view_name": "LayoutView",
            "align_content": null,
            "align_items": null,
            "align_self": null,
            "border": null,
            "bottom": null,
            "display": null,
            "flex": null,
            "flex_flow": null,
            "grid_area": null,
            "grid_auto_columns": null,
            "grid_auto_flow": null,
            "grid_auto_rows": null,
            "grid_column": null,
            "grid_gap": null,
            "grid_row": null,
            "grid_template_areas": null,
            "grid_template_columns": null,
            "grid_template_rows": null,
            "height": null,
            "justify_content": null,
            "justify_items": null,
            "left": null,
            "margin": null,
            "max_height": null,
            "max_width": null,
            "min_height": null,
            "min_width": null,
            "object_fit": null,
            "object_position": null,
            "order": null,
            "overflow": null,
            "overflow_x": null,
            "overflow_y": null,
            "padding": null,
            "right": null,
            "top": null,
            "visibility": null,
            "width": null
          }
        },
        "b5809368a61d4227a48c4540cea89050": {
          "model_module": "@jupyter-widgets/base",
          "model_name": "LayoutModel",
          "model_module_version": "1.2.0",
          "state": {
            "_model_module": "@jupyter-widgets/base",
            "_model_module_version": "1.2.0",
            "_model_name": "LayoutModel",
            "_view_count": null,
            "_view_module": "@jupyter-widgets/base",
            "_view_module_version": "1.2.0",
            "_view_name": "LayoutView",
            "align_content": null,
            "align_items": null,
            "align_self": null,
            "border": null,
            "bottom": null,
            "display": null,
            "flex": null,
            "flex_flow": null,
            "grid_area": null,
            "grid_auto_columns": null,
            "grid_auto_flow": null,
            "grid_auto_rows": null,
            "grid_column": null,
            "grid_gap": null,
            "grid_row": null,
            "grid_template_areas": null,
            "grid_template_columns": null,
            "grid_template_rows": null,
            "height": null,
            "justify_content": null,
            "justify_items": null,
            "left": null,
            "margin": null,
            "max_height": null,
            "max_width": null,
            "min_height": null,
            "min_width": null,
            "object_fit": null,
            "object_position": null,
            "order": null,
            "overflow": null,
            "overflow_x": null,
            "overflow_y": null,
            "padding": null,
            "right": null,
            "top": null,
            "visibility": null,
            "width": null
          }
        },
        "63335a57af384c2d8945d7428d9e91ea": {
          "model_module": "@jupyter-widgets/controls",
          "model_name": "DescriptionStyleModel",
          "model_module_version": "1.5.0",
          "state": {
            "_model_module": "@jupyter-widgets/controls",
            "_model_module_version": "1.5.0",
            "_model_name": "DescriptionStyleModel",
            "_view_count": null,
            "_view_module": "@jupyter-widgets/base",
            "_view_module_version": "1.2.0",
            "_view_name": "StyleView",
            "description_width": ""
          }
        },
        "87fe762ac7a04aea99ce06cd67852387": {
          "model_module": "@jupyter-widgets/base",
          "model_name": "LayoutModel",
          "model_module_version": "1.2.0",
          "state": {
            "_model_module": "@jupyter-widgets/base",
            "_model_module_version": "1.2.0",
            "_model_name": "LayoutModel",
            "_view_count": null,
            "_view_module": "@jupyter-widgets/base",
            "_view_module_version": "1.2.0",
            "_view_name": "LayoutView",
            "align_content": null,
            "align_items": null,
            "align_self": null,
            "border": null,
            "bottom": null,
            "display": null,
            "flex": null,
            "flex_flow": null,
            "grid_area": null,
            "grid_auto_columns": null,
            "grid_auto_flow": null,
            "grid_auto_rows": null,
            "grid_column": null,
            "grid_gap": null,
            "grid_row": null,
            "grid_template_areas": null,
            "grid_template_columns": null,
            "grid_template_rows": null,
            "height": null,
            "justify_content": null,
            "justify_items": null,
            "left": null,
            "margin": null,
            "max_height": null,
            "max_width": null,
            "min_height": null,
            "min_width": null,
            "object_fit": null,
            "object_position": null,
            "order": null,
            "overflow": null,
            "overflow_x": null,
            "overflow_y": null,
            "padding": null,
            "right": null,
            "top": null,
            "visibility": null,
            "width": null
          }
        },
        "62ddb20294dc475c8e67e441671bd3e5": {
          "model_module": "@jupyter-widgets/controls",
          "model_name": "ProgressStyleModel",
          "model_module_version": "1.5.0",
          "state": {
            "_model_module": "@jupyter-widgets/controls",
            "_model_module_version": "1.5.0",
            "_model_name": "ProgressStyleModel",
            "_view_count": null,
            "_view_module": "@jupyter-widgets/base",
            "_view_module_version": "1.2.0",
            "_view_name": "StyleView",
            "bar_color": null,
            "description_width": ""
          }
        },
        "93ed5d2eefeb4b559d5f2c447970f77c": {
          "model_module": "@jupyter-widgets/base",
          "model_name": "LayoutModel",
          "model_module_version": "1.2.0",
          "state": {
            "_model_module": "@jupyter-widgets/base",
            "_model_module_version": "1.2.0",
            "_model_name": "LayoutModel",
            "_view_count": null,
            "_view_module": "@jupyter-widgets/base",
            "_view_module_version": "1.2.0",
            "_view_name": "LayoutView",
            "align_content": null,
            "align_items": null,
            "align_self": null,
            "border": null,
            "bottom": null,
            "display": null,
            "flex": null,
            "flex_flow": null,
            "grid_area": null,
            "grid_auto_columns": null,
            "grid_auto_flow": null,
            "grid_auto_rows": null,
            "grid_column": null,
            "grid_gap": null,
            "grid_row": null,
            "grid_template_areas": null,
            "grid_template_columns": null,
            "grid_template_rows": null,
            "height": null,
            "justify_content": null,
            "justify_items": null,
            "left": null,
            "margin": null,
            "max_height": null,
            "max_width": null,
            "min_height": null,
            "min_width": null,
            "object_fit": null,
            "object_position": null,
            "order": null,
            "overflow": null,
            "overflow_x": null,
            "overflow_y": null,
            "padding": null,
            "right": null,
            "top": null,
            "visibility": null,
            "width": null
          }
        },
        "2aed90005283433ba00c1e2da9dfd32f": {
          "model_module": "@jupyter-widgets/controls",
          "model_name": "DescriptionStyleModel",
          "model_module_version": "1.5.0",
          "state": {
            "_model_module": "@jupyter-widgets/controls",
            "_model_module_version": "1.5.0",
            "_model_name": "DescriptionStyleModel",
            "_view_count": null,
            "_view_module": "@jupyter-widgets/base",
            "_view_module_version": "1.2.0",
            "_view_name": "StyleView",
            "description_width": ""
          }
        },
        "8982316f0f6143feb16e68cc3fe34c1c": {
          "model_module": "@jupyter-widgets/controls",
          "model_name": "HBoxModel",
          "model_module_version": "1.5.0",
          "state": {
            "_dom_classes": [],
            "_model_module": "@jupyter-widgets/controls",
            "_model_module_version": "1.5.0",
            "_model_name": "HBoxModel",
            "_view_count": null,
            "_view_module": "@jupyter-widgets/controls",
            "_view_module_version": "1.5.0",
            "_view_name": "HBoxView",
            "box_style": "",
            "children": [
              "IPY_MODEL_a591f2cb080946c88652feec266da604",
              "IPY_MODEL_c0d9926ae63540ac822f69357e0f6302",
              "IPY_MODEL_e6aac8f546c04b2dbc3344f21ec09782"
            ],
            "layout": "IPY_MODEL_8f9bca691dae441f802622cb019a169e"
          }
        },
        "a591f2cb080946c88652feec266da604": {
          "model_module": "@jupyter-widgets/controls",
          "model_name": "HTMLModel",
          "model_module_version": "1.5.0",
          "state": {
            "_dom_classes": [],
            "_model_module": "@jupyter-widgets/controls",
            "_model_module_version": "1.5.0",
            "_model_name": "HTMLModel",
            "_view_count": null,
            "_view_module": "@jupyter-widgets/controls",
            "_view_module_version": "1.5.0",
            "_view_name": "HTMLView",
            "description": "",
            "description_tooltip": null,
            "layout": "IPY_MODEL_0cf67f6bb56c4343aca4e61b98e699aa",
            "placeholder": "​",
            "style": "IPY_MODEL_fce575ebfcef48cc8f7ba12258b712d7",
            "value": "Downloading: 100%"
          }
        },
        "c0d9926ae63540ac822f69357e0f6302": {
          "model_module": "@jupyter-widgets/controls",
          "model_name": "FloatProgressModel",
          "model_module_version": "1.5.0",
          "state": {
            "_dom_classes": [],
            "_model_module": "@jupyter-widgets/controls",
            "_model_module_version": "1.5.0",
            "_model_name": "FloatProgressModel",
            "_view_count": null,
            "_view_module": "@jupyter-widgets/controls",
            "_view_module_version": "1.5.0",
            "_view_name": "ProgressView",
            "bar_style": "success",
            "description": "",
            "description_tooltip": null,
            "layout": "IPY_MODEL_806e6f635c0e42569addf510249976e3",
            "max": 1340675298,
            "min": 0,
            "orientation": "horizontal",
            "style": "IPY_MODEL_95dc1c2a71164769b3dcae806bc79ca1",
            "value": 1340675298
          }
        },
        "e6aac8f546c04b2dbc3344f21ec09782": {
          "model_module": "@jupyter-widgets/controls",
          "model_name": "HTMLModel",
          "model_module_version": "1.5.0",
          "state": {
            "_dom_classes": [],
            "_model_module": "@jupyter-widgets/controls",
            "_model_module_version": "1.5.0",
            "_model_name": "HTMLModel",
            "_view_count": null,
            "_view_module": "@jupyter-widgets/controls",
            "_view_module_version": "1.5.0",
            "_view_name": "HTMLView",
            "description": "",
            "description_tooltip": null,
            "layout": "IPY_MODEL_e3610214675e4d97ba27e05e479ac515",
            "placeholder": "​",
            "style": "IPY_MODEL_7390a0b6fb0d4fe3bf44742d2dd5fc41",
            "value": " 1.25G/1.25G [00:41&lt;00:00, 32.6MB/s]"
          }
        },
        "8f9bca691dae441f802622cb019a169e": {
          "model_module": "@jupyter-widgets/base",
          "model_name": "LayoutModel",
          "model_module_version": "1.2.0",
          "state": {
            "_model_module": "@jupyter-widgets/base",
            "_model_module_version": "1.2.0",
            "_model_name": "LayoutModel",
            "_view_count": null,
            "_view_module": "@jupyter-widgets/base",
            "_view_module_version": "1.2.0",
            "_view_name": "LayoutView",
            "align_content": null,
            "align_items": null,
            "align_self": null,
            "border": null,
            "bottom": null,
            "display": null,
            "flex": null,
            "flex_flow": null,
            "grid_area": null,
            "grid_auto_columns": null,
            "grid_auto_flow": null,
            "grid_auto_rows": null,
            "grid_column": null,
            "grid_gap": null,
            "grid_row": null,
            "grid_template_areas": null,
            "grid_template_columns": null,
            "grid_template_rows": null,
            "height": null,
            "justify_content": null,
            "justify_items": null,
            "left": null,
            "margin": null,
            "max_height": null,
            "max_width": null,
            "min_height": null,
            "min_width": null,
            "object_fit": null,
            "object_position": null,
            "order": null,
            "overflow": null,
            "overflow_x": null,
            "overflow_y": null,
            "padding": null,
            "right": null,
            "top": null,
            "visibility": null,
            "width": null
          }
        },
        "0cf67f6bb56c4343aca4e61b98e699aa": {
          "model_module": "@jupyter-widgets/base",
          "model_name": "LayoutModel",
          "model_module_version": "1.2.0",
          "state": {
            "_model_module": "@jupyter-widgets/base",
            "_model_module_version": "1.2.0",
            "_model_name": "LayoutModel",
            "_view_count": null,
            "_view_module": "@jupyter-widgets/base",
            "_view_module_version": "1.2.0",
            "_view_name": "LayoutView",
            "align_content": null,
            "align_items": null,
            "align_self": null,
            "border": null,
            "bottom": null,
            "display": null,
            "flex": null,
            "flex_flow": null,
            "grid_area": null,
            "grid_auto_columns": null,
            "grid_auto_flow": null,
            "grid_auto_rows": null,
            "grid_column": null,
            "grid_gap": null,
            "grid_row": null,
            "grid_template_areas": null,
            "grid_template_columns": null,
            "grid_template_rows": null,
            "height": null,
            "justify_content": null,
            "justify_items": null,
            "left": null,
            "margin": null,
            "max_height": null,
            "max_width": null,
            "min_height": null,
            "min_width": null,
            "object_fit": null,
            "object_position": null,
            "order": null,
            "overflow": null,
            "overflow_x": null,
            "overflow_y": null,
            "padding": null,
            "right": null,
            "top": null,
            "visibility": null,
            "width": null
          }
        },
        "fce575ebfcef48cc8f7ba12258b712d7": {
          "model_module": "@jupyter-widgets/controls",
          "model_name": "DescriptionStyleModel",
          "model_module_version": "1.5.0",
          "state": {
            "_model_module": "@jupyter-widgets/controls",
            "_model_module_version": "1.5.0",
            "_model_name": "DescriptionStyleModel",
            "_view_count": null,
            "_view_module": "@jupyter-widgets/base",
            "_view_module_version": "1.2.0",
            "_view_name": "StyleView",
            "description_width": ""
          }
        },
        "806e6f635c0e42569addf510249976e3": {
          "model_module": "@jupyter-widgets/base",
          "model_name": "LayoutModel",
          "model_module_version": "1.2.0",
          "state": {
            "_model_module": "@jupyter-widgets/base",
            "_model_module_version": "1.2.0",
            "_model_name": "LayoutModel",
            "_view_count": null,
            "_view_module": "@jupyter-widgets/base",
            "_view_module_version": "1.2.0",
            "_view_name": "LayoutView",
            "align_content": null,
            "align_items": null,
            "align_self": null,
            "border": null,
            "bottom": null,
            "display": null,
            "flex": null,
            "flex_flow": null,
            "grid_area": null,
            "grid_auto_columns": null,
            "grid_auto_flow": null,
            "grid_auto_rows": null,
            "grid_column": null,
            "grid_gap": null,
            "grid_row": null,
            "grid_template_areas": null,
            "grid_template_columns": null,
            "grid_template_rows": null,
            "height": null,
            "justify_content": null,
            "justify_items": null,
            "left": null,
            "margin": null,
            "max_height": null,
            "max_width": null,
            "min_height": null,
            "min_width": null,
            "object_fit": null,
            "object_position": null,
            "order": null,
            "overflow": null,
            "overflow_x": null,
            "overflow_y": null,
            "padding": null,
            "right": null,
            "top": null,
            "visibility": null,
            "width": null
          }
        },
        "95dc1c2a71164769b3dcae806bc79ca1": {
          "model_module": "@jupyter-widgets/controls",
          "model_name": "ProgressStyleModel",
          "model_module_version": "1.5.0",
          "state": {
            "_model_module": "@jupyter-widgets/controls",
            "_model_module_version": "1.5.0",
            "_model_name": "ProgressStyleModel",
            "_view_count": null,
            "_view_module": "@jupyter-widgets/base",
            "_view_module_version": "1.2.0",
            "_view_name": "StyleView",
            "bar_color": null,
            "description_width": ""
          }
        },
        "e3610214675e4d97ba27e05e479ac515": {
          "model_module": "@jupyter-widgets/base",
          "model_name": "LayoutModel",
          "model_module_version": "1.2.0",
          "state": {
            "_model_module": "@jupyter-widgets/base",
            "_model_module_version": "1.2.0",
            "_model_name": "LayoutModel",
            "_view_count": null,
            "_view_module": "@jupyter-widgets/base",
            "_view_module_version": "1.2.0",
            "_view_name": "LayoutView",
            "align_content": null,
            "align_items": null,
            "align_self": null,
            "border": null,
            "bottom": null,
            "display": null,
            "flex": null,
            "flex_flow": null,
            "grid_area": null,
            "grid_auto_columns": null,
            "grid_auto_flow": null,
            "grid_auto_rows": null,
            "grid_column": null,
            "grid_gap": null,
            "grid_row": null,
            "grid_template_areas": null,
            "grid_template_columns": null,
            "grid_template_rows": null,
            "height": null,
            "justify_content": null,
            "justify_items": null,
            "left": null,
            "margin": null,
            "max_height": null,
            "max_width": null,
            "min_height": null,
            "min_width": null,
            "object_fit": null,
            "object_position": null,
            "order": null,
            "overflow": null,
            "overflow_x": null,
            "overflow_y": null,
            "padding": null,
            "right": null,
            "top": null,
            "visibility": null,
            "width": null
          }
        },
        "7390a0b6fb0d4fe3bf44742d2dd5fc41": {
          "model_module": "@jupyter-widgets/controls",
          "model_name": "DescriptionStyleModel",
          "model_module_version": "1.5.0",
          "state": {
            "_model_module": "@jupyter-widgets/controls",
            "_model_module_version": "1.5.0",
            "_model_name": "DescriptionStyleModel",
            "_view_count": null,
            "_view_module": "@jupyter-widgets/base",
            "_view_module_version": "1.2.0",
            "_view_name": "StyleView",
            "description_width": ""
          }
        },
        "e04460e6d765414c926b636f70b4d662": {
          "model_module": "@jupyter-widgets/controls",
          "model_name": "HBoxModel",
          "model_module_version": "1.5.0",
          "state": {
            "_dom_classes": [],
            "_model_module": "@jupyter-widgets/controls",
            "_model_module_version": "1.5.0",
            "_model_name": "HBoxModel",
            "_view_count": null,
            "_view_module": "@jupyter-widgets/controls",
            "_view_module_version": "1.5.0",
            "_view_name": "HBoxView",
            "box_style": "",
            "children": [
              "IPY_MODEL_b170caa7c2f0453d9717e9c471672521",
              "IPY_MODEL_0b245f0646844050b08361672b5c973d",
              "IPY_MODEL_e6b4b307cf324704a867889f4fd7dd6f"
            ],
            "layout": "IPY_MODEL_0d3bceb0765047c0878e3fc9e6eb02fa"
          }
        },
        "b170caa7c2f0453d9717e9c471672521": {
          "model_module": "@jupyter-widgets/controls",
          "model_name": "HTMLModel",
          "model_module_version": "1.5.0",
          "state": {
            "_dom_classes": [],
            "_model_module": "@jupyter-widgets/controls",
            "_model_module_version": "1.5.0",
            "_model_name": "HTMLModel",
            "_view_count": null,
            "_view_module": "@jupyter-widgets/controls",
            "_view_module_version": "1.5.0",
            "_view_name": "HTMLView",
            "description": "",
            "description_tooltip": null,
            "layout": "IPY_MODEL_a1b7f9889aed40b2881dc82cfb726d35",
            "placeholder": "​",
            "style": "IPY_MODEL_530580cfe88f48538ec6ba707a79e2cb",
            "value": "Downloading: 100%"
          }
        },
        "0b245f0646844050b08361672b5c973d": {
          "model_module": "@jupyter-widgets/controls",
          "model_name": "FloatProgressModel",
          "model_module_version": "1.5.0",
          "state": {
            "_dom_classes": [],
            "_model_module": "@jupyter-widgets/controls",
            "_model_module_version": "1.5.0",
            "_model_name": "FloatProgressModel",
            "_view_count": null,
            "_view_module": "@jupyter-widgets/controls",
            "_view_module_version": "1.5.0",
            "_view_name": "ProgressView",
            "bar_style": "success",
            "description": "",
            "description_tooltip": null,
            "layout": "IPY_MODEL_c65a2f5566704116bc19513e48bc3c56",
            "max": 28,
            "min": 0,
            "orientation": "horizontal",
            "style": "IPY_MODEL_7cb7f97343144e20944c279807c7a809",
            "value": 28
          }
        },
        "e6b4b307cf324704a867889f4fd7dd6f": {
          "model_module": "@jupyter-widgets/controls",
          "model_name": "HTMLModel",
          "model_module_version": "1.5.0",
          "state": {
            "_dom_classes": [],
            "_model_module": "@jupyter-widgets/controls",
            "_model_module_version": "1.5.0",
            "_model_name": "HTMLModel",
            "_view_count": null,
            "_view_module": "@jupyter-widgets/controls",
            "_view_module_version": "1.5.0",
            "_view_name": "HTMLView",
            "description": "",
            "description_tooltip": null,
            "layout": "IPY_MODEL_336ae5d5e8e1441a9f94edf7cf8168e4",
            "placeholder": "​",
            "style": "IPY_MODEL_09127d2efc7244b499c70938f8d4f4d9",
            "value": " 28.0/28.0 [00:00&lt;00:00, 672B/s]"
          }
        },
        "0d3bceb0765047c0878e3fc9e6eb02fa": {
          "model_module": "@jupyter-widgets/base",
          "model_name": "LayoutModel",
          "model_module_version": "1.2.0",
          "state": {
            "_model_module": "@jupyter-widgets/base",
            "_model_module_version": "1.2.0",
            "_model_name": "LayoutModel",
            "_view_count": null,
            "_view_module": "@jupyter-widgets/base",
            "_view_module_version": "1.2.0",
            "_view_name": "LayoutView",
            "align_content": null,
            "align_items": null,
            "align_self": null,
            "border": null,
            "bottom": null,
            "display": null,
            "flex": null,
            "flex_flow": null,
            "grid_area": null,
            "grid_auto_columns": null,
            "grid_auto_flow": null,
            "grid_auto_rows": null,
            "grid_column": null,
            "grid_gap": null,
            "grid_row": null,
            "grid_template_areas": null,
            "grid_template_columns": null,
            "grid_template_rows": null,
            "height": null,
            "justify_content": null,
            "justify_items": null,
            "left": null,
            "margin": null,
            "max_height": null,
            "max_width": null,
            "min_height": null,
            "min_width": null,
            "object_fit": null,
            "object_position": null,
            "order": null,
            "overflow": null,
            "overflow_x": null,
            "overflow_y": null,
            "padding": null,
            "right": null,
            "top": null,
            "visibility": null,
            "width": null
          }
        },
        "a1b7f9889aed40b2881dc82cfb726d35": {
          "model_module": "@jupyter-widgets/base",
          "model_name": "LayoutModel",
          "model_module_version": "1.2.0",
          "state": {
            "_model_module": "@jupyter-widgets/base",
            "_model_module_version": "1.2.0",
            "_model_name": "LayoutModel",
            "_view_count": null,
            "_view_module": "@jupyter-widgets/base",
            "_view_module_version": "1.2.0",
            "_view_name": "LayoutView",
            "align_content": null,
            "align_items": null,
            "align_self": null,
            "border": null,
            "bottom": null,
            "display": null,
            "flex": null,
            "flex_flow": null,
            "grid_area": null,
            "grid_auto_columns": null,
            "grid_auto_flow": null,
            "grid_auto_rows": null,
            "grid_column": null,
            "grid_gap": null,
            "grid_row": null,
            "grid_template_areas": null,
            "grid_template_columns": null,
            "grid_template_rows": null,
            "height": null,
            "justify_content": null,
            "justify_items": null,
            "left": null,
            "margin": null,
            "max_height": null,
            "max_width": null,
            "min_height": null,
            "min_width": null,
            "object_fit": null,
            "object_position": null,
            "order": null,
            "overflow": null,
            "overflow_x": null,
            "overflow_y": null,
            "padding": null,
            "right": null,
            "top": null,
            "visibility": null,
            "width": null
          }
        },
        "530580cfe88f48538ec6ba707a79e2cb": {
          "model_module": "@jupyter-widgets/controls",
          "model_name": "DescriptionStyleModel",
          "model_module_version": "1.5.0",
          "state": {
            "_model_module": "@jupyter-widgets/controls",
            "_model_module_version": "1.5.0",
            "_model_name": "DescriptionStyleModel",
            "_view_count": null,
            "_view_module": "@jupyter-widgets/base",
            "_view_module_version": "1.2.0",
            "_view_name": "StyleView",
            "description_width": ""
          }
        },
        "c65a2f5566704116bc19513e48bc3c56": {
          "model_module": "@jupyter-widgets/base",
          "model_name": "LayoutModel",
          "model_module_version": "1.2.0",
          "state": {
            "_model_module": "@jupyter-widgets/base",
            "_model_module_version": "1.2.0",
            "_model_name": "LayoutModel",
            "_view_count": null,
            "_view_module": "@jupyter-widgets/base",
            "_view_module_version": "1.2.0",
            "_view_name": "LayoutView",
            "align_content": null,
            "align_items": null,
            "align_self": null,
            "border": null,
            "bottom": null,
            "display": null,
            "flex": null,
            "flex_flow": null,
            "grid_area": null,
            "grid_auto_columns": null,
            "grid_auto_flow": null,
            "grid_auto_rows": null,
            "grid_column": null,
            "grid_gap": null,
            "grid_row": null,
            "grid_template_areas": null,
            "grid_template_columns": null,
            "grid_template_rows": null,
            "height": null,
            "justify_content": null,
            "justify_items": null,
            "left": null,
            "margin": null,
            "max_height": null,
            "max_width": null,
            "min_height": null,
            "min_width": null,
            "object_fit": null,
            "object_position": null,
            "order": null,
            "overflow": null,
            "overflow_x": null,
            "overflow_y": null,
            "padding": null,
            "right": null,
            "top": null,
            "visibility": null,
            "width": null
          }
        },
        "7cb7f97343144e20944c279807c7a809": {
          "model_module": "@jupyter-widgets/controls",
          "model_name": "ProgressStyleModel",
          "model_module_version": "1.5.0",
          "state": {
            "_model_module": "@jupyter-widgets/controls",
            "_model_module_version": "1.5.0",
            "_model_name": "ProgressStyleModel",
            "_view_count": null,
            "_view_module": "@jupyter-widgets/base",
            "_view_module_version": "1.2.0",
            "_view_name": "StyleView",
            "bar_color": null,
            "description_width": ""
          }
        },
        "336ae5d5e8e1441a9f94edf7cf8168e4": {
          "model_module": "@jupyter-widgets/base",
          "model_name": "LayoutModel",
          "model_module_version": "1.2.0",
          "state": {
            "_model_module": "@jupyter-widgets/base",
            "_model_module_version": "1.2.0",
            "_model_name": "LayoutModel",
            "_view_count": null,
            "_view_module": "@jupyter-widgets/base",
            "_view_module_version": "1.2.0",
            "_view_name": "LayoutView",
            "align_content": null,
            "align_items": null,
            "align_self": null,
            "border": null,
            "bottom": null,
            "display": null,
            "flex": null,
            "flex_flow": null,
            "grid_area": null,
            "grid_auto_columns": null,
            "grid_auto_flow": null,
            "grid_auto_rows": null,
            "grid_column": null,
            "grid_gap": null,
            "grid_row": null,
            "grid_template_areas": null,
            "grid_template_columns": null,
            "grid_template_rows": null,
            "height": null,
            "justify_content": null,
            "justify_items": null,
            "left": null,
            "margin": null,
            "max_height": null,
            "max_width": null,
            "min_height": null,
            "min_width": null,
            "object_fit": null,
            "object_position": null,
            "order": null,
            "overflow": null,
            "overflow_x": null,
            "overflow_y": null,
            "padding": null,
            "right": null,
            "top": null,
            "visibility": null,
            "width": null
          }
        },
        "09127d2efc7244b499c70938f8d4f4d9": {
          "model_module": "@jupyter-widgets/controls",
          "model_name": "DescriptionStyleModel",
          "model_module_version": "1.5.0",
          "state": {
            "_model_module": "@jupyter-widgets/controls",
            "_model_module_version": "1.5.0",
            "_model_name": "DescriptionStyleModel",
            "_view_count": null,
            "_view_module": "@jupyter-widgets/base",
            "_view_module_version": "1.2.0",
            "_view_name": "StyleView",
            "description_width": ""
          }
        },
        "de5387925ef94f0d90522088807fd515": {
          "model_module": "@jupyter-widgets/controls",
          "model_name": "HBoxModel",
          "model_module_version": "1.5.0",
          "state": {
            "_dom_classes": [],
            "_model_module": "@jupyter-widgets/controls",
            "_model_module_version": "1.5.0",
            "_model_name": "HBoxModel",
            "_view_count": null,
            "_view_module": "@jupyter-widgets/controls",
            "_view_module_version": "1.5.0",
            "_view_name": "HBoxView",
            "box_style": "",
            "children": [
              "IPY_MODEL_8a72f0743ebb49f785baf022e9ceb722",
              "IPY_MODEL_eb72c8e5a5774a808f4fd5c37ff2b705",
              "IPY_MODEL_e3e804e994c7439aa757aacdddffacb0"
            ],
            "layout": "IPY_MODEL_71b6eea8ac654cc4a7c5c9cb1489295a"
          }
        },
        "8a72f0743ebb49f785baf022e9ceb722": {
          "model_module": "@jupyter-widgets/controls",
          "model_name": "HTMLModel",
          "model_module_version": "1.5.0",
          "state": {
            "_dom_classes": [],
            "_model_module": "@jupyter-widgets/controls",
            "_model_module_version": "1.5.0",
            "_model_name": "HTMLModel",
            "_view_count": null,
            "_view_module": "@jupyter-widgets/controls",
            "_view_module_version": "1.5.0",
            "_view_name": "HTMLView",
            "description": "",
            "description_tooltip": null,
            "layout": "IPY_MODEL_5f02abe2562d4310930cdecf86f4122b",
            "placeholder": "​",
            "style": "IPY_MODEL_062060d978fe4205a742f855d95e26e5",
            "value": "Downloading: 100%"
          }
        },
        "eb72c8e5a5774a808f4fd5c37ff2b705": {
          "model_module": "@jupyter-widgets/controls",
          "model_name": "FloatProgressModel",
          "model_module_version": "1.5.0",
          "state": {
            "_dom_classes": [],
            "_model_module": "@jupyter-widgets/controls",
            "_model_module_version": "1.5.0",
            "_model_name": "FloatProgressModel",
            "_view_count": null,
            "_view_module": "@jupyter-widgets/controls",
            "_view_module_version": "1.5.0",
            "_view_name": "ProgressView",
            "bar_style": "success",
            "description": "",
            "description_tooltip": null,
            "layout": "IPY_MODEL_f11d7e9734e74d38871cb7bbb44af8e4",
            "max": 231508,
            "min": 0,
            "orientation": "horizontal",
            "style": "IPY_MODEL_d46ac21143be4807a39beb4842e39437",
            "value": 231508
          }
        },
        "e3e804e994c7439aa757aacdddffacb0": {
          "model_module": "@jupyter-widgets/controls",
          "model_name": "HTMLModel",
          "model_module_version": "1.5.0",
          "state": {
            "_dom_classes": [],
            "_model_module": "@jupyter-widgets/controls",
            "_model_module_version": "1.5.0",
            "_model_name": "HTMLModel",
            "_view_count": null,
            "_view_module": "@jupyter-widgets/controls",
            "_view_module_version": "1.5.0",
            "_view_name": "HTMLView",
            "description": "",
            "description_tooltip": null,
            "layout": "IPY_MODEL_012e028bc5d0438d9746217f9aa99cf4",
            "placeholder": "​",
            "style": "IPY_MODEL_5dc2653f9e8b424aa08965167f39fda5",
            "value": " 226k/226k [00:00&lt;00:00, 9.43kB/s]"
          }
        },
        "71b6eea8ac654cc4a7c5c9cb1489295a": {
          "model_module": "@jupyter-widgets/base",
          "model_name": "LayoutModel",
          "model_module_version": "1.2.0",
          "state": {
            "_model_module": "@jupyter-widgets/base",
            "_model_module_version": "1.2.0",
            "_model_name": "LayoutModel",
            "_view_count": null,
            "_view_module": "@jupyter-widgets/base",
            "_view_module_version": "1.2.0",
            "_view_name": "LayoutView",
            "align_content": null,
            "align_items": null,
            "align_self": null,
            "border": null,
            "bottom": null,
            "display": null,
            "flex": null,
            "flex_flow": null,
            "grid_area": null,
            "grid_auto_columns": null,
            "grid_auto_flow": null,
            "grid_auto_rows": null,
            "grid_column": null,
            "grid_gap": null,
            "grid_row": null,
            "grid_template_areas": null,
            "grid_template_columns": null,
            "grid_template_rows": null,
            "height": null,
            "justify_content": null,
            "justify_items": null,
            "left": null,
            "margin": null,
            "max_height": null,
            "max_width": null,
            "min_height": null,
            "min_width": null,
            "object_fit": null,
            "object_position": null,
            "order": null,
            "overflow": null,
            "overflow_x": null,
            "overflow_y": null,
            "padding": null,
            "right": null,
            "top": null,
            "visibility": null,
            "width": null
          }
        },
        "5f02abe2562d4310930cdecf86f4122b": {
          "model_module": "@jupyter-widgets/base",
          "model_name": "LayoutModel",
          "model_module_version": "1.2.0",
          "state": {
            "_model_module": "@jupyter-widgets/base",
            "_model_module_version": "1.2.0",
            "_model_name": "LayoutModel",
            "_view_count": null,
            "_view_module": "@jupyter-widgets/base",
            "_view_module_version": "1.2.0",
            "_view_name": "LayoutView",
            "align_content": null,
            "align_items": null,
            "align_self": null,
            "border": null,
            "bottom": null,
            "display": null,
            "flex": null,
            "flex_flow": null,
            "grid_area": null,
            "grid_auto_columns": null,
            "grid_auto_flow": null,
            "grid_auto_rows": null,
            "grid_column": null,
            "grid_gap": null,
            "grid_row": null,
            "grid_template_areas": null,
            "grid_template_columns": null,
            "grid_template_rows": null,
            "height": null,
            "justify_content": null,
            "justify_items": null,
            "left": null,
            "margin": null,
            "max_height": null,
            "max_width": null,
            "min_height": null,
            "min_width": null,
            "object_fit": null,
            "object_position": null,
            "order": null,
            "overflow": null,
            "overflow_x": null,
            "overflow_y": null,
            "padding": null,
            "right": null,
            "top": null,
            "visibility": null,
            "width": null
          }
        },
        "062060d978fe4205a742f855d95e26e5": {
          "model_module": "@jupyter-widgets/controls",
          "model_name": "DescriptionStyleModel",
          "model_module_version": "1.5.0",
          "state": {
            "_model_module": "@jupyter-widgets/controls",
            "_model_module_version": "1.5.0",
            "_model_name": "DescriptionStyleModel",
            "_view_count": null,
            "_view_module": "@jupyter-widgets/base",
            "_view_module_version": "1.2.0",
            "_view_name": "StyleView",
            "description_width": ""
          }
        },
        "f11d7e9734e74d38871cb7bbb44af8e4": {
          "model_module": "@jupyter-widgets/base",
          "model_name": "LayoutModel",
          "model_module_version": "1.2.0",
          "state": {
            "_model_module": "@jupyter-widgets/base",
            "_model_module_version": "1.2.0",
            "_model_name": "LayoutModel",
            "_view_count": null,
            "_view_module": "@jupyter-widgets/base",
            "_view_module_version": "1.2.0",
            "_view_name": "LayoutView",
            "align_content": null,
            "align_items": null,
            "align_self": null,
            "border": null,
            "bottom": null,
            "display": null,
            "flex": null,
            "flex_flow": null,
            "grid_area": null,
            "grid_auto_columns": null,
            "grid_auto_flow": null,
            "grid_auto_rows": null,
            "grid_column": null,
            "grid_gap": null,
            "grid_row": null,
            "grid_template_areas": null,
            "grid_template_columns": null,
            "grid_template_rows": null,
            "height": null,
            "justify_content": null,
            "justify_items": null,
            "left": null,
            "margin": null,
            "max_height": null,
            "max_width": null,
            "min_height": null,
            "min_width": null,
            "object_fit": null,
            "object_position": null,
            "order": null,
            "overflow": null,
            "overflow_x": null,
            "overflow_y": null,
            "padding": null,
            "right": null,
            "top": null,
            "visibility": null,
            "width": null
          }
        },
        "d46ac21143be4807a39beb4842e39437": {
          "model_module": "@jupyter-widgets/controls",
          "model_name": "ProgressStyleModel",
          "model_module_version": "1.5.0",
          "state": {
            "_model_module": "@jupyter-widgets/controls",
            "_model_module_version": "1.5.0",
            "_model_name": "ProgressStyleModel",
            "_view_count": null,
            "_view_module": "@jupyter-widgets/base",
            "_view_module_version": "1.2.0",
            "_view_name": "StyleView",
            "bar_color": null,
            "description_width": ""
          }
        },
        "012e028bc5d0438d9746217f9aa99cf4": {
          "model_module": "@jupyter-widgets/base",
          "model_name": "LayoutModel",
          "model_module_version": "1.2.0",
          "state": {
            "_model_module": "@jupyter-widgets/base",
            "_model_module_version": "1.2.0",
            "_model_name": "LayoutModel",
            "_view_count": null,
            "_view_module": "@jupyter-widgets/base",
            "_view_module_version": "1.2.0",
            "_view_name": "LayoutView",
            "align_content": null,
            "align_items": null,
            "align_self": null,
            "border": null,
            "bottom": null,
            "display": null,
            "flex": null,
            "flex_flow": null,
            "grid_area": null,
            "grid_auto_columns": null,
            "grid_auto_flow": null,
            "grid_auto_rows": null,
            "grid_column": null,
            "grid_gap": null,
            "grid_row": null,
            "grid_template_areas": null,
            "grid_template_columns": null,
            "grid_template_rows": null,
            "height": null,
            "justify_content": null,
            "justify_items": null,
            "left": null,
            "margin": null,
            "max_height": null,
            "max_width": null,
            "min_height": null,
            "min_width": null,
            "object_fit": null,
            "object_position": null,
            "order": null,
            "overflow": null,
            "overflow_x": null,
            "overflow_y": null,
            "padding": null,
            "right": null,
            "top": null,
            "visibility": null,
            "width": null
          }
        },
        "5dc2653f9e8b424aa08965167f39fda5": {
          "model_module": "@jupyter-widgets/controls",
          "model_name": "DescriptionStyleModel",
          "model_module_version": "1.5.0",
          "state": {
            "_model_module": "@jupyter-widgets/controls",
            "_model_module_version": "1.5.0",
            "_model_name": "DescriptionStyleModel",
            "_view_count": null,
            "_view_module": "@jupyter-widgets/base",
            "_view_module_version": "1.2.0",
            "_view_name": "StyleView",
            "description_width": ""
          }
        },
        "28957230ad304779b3255849297d16d8": {
          "model_module": "@jupyter-widgets/controls",
          "model_name": "HBoxModel",
          "model_module_version": "1.5.0",
          "state": {
            "_dom_classes": [],
            "_model_module": "@jupyter-widgets/controls",
            "_model_module_version": "1.5.0",
            "_model_name": "HBoxModel",
            "_view_count": null,
            "_view_module": "@jupyter-widgets/controls",
            "_view_module_version": "1.5.0",
            "_view_name": "HBoxView",
            "box_style": "",
            "children": [
              "IPY_MODEL_3716caad8325444fa6246870f0f0b10e",
              "IPY_MODEL_7a9d5996b068426bb0dd059788dc6f46",
              "IPY_MODEL_94a20539a43a42069671dd077756c104"
            ],
            "layout": "IPY_MODEL_5fbb4cb0df2744998fc5f4a8345c479a"
          }
        },
        "3716caad8325444fa6246870f0f0b10e": {
          "model_module": "@jupyter-widgets/controls",
          "model_name": "HTMLModel",
          "model_module_version": "1.5.0",
          "state": {
            "_dom_classes": [],
            "_model_module": "@jupyter-widgets/controls",
            "_model_module_version": "1.5.0",
            "_model_name": "HTMLModel",
            "_view_count": null,
            "_view_module": "@jupyter-widgets/controls",
            "_view_module_version": "1.5.0",
            "_view_name": "HTMLView",
            "description": "",
            "description_tooltip": null,
            "layout": "IPY_MODEL_45e8da1da4e34d1e8ac0c4bf56d33aca",
            "placeholder": "​",
            "style": "IPY_MODEL_9e7b1989dcd64bec8ff816bb9b8d1ae5",
            "value": "Downloading: 100%"
          }
        },
        "7a9d5996b068426bb0dd059788dc6f46": {
          "model_module": "@jupyter-widgets/controls",
          "model_name": "FloatProgressModel",
          "model_module_version": "1.5.0",
          "state": {
            "_dom_classes": [],
            "_model_module": "@jupyter-widgets/controls",
            "_model_module_version": "1.5.0",
            "_model_name": "FloatProgressModel",
            "_view_count": null,
            "_view_module": "@jupyter-widgets/controls",
            "_view_module_version": "1.5.0",
            "_view_name": "ProgressView",
            "bar_style": "success",
            "description": "",
            "description_tooltip": null,
            "layout": "IPY_MODEL_d5470dc82713462c9ec167c9d97d3a68",
            "max": 466062,
            "min": 0,
            "orientation": "horizontal",
            "style": "IPY_MODEL_4014364d40744c56a431043183f0109e",
            "value": 466062
          }
        },
        "94a20539a43a42069671dd077756c104": {
          "model_module": "@jupyter-widgets/controls",
          "model_name": "HTMLModel",
          "model_module_version": "1.5.0",
          "state": {
            "_dom_classes": [],
            "_model_module": "@jupyter-widgets/controls",
            "_model_module_version": "1.5.0",
            "_model_name": "HTMLModel",
            "_view_count": null,
            "_view_module": "@jupyter-widgets/controls",
            "_view_module_version": "1.5.0",
            "_view_name": "HTMLView",
            "description": "",
            "description_tooltip": null,
            "layout": "IPY_MODEL_99c4ea4d916e434aa9520887dbb2e015",
            "placeholder": "​",
            "style": "IPY_MODEL_db159dce970c4e4da06de31311625df7",
            "value": " 455k/455k [00:00&lt;00:00, 1.61MB/s]"
          }
        },
        "5fbb4cb0df2744998fc5f4a8345c479a": {
          "model_module": "@jupyter-widgets/base",
          "model_name": "LayoutModel",
          "model_module_version": "1.2.0",
          "state": {
            "_model_module": "@jupyter-widgets/base",
            "_model_module_version": "1.2.0",
            "_model_name": "LayoutModel",
            "_view_count": null,
            "_view_module": "@jupyter-widgets/base",
            "_view_module_version": "1.2.0",
            "_view_name": "LayoutView",
            "align_content": null,
            "align_items": null,
            "align_self": null,
            "border": null,
            "bottom": null,
            "display": null,
            "flex": null,
            "flex_flow": null,
            "grid_area": null,
            "grid_auto_columns": null,
            "grid_auto_flow": null,
            "grid_auto_rows": null,
            "grid_column": null,
            "grid_gap": null,
            "grid_row": null,
            "grid_template_areas": null,
            "grid_template_columns": null,
            "grid_template_rows": null,
            "height": null,
            "justify_content": null,
            "justify_items": null,
            "left": null,
            "margin": null,
            "max_height": null,
            "max_width": null,
            "min_height": null,
            "min_width": null,
            "object_fit": null,
            "object_position": null,
            "order": null,
            "overflow": null,
            "overflow_x": null,
            "overflow_y": null,
            "padding": null,
            "right": null,
            "top": null,
            "visibility": null,
            "width": null
          }
        },
        "45e8da1da4e34d1e8ac0c4bf56d33aca": {
          "model_module": "@jupyter-widgets/base",
          "model_name": "LayoutModel",
          "model_module_version": "1.2.0",
          "state": {
            "_model_module": "@jupyter-widgets/base",
            "_model_module_version": "1.2.0",
            "_model_name": "LayoutModel",
            "_view_count": null,
            "_view_module": "@jupyter-widgets/base",
            "_view_module_version": "1.2.0",
            "_view_name": "LayoutView",
            "align_content": null,
            "align_items": null,
            "align_self": null,
            "border": null,
            "bottom": null,
            "display": null,
            "flex": null,
            "flex_flow": null,
            "grid_area": null,
            "grid_auto_columns": null,
            "grid_auto_flow": null,
            "grid_auto_rows": null,
            "grid_column": null,
            "grid_gap": null,
            "grid_row": null,
            "grid_template_areas": null,
            "grid_template_columns": null,
            "grid_template_rows": null,
            "height": null,
            "justify_content": null,
            "justify_items": null,
            "left": null,
            "margin": null,
            "max_height": null,
            "max_width": null,
            "min_height": null,
            "min_width": null,
            "object_fit": null,
            "object_position": null,
            "order": null,
            "overflow": null,
            "overflow_x": null,
            "overflow_y": null,
            "padding": null,
            "right": null,
            "top": null,
            "visibility": null,
            "width": null
          }
        },
        "9e7b1989dcd64bec8ff816bb9b8d1ae5": {
          "model_module": "@jupyter-widgets/controls",
          "model_name": "DescriptionStyleModel",
          "model_module_version": "1.5.0",
          "state": {
            "_model_module": "@jupyter-widgets/controls",
            "_model_module_version": "1.5.0",
            "_model_name": "DescriptionStyleModel",
            "_view_count": null,
            "_view_module": "@jupyter-widgets/base",
            "_view_module_version": "1.2.0",
            "_view_name": "StyleView",
            "description_width": ""
          }
        },
        "d5470dc82713462c9ec167c9d97d3a68": {
          "model_module": "@jupyter-widgets/base",
          "model_name": "LayoutModel",
          "model_module_version": "1.2.0",
          "state": {
            "_model_module": "@jupyter-widgets/base",
            "_model_module_version": "1.2.0",
            "_model_name": "LayoutModel",
            "_view_count": null,
            "_view_module": "@jupyter-widgets/base",
            "_view_module_version": "1.2.0",
            "_view_name": "LayoutView",
            "align_content": null,
            "align_items": null,
            "align_self": null,
            "border": null,
            "bottom": null,
            "display": null,
            "flex": null,
            "flex_flow": null,
            "grid_area": null,
            "grid_auto_columns": null,
            "grid_auto_flow": null,
            "grid_auto_rows": null,
            "grid_column": null,
            "grid_gap": null,
            "grid_row": null,
            "grid_template_areas": null,
            "grid_template_columns": null,
            "grid_template_rows": null,
            "height": null,
            "justify_content": null,
            "justify_items": null,
            "left": null,
            "margin": null,
            "max_height": null,
            "max_width": null,
            "min_height": null,
            "min_width": null,
            "object_fit": null,
            "object_position": null,
            "order": null,
            "overflow": null,
            "overflow_x": null,
            "overflow_y": null,
            "padding": null,
            "right": null,
            "top": null,
            "visibility": null,
            "width": null
          }
        },
        "4014364d40744c56a431043183f0109e": {
          "model_module": "@jupyter-widgets/controls",
          "model_name": "ProgressStyleModel",
          "model_module_version": "1.5.0",
          "state": {
            "_model_module": "@jupyter-widgets/controls",
            "_model_module_version": "1.5.0",
            "_model_name": "ProgressStyleModel",
            "_view_count": null,
            "_view_module": "@jupyter-widgets/base",
            "_view_module_version": "1.2.0",
            "_view_name": "StyleView",
            "bar_color": null,
            "description_width": ""
          }
        },
        "99c4ea4d916e434aa9520887dbb2e015": {
          "model_module": "@jupyter-widgets/base",
          "model_name": "LayoutModel",
          "model_module_version": "1.2.0",
          "state": {
            "_model_module": "@jupyter-widgets/base",
            "_model_module_version": "1.2.0",
            "_model_name": "LayoutModel",
            "_view_count": null,
            "_view_module": "@jupyter-widgets/base",
            "_view_module_version": "1.2.0",
            "_view_name": "LayoutView",
            "align_content": null,
            "align_items": null,
            "align_self": null,
            "border": null,
            "bottom": null,
            "display": null,
            "flex": null,
            "flex_flow": null,
            "grid_area": null,
            "grid_auto_columns": null,
            "grid_auto_flow": null,
            "grid_auto_rows": null,
            "grid_column": null,
            "grid_gap": null,
            "grid_row": null,
            "grid_template_areas": null,
            "grid_template_columns": null,
            "grid_template_rows": null,
            "height": null,
            "justify_content": null,
            "justify_items": null,
            "left": null,
            "margin": null,
            "max_height": null,
            "max_width": null,
            "min_height": null,
            "min_width": null,
            "object_fit": null,
            "object_position": null,
            "order": null,
            "overflow": null,
            "overflow_x": null,
            "overflow_y": null,
            "padding": null,
            "right": null,
            "top": null,
            "visibility": null,
            "width": null
          }
        },
        "db159dce970c4e4da06de31311625df7": {
          "model_module": "@jupyter-widgets/controls",
          "model_name": "DescriptionStyleModel",
          "model_module_version": "1.5.0",
          "state": {
            "_model_module": "@jupyter-widgets/controls",
            "_model_module_version": "1.5.0",
            "_model_name": "DescriptionStyleModel",
            "_view_count": null,
            "_view_module": "@jupyter-widgets/base",
            "_view_module_version": "1.2.0",
            "_view_name": "StyleView",
            "description_width": ""
          }
        }
      }
    }
  },
  "nbformat": 4,
  "nbformat_minor": 0
}
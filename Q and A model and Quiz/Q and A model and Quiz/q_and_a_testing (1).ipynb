{
  "nbformat": 4,
  "nbformat_minor": 0,
  "metadata": {
    "colab": {
      "name": "q and a testing.ipynb",
      "provenance": [],
      "collapsed_sections": []
    },
    "kernelspec": {
      "name": "python3",
      "display_name": "Python 3"
    },
    "language_info": {
      "name": "python"
    }
  },
  "cells": [
    {
      "cell_type": "code",
      "execution_count": null,
      "metadata": {
        "colab": {
          "base_uri": "https://localhost:8080/"
        },
        "id": "1rg0wDprgYCA",
        "outputId": "6287f793-42fc-4c95-bdb0-949dfc7db972"
      },
      "outputs": [
        {
          "output_type": "stream",
          "name": "stdout",
          "text": [
            "Requirement already satisfied: transformers in /usr/local/lib/python3.7/dist-packages (4.19.2)\n",
            "Requirement already satisfied: filelock in /usr/local/lib/python3.7/dist-packages (from transformers) (3.7.0)\n",
            "Requirement already satisfied: tokenizers!=0.11.3,<0.13,>=0.11.1 in /usr/local/lib/python3.7/dist-packages (from transformers) (0.12.1)\n",
            "Requirement already satisfied: tqdm>=4.27 in /usr/local/lib/python3.7/dist-packages (from transformers) (4.64.0)\n",
            "Requirement already satisfied: pyyaml>=5.1 in /usr/local/lib/python3.7/dist-packages (from transformers) (6.0)\n",
            "Requirement already satisfied: huggingface-hub<1.0,>=0.1.0 in /usr/local/lib/python3.7/dist-packages (from transformers) (0.6.0)\n",
            "Requirement already satisfied: requests in /usr/local/lib/python3.7/dist-packages (from transformers) (2.23.0)\n",
            "Requirement already satisfied: regex!=2019.12.17 in /usr/local/lib/python3.7/dist-packages (from transformers) (2019.12.20)\n",
            "Requirement already satisfied: packaging>=20.0 in /usr/local/lib/python3.7/dist-packages (from transformers) (21.3)\n",
            "Requirement already satisfied: numpy>=1.17 in /usr/local/lib/python3.7/dist-packages (from transformers) (1.21.6)\n",
            "Requirement already satisfied: importlib-metadata in /usr/local/lib/python3.7/dist-packages (from transformers) (4.11.3)\n",
            "Requirement already satisfied: typing-extensions>=3.7.4.3 in /usr/local/lib/python3.7/dist-packages (from huggingface-hub<1.0,>=0.1.0->transformers) (4.2.0)\n",
            "Requirement already satisfied: pyparsing!=3.0.5,>=2.0.2 in /usr/local/lib/python3.7/dist-packages (from packaging>=20.0->transformers) (3.0.9)\n",
            "Requirement already satisfied: zipp>=0.5 in /usr/local/lib/python3.7/dist-packages (from importlib-metadata->transformers) (3.8.0)\n",
            "Requirement already satisfied: chardet<4,>=3.0.2 in /usr/local/lib/python3.7/dist-packages (from requests->transformers) (3.0.4)\n",
            "Requirement already satisfied: certifi>=2017.4.17 in /usr/local/lib/python3.7/dist-packages (from requests->transformers) (2021.10.8)\n",
            "Requirement already satisfied: idna<3,>=2.5 in /usr/local/lib/python3.7/dist-packages (from requests->transformers) (2.10)\n",
            "Requirement already satisfied: urllib3!=1.25.0,!=1.25.1,<1.26,>=1.21.1 in /usr/local/lib/python3.7/dist-packages (from requests->transformers) (1.24.3)\n"
          ]
        }
      ],
      "source": [
        "!pip install transformers"
      ]
    },
    {
      "cell_type": "code",
      "source": [
        "import torch"
      ],
      "metadata": {
        "id": "sZ0-Nr5utZPy"
      },
      "execution_count": null,
      "outputs": []
    },
    {
      "cell_type": "code",
      "source": [
        "\n",
        "from transformers import BertForQuestionAnswering\n",
        "model = BertForQuestionAnswering.from_pretrained('/content/drive/MyDrive/FYP-20222-BATCH2a/bert-qa')"
      ],
      "metadata": {
        "id": "nofuyxQDtdbk"
      },
      "execution_count": null,
      "outputs": []
    },
    {
      "cell_type": "code",
      "source": [
        "from transformers import BertTokenizer\n",
        "\n",
        "tokenizer = BertTokenizer.from_pretrained('bert-large-uncased-whole-word-masking-finetuned-squad')"
      ],
      "metadata": {
        "id": "sPmjCNOjtl7g"
      },
      "execution_count": null,
      "outputs": []
    },
    {
      "cell_type": "code",
      "source": [
        "question = \"Who did Bhishma kill?\"\n",
        "answer_text = \"\"\"\n",
        "\"Dhritarashtra said, 'Thou hast, O son, mentioned the names of those of\n",
        "my side that have been slain in battle by the Pandavas. Tell me now, O\n",
        "Sanjaya, the names of those amongst the Pandavas that have been slain by\n",
        "the people of my side!'\n",
        "\"Sanjaya said, 'The Kuntis possessed of great prowess in battle, endued\n",
        "with great energy and great might, have been slain in fight by Bhishma,\n",
        "with all their kinsmen and advisers. The Narayanas, the Valabhadras, and\n",
        "hundreds of other heroes, all devoted (to the Pandavas) have been slain\n",
        "in battle by the heroic Bhishma. Satyajit, who was equal to the\n",
        "diadem-decked Arjuna himself in battle as regards energy and might, hath\n",
        "been slain in battle by Drona of sure aim. Many mighty bowmen among the\n",
        "Pancalas, all of whom were skilled in battle, encountering Drona, have\n",
        "repaired to Yama's abode. So the two kings Virata and Drupada, both\n",
        "venerable in years, who exerted themselves with great prowess for their\n",
        "ally, have, with their sons, been slain in battle by Drona. That\n",
        "invincible hero, viz., Abhimanyu, who, though a child in years, was still\n",
        "equal in battle to Arjuna or Keshava or Baladeva, O lord, that, warrior\n",
        "who was highly accomplished in battle, after making an immense slaughter\n",
        "of the foe, was at last encompassed by six foremost of car-warriors and\n",
        "slain by them. Unable to resist Arjuna himself, they thus slew Arjuna's\n",
        "son! Deprived of his car, that hero, viz., the son of Subhadra, still\n",
        "stayed in battle, remembering the duties of a Kshatriya. At last, O king,\n",
        "Duhshasana's son slew him on the field. The slayer of the Patachchatras,\n",
        "viz., the handsome son of Amvashtha, surrounded by a large force, had put\n",
        "forth all his prowess for the sake of his allies. \n",
        "\"\"\""
      ],
      "metadata": {
        "id": "TlmB29jEtsjF"
      },
      "execution_count": null,
      "outputs": []
    },
    {
      "cell_type": "code",
      "source": [
        "input_ids = tokenizer.encode(question, answer_text)\n",
        "\n",
        "print('The input has a total of {:} tokens.'.format(len(input_ids)))"
      ],
      "metadata": {
        "colab": {
          "base_uri": "https://localhost:8080/"
        },
        "id": "UHqk6G5Ctwm5",
        "outputId": "79d05243-943e-458f-841b-015216b800ae"
      },
      "execution_count": null,
      "outputs": [
        {
          "output_type": "stream",
          "name": "stdout",
          "text": [
            "The input has a total of 453 tokens.\n"
          ]
        }
      ]
    },
    {
      "cell_type": "code",
      "source": [
        "tokens = tokenizer.convert_ids_to_tokens(input_ids)\n"
      ],
      "metadata": {
        "id": "4fPhflpct6XL"
      },
      "execution_count": null,
      "outputs": []
    },
    {
      "cell_type": "code",
      "source": [
        "\n",
        "sep_index = input_ids.index(tokenizer.sep_token_id)\n",
        "\n",
        "num_seg_a = sep_index + 1\n",
        "\n",
        "num_seg_b = len(input_ids) - num_seg_a\n",
        "\n",
        "segment_ids = [0]*num_seg_a + [1]*num_seg_b\n",
        "\n",
        "assert len(segment_ids) == len(input_ids)"
      ],
      "metadata": {
        "id": "iVs9yPMnt-OZ"
      },
      "execution_count": null,
      "outputs": []
    },
    {
      "cell_type": "code",
      "source": [
        "outputs = model(torch.tensor([input_ids]), \n",
        "                             token_type_ids=torch.tensor([segment_ids]),\n",
        "                             return_dict=True) \n",
        "\n",
        "start_scores = outputs.start_logits\n",
        "end_scores = outputs.end_logits\n"
      ],
      "metadata": {
        "id": "udoC2kk5uBoi"
      },
      "execution_count": null,
      "outputs": []
    },
    {
      "cell_type": "code",
      "source": [
        "answer_start = torch.argmax(start_scores)\n",
        "answer_end = torch.argmax(end_scores)\n"
      ],
      "metadata": {
        "id": "dYUoP6bsucFn"
      },
      "execution_count": null,
      "outputs": []
    },
    {
      "cell_type": "code",
      "source": [
        "\n",
        "answer = tokens[answer_start]\n",
        "\n",
        "for i in range(answer_start + 1, answer_end + 1):\n",
        "    \n",
        "    if tokens[i][0:2] == '##':\n",
        "        answer += tokens[i][2:]\n",
        "    \n",
        "    else:\n",
        "        answer += ' ' + tokens[i]\n",
        "\n",
        "print('Answer: \"' + answer + '\"')"
      ],
      "metadata": {
        "colab": {
          "base_uri": "https://localhost:8080/"
        },
        "id": "D1eM1HA1uMYR",
        "outputId": "1b427ce6-6c2d-460b-9e3e-2cbc74ba2e96"
      },
      "execution_count": null,
      "outputs": [
        {
          "output_type": "stream",
          "name": "stdout",
          "text": [
            "Answer: \"the narayanas , the valabhadras\"\n"
          ]
        }
      ]
    }
  ]
}
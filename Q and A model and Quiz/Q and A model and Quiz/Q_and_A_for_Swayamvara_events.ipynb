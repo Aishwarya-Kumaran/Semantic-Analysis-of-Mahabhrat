{
  "nbformat": 4,
  "nbformat_minor": 0,
  "metadata": {
    "colab": {
      "name": "Q and A for Swayamvara events.ipynb",
      "provenance": [],
      "collapsed_sections": []
    },
    "kernelspec": {
      "name": "python3",
      "display_name": "Python 3"
    },
    "language_info": {
      "name": "python"
    },
    "widgets": {
      "application/vnd.jupyter.widget-state+json": {
        "d5404df6dc9f4a1aaceb350fce1892a7": {
          "model_module": "@jupyter-widgets/controls",
          "model_name": "HBoxModel",
          "model_module_version": "1.5.0",
          "state": {
            "_dom_classes": [],
            "_model_module": "@jupyter-widgets/controls",
            "_model_module_version": "1.5.0",
            "_model_name": "HBoxModel",
            "_view_count": null,
            "_view_module": "@jupyter-widgets/controls",
            "_view_module_version": "1.5.0",
            "_view_name": "HBoxView",
            "box_style": "",
            "children": [
              "IPY_MODEL_3adaa8d8bf154e6c92f5873c89fc01f8",
              "IPY_MODEL_b0e70c8ca5b44f93baa1db2655546d71",
              "IPY_MODEL_2ed35b649dc24c0bbfb8c2b5846eba62"
            ],
            "layout": "IPY_MODEL_cac37e22b96e4e33ba195f26fc97c9ab"
          }
        },
        "3adaa8d8bf154e6c92f5873c89fc01f8": {
          "model_module": "@jupyter-widgets/controls",
          "model_name": "HTMLModel",
          "model_module_version": "1.5.0",
          "state": {
            "_dom_classes": [],
            "_model_module": "@jupyter-widgets/controls",
            "_model_module_version": "1.5.0",
            "_model_name": "HTMLModel",
            "_view_count": null,
            "_view_module": "@jupyter-widgets/controls",
            "_view_module_version": "1.5.0",
            "_view_name": "HTMLView",
            "description": "",
            "description_tooltip": null,
            "layout": "IPY_MODEL_2f753a029cd14241a47aae513181683f",
            "placeholder": "​",
            "style": "IPY_MODEL_2076ac69f7a241d9b3145e6faeccb882",
            "value": "Downloading: 100%"
          }
        },
        "b0e70c8ca5b44f93baa1db2655546d71": {
          "model_module": "@jupyter-widgets/controls",
          "model_name": "FloatProgressModel",
          "model_module_version": "1.5.0",
          "state": {
            "_dom_classes": [],
            "_model_module": "@jupyter-widgets/controls",
            "_model_module_version": "1.5.0",
            "_model_name": "FloatProgressModel",
            "_view_count": null,
            "_view_module": "@jupyter-widgets/controls",
            "_view_module_version": "1.5.0",
            "_view_name": "ProgressView",
            "bar_style": "success",
            "description": "",
            "description_tooltip": null,
            "layout": "IPY_MODEL_cc8fb470f175473da7087981a09dcf74",
            "max": 300,
            "min": 0,
            "orientation": "horizontal",
            "style": "IPY_MODEL_09ddee2eef2143579ab17fb88a3f3a1f",
            "value": 300
          }
        },
        "2ed35b649dc24c0bbfb8c2b5846eba62": {
          "model_module": "@jupyter-widgets/controls",
          "model_name": "HTMLModel",
          "model_module_version": "1.5.0",
          "state": {
            "_dom_classes": [],
            "_model_module": "@jupyter-widgets/controls",
            "_model_module_version": "1.5.0",
            "_model_name": "HTMLModel",
            "_view_count": null,
            "_view_module": "@jupyter-widgets/controls",
            "_view_module_version": "1.5.0",
            "_view_name": "HTMLView",
            "description": "",
            "description_tooltip": null,
            "layout": "IPY_MODEL_602f769a10e5448caa8f4eddd9cdef47",
            "placeholder": "​",
            "style": "IPY_MODEL_8ad0253bd9b84343a44c7b2a40cb2839",
            "value": " 300/300 [00:00&lt;00:00, 2.05kB/s]"
          }
        },
        "cac37e22b96e4e33ba195f26fc97c9ab": {
          "model_module": "@jupyter-widgets/base",
          "model_name": "LayoutModel",
          "model_module_version": "1.2.0",
          "state": {
            "_model_module": "@jupyter-widgets/base",
            "_model_module_version": "1.2.0",
            "_model_name": "LayoutModel",
            "_view_count": null,
            "_view_module": "@jupyter-widgets/base",
            "_view_module_version": "1.2.0",
            "_view_name": "LayoutView",
            "align_content": null,
            "align_items": null,
            "align_self": null,
            "border": null,
            "bottom": null,
            "display": null,
            "flex": null,
            "flex_flow": null,
            "grid_area": null,
            "grid_auto_columns": null,
            "grid_auto_flow": null,
            "grid_auto_rows": null,
            "grid_column": null,
            "grid_gap": null,
            "grid_row": null,
            "grid_template_areas": null,
            "grid_template_columns": null,
            "grid_template_rows": null,
            "height": null,
            "justify_content": null,
            "justify_items": null,
            "left": null,
            "margin": null,
            "max_height": null,
            "max_width": null,
            "min_height": null,
            "min_width": null,
            "object_fit": null,
            "object_position": null,
            "order": null,
            "overflow": null,
            "overflow_x": null,
            "overflow_y": null,
            "padding": null,
            "right": null,
            "top": null,
            "visibility": null,
            "width": null
          }
        },
        "2f753a029cd14241a47aae513181683f": {
          "model_module": "@jupyter-widgets/base",
          "model_name": "LayoutModel",
          "model_module_version": "1.2.0",
          "state": {
            "_model_module": "@jupyter-widgets/base",
            "_model_module_version": "1.2.0",
            "_model_name": "LayoutModel",
            "_view_count": null,
            "_view_module": "@jupyter-widgets/base",
            "_view_module_version": "1.2.0",
            "_view_name": "LayoutView",
            "align_content": null,
            "align_items": null,
            "align_self": null,
            "border": null,
            "bottom": null,
            "display": null,
            "flex": null,
            "flex_flow": null,
            "grid_area": null,
            "grid_auto_columns": null,
            "grid_auto_flow": null,
            "grid_auto_rows": null,
            "grid_column": null,
            "grid_gap": null,
            "grid_row": null,
            "grid_template_areas": null,
            "grid_template_columns": null,
            "grid_template_rows": null,
            "height": null,
            "justify_content": null,
            "justify_items": null,
            "left": null,
            "margin": null,
            "max_height": null,
            "max_width": null,
            "min_height": null,
            "min_width": null,
            "object_fit": null,
            "object_position": null,
            "order": null,
            "overflow": null,
            "overflow_x": null,
            "overflow_y": null,
            "padding": null,
            "right": null,
            "top": null,
            "visibility": null,
            "width": null
          }
        },
        "2076ac69f7a241d9b3145e6faeccb882": {
          "model_module": "@jupyter-widgets/controls",
          "model_name": "DescriptionStyleModel",
          "model_module_version": "1.5.0",
          "state": {
            "_model_module": "@jupyter-widgets/controls",
            "_model_module_version": "1.5.0",
            "_model_name": "DescriptionStyleModel",
            "_view_count": null,
            "_view_module": "@jupyter-widgets/base",
            "_view_module_version": "1.2.0",
            "_view_name": "StyleView",
            "description_width": ""
          }
        },
        "cc8fb470f175473da7087981a09dcf74": {
          "model_module": "@jupyter-widgets/base",
          "model_name": "LayoutModel",
          "model_module_version": "1.2.0",
          "state": {
            "_model_module": "@jupyter-widgets/base",
            "_model_module_version": "1.2.0",
            "_model_name": "LayoutModel",
            "_view_count": null,
            "_view_module": "@jupyter-widgets/base",
            "_view_module_version": "1.2.0",
            "_view_name": "LayoutView",
            "align_content": null,
            "align_items": null,
            "align_self": null,
            "border": null,
            "bottom": null,
            "display": null,
            "flex": null,
            "flex_flow": null,
            "grid_area": null,
            "grid_auto_columns": null,
            "grid_auto_flow": null,
            "grid_auto_rows": null,
            "grid_column": null,
            "grid_gap": null,
            "grid_row": null,
            "grid_template_areas": null,
            "grid_template_columns": null,
            "grid_template_rows": null,
            "height": null,
            "justify_content": null,
            "justify_items": null,
            "left": null,
            "margin": null,
            "max_height": null,
            "max_width": null,
            "min_height": null,
            "min_width": null,
            "object_fit": null,
            "object_position": null,
            "order": null,
            "overflow": null,
            "overflow_x": null,
            "overflow_y": null,
            "padding": null,
            "right": null,
            "top": null,
            "visibility": null,
            "width": null
          }
        },
        "09ddee2eef2143579ab17fb88a3f3a1f": {
          "model_module": "@jupyter-widgets/controls",
          "model_name": "ProgressStyleModel",
          "model_module_version": "1.5.0",
          "state": {
            "_model_module": "@jupyter-widgets/controls",
            "_model_module_version": "1.5.0",
            "_model_name": "ProgressStyleModel",
            "_view_count": null,
            "_view_module": "@jupyter-widgets/base",
            "_view_module_version": "1.2.0",
            "_view_name": "StyleView",
            "bar_color": null,
            "description_width": ""
          }
        },
        "602f769a10e5448caa8f4eddd9cdef47": {
          "model_module": "@jupyter-widgets/base",
          "model_name": "LayoutModel",
          "model_module_version": "1.2.0",
          "state": {
            "_model_module": "@jupyter-widgets/base",
            "_model_module_version": "1.2.0",
            "_model_name": "LayoutModel",
            "_view_count": null,
            "_view_module": "@jupyter-widgets/base",
            "_view_module_version": "1.2.0",
            "_view_name": "LayoutView",
            "align_content": null,
            "align_items": null,
            "align_self": null,
            "border": null,
            "bottom": null,
            "display": null,
            "flex": null,
            "flex_flow": null,
            "grid_area": null,
            "grid_auto_columns": null,
            "grid_auto_flow": null,
            "grid_auto_rows": null,
            "grid_column": null,
            "grid_gap": null,
            "grid_row": null,
            "grid_template_areas": null,
            "grid_template_columns": null,
            "grid_template_rows": null,
            "height": null,
            "justify_content": null,
            "justify_items": null,
            "left": null,
            "margin": null,
            "max_height": null,
            "max_width": null,
            "min_height": null,
            "min_width": null,
            "object_fit": null,
            "object_position": null,
            "order": null,
            "overflow": null,
            "overflow_x": null,
            "overflow_y": null,
            "padding": null,
            "right": null,
            "top": null,
            "visibility": null,
            "width": null
          }
        },
        "8ad0253bd9b84343a44c7b2a40cb2839": {
          "model_module": "@jupyter-widgets/controls",
          "model_name": "DescriptionStyleModel",
          "model_module_version": "1.5.0",
          "state": {
            "_model_module": "@jupyter-widgets/controls",
            "_model_module_version": "1.5.0",
            "_model_name": "DescriptionStyleModel",
            "_view_count": null,
            "_view_module": "@jupyter-widgets/base",
            "_view_module_version": "1.2.0",
            "_view_name": "StyleView",
            "description_width": ""
          }
        },
        "a81381a3ee43492c93ab7c6d541dbfaa": {
          "model_module": "@jupyter-widgets/controls",
          "model_name": "HBoxModel",
          "model_module_version": "1.5.0",
          "state": {
            "_dom_classes": [],
            "_model_module": "@jupyter-widgets/controls",
            "_model_module_version": "1.5.0",
            "_model_name": "HBoxModel",
            "_view_count": null,
            "_view_module": "@jupyter-widgets/controls",
            "_view_module_version": "1.5.0",
            "_view_name": "HBoxView",
            "box_style": "",
            "children": [
              "IPY_MODEL_3c957a1c825049f89a5e0b2aec7ddd8f",
              "IPY_MODEL_781398ee47de486d8bf947a806c45e2b",
              "IPY_MODEL_7b9f219cb8634eba8ecb0598be3def23"
            ],
            "layout": "IPY_MODEL_b98033797b504ab0bf3b910c14570847"
          }
        },
        "3c957a1c825049f89a5e0b2aec7ddd8f": {
          "model_module": "@jupyter-widgets/controls",
          "model_name": "HTMLModel",
          "model_module_version": "1.5.0",
          "state": {
            "_dom_classes": [],
            "_model_module": "@jupyter-widgets/controls",
            "_model_module_version": "1.5.0",
            "_model_name": "HTMLModel",
            "_view_count": null,
            "_view_module": "@jupyter-widgets/controls",
            "_view_module_version": "1.5.0",
            "_view_name": "HTMLView",
            "description": "",
            "description_tooltip": null,
            "layout": "IPY_MODEL_1d7ef10d4eeb462abb2828effd900898",
            "placeholder": "​",
            "style": "IPY_MODEL_437c9cd9fd7b464589620b0e63372d19",
            "value": "Downloading: 100%"
          }
        },
        "781398ee47de486d8bf947a806c45e2b": {
          "model_module": "@jupyter-widgets/controls",
          "model_name": "FloatProgressModel",
          "model_module_version": "1.5.0",
          "state": {
            "_dom_classes": [],
            "_model_module": "@jupyter-widgets/controls",
            "_model_module_version": "1.5.0",
            "_model_name": "FloatProgressModel",
            "_view_count": null,
            "_view_module": "@jupyter-widgets/controls",
            "_view_module_version": "1.5.0",
            "_view_name": "ProgressView",
            "bar_style": "success",
            "description": "",
            "description_tooltip": null,
            "layout": "IPY_MODEL_ca53aa76092e4051b8d089820f8d920e",
            "max": 1626,
            "min": 0,
            "orientation": "horizontal",
            "style": "IPY_MODEL_3c2295ebf2db412ebd861d51bbbe6199",
            "value": 1626
          }
        },
        "7b9f219cb8634eba8ecb0598be3def23": {
          "model_module": "@jupyter-widgets/controls",
          "model_name": "HTMLModel",
          "model_module_version": "1.5.0",
          "state": {
            "_dom_classes": [],
            "_model_module": "@jupyter-widgets/controls",
            "_model_module_version": "1.5.0",
            "_model_name": "HTMLModel",
            "_view_count": null,
            "_view_module": "@jupyter-widgets/controls",
            "_view_module_version": "1.5.0",
            "_view_name": "HTMLView",
            "description": "",
            "description_tooltip": null,
            "layout": "IPY_MODEL_cb8c6c265db4493e8189c2e08ac38e2c",
            "placeholder": "​",
            "style": "IPY_MODEL_cffd1adb604d464083fd189beea95c8d",
            "value": " 1.59k/1.59k [00:00&lt;00:00, 7.16kB/s]"
          }
        },
        "b98033797b504ab0bf3b910c14570847": {
          "model_module": "@jupyter-widgets/base",
          "model_name": "LayoutModel",
          "model_module_version": "1.2.0",
          "state": {
            "_model_module": "@jupyter-widgets/base",
            "_model_module_version": "1.2.0",
            "_model_name": "LayoutModel",
            "_view_count": null,
            "_view_module": "@jupyter-widgets/base",
            "_view_module_version": "1.2.0",
            "_view_name": "LayoutView",
            "align_content": null,
            "align_items": null,
            "align_self": null,
            "border": null,
            "bottom": null,
            "display": null,
            "flex": null,
            "flex_flow": null,
            "grid_area": null,
            "grid_auto_columns": null,
            "grid_auto_flow": null,
            "grid_auto_rows": null,
            "grid_column": null,
            "grid_gap": null,
            "grid_row": null,
            "grid_template_areas": null,
            "grid_template_columns": null,
            "grid_template_rows": null,
            "height": null,
            "justify_content": null,
            "justify_items": null,
            "left": null,
            "margin": null,
            "max_height": null,
            "max_width": null,
            "min_height": null,
            "min_width": null,
            "object_fit": null,
            "object_position": null,
            "order": null,
            "overflow": null,
            "overflow_x": null,
            "overflow_y": null,
            "padding": null,
            "right": null,
            "top": null,
            "visibility": null,
            "width": null
          }
        },
        "1d7ef10d4eeb462abb2828effd900898": {
          "model_module": "@jupyter-widgets/base",
          "model_name": "LayoutModel",
          "model_module_version": "1.2.0",
          "state": {
            "_model_module": "@jupyter-widgets/base",
            "_model_module_version": "1.2.0",
            "_model_name": "LayoutModel",
            "_view_count": null,
            "_view_module": "@jupyter-widgets/base",
            "_view_module_version": "1.2.0",
            "_view_name": "LayoutView",
            "align_content": null,
            "align_items": null,
            "align_self": null,
            "border": null,
            "bottom": null,
            "display": null,
            "flex": null,
            "flex_flow": null,
            "grid_area": null,
            "grid_auto_columns": null,
            "grid_auto_flow": null,
            "grid_auto_rows": null,
            "grid_column": null,
            "grid_gap": null,
            "grid_row": null,
            "grid_template_areas": null,
            "grid_template_columns": null,
            "grid_template_rows": null,
            "height": null,
            "justify_content": null,
            "justify_items": null,
            "left": null,
            "margin": null,
            "max_height": null,
            "max_width": null,
            "min_height": null,
            "min_width": null,
            "object_fit": null,
            "object_position": null,
            "order": null,
            "overflow": null,
            "overflow_x": null,
            "overflow_y": null,
            "padding": null,
            "right": null,
            "top": null,
            "visibility": null,
            "width": null
          }
        },
        "437c9cd9fd7b464589620b0e63372d19": {
          "model_module": "@jupyter-widgets/controls",
          "model_name": "DescriptionStyleModel",
          "model_module_version": "1.5.0",
          "state": {
            "_model_module": "@jupyter-widgets/controls",
            "_model_module_version": "1.5.0",
            "_model_name": "DescriptionStyleModel",
            "_view_count": null,
            "_view_module": "@jupyter-widgets/base",
            "_view_module_version": "1.2.0",
            "_view_name": "StyleView",
            "description_width": ""
          }
        },
        "ca53aa76092e4051b8d089820f8d920e": {
          "model_module": "@jupyter-widgets/base",
          "model_name": "LayoutModel",
          "model_module_version": "1.2.0",
          "state": {
            "_model_module": "@jupyter-widgets/base",
            "_model_module_version": "1.2.0",
            "_model_name": "LayoutModel",
            "_view_count": null,
            "_view_module": "@jupyter-widgets/base",
            "_view_module_version": "1.2.0",
            "_view_name": "LayoutView",
            "align_content": null,
            "align_items": null,
            "align_self": null,
            "border": null,
            "bottom": null,
            "display": null,
            "flex": null,
            "flex_flow": null,
            "grid_area": null,
            "grid_auto_columns": null,
            "grid_auto_flow": null,
            "grid_auto_rows": null,
            "grid_column": null,
            "grid_gap": null,
            "grid_row": null,
            "grid_template_areas": null,
            "grid_template_columns": null,
            "grid_template_rows": null,
            "height": null,
            "justify_content": null,
            "justify_items": null,
            "left": null,
            "margin": null,
            "max_height": null,
            "max_width": null,
            "min_height": null,
            "min_width": null,
            "object_fit": null,
            "object_position": null,
            "order": null,
            "overflow": null,
            "overflow_x": null,
            "overflow_y": null,
            "padding": null,
            "right": null,
            "top": null,
            "visibility": null,
            "width": null
          }
        },
        "3c2295ebf2db412ebd861d51bbbe6199": {
          "model_module": "@jupyter-widgets/controls",
          "model_name": "ProgressStyleModel",
          "model_module_version": "1.5.0",
          "state": {
            "_model_module": "@jupyter-widgets/controls",
            "_model_module_version": "1.5.0",
            "_model_name": "ProgressStyleModel",
            "_view_count": null,
            "_view_module": "@jupyter-widgets/base",
            "_view_module_version": "1.2.0",
            "_view_name": "StyleView",
            "bar_color": null,
            "description_width": ""
          }
        },
        "cb8c6c265db4493e8189c2e08ac38e2c": {
          "model_module": "@jupyter-widgets/base",
          "model_name": "LayoutModel",
          "model_module_version": "1.2.0",
          "state": {
            "_model_module": "@jupyter-widgets/base",
            "_model_module_version": "1.2.0",
            "_model_name": "LayoutModel",
            "_view_count": null,
            "_view_module": "@jupyter-widgets/base",
            "_view_module_version": "1.2.0",
            "_view_name": "LayoutView",
            "align_content": null,
            "align_items": null,
            "align_self": null,
            "border": null,
            "bottom": null,
            "display": null,
            "flex": null,
            "flex_flow": null,
            "grid_area": null,
            "grid_auto_columns": null,
            "grid_auto_flow": null,
            "grid_auto_rows": null,
            "grid_column": null,
            "grid_gap": null,
            "grid_row": null,
            "grid_template_areas": null,
            "grid_template_columns": null,
            "grid_template_rows": null,
            "height": null,
            "justify_content": null,
            "justify_items": null,
            "left": null,
            "margin": null,
            "max_height": null,
            "max_width": null,
            "min_height": null,
            "min_width": null,
            "object_fit": null,
            "object_position": null,
            "order": null,
            "overflow": null,
            "overflow_x": null,
            "overflow_y": null,
            "padding": null,
            "right": null,
            "top": null,
            "visibility": null,
            "width": null
          }
        },
        "cffd1adb604d464083fd189beea95c8d": {
          "model_module": "@jupyter-widgets/controls",
          "model_name": "DescriptionStyleModel",
          "model_module_version": "1.5.0",
          "state": {
            "_model_module": "@jupyter-widgets/controls",
            "_model_module_version": "1.5.0",
            "_model_name": "DescriptionStyleModel",
            "_view_count": null,
            "_view_module": "@jupyter-widgets/base",
            "_view_module_version": "1.2.0",
            "_view_name": "StyleView",
            "description_width": ""
          }
        },
        "e981ff2cbae2436bb823a75e90b9c0ea": {
          "model_module": "@jupyter-widgets/controls",
          "model_name": "HBoxModel",
          "model_module_version": "1.5.0",
          "state": {
            "_dom_classes": [],
            "_model_module": "@jupyter-widgets/controls",
            "_model_module_version": "1.5.0",
            "_model_name": "HBoxModel",
            "_view_count": null,
            "_view_module": "@jupyter-widgets/controls",
            "_view_module_version": "1.5.0",
            "_view_name": "HBoxView",
            "box_style": "",
            "children": [
              "IPY_MODEL_b949c29ec2984b0781fccf9ba80d99f4",
              "IPY_MODEL_5c608800201d4ca8ae29f0238b026c19",
              "IPY_MODEL_851b8bba299a4e7fa6ba493f6779e228"
            ],
            "layout": "IPY_MODEL_d2c7541f8d204379906cc5388c2ef685"
          }
        },
        "b949c29ec2984b0781fccf9ba80d99f4": {
          "model_module": "@jupyter-widgets/controls",
          "model_name": "HTMLModel",
          "model_module_version": "1.5.0",
          "state": {
            "_dom_classes": [],
            "_model_module": "@jupyter-widgets/controls",
            "_model_module_version": "1.5.0",
            "_model_name": "HTMLModel",
            "_view_count": null,
            "_view_module": "@jupyter-widgets/controls",
            "_view_module_version": "1.5.0",
            "_view_name": "HTMLView",
            "description": "",
            "description_tooltip": null,
            "layout": "IPY_MODEL_135685e4b770445a9adde384f9998233",
            "placeholder": "​",
            "style": "IPY_MODEL_a05c1a4bdbe64c53b639f951f830141c",
            "value": "Downloading: 100%"
          }
        },
        "5c608800201d4ca8ae29f0238b026c19": {
          "model_module": "@jupyter-widgets/controls",
          "model_name": "FloatProgressModel",
          "model_module_version": "1.5.0",
          "state": {
            "_dom_classes": [],
            "_model_module": "@jupyter-widgets/controls",
            "_model_module_version": "1.5.0",
            "_model_name": "FloatProgressModel",
            "_view_count": null,
            "_view_module": "@jupyter-widgets/controls",
            "_view_module_version": "1.5.0",
            "_view_name": "ProgressView",
            "bar_style": "success",
            "description": "",
            "description_tooltip": null,
            "layout": "IPY_MODEL_a3a32bc53305430ea4c6fa01c63ec786",
            "max": 798293,
            "min": 0,
            "orientation": "horizontal",
            "style": "IPY_MODEL_8ae1ca7ba0264f5a8c96b811564190be",
            "value": 798293
          }
        },
        "851b8bba299a4e7fa6ba493f6779e228": {
          "model_module": "@jupyter-widgets/controls",
          "model_name": "HTMLModel",
          "model_module_version": "1.5.0",
          "state": {
            "_dom_classes": [],
            "_model_module": "@jupyter-widgets/controls",
            "_model_module_version": "1.5.0",
            "_model_name": "HTMLModel",
            "_view_count": null,
            "_view_module": "@jupyter-widgets/controls",
            "_view_module_version": "1.5.0",
            "_view_name": "HTMLView",
            "description": "",
            "description_tooltip": null,
            "layout": "IPY_MODEL_17589c49b39647a78e3bda2702235775",
            "placeholder": "​",
            "style": "IPY_MODEL_1d6f61780153482eafa35530f21f4b35",
            "value": " 780k/780k [00:00&lt;00:00, 3.62MB/s]"
          }
        },
        "d2c7541f8d204379906cc5388c2ef685": {
          "model_module": "@jupyter-widgets/base",
          "model_name": "LayoutModel",
          "model_module_version": "1.2.0",
          "state": {
            "_model_module": "@jupyter-widgets/base",
            "_model_module_version": "1.2.0",
            "_model_name": "LayoutModel",
            "_view_count": null,
            "_view_module": "@jupyter-widgets/base",
            "_view_module_version": "1.2.0",
            "_view_name": "LayoutView",
            "align_content": null,
            "align_items": null,
            "align_self": null,
            "border": null,
            "bottom": null,
            "display": null,
            "flex": null,
            "flex_flow": null,
            "grid_area": null,
            "grid_auto_columns": null,
            "grid_auto_flow": null,
            "grid_auto_rows": null,
            "grid_column": null,
            "grid_gap": null,
            "grid_row": null,
            "grid_template_areas": null,
            "grid_template_columns": null,
            "grid_template_rows": null,
            "height": null,
            "justify_content": null,
            "justify_items": null,
            "left": null,
            "margin": null,
            "max_height": null,
            "max_width": null,
            "min_height": null,
            "min_width": null,
            "object_fit": null,
            "object_position": null,
            "order": null,
            "overflow": null,
            "overflow_x": null,
            "overflow_y": null,
            "padding": null,
            "right": null,
            "top": null,
            "visibility": null,
            "width": null
          }
        },
        "135685e4b770445a9adde384f9998233": {
          "model_module": "@jupyter-widgets/base",
          "model_name": "LayoutModel",
          "model_module_version": "1.2.0",
          "state": {
            "_model_module": "@jupyter-widgets/base",
            "_model_module_version": "1.2.0",
            "_model_name": "LayoutModel",
            "_view_count": null,
            "_view_module": "@jupyter-widgets/base",
            "_view_module_version": "1.2.0",
            "_view_name": "LayoutView",
            "align_content": null,
            "align_items": null,
            "align_self": null,
            "border": null,
            "bottom": null,
            "display": null,
            "flex": null,
            "flex_flow": null,
            "grid_area": null,
            "grid_auto_columns": null,
            "grid_auto_flow": null,
            "grid_auto_rows": null,
            "grid_column": null,
            "grid_gap": null,
            "grid_row": null,
            "grid_template_areas": null,
            "grid_template_columns": null,
            "grid_template_rows": null,
            "height": null,
            "justify_content": null,
            "justify_items": null,
            "left": null,
            "margin": null,
            "max_height": null,
            "max_width": null,
            "min_height": null,
            "min_width": null,
            "object_fit": null,
            "object_position": null,
            "order": null,
            "overflow": null,
            "overflow_x": null,
            "overflow_y": null,
            "padding": null,
            "right": null,
            "top": null,
            "visibility": null,
            "width": null
          }
        },
        "a05c1a4bdbe64c53b639f951f830141c": {
          "model_module": "@jupyter-widgets/controls",
          "model_name": "DescriptionStyleModel",
          "model_module_version": "1.5.0",
          "state": {
            "_model_module": "@jupyter-widgets/controls",
            "_model_module_version": "1.5.0",
            "_model_name": "DescriptionStyleModel",
            "_view_count": null,
            "_view_module": "@jupyter-widgets/base",
            "_view_module_version": "1.2.0",
            "_view_name": "StyleView",
            "description_width": ""
          }
        },
        "a3a32bc53305430ea4c6fa01c63ec786": {
          "model_module": "@jupyter-widgets/base",
          "model_name": "LayoutModel",
          "model_module_version": "1.2.0",
          "state": {
            "_model_module": "@jupyter-widgets/base",
            "_model_module_version": "1.2.0",
            "_model_name": "LayoutModel",
            "_view_count": null,
            "_view_module": "@jupyter-widgets/base",
            "_view_module_version": "1.2.0",
            "_view_name": "LayoutView",
            "align_content": null,
            "align_items": null,
            "align_self": null,
            "border": null,
            "bottom": null,
            "display": null,
            "flex": null,
            "flex_flow": null,
            "grid_area": null,
            "grid_auto_columns": null,
            "grid_auto_flow": null,
            "grid_auto_rows": null,
            "grid_column": null,
            "grid_gap": null,
            "grid_row": null,
            "grid_template_areas": null,
            "grid_template_columns": null,
            "grid_template_rows": null,
            "height": null,
            "justify_content": null,
            "justify_items": null,
            "left": null,
            "margin": null,
            "max_height": null,
            "max_width": null,
            "min_height": null,
            "min_width": null,
            "object_fit": null,
            "object_position": null,
            "order": null,
            "overflow": null,
            "overflow_x": null,
            "overflow_y": null,
            "padding": null,
            "right": null,
            "top": null,
            "visibility": null,
            "width": null
          }
        },
        "8ae1ca7ba0264f5a8c96b811564190be": {
          "model_module": "@jupyter-widgets/controls",
          "model_name": "ProgressStyleModel",
          "model_module_version": "1.5.0",
          "state": {
            "_model_module": "@jupyter-widgets/controls",
            "_model_module_version": "1.5.0",
            "_model_name": "ProgressStyleModel",
            "_view_count": null,
            "_view_module": "@jupyter-widgets/base",
            "_view_module_version": "1.2.0",
            "_view_name": "StyleView",
            "bar_color": null,
            "description_width": ""
          }
        },
        "17589c49b39647a78e3bda2702235775": {
          "model_module": "@jupyter-widgets/base",
          "model_name": "LayoutModel",
          "model_module_version": "1.2.0",
          "state": {
            "_model_module": "@jupyter-widgets/base",
            "_model_module_version": "1.2.0",
            "_model_name": "LayoutModel",
            "_view_count": null,
            "_view_module": "@jupyter-widgets/base",
            "_view_module_version": "1.2.0",
            "_view_name": "LayoutView",
            "align_content": null,
            "align_items": null,
            "align_self": null,
            "border": null,
            "bottom": null,
            "display": null,
            "flex": null,
            "flex_flow": null,
            "grid_area": null,
            "grid_auto_columns": null,
            "grid_auto_flow": null,
            "grid_auto_rows": null,
            "grid_column": null,
            "grid_gap": null,
            "grid_row": null,
            "grid_template_areas": null,
            "grid_template_columns": null,
            "grid_template_rows": null,
            "height": null,
            "justify_content": null,
            "justify_items": null,
            "left": null,
            "margin": null,
            "max_height": null,
            "max_width": null,
            "min_height": null,
            "min_width": null,
            "object_fit": null,
            "object_position": null,
            "order": null,
            "overflow": null,
            "overflow_x": null,
            "overflow_y": null,
            "padding": null,
            "right": null,
            "top": null,
            "visibility": null,
            "width": null
          }
        },
        "1d6f61780153482eafa35530f21f4b35": {
          "model_module": "@jupyter-widgets/controls",
          "model_name": "DescriptionStyleModel",
          "model_module_version": "1.5.0",
          "state": {
            "_model_module": "@jupyter-widgets/controls",
            "_model_module_version": "1.5.0",
            "_model_name": "DescriptionStyleModel",
            "_view_count": null,
            "_view_module": "@jupyter-widgets/base",
            "_view_module_version": "1.2.0",
            "_view_name": "StyleView",
            "description_width": ""
          }
        },
        "d50b8c09232a4b43803c703ad733db1e": {
          "model_module": "@jupyter-widgets/controls",
          "model_name": "HBoxModel",
          "model_module_version": "1.5.0",
          "state": {
            "_dom_classes": [],
            "_model_module": "@jupyter-widgets/controls",
            "_model_module_version": "1.5.0",
            "_model_name": "HBoxModel",
            "_view_count": null,
            "_view_module": "@jupyter-widgets/controls",
            "_view_module_version": "1.5.0",
            "_view_name": "HBoxView",
            "box_style": "",
            "children": [
              "IPY_MODEL_b0d25b121eb74323a925cdd99613c20f",
              "IPY_MODEL_a14bbe660cde468b93138df7486e9c4d",
              "IPY_MODEL_7d1ad3f44e09478d90a0af46c4e56e16"
            ],
            "layout": "IPY_MODEL_be5405d8f18746b8bfd575ab9a181578"
          }
        },
        "b0d25b121eb74323a925cdd99613c20f": {
          "model_module": "@jupyter-widgets/controls",
          "model_name": "HTMLModel",
          "model_module_version": "1.5.0",
          "state": {
            "_dom_classes": [],
            "_model_module": "@jupyter-widgets/controls",
            "_model_module_version": "1.5.0",
            "_model_name": "HTMLModel",
            "_view_count": null,
            "_view_module": "@jupyter-widgets/controls",
            "_view_module_version": "1.5.0",
            "_view_name": "HTMLView",
            "description": "",
            "description_tooltip": null,
            "layout": "IPY_MODEL_33310930e71e4a1aadbddbcd6933c6f3",
            "placeholder": "​",
            "style": "IPY_MODEL_364c1ea047a74f788bb12e6bec4f5377",
            "value": "Downloading: 100%"
          }
        },
        "a14bbe660cde468b93138df7486e9c4d": {
          "model_module": "@jupyter-widgets/controls",
          "model_name": "FloatProgressModel",
          "model_module_version": "1.5.0",
          "state": {
            "_dom_classes": [],
            "_model_module": "@jupyter-widgets/controls",
            "_model_module_version": "1.5.0",
            "_model_name": "FloatProgressModel",
            "_view_count": null,
            "_view_module": "@jupyter-widgets/controls",
            "_view_module_version": "1.5.0",
            "_view_name": "ProgressView",
            "bar_style": "success",
            "description": "",
            "description_tooltip": null,
            "layout": "IPY_MODEL_d97378ae279f45b7a8abc208f2f2a07b",
            "max": 456356,
            "min": 0,
            "orientation": "horizontal",
            "style": "IPY_MODEL_86f7cc45870b445396a52f684ee6b97f",
            "value": 456356
          }
        },
        "7d1ad3f44e09478d90a0af46c4e56e16": {
          "model_module": "@jupyter-widgets/controls",
          "model_name": "HTMLModel",
          "model_module_version": "1.5.0",
          "state": {
            "_dom_classes": [],
            "_model_module": "@jupyter-widgets/controls",
            "_model_module_version": "1.5.0",
            "_model_name": "HTMLModel",
            "_view_count": null,
            "_view_module": "@jupyter-widgets/controls",
            "_view_module_version": "1.5.0",
            "_view_name": "HTMLView",
            "description": "",
            "description_tooltip": null,
            "layout": "IPY_MODEL_e71347538fab45a7a5de9e04938d51d3",
            "placeholder": "​",
            "style": "IPY_MODEL_f730b27cc51a45109c937b82a8b5b40f",
            "value": " 446k/446k [00:00&lt;00:00, 1.28MB/s]"
          }
        },
        "be5405d8f18746b8bfd575ab9a181578": {
          "model_module": "@jupyter-widgets/base",
          "model_name": "LayoutModel",
          "model_module_version": "1.2.0",
          "state": {
            "_model_module": "@jupyter-widgets/base",
            "_model_module_version": "1.2.0",
            "_model_name": "LayoutModel",
            "_view_count": null,
            "_view_module": "@jupyter-widgets/base",
            "_view_module_version": "1.2.0",
            "_view_name": "LayoutView",
            "align_content": null,
            "align_items": null,
            "align_self": null,
            "border": null,
            "bottom": null,
            "display": null,
            "flex": null,
            "flex_flow": null,
            "grid_area": null,
            "grid_auto_columns": null,
            "grid_auto_flow": null,
            "grid_auto_rows": null,
            "grid_column": null,
            "grid_gap": null,
            "grid_row": null,
            "grid_template_areas": null,
            "grid_template_columns": null,
            "grid_template_rows": null,
            "height": null,
            "justify_content": null,
            "justify_items": null,
            "left": null,
            "margin": null,
            "max_height": null,
            "max_width": null,
            "min_height": null,
            "min_width": null,
            "object_fit": null,
            "object_position": null,
            "order": null,
            "overflow": null,
            "overflow_x": null,
            "overflow_y": null,
            "padding": null,
            "right": null,
            "top": null,
            "visibility": null,
            "width": null
          }
        },
        "33310930e71e4a1aadbddbcd6933c6f3": {
          "model_module": "@jupyter-widgets/base",
          "model_name": "LayoutModel",
          "model_module_version": "1.2.0",
          "state": {
            "_model_module": "@jupyter-widgets/base",
            "_model_module_version": "1.2.0",
            "_model_name": "LayoutModel",
            "_view_count": null,
            "_view_module": "@jupyter-widgets/base",
            "_view_module_version": "1.2.0",
            "_view_name": "LayoutView",
            "align_content": null,
            "align_items": null,
            "align_self": null,
            "border": null,
            "bottom": null,
            "display": null,
            "flex": null,
            "flex_flow": null,
            "grid_area": null,
            "grid_auto_columns": null,
            "grid_auto_flow": null,
            "grid_auto_rows": null,
            "grid_column": null,
            "grid_gap": null,
            "grid_row": null,
            "grid_template_areas": null,
            "grid_template_columns": null,
            "grid_template_rows": null,
            "height": null,
            "justify_content": null,
            "justify_items": null,
            "left": null,
            "margin": null,
            "max_height": null,
            "max_width": null,
            "min_height": null,
            "min_width": null,
            "object_fit": null,
            "object_position": null,
            "order": null,
            "overflow": null,
            "overflow_x": null,
            "overflow_y": null,
            "padding": null,
            "right": null,
            "top": null,
            "visibility": null,
            "width": null
          }
        },
        "364c1ea047a74f788bb12e6bec4f5377": {
          "model_module": "@jupyter-widgets/controls",
          "model_name": "DescriptionStyleModel",
          "model_module_version": "1.5.0",
          "state": {
            "_model_module": "@jupyter-widgets/controls",
            "_model_module_version": "1.5.0",
            "_model_name": "DescriptionStyleModel",
            "_view_count": null,
            "_view_module": "@jupyter-widgets/base",
            "_view_module_version": "1.2.0",
            "_view_name": "StyleView",
            "description_width": ""
          }
        },
        "d97378ae279f45b7a8abc208f2f2a07b": {
          "model_module": "@jupyter-widgets/base",
          "model_name": "LayoutModel",
          "model_module_version": "1.2.0",
          "state": {
            "_model_module": "@jupyter-widgets/base",
            "_model_module_version": "1.2.0",
            "_model_name": "LayoutModel",
            "_view_count": null,
            "_view_module": "@jupyter-widgets/base",
            "_view_module_version": "1.2.0",
            "_view_name": "LayoutView",
            "align_content": null,
            "align_items": null,
            "align_self": null,
            "border": null,
            "bottom": null,
            "display": null,
            "flex": null,
            "flex_flow": null,
            "grid_area": null,
            "grid_auto_columns": null,
            "grid_auto_flow": null,
            "grid_auto_rows": null,
            "grid_column": null,
            "grid_gap": null,
            "grid_row": null,
            "grid_template_areas": null,
            "grid_template_columns": null,
            "grid_template_rows": null,
            "height": null,
            "justify_content": null,
            "justify_items": null,
            "left": null,
            "margin": null,
            "max_height": null,
            "max_width": null,
            "min_height": null,
            "min_width": null,
            "object_fit": null,
            "object_position": null,
            "order": null,
            "overflow": null,
            "overflow_x": null,
            "overflow_y": null,
            "padding": null,
            "right": null,
            "top": null,
            "visibility": null,
            "width": null
          }
        },
        "86f7cc45870b445396a52f684ee6b97f": {
          "model_module": "@jupyter-widgets/controls",
          "model_name": "ProgressStyleModel",
          "model_module_version": "1.5.0",
          "state": {
            "_model_module": "@jupyter-widgets/controls",
            "_model_module_version": "1.5.0",
            "_model_name": "ProgressStyleModel",
            "_view_count": null,
            "_view_module": "@jupyter-widgets/base",
            "_view_module_version": "1.2.0",
            "_view_name": "StyleView",
            "bar_color": null,
            "description_width": ""
          }
        },
        "e71347538fab45a7a5de9e04938d51d3": {
          "model_module": "@jupyter-widgets/base",
          "model_name": "LayoutModel",
          "model_module_version": "1.2.0",
          "state": {
            "_model_module": "@jupyter-widgets/base",
            "_model_module_version": "1.2.0",
            "_model_name": "LayoutModel",
            "_view_count": null,
            "_view_module": "@jupyter-widgets/base",
            "_view_module_version": "1.2.0",
            "_view_name": "LayoutView",
            "align_content": null,
            "align_items": null,
            "align_self": null,
            "border": null,
            "bottom": null,
            "display": null,
            "flex": null,
            "flex_flow": null,
            "grid_area": null,
            "grid_auto_columns": null,
            "grid_auto_flow": null,
            "grid_auto_rows": null,
            "grid_column": null,
            "grid_gap": null,
            "grid_row": null,
            "grid_template_areas": null,
            "grid_template_columns": null,
            "grid_template_rows": null,
            "height": null,
            "justify_content": null,
            "justify_items": null,
            "left": null,
            "margin": null,
            "max_height": null,
            "max_width": null,
            "min_height": null,
            "min_width": null,
            "object_fit": null,
            "object_position": null,
            "order": null,
            "overflow": null,
            "overflow_x": null,
            "overflow_y": null,
            "padding": null,
            "right": null,
            "top": null,
            "visibility": null,
            "width": null
          }
        },
        "f730b27cc51a45109c937b82a8b5b40f": {
          "model_module": "@jupyter-widgets/controls",
          "model_name": "DescriptionStyleModel",
          "model_module_version": "1.5.0",
          "state": {
            "_model_module": "@jupyter-widgets/controls",
            "_model_module_version": "1.5.0",
            "_model_name": "DescriptionStyleModel",
            "_view_count": null,
            "_view_module": "@jupyter-widgets/base",
            "_view_module_version": "1.2.0",
            "_view_name": "StyleView",
            "description_width": ""
          }
        },
        "255952e7efdd44639eb873854c8592a7": {
          "model_module": "@jupyter-widgets/controls",
          "model_name": "HBoxModel",
          "model_module_version": "1.5.0",
          "state": {
            "_dom_classes": [],
            "_model_module": "@jupyter-widgets/controls",
            "_model_module_version": "1.5.0",
            "_model_name": "HBoxModel",
            "_view_count": null,
            "_view_module": "@jupyter-widgets/controls",
            "_view_module_version": "1.5.0",
            "_view_name": "HBoxView",
            "box_style": "",
            "children": [
              "IPY_MODEL_2a43d714eb6d469bb8b6f0c024a83948",
              "IPY_MODEL_9e5955832f644e49b3f4de3e363add63",
              "IPY_MODEL_0053c559dc6d45bab0b933c7b1faf9ea"
            ],
            "layout": "IPY_MODEL_c44c3eeb03b24b99a5b70162211339b4"
          }
        },
        "2a43d714eb6d469bb8b6f0c024a83948": {
          "model_module": "@jupyter-widgets/controls",
          "model_name": "HTMLModel",
          "model_module_version": "1.5.0",
          "state": {
            "_dom_classes": [],
            "_model_module": "@jupyter-widgets/controls",
            "_model_module_version": "1.5.0",
            "_model_name": "HTMLModel",
            "_view_count": null,
            "_view_module": "@jupyter-widgets/controls",
            "_view_module_version": "1.5.0",
            "_view_name": "HTMLView",
            "description": "",
            "description_tooltip": null,
            "layout": "IPY_MODEL_6d06cf1600044bf0bcd6657821b1b654",
            "placeholder": "​",
            "style": "IPY_MODEL_a5a485bc3a0b4e66b1c6ecaaa26e6982",
            "value": "Downloading: 100%"
          }
        },
        "9e5955832f644e49b3f4de3e363add63": {
          "model_module": "@jupyter-widgets/controls",
          "model_name": "FloatProgressModel",
          "model_module_version": "1.5.0",
          "state": {
            "_dom_classes": [],
            "_model_module": "@jupyter-widgets/controls",
            "_model_module_version": "1.5.0",
            "_model_name": "FloatProgressModel",
            "_view_count": null,
            "_view_module": "@jupyter-widgets/controls",
            "_view_module_version": "1.5.0",
            "_view_name": "ProgressView",
            "bar_style": "success",
            "description": "",
            "description_tooltip": null,
            "layout": "IPY_MODEL_1a6d5fdf931845ada8bee0e24b07cdc3",
            "max": 1355932,
            "min": 0,
            "orientation": "horizontal",
            "style": "IPY_MODEL_b0be24b6295f4c6d9c9da620ddcca27d",
            "value": 1355932
          }
        },
        "0053c559dc6d45bab0b933c7b1faf9ea": {
          "model_module": "@jupyter-widgets/controls",
          "model_name": "HTMLModel",
          "model_module_version": "1.5.0",
          "state": {
            "_dom_classes": [],
            "_model_module": "@jupyter-widgets/controls",
            "_model_module_version": "1.5.0",
            "_model_name": "HTMLModel",
            "_view_count": null,
            "_view_module": "@jupyter-widgets/controls",
            "_view_module_version": "1.5.0",
            "_view_name": "HTMLView",
            "description": "",
            "description_tooltip": null,
            "layout": "IPY_MODEL_95afc5bf0cc345bba91df49061809774",
            "placeholder": "​",
            "style": "IPY_MODEL_a72f0935fac74d4c962b8c814587165d",
            "value": " 1.29M/1.29M [00:00&lt;00:00, 6.23MB/s]"
          }
        },
        "c44c3eeb03b24b99a5b70162211339b4": {
          "model_module": "@jupyter-widgets/base",
          "model_name": "LayoutModel",
          "model_module_version": "1.2.0",
          "state": {
            "_model_module": "@jupyter-widgets/base",
            "_model_module_version": "1.2.0",
            "_model_name": "LayoutModel",
            "_view_count": null,
            "_view_module": "@jupyter-widgets/base",
            "_view_module_version": "1.2.0",
            "_view_name": "LayoutView",
            "align_content": null,
            "align_items": null,
            "align_self": null,
            "border": null,
            "bottom": null,
            "display": null,
            "flex": null,
            "flex_flow": null,
            "grid_area": null,
            "grid_auto_columns": null,
            "grid_auto_flow": null,
            "grid_auto_rows": null,
            "grid_column": null,
            "grid_gap": null,
            "grid_row": null,
            "grid_template_areas": null,
            "grid_template_columns": null,
            "grid_template_rows": null,
            "height": null,
            "justify_content": null,
            "justify_items": null,
            "left": null,
            "margin": null,
            "max_height": null,
            "max_width": null,
            "min_height": null,
            "min_width": null,
            "object_fit": null,
            "object_position": null,
            "order": null,
            "overflow": null,
            "overflow_x": null,
            "overflow_y": null,
            "padding": null,
            "right": null,
            "top": null,
            "visibility": null,
            "width": null
          }
        },
        "6d06cf1600044bf0bcd6657821b1b654": {
          "model_module": "@jupyter-widgets/base",
          "model_name": "LayoutModel",
          "model_module_version": "1.2.0",
          "state": {
            "_model_module": "@jupyter-widgets/base",
            "_model_module_version": "1.2.0",
            "_model_name": "LayoutModel",
            "_view_count": null,
            "_view_module": "@jupyter-widgets/base",
            "_view_module_version": "1.2.0",
            "_view_name": "LayoutView",
            "align_content": null,
            "align_items": null,
            "align_self": null,
            "border": null,
            "bottom": null,
            "display": null,
            "flex": null,
            "flex_flow": null,
            "grid_area": null,
            "grid_auto_columns": null,
            "grid_auto_flow": null,
            "grid_auto_rows": null,
            "grid_column": null,
            "grid_gap": null,
            "grid_row": null,
            "grid_template_areas": null,
            "grid_template_columns": null,
            "grid_template_rows": null,
            "height": null,
            "justify_content": null,
            "justify_items": null,
            "left": null,
            "margin": null,
            "max_height": null,
            "max_width": null,
            "min_height": null,
            "min_width": null,
            "object_fit": null,
            "object_position": null,
            "order": null,
            "overflow": null,
            "overflow_x": null,
            "overflow_y": null,
            "padding": null,
            "right": null,
            "top": null,
            "visibility": null,
            "width": null
          }
        },
        "a5a485bc3a0b4e66b1c6ecaaa26e6982": {
          "model_module": "@jupyter-widgets/controls",
          "model_name": "DescriptionStyleModel",
          "model_module_version": "1.5.0",
          "state": {
            "_model_module": "@jupyter-widgets/controls",
            "_model_module_version": "1.5.0",
            "_model_name": "DescriptionStyleModel",
            "_view_count": null,
            "_view_module": "@jupyter-widgets/base",
            "_view_module_version": "1.2.0",
            "_view_name": "StyleView",
            "description_width": ""
          }
        },
        "1a6d5fdf931845ada8bee0e24b07cdc3": {
          "model_module": "@jupyter-widgets/base",
          "model_name": "LayoutModel",
          "model_module_version": "1.2.0",
          "state": {
            "_model_module": "@jupyter-widgets/base",
            "_model_module_version": "1.2.0",
            "_model_name": "LayoutModel",
            "_view_count": null,
            "_view_module": "@jupyter-widgets/base",
            "_view_module_version": "1.2.0",
            "_view_name": "LayoutView",
            "align_content": null,
            "align_items": null,
            "align_self": null,
            "border": null,
            "bottom": null,
            "display": null,
            "flex": null,
            "flex_flow": null,
            "grid_area": null,
            "grid_auto_columns": null,
            "grid_auto_flow": null,
            "grid_auto_rows": null,
            "grid_column": null,
            "grid_gap": null,
            "grid_row": null,
            "grid_template_areas": null,
            "grid_template_columns": null,
            "grid_template_rows": null,
            "height": null,
            "justify_content": null,
            "justify_items": null,
            "left": null,
            "margin": null,
            "max_height": null,
            "max_width": null,
            "min_height": null,
            "min_width": null,
            "object_fit": null,
            "object_position": null,
            "order": null,
            "overflow": null,
            "overflow_x": null,
            "overflow_y": null,
            "padding": null,
            "right": null,
            "top": null,
            "visibility": null,
            "width": null
          }
        },
        "b0be24b6295f4c6d9c9da620ddcca27d": {
          "model_module": "@jupyter-widgets/controls",
          "model_name": "ProgressStyleModel",
          "model_module_version": "1.5.0",
          "state": {
            "_model_module": "@jupyter-widgets/controls",
            "_model_module_version": "1.5.0",
            "_model_name": "ProgressStyleModel",
            "_view_count": null,
            "_view_module": "@jupyter-widgets/base",
            "_view_module_version": "1.2.0",
            "_view_name": "StyleView",
            "bar_color": null,
            "description_width": ""
          }
        },
        "95afc5bf0cc345bba91df49061809774": {
          "model_module": "@jupyter-widgets/base",
          "model_name": "LayoutModel",
          "model_module_version": "1.2.0",
          "state": {
            "_model_module": "@jupyter-widgets/base",
            "_model_module_version": "1.2.0",
            "_model_name": "LayoutModel",
            "_view_count": null,
            "_view_module": "@jupyter-widgets/base",
            "_view_module_version": "1.2.0",
            "_view_name": "LayoutView",
            "align_content": null,
            "align_items": null,
            "align_self": null,
            "border": null,
            "bottom": null,
            "display": null,
            "flex": null,
            "flex_flow": null,
            "grid_area": null,
            "grid_auto_columns": null,
            "grid_auto_flow": null,
            "grid_auto_rows": null,
            "grid_column": null,
            "grid_gap": null,
            "grid_row": null,
            "grid_template_areas": null,
            "grid_template_columns": null,
            "grid_template_rows": null,
            "height": null,
            "justify_content": null,
            "justify_items": null,
            "left": null,
            "margin": null,
            "max_height": null,
            "max_width": null,
            "min_height": null,
            "min_width": null,
            "object_fit": null,
            "object_position": null,
            "order": null,
            "overflow": null,
            "overflow_x": null,
            "overflow_y": null,
            "padding": null,
            "right": null,
            "top": null,
            "visibility": null,
            "width": null
          }
        },
        "a72f0935fac74d4c962b8c814587165d": {
          "model_module": "@jupyter-widgets/controls",
          "model_name": "DescriptionStyleModel",
          "model_module_version": "1.5.0",
          "state": {
            "_model_module": "@jupyter-widgets/controls",
            "_model_module_version": "1.5.0",
            "_model_name": "DescriptionStyleModel",
            "_view_count": null,
            "_view_module": "@jupyter-widgets/base",
            "_view_module_version": "1.2.0",
            "_view_name": "StyleView",
            "description_width": ""
          }
        },
        "50952a2a1a3b435cb95ccbe4fa88cece": {
          "model_module": "@jupyter-widgets/controls",
          "model_name": "HBoxModel",
          "model_module_version": "1.5.0",
          "state": {
            "_dom_classes": [],
            "_model_module": "@jupyter-widgets/controls",
            "_model_module_version": "1.5.0",
            "_model_name": "HBoxModel",
            "_view_count": null,
            "_view_module": "@jupyter-widgets/controls",
            "_view_module_version": "1.5.0",
            "_view_name": "HBoxView",
            "box_style": "",
            "children": [
              "IPY_MODEL_72a0b9318b9a44f5ace563d5e519119a",
              "IPY_MODEL_f1288eaef27c4e61a39d38e4f52478f1",
              "IPY_MODEL_52c3312e648247a3aaef1397434a1c99"
            ],
            "layout": "IPY_MODEL_949d9e230fad422f81a6ed4f30a56790"
          }
        },
        "72a0b9318b9a44f5ace563d5e519119a": {
          "model_module": "@jupyter-widgets/controls",
          "model_name": "HTMLModel",
          "model_module_version": "1.5.0",
          "state": {
            "_dom_classes": [],
            "_model_module": "@jupyter-widgets/controls",
            "_model_module_version": "1.5.0",
            "_model_name": "HTMLModel",
            "_view_count": null,
            "_view_module": "@jupyter-widgets/controls",
            "_view_module_version": "1.5.0",
            "_view_name": "HTMLView",
            "description": "",
            "description_tooltip": null,
            "layout": "IPY_MODEL_8dbe62777cc34236aebb93cc205150a2",
            "placeholder": "​",
            "style": "IPY_MODEL_871102a25566450e83f81b782afc7f81",
            "value": "Downloading: 100%"
          }
        },
        "f1288eaef27c4e61a39d38e4f52478f1": {
          "model_module": "@jupyter-widgets/controls",
          "model_name": "FloatProgressModel",
          "model_module_version": "1.5.0",
          "state": {
            "_dom_classes": [],
            "_model_module": "@jupyter-widgets/controls",
            "_model_module_version": "1.5.0",
            "_model_name": "FloatProgressModel",
            "_view_count": null,
            "_view_module": "@jupyter-widgets/controls",
            "_view_module_version": "1.5.0",
            "_view_name": "ProgressView",
            "bar_style": "success",
            "description": "",
            "description_tooltip": null,
            "layout": "IPY_MODEL_67aca754b4564c51b6021c525ac00ebd",
            "max": 239,
            "min": 0,
            "orientation": "horizontal",
            "style": "IPY_MODEL_19904043ae4f4a438ffeb878cf27595b",
            "value": 239
          }
        },
        "52c3312e648247a3aaef1397434a1c99": {
          "model_module": "@jupyter-widgets/controls",
          "model_name": "HTMLModel",
          "model_module_version": "1.5.0",
          "state": {
            "_dom_classes": [],
            "_model_module": "@jupyter-widgets/controls",
            "_model_module_version": "1.5.0",
            "_model_name": "HTMLModel",
            "_view_count": null,
            "_view_module": "@jupyter-widgets/controls",
            "_view_module_version": "1.5.0",
            "_view_name": "HTMLView",
            "description": "",
            "description_tooltip": null,
            "layout": "IPY_MODEL_b5b680f18e3e4dbf9a697dec92d29cb4",
            "placeholder": "​",
            "style": "IPY_MODEL_0394fba24e5348ad987699978f172767",
            "value": " 239/239 [00:00&lt;00:00, 2.07kB/s]"
          }
        },
        "949d9e230fad422f81a6ed4f30a56790": {
          "model_module": "@jupyter-widgets/base",
          "model_name": "LayoutModel",
          "model_module_version": "1.2.0",
          "state": {
            "_model_module": "@jupyter-widgets/base",
            "_model_module_version": "1.2.0",
            "_model_name": "LayoutModel",
            "_view_count": null,
            "_view_module": "@jupyter-widgets/base",
            "_view_module_version": "1.2.0",
            "_view_name": "LayoutView",
            "align_content": null,
            "align_items": null,
            "align_self": null,
            "border": null,
            "bottom": null,
            "display": null,
            "flex": null,
            "flex_flow": null,
            "grid_area": null,
            "grid_auto_columns": null,
            "grid_auto_flow": null,
            "grid_auto_rows": null,
            "grid_column": null,
            "grid_gap": null,
            "grid_row": null,
            "grid_template_areas": null,
            "grid_template_columns": null,
            "grid_template_rows": null,
            "height": null,
            "justify_content": null,
            "justify_items": null,
            "left": null,
            "margin": null,
            "max_height": null,
            "max_width": null,
            "min_height": null,
            "min_width": null,
            "object_fit": null,
            "object_position": null,
            "order": null,
            "overflow": null,
            "overflow_x": null,
            "overflow_y": null,
            "padding": null,
            "right": null,
            "top": null,
            "visibility": null,
            "width": null
          }
        },
        "8dbe62777cc34236aebb93cc205150a2": {
          "model_module": "@jupyter-widgets/base",
          "model_name": "LayoutModel",
          "model_module_version": "1.2.0",
          "state": {
            "_model_module": "@jupyter-widgets/base",
            "_model_module_version": "1.2.0",
            "_model_name": "LayoutModel",
            "_view_count": null,
            "_view_module": "@jupyter-widgets/base",
            "_view_module_version": "1.2.0",
            "_view_name": "LayoutView",
            "align_content": null,
            "align_items": null,
            "align_self": null,
            "border": null,
            "bottom": null,
            "display": null,
            "flex": null,
            "flex_flow": null,
            "grid_area": null,
            "grid_auto_columns": null,
            "grid_auto_flow": null,
            "grid_auto_rows": null,
            "grid_column": null,
            "grid_gap": null,
            "grid_row": null,
            "grid_template_areas": null,
            "grid_template_columns": null,
            "grid_template_rows": null,
            "height": null,
            "justify_content": null,
            "justify_items": null,
            "left": null,
            "margin": null,
            "max_height": null,
            "max_width": null,
            "min_height": null,
            "min_width": null,
            "object_fit": null,
            "object_position": null,
            "order": null,
            "overflow": null,
            "overflow_x": null,
            "overflow_y": null,
            "padding": null,
            "right": null,
            "top": null,
            "visibility": null,
            "width": null
          }
        },
        "871102a25566450e83f81b782afc7f81": {
          "model_module": "@jupyter-widgets/controls",
          "model_name": "DescriptionStyleModel",
          "model_module_version": "1.5.0",
          "state": {
            "_model_module": "@jupyter-widgets/controls",
            "_model_module_version": "1.5.0",
            "_model_name": "DescriptionStyleModel",
            "_view_count": null,
            "_view_module": "@jupyter-widgets/base",
            "_view_module_version": "1.2.0",
            "_view_name": "StyleView",
            "description_width": ""
          }
        },
        "67aca754b4564c51b6021c525ac00ebd": {
          "model_module": "@jupyter-widgets/base",
          "model_name": "LayoutModel",
          "model_module_version": "1.2.0",
          "state": {
            "_model_module": "@jupyter-widgets/base",
            "_model_module_version": "1.2.0",
            "_model_name": "LayoutModel",
            "_view_count": null,
            "_view_module": "@jupyter-widgets/base",
            "_view_module_version": "1.2.0",
            "_view_name": "LayoutView",
            "align_content": null,
            "align_items": null,
            "align_self": null,
            "border": null,
            "bottom": null,
            "display": null,
            "flex": null,
            "flex_flow": null,
            "grid_area": null,
            "grid_auto_columns": null,
            "grid_auto_flow": null,
            "grid_auto_rows": null,
            "grid_column": null,
            "grid_gap": null,
            "grid_row": null,
            "grid_template_areas": null,
            "grid_template_columns": null,
            "grid_template_rows": null,
            "height": null,
            "justify_content": null,
            "justify_items": null,
            "left": null,
            "margin": null,
            "max_height": null,
            "max_width": null,
            "min_height": null,
            "min_width": null,
            "object_fit": null,
            "object_position": null,
            "order": null,
            "overflow": null,
            "overflow_x": null,
            "overflow_y": null,
            "padding": null,
            "right": null,
            "top": null,
            "visibility": null,
            "width": null
          }
        },
        "19904043ae4f4a438ffeb878cf27595b": {
          "model_module": "@jupyter-widgets/controls",
          "model_name": "ProgressStyleModel",
          "model_module_version": "1.5.0",
          "state": {
            "_model_module": "@jupyter-widgets/controls",
            "_model_module_version": "1.5.0",
            "_model_name": "ProgressStyleModel",
            "_view_count": null,
            "_view_module": "@jupyter-widgets/base",
            "_view_module_version": "1.2.0",
            "_view_name": "StyleView",
            "bar_color": null,
            "description_width": ""
          }
        },
        "b5b680f18e3e4dbf9a697dec92d29cb4": {
          "model_module": "@jupyter-widgets/base",
          "model_name": "LayoutModel",
          "model_module_version": "1.2.0",
          "state": {
            "_model_module": "@jupyter-widgets/base",
            "_model_module_version": "1.2.0",
            "_model_name": "LayoutModel",
            "_view_count": null,
            "_view_module": "@jupyter-widgets/base",
            "_view_module_version": "1.2.0",
            "_view_name": "LayoutView",
            "align_content": null,
            "align_items": null,
            "align_self": null,
            "border": null,
            "bottom": null,
            "display": null,
            "flex": null,
            "flex_flow": null,
            "grid_area": null,
            "grid_auto_columns": null,
            "grid_auto_flow": null,
            "grid_auto_rows": null,
            "grid_column": null,
            "grid_gap": null,
            "grid_row": null,
            "grid_template_areas": null,
            "grid_template_columns": null,
            "grid_template_rows": null,
            "height": null,
            "justify_content": null,
            "justify_items": null,
            "left": null,
            "margin": null,
            "max_height": null,
            "max_width": null,
            "min_height": null,
            "min_width": null,
            "object_fit": null,
            "object_position": null,
            "order": null,
            "overflow": null,
            "overflow_x": null,
            "overflow_y": null,
            "padding": null,
            "right": null,
            "top": null,
            "visibility": null,
            "width": null
          }
        },
        "0394fba24e5348ad987699978f172767": {
          "model_module": "@jupyter-widgets/controls",
          "model_name": "DescriptionStyleModel",
          "model_module_version": "1.5.0",
          "state": {
            "_model_module": "@jupyter-widgets/controls",
            "_model_module_version": "1.5.0",
            "_model_name": "DescriptionStyleModel",
            "_view_count": null,
            "_view_module": "@jupyter-widgets/base",
            "_view_module_version": "1.2.0",
            "_view_name": "StyleView",
            "description_width": ""
          }
        },
        "18614f0c59ff4dd59d46ba28c310506b": {
          "model_module": "@jupyter-widgets/controls",
          "model_name": "HBoxModel",
          "model_module_version": "1.5.0",
          "state": {
            "_dom_classes": [],
            "_model_module": "@jupyter-widgets/controls",
            "_model_module_version": "1.5.0",
            "_model_name": "HBoxModel",
            "_view_count": null,
            "_view_module": "@jupyter-widgets/controls",
            "_view_module_version": "1.5.0",
            "_view_name": "HBoxView",
            "box_style": "",
            "children": [
              "IPY_MODEL_1c6785f819a6433ea9659de42ba72882",
              "IPY_MODEL_b7afff8cc8574dbab9b67db2f0d5712b",
              "IPY_MODEL_7cdb4b2f2de84e46b287308183ffa92d"
            ],
            "layout": "IPY_MODEL_56d9166f4e9a498ab5248c0d40fc18b7"
          }
        },
        "1c6785f819a6433ea9659de42ba72882": {
          "model_module": "@jupyter-widgets/controls",
          "model_name": "HTMLModel",
          "model_module_version": "1.5.0",
          "state": {
            "_dom_classes": [],
            "_model_module": "@jupyter-widgets/controls",
            "_model_module_version": "1.5.0",
            "_model_name": "HTMLModel",
            "_view_count": null,
            "_view_module": "@jupyter-widgets/controls",
            "_view_module_version": "1.5.0",
            "_view_name": "HTMLView",
            "description": "",
            "description_tooltip": null,
            "layout": "IPY_MODEL_4891a7899da54a0a9425d1c818178fdc",
            "placeholder": "​",
            "style": "IPY_MODEL_cae675acd5ea43b3bb8f9c679822a1d4",
            "value": "Downloading: 100%"
          }
        },
        "b7afff8cc8574dbab9b67db2f0d5712b": {
          "model_module": "@jupyter-widgets/controls",
          "model_name": "FloatProgressModel",
          "model_module_version": "1.5.0",
          "state": {
            "_dom_classes": [],
            "_model_module": "@jupyter-widgets/controls",
            "_model_module_version": "1.5.0",
            "_model_name": "FloatProgressModel",
            "_view_count": null,
            "_view_module": "@jupyter-widgets/controls",
            "_view_module_version": "1.5.0",
            "_view_name": "ProgressView",
            "bar_style": "success",
            "description": "",
            "description_tooltip": null,
            "layout": "IPY_MODEL_c0bd40c220bd4129ba54a7703fa14f3c",
            "max": 1625569391,
            "min": 0,
            "orientation": "horizontal",
            "style": "IPY_MODEL_546e20864b884332ad3ba8f546967994",
            "value": 1625569391
          }
        },
        "7cdb4b2f2de84e46b287308183ffa92d": {
          "model_module": "@jupyter-widgets/controls",
          "model_name": "HTMLModel",
          "model_module_version": "1.5.0",
          "state": {
            "_dom_classes": [],
            "_model_module": "@jupyter-widgets/controls",
            "_model_module_version": "1.5.0",
            "_model_name": "HTMLModel",
            "_view_count": null,
            "_view_module": "@jupyter-widgets/controls",
            "_view_module_version": "1.5.0",
            "_view_name": "HTMLView",
            "description": "",
            "description_tooltip": null,
            "layout": "IPY_MODEL_cacf24e1fd9142a4adc2234d5b4da6f3",
            "placeholder": "​",
            "style": "IPY_MODEL_dc4fdf4475c24baba87269814381b1f5",
            "value": " 1.51G/1.51G [00:34&lt;00:00, 37.7MB/s]"
          }
        },
        "56d9166f4e9a498ab5248c0d40fc18b7": {
          "model_module": "@jupyter-widgets/base",
          "model_name": "LayoutModel",
          "model_module_version": "1.2.0",
          "state": {
            "_model_module": "@jupyter-widgets/base",
            "_model_module_version": "1.2.0",
            "_model_name": "LayoutModel",
            "_view_count": null,
            "_view_module": "@jupyter-widgets/base",
            "_view_module_version": "1.2.0",
            "_view_name": "LayoutView",
            "align_content": null,
            "align_items": null,
            "align_self": null,
            "border": null,
            "bottom": null,
            "display": null,
            "flex": null,
            "flex_flow": null,
            "grid_area": null,
            "grid_auto_columns": null,
            "grid_auto_flow": null,
            "grid_auto_rows": null,
            "grid_column": null,
            "grid_gap": null,
            "grid_row": null,
            "grid_template_areas": null,
            "grid_template_columns": null,
            "grid_template_rows": null,
            "height": null,
            "justify_content": null,
            "justify_items": null,
            "left": null,
            "margin": null,
            "max_height": null,
            "max_width": null,
            "min_height": null,
            "min_width": null,
            "object_fit": null,
            "object_position": null,
            "order": null,
            "overflow": null,
            "overflow_x": null,
            "overflow_y": null,
            "padding": null,
            "right": null,
            "top": null,
            "visibility": null,
            "width": null
          }
        },
        "4891a7899da54a0a9425d1c818178fdc": {
          "model_module": "@jupyter-widgets/base",
          "model_name": "LayoutModel",
          "model_module_version": "1.2.0",
          "state": {
            "_model_module": "@jupyter-widgets/base",
            "_model_module_version": "1.2.0",
            "_model_name": "LayoutModel",
            "_view_count": null,
            "_view_module": "@jupyter-widgets/base",
            "_view_module_version": "1.2.0",
            "_view_name": "LayoutView",
            "align_content": null,
            "align_items": null,
            "align_self": null,
            "border": null,
            "bottom": null,
            "display": null,
            "flex": null,
            "flex_flow": null,
            "grid_area": null,
            "grid_auto_columns": null,
            "grid_auto_flow": null,
            "grid_auto_rows": null,
            "grid_column": null,
            "grid_gap": null,
            "grid_row": null,
            "grid_template_areas": null,
            "grid_template_columns": null,
            "grid_template_rows": null,
            "height": null,
            "justify_content": null,
            "justify_items": null,
            "left": null,
            "margin": null,
            "max_height": null,
            "max_width": null,
            "min_height": null,
            "min_width": null,
            "object_fit": null,
            "object_position": null,
            "order": null,
            "overflow": null,
            "overflow_x": null,
            "overflow_y": null,
            "padding": null,
            "right": null,
            "top": null,
            "visibility": null,
            "width": null
          }
        },
        "cae675acd5ea43b3bb8f9c679822a1d4": {
          "model_module": "@jupyter-widgets/controls",
          "model_name": "DescriptionStyleModel",
          "model_module_version": "1.5.0",
          "state": {
            "_model_module": "@jupyter-widgets/controls",
            "_model_module_version": "1.5.0",
            "_model_name": "DescriptionStyleModel",
            "_view_count": null,
            "_view_module": "@jupyter-widgets/base",
            "_view_module_version": "1.2.0",
            "_view_name": "StyleView",
            "description_width": ""
          }
        },
        "c0bd40c220bd4129ba54a7703fa14f3c": {
          "model_module": "@jupyter-widgets/base",
          "model_name": "LayoutModel",
          "model_module_version": "1.2.0",
          "state": {
            "_model_module": "@jupyter-widgets/base",
            "_model_module_version": "1.2.0",
            "_model_name": "LayoutModel",
            "_view_count": null,
            "_view_module": "@jupyter-widgets/base",
            "_view_module_version": "1.2.0",
            "_view_name": "LayoutView",
            "align_content": null,
            "align_items": null,
            "align_self": null,
            "border": null,
            "bottom": null,
            "display": null,
            "flex": null,
            "flex_flow": null,
            "grid_area": null,
            "grid_auto_columns": null,
            "grid_auto_flow": null,
            "grid_auto_rows": null,
            "grid_column": null,
            "grid_gap": null,
            "grid_row": null,
            "grid_template_areas": null,
            "grid_template_columns": null,
            "grid_template_rows": null,
            "height": null,
            "justify_content": null,
            "justify_items": null,
            "left": null,
            "margin": null,
            "max_height": null,
            "max_width": null,
            "min_height": null,
            "min_width": null,
            "object_fit": null,
            "object_position": null,
            "order": null,
            "overflow": null,
            "overflow_x": null,
            "overflow_y": null,
            "padding": null,
            "right": null,
            "top": null,
            "visibility": null,
            "width": null
          }
        },
        "546e20864b884332ad3ba8f546967994": {
          "model_module": "@jupyter-widgets/controls",
          "model_name": "ProgressStyleModel",
          "model_module_version": "1.5.0",
          "state": {
            "_model_module": "@jupyter-widgets/controls",
            "_model_module_version": "1.5.0",
            "_model_name": "ProgressStyleModel",
            "_view_count": null,
            "_view_module": "@jupyter-widgets/base",
            "_view_module_version": "1.2.0",
            "_view_name": "StyleView",
            "bar_color": null,
            "description_width": ""
          }
        },
        "cacf24e1fd9142a4adc2234d5b4da6f3": {
          "model_module": "@jupyter-widgets/base",
          "model_name": "LayoutModel",
          "model_module_version": "1.2.0",
          "state": {
            "_model_module": "@jupyter-widgets/base",
            "_model_module_version": "1.2.0",
            "_model_name": "LayoutModel",
            "_view_count": null,
            "_view_module": "@jupyter-widgets/base",
            "_view_module_version": "1.2.0",
            "_view_name": "LayoutView",
            "align_content": null,
            "align_items": null,
            "align_self": null,
            "border": null,
            "bottom": null,
            "display": null,
            "flex": null,
            "flex_flow": null,
            "grid_area": null,
            "grid_auto_columns": null,
            "grid_auto_flow": null,
            "grid_auto_rows": null,
            "grid_column": null,
            "grid_gap": null,
            "grid_row": null,
            "grid_template_areas": null,
            "grid_template_columns": null,
            "grid_template_rows": null,
            "height": null,
            "justify_content": null,
            "justify_items": null,
            "left": null,
            "margin": null,
            "max_height": null,
            "max_width": null,
            "min_height": null,
            "min_width": null,
            "object_fit": null,
            "object_position": null,
            "order": null,
            "overflow": null,
            "overflow_x": null,
            "overflow_y": null,
            "padding": null,
            "right": null,
            "top": null,
            "visibility": null,
            "width": null
          }
        },
        "dc4fdf4475c24baba87269814381b1f5": {
          "model_module": "@jupyter-widgets/controls",
          "model_name": "DescriptionStyleModel",
          "model_module_version": "1.5.0",
          "state": {
            "_model_module": "@jupyter-widgets/controls",
            "_model_module_version": "1.5.0",
            "_model_name": "DescriptionStyleModel",
            "_view_count": null,
            "_view_module": "@jupyter-widgets/base",
            "_view_module_version": "1.2.0",
            "_view_name": "StyleView",
            "description_width": ""
          }
        },
        "3a2afa6317294835a1567bb30c2b56fd": {
          "model_module": "@jupyter-widgets/controls",
          "model_name": "HBoxModel",
          "model_module_version": "1.5.0",
          "state": {
            "_dom_classes": [],
            "_model_module": "@jupyter-widgets/controls",
            "_model_module_version": "1.5.0",
            "_model_name": "HBoxModel",
            "_view_count": null,
            "_view_module": "@jupyter-widgets/controls",
            "_view_module_version": "1.5.0",
            "_view_name": "HBoxView",
            "box_style": "",
            "children": [
              "IPY_MODEL_9774d03bba124a7c9a75525132a615da",
              "IPY_MODEL_530447e41da14fb0bbbc125357229791",
              "IPY_MODEL_2994d77fceaa4b82bf6aaff460c647f1"
            ],
            "layout": "IPY_MODEL_28e6371ca272441780432d6ea28fe687"
          }
        },
        "9774d03bba124a7c9a75525132a615da": {
          "model_module": "@jupyter-widgets/controls",
          "model_name": "HTMLModel",
          "model_module_version": "1.5.0",
          "state": {
            "_dom_classes": [],
            "_model_module": "@jupyter-widgets/controls",
            "_model_module_version": "1.5.0",
            "_model_name": "HTMLModel",
            "_view_count": null,
            "_view_module": "@jupyter-widgets/controls",
            "_view_module_version": "1.5.0",
            "_view_name": "HTMLView",
            "description": "",
            "description_tooltip": null,
            "layout": "IPY_MODEL_43b2150f24284bf1bba3b1586b5ff28c",
            "placeholder": "​",
            "style": "IPY_MODEL_91aa997f09814cc0a02c0c68847628d5",
            "value": "Downloading: 100%"
          }
        },
        "530447e41da14fb0bbbc125357229791": {
          "model_module": "@jupyter-widgets/controls",
          "model_name": "FloatProgressModel",
          "model_module_version": "1.5.0",
          "state": {
            "_dom_classes": [],
            "_model_module": "@jupyter-widgets/controls",
            "_model_module_version": "1.5.0",
            "_model_name": "FloatProgressModel",
            "_view_count": null,
            "_view_module": "@jupyter-widgets/controls",
            "_view_module_version": "1.5.0",
            "_view_name": "ProgressView",
            "bar_style": "success",
            "description": "",
            "description_tooltip": null,
            "layout": "IPY_MODEL_d4b8e87277234951af3f6a7a56921c25",
            "max": 443,
            "min": 0,
            "orientation": "horizontal",
            "style": "IPY_MODEL_51f2ae4d4ead411986fd18549c156a84",
            "value": 443
          }
        },
        "2994d77fceaa4b82bf6aaff460c647f1": {
          "model_module": "@jupyter-widgets/controls",
          "model_name": "HTMLModel",
          "model_module_version": "1.5.0",
          "state": {
            "_dom_classes": [],
            "_model_module": "@jupyter-widgets/controls",
            "_model_module_version": "1.5.0",
            "_model_name": "HTMLModel",
            "_view_count": null,
            "_view_module": "@jupyter-widgets/controls",
            "_view_module_version": "1.5.0",
            "_view_name": "HTMLView",
            "description": "",
            "description_tooltip": null,
            "layout": "IPY_MODEL_21a568f73c53449abb296e8723bebc18",
            "placeholder": "​",
            "style": "IPY_MODEL_44409c2197e74a5aa6b53239a08d4de2",
            "value": " 443/443 [00:00&lt;00:00, 6.84kB/s]"
          }
        },
        "28e6371ca272441780432d6ea28fe687": {
          "model_module": "@jupyter-widgets/base",
          "model_name": "LayoutModel",
          "model_module_version": "1.2.0",
          "state": {
            "_model_module": "@jupyter-widgets/base",
            "_model_module_version": "1.2.0",
            "_model_name": "LayoutModel",
            "_view_count": null,
            "_view_module": "@jupyter-widgets/base",
            "_view_module_version": "1.2.0",
            "_view_name": "LayoutView",
            "align_content": null,
            "align_items": null,
            "align_self": null,
            "border": null,
            "bottom": null,
            "display": null,
            "flex": null,
            "flex_flow": null,
            "grid_area": null,
            "grid_auto_columns": null,
            "grid_auto_flow": null,
            "grid_auto_rows": null,
            "grid_column": null,
            "grid_gap": null,
            "grid_row": null,
            "grid_template_areas": null,
            "grid_template_columns": null,
            "grid_template_rows": null,
            "height": null,
            "justify_content": null,
            "justify_items": null,
            "left": null,
            "margin": null,
            "max_height": null,
            "max_width": null,
            "min_height": null,
            "min_width": null,
            "object_fit": null,
            "object_position": null,
            "order": null,
            "overflow": null,
            "overflow_x": null,
            "overflow_y": null,
            "padding": null,
            "right": null,
            "top": null,
            "visibility": null,
            "width": null
          }
        },
        "43b2150f24284bf1bba3b1586b5ff28c": {
          "model_module": "@jupyter-widgets/base",
          "model_name": "LayoutModel",
          "model_module_version": "1.2.0",
          "state": {
            "_model_module": "@jupyter-widgets/base",
            "_model_module_version": "1.2.0",
            "_model_name": "LayoutModel",
            "_view_count": null,
            "_view_module": "@jupyter-widgets/base",
            "_view_module_version": "1.2.0",
            "_view_name": "LayoutView",
            "align_content": null,
            "align_items": null,
            "align_self": null,
            "border": null,
            "bottom": null,
            "display": null,
            "flex": null,
            "flex_flow": null,
            "grid_area": null,
            "grid_auto_columns": null,
            "grid_auto_flow": null,
            "grid_auto_rows": null,
            "grid_column": null,
            "grid_gap": null,
            "grid_row": null,
            "grid_template_areas": null,
            "grid_template_columns": null,
            "grid_template_rows": null,
            "height": null,
            "justify_content": null,
            "justify_items": null,
            "left": null,
            "margin": null,
            "max_height": null,
            "max_width": null,
            "min_height": null,
            "min_width": null,
            "object_fit": null,
            "object_position": null,
            "order": null,
            "overflow": null,
            "overflow_x": null,
            "overflow_y": null,
            "padding": null,
            "right": null,
            "top": null,
            "visibility": null,
            "width": null
          }
        },
        "91aa997f09814cc0a02c0c68847628d5": {
          "model_module": "@jupyter-widgets/controls",
          "model_name": "DescriptionStyleModel",
          "model_module_version": "1.5.0",
          "state": {
            "_model_module": "@jupyter-widgets/controls",
            "_model_module_version": "1.5.0",
            "_model_name": "DescriptionStyleModel",
            "_view_count": null,
            "_view_module": "@jupyter-widgets/base",
            "_view_module_version": "1.2.0",
            "_view_name": "StyleView",
            "description_width": ""
          }
        },
        "d4b8e87277234951af3f6a7a56921c25": {
          "model_module": "@jupyter-widgets/base",
          "model_name": "LayoutModel",
          "model_module_version": "1.2.0",
          "state": {
            "_model_module": "@jupyter-widgets/base",
            "_model_module_version": "1.2.0",
            "_model_name": "LayoutModel",
            "_view_count": null,
            "_view_module": "@jupyter-widgets/base",
            "_view_module_version": "1.2.0",
            "_view_name": "LayoutView",
            "align_content": null,
            "align_items": null,
            "align_self": null,
            "border": null,
            "bottom": null,
            "display": null,
            "flex": null,
            "flex_flow": null,
            "grid_area": null,
            "grid_auto_columns": null,
            "grid_auto_flow": null,
            "grid_auto_rows": null,
            "grid_column": null,
            "grid_gap": null,
            "grid_row": null,
            "grid_template_areas": null,
            "grid_template_columns": null,
            "grid_template_rows": null,
            "height": null,
            "justify_content": null,
            "justify_items": null,
            "left": null,
            "margin": null,
            "max_height": null,
            "max_width": null,
            "min_height": null,
            "min_width": null,
            "object_fit": null,
            "object_position": null,
            "order": null,
            "overflow": null,
            "overflow_x": null,
            "overflow_y": null,
            "padding": null,
            "right": null,
            "top": null,
            "visibility": null,
            "width": null
          }
        },
        "51f2ae4d4ead411986fd18549c156a84": {
          "model_module": "@jupyter-widgets/controls",
          "model_name": "ProgressStyleModel",
          "model_module_version": "1.5.0",
          "state": {
            "_model_module": "@jupyter-widgets/controls",
            "_model_module_version": "1.5.0",
            "_model_name": "ProgressStyleModel",
            "_view_count": null,
            "_view_module": "@jupyter-widgets/base",
            "_view_module_version": "1.2.0",
            "_view_name": "StyleView",
            "bar_color": null,
            "description_width": ""
          }
        },
        "21a568f73c53449abb296e8723bebc18": {
          "model_module": "@jupyter-widgets/base",
          "model_name": "LayoutModel",
          "model_module_version": "1.2.0",
          "state": {
            "_model_module": "@jupyter-widgets/base",
            "_model_module_version": "1.2.0",
            "_model_name": "LayoutModel",
            "_view_count": null,
            "_view_module": "@jupyter-widgets/base",
            "_view_module_version": "1.2.0",
            "_view_name": "LayoutView",
            "align_content": null,
            "align_items": null,
            "align_self": null,
            "border": null,
            "bottom": null,
            "display": null,
            "flex": null,
            "flex_flow": null,
            "grid_area": null,
            "grid_auto_columns": null,
            "grid_auto_flow": null,
            "grid_auto_rows": null,
            "grid_column": null,
            "grid_gap": null,
            "grid_row": null,
            "grid_template_areas": null,
            "grid_template_columns": null,
            "grid_template_rows": null,
            "height": null,
            "justify_content": null,
            "justify_items": null,
            "left": null,
            "margin": null,
            "max_height": null,
            "max_width": null,
            "min_height": null,
            "min_width": null,
            "object_fit": null,
            "object_position": null,
            "order": null,
            "overflow": null,
            "overflow_x": null,
            "overflow_y": null,
            "padding": null,
            "right": null,
            "top": null,
            "visibility": null,
            "width": null
          }
        },
        "44409c2197e74a5aa6b53239a08d4de2": {
          "model_module": "@jupyter-widgets/controls",
          "model_name": "DescriptionStyleModel",
          "model_module_version": "1.5.0",
          "state": {
            "_model_module": "@jupyter-widgets/controls",
            "_model_module_version": "1.5.0",
            "_model_name": "DescriptionStyleModel",
            "_view_count": null,
            "_view_module": "@jupyter-widgets/base",
            "_view_module_version": "1.2.0",
            "_view_name": "StyleView",
            "description_width": ""
          }
        },
        "891a75866f484d62a65e7a73f6b41377": {
          "model_module": "@jupyter-widgets/controls",
          "model_name": "HBoxModel",
          "model_module_version": "1.5.0",
          "state": {
            "_dom_classes": [],
            "_model_module": "@jupyter-widgets/controls",
            "_model_module_version": "1.5.0",
            "_model_name": "HBoxModel",
            "_view_count": null,
            "_view_module": "@jupyter-widgets/controls",
            "_view_module_version": "1.5.0",
            "_view_name": "HBoxView",
            "box_style": "",
            "children": [
              "IPY_MODEL_fb870ee20ece4c6ea6bfea085d96ff5f",
              "IPY_MODEL_a4b911c0d9574b1787be488b273f9b98",
              "IPY_MODEL_ece8f637c83c4b5a8181f513cd16c559"
            ],
            "layout": "IPY_MODEL_b75b394d87b74fc1abec16dc9c5b74a7"
          }
        },
        "fb870ee20ece4c6ea6bfea085d96ff5f": {
          "model_module": "@jupyter-widgets/controls",
          "model_name": "HTMLModel",
          "model_module_version": "1.5.0",
          "state": {
            "_dom_classes": [],
            "_model_module": "@jupyter-widgets/controls",
            "_model_module_version": "1.5.0",
            "_model_name": "HTMLModel",
            "_view_count": null,
            "_view_module": "@jupyter-widgets/controls",
            "_view_module_version": "1.5.0",
            "_view_name": "HTMLView",
            "description": "",
            "description_tooltip": null,
            "layout": "IPY_MODEL_391880b4cab84e9dadd68a0d879b3bdb",
            "placeholder": "​",
            "style": "IPY_MODEL_e4b8c36a0b6f4311888f3cdfd11f5fb5",
            "value": "Downloading: 100%"
          }
        },
        "a4b911c0d9574b1787be488b273f9b98": {
          "model_module": "@jupyter-widgets/controls",
          "model_name": "FloatProgressModel",
          "model_module_version": "1.5.0",
          "state": {
            "_dom_classes": [],
            "_model_module": "@jupyter-widgets/controls",
            "_model_module_version": "1.5.0",
            "_model_name": "FloatProgressModel",
            "_view_count": null,
            "_view_module": "@jupyter-widgets/controls",
            "_view_module_version": "1.5.0",
            "_view_name": "ProgressView",
            "bar_style": "success",
            "description": "",
            "description_tooltip": null,
            "layout": "IPY_MODEL_125d071375624e96ac9c170811a9fb0a",
            "max": 1340675298,
            "min": 0,
            "orientation": "horizontal",
            "style": "IPY_MODEL_cbc0fbc0e8e649e589d85711ddefad97",
            "value": 1340675298
          }
        },
        "ece8f637c83c4b5a8181f513cd16c559": {
          "model_module": "@jupyter-widgets/controls",
          "model_name": "HTMLModel",
          "model_module_version": "1.5.0",
          "state": {
            "_dom_classes": [],
            "_model_module": "@jupyter-widgets/controls",
            "_model_module_version": "1.5.0",
            "_model_name": "HTMLModel",
            "_view_count": null,
            "_view_module": "@jupyter-widgets/controls",
            "_view_module_version": "1.5.0",
            "_view_name": "HTMLView",
            "description": "",
            "description_tooltip": null,
            "layout": "IPY_MODEL_80c7f5bd2f234d0398307fc4ecdd98cc",
            "placeholder": "​",
            "style": "IPY_MODEL_f72c820d76fc4193a611881ceb6e1408",
            "value": " 1.25G/1.25G [00:38&lt;00:00, 41.4MB/s]"
          }
        },
        "b75b394d87b74fc1abec16dc9c5b74a7": {
          "model_module": "@jupyter-widgets/base",
          "model_name": "LayoutModel",
          "model_module_version": "1.2.0",
          "state": {
            "_model_module": "@jupyter-widgets/base",
            "_model_module_version": "1.2.0",
            "_model_name": "LayoutModel",
            "_view_count": null,
            "_view_module": "@jupyter-widgets/base",
            "_view_module_version": "1.2.0",
            "_view_name": "LayoutView",
            "align_content": null,
            "align_items": null,
            "align_self": null,
            "border": null,
            "bottom": null,
            "display": null,
            "flex": null,
            "flex_flow": null,
            "grid_area": null,
            "grid_auto_columns": null,
            "grid_auto_flow": null,
            "grid_auto_rows": null,
            "grid_column": null,
            "grid_gap": null,
            "grid_row": null,
            "grid_template_areas": null,
            "grid_template_columns": null,
            "grid_template_rows": null,
            "height": null,
            "justify_content": null,
            "justify_items": null,
            "left": null,
            "margin": null,
            "max_height": null,
            "max_width": null,
            "min_height": null,
            "min_width": null,
            "object_fit": null,
            "object_position": null,
            "order": null,
            "overflow": null,
            "overflow_x": null,
            "overflow_y": null,
            "padding": null,
            "right": null,
            "top": null,
            "visibility": null,
            "width": null
          }
        },
        "391880b4cab84e9dadd68a0d879b3bdb": {
          "model_module": "@jupyter-widgets/base",
          "model_name": "LayoutModel",
          "model_module_version": "1.2.0",
          "state": {
            "_model_module": "@jupyter-widgets/base",
            "_model_module_version": "1.2.0",
            "_model_name": "LayoutModel",
            "_view_count": null,
            "_view_module": "@jupyter-widgets/base",
            "_view_module_version": "1.2.0",
            "_view_name": "LayoutView",
            "align_content": null,
            "align_items": null,
            "align_self": null,
            "border": null,
            "bottom": null,
            "display": null,
            "flex": null,
            "flex_flow": null,
            "grid_area": null,
            "grid_auto_columns": null,
            "grid_auto_flow": null,
            "grid_auto_rows": null,
            "grid_column": null,
            "grid_gap": null,
            "grid_row": null,
            "grid_template_areas": null,
            "grid_template_columns": null,
            "grid_template_rows": null,
            "height": null,
            "justify_content": null,
            "justify_items": null,
            "left": null,
            "margin": null,
            "max_height": null,
            "max_width": null,
            "min_height": null,
            "min_width": null,
            "object_fit": null,
            "object_position": null,
            "order": null,
            "overflow": null,
            "overflow_x": null,
            "overflow_y": null,
            "padding": null,
            "right": null,
            "top": null,
            "visibility": null,
            "width": null
          }
        },
        "e4b8c36a0b6f4311888f3cdfd11f5fb5": {
          "model_module": "@jupyter-widgets/controls",
          "model_name": "DescriptionStyleModel",
          "model_module_version": "1.5.0",
          "state": {
            "_model_module": "@jupyter-widgets/controls",
            "_model_module_version": "1.5.0",
            "_model_name": "DescriptionStyleModel",
            "_view_count": null,
            "_view_module": "@jupyter-widgets/base",
            "_view_module_version": "1.2.0",
            "_view_name": "StyleView",
            "description_width": ""
          }
        },
        "125d071375624e96ac9c170811a9fb0a": {
          "model_module": "@jupyter-widgets/base",
          "model_name": "LayoutModel",
          "model_module_version": "1.2.0",
          "state": {
            "_model_module": "@jupyter-widgets/base",
            "_model_module_version": "1.2.0",
            "_model_name": "LayoutModel",
            "_view_count": null,
            "_view_module": "@jupyter-widgets/base",
            "_view_module_version": "1.2.0",
            "_view_name": "LayoutView",
            "align_content": null,
            "align_items": null,
            "align_self": null,
            "border": null,
            "bottom": null,
            "display": null,
            "flex": null,
            "flex_flow": null,
            "grid_area": null,
            "grid_auto_columns": null,
            "grid_auto_flow": null,
            "grid_auto_rows": null,
            "grid_column": null,
            "grid_gap": null,
            "grid_row": null,
            "grid_template_areas": null,
            "grid_template_columns": null,
            "grid_template_rows": null,
            "height": null,
            "justify_content": null,
            "justify_items": null,
            "left": null,
            "margin": null,
            "max_height": null,
            "max_width": null,
            "min_height": null,
            "min_width": null,
            "object_fit": null,
            "object_position": null,
            "order": null,
            "overflow": null,
            "overflow_x": null,
            "overflow_y": null,
            "padding": null,
            "right": null,
            "top": null,
            "visibility": null,
            "width": null
          }
        },
        "cbc0fbc0e8e649e589d85711ddefad97": {
          "model_module": "@jupyter-widgets/controls",
          "model_name": "ProgressStyleModel",
          "model_module_version": "1.5.0",
          "state": {
            "_model_module": "@jupyter-widgets/controls",
            "_model_module_version": "1.5.0",
            "_model_name": "ProgressStyleModel",
            "_view_count": null,
            "_view_module": "@jupyter-widgets/base",
            "_view_module_version": "1.2.0",
            "_view_name": "StyleView",
            "bar_color": null,
            "description_width": ""
          }
        },
        "80c7f5bd2f234d0398307fc4ecdd98cc": {
          "model_module": "@jupyter-widgets/base",
          "model_name": "LayoutModel",
          "model_module_version": "1.2.0",
          "state": {
            "_model_module": "@jupyter-widgets/base",
            "_model_module_version": "1.2.0",
            "_model_name": "LayoutModel",
            "_view_count": null,
            "_view_module": "@jupyter-widgets/base",
            "_view_module_version": "1.2.0",
            "_view_name": "LayoutView",
            "align_content": null,
            "align_items": null,
            "align_self": null,
            "border": null,
            "bottom": null,
            "display": null,
            "flex": null,
            "flex_flow": null,
            "grid_area": null,
            "grid_auto_columns": null,
            "grid_auto_flow": null,
            "grid_auto_rows": null,
            "grid_column": null,
            "grid_gap": null,
            "grid_row": null,
            "grid_template_areas": null,
            "grid_template_columns": null,
            "grid_template_rows": null,
            "height": null,
            "justify_content": null,
            "justify_items": null,
            "left": null,
            "margin": null,
            "max_height": null,
            "max_width": null,
            "min_height": null,
            "min_width": null,
            "object_fit": null,
            "object_position": null,
            "order": null,
            "overflow": null,
            "overflow_x": null,
            "overflow_y": null,
            "padding": null,
            "right": null,
            "top": null,
            "visibility": null,
            "width": null
          }
        },
        "f72c820d76fc4193a611881ceb6e1408": {
          "model_module": "@jupyter-widgets/controls",
          "model_name": "DescriptionStyleModel",
          "model_module_version": "1.5.0",
          "state": {
            "_model_module": "@jupyter-widgets/controls",
            "_model_module_version": "1.5.0",
            "_model_name": "DescriptionStyleModel",
            "_view_count": null,
            "_view_module": "@jupyter-widgets/base",
            "_view_module_version": "1.2.0",
            "_view_name": "StyleView",
            "description_width": ""
          }
        },
        "8eeb5b74c3ed4f47b73af4f49d92fa2d": {
          "model_module": "@jupyter-widgets/controls",
          "model_name": "HBoxModel",
          "model_module_version": "1.5.0",
          "state": {
            "_dom_classes": [],
            "_model_module": "@jupyter-widgets/controls",
            "_model_module_version": "1.5.0",
            "_model_name": "HBoxModel",
            "_view_count": null,
            "_view_module": "@jupyter-widgets/controls",
            "_view_module_version": "1.5.0",
            "_view_name": "HBoxView",
            "box_style": "",
            "children": [
              "IPY_MODEL_4fc1fde0ef0245edb19db2cc9e2eb9cf",
              "IPY_MODEL_c32f43d775614deeaaead36c9a66339b",
              "IPY_MODEL_df72dbdb59054b978fad9580c869ac9f"
            ],
            "layout": "IPY_MODEL_fe5f74ab07344e1cabd5765fcc873e68"
          }
        },
        "4fc1fde0ef0245edb19db2cc9e2eb9cf": {
          "model_module": "@jupyter-widgets/controls",
          "model_name": "HTMLModel",
          "model_module_version": "1.5.0",
          "state": {
            "_dom_classes": [],
            "_model_module": "@jupyter-widgets/controls",
            "_model_module_version": "1.5.0",
            "_model_name": "HTMLModel",
            "_view_count": null,
            "_view_module": "@jupyter-widgets/controls",
            "_view_module_version": "1.5.0",
            "_view_name": "HTMLView",
            "description": "",
            "description_tooltip": null,
            "layout": "IPY_MODEL_3269d69ec0c6487e883fe6428820b3d9",
            "placeholder": "​",
            "style": "IPY_MODEL_0d6ce3d07afb4169a8144654400d83a8",
            "value": "Downloading: 100%"
          }
        },
        "c32f43d775614deeaaead36c9a66339b": {
          "model_module": "@jupyter-widgets/controls",
          "model_name": "FloatProgressModel",
          "model_module_version": "1.5.0",
          "state": {
            "_dom_classes": [],
            "_model_module": "@jupyter-widgets/controls",
            "_model_module_version": "1.5.0",
            "_model_name": "FloatProgressModel",
            "_view_count": null,
            "_view_module": "@jupyter-widgets/controls",
            "_view_module_version": "1.5.0",
            "_view_name": "ProgressView",
            "bar_style": "success",
            "description": "",
            "description_tooltip": null,
            "layout": "IPY_MODEL_e9b620a714a840dfa615848431cee6e9",
            "max": 28,
            "min": 0,
            "orientation": "horizontal",
            "style": "IPY_MODEL_7122fbe59af943efabf47139104ba89a",
            "value": 28
          }
        },
        "df72dbdb59054b978fad9580c869ac9f": {
          "model_module": "@jupyter-widgets/controls",
          "model_name": "HTMLModel",
          "model_module_version": "1.5.0",
          "state": {
            "_dom_classes": [],
            "_model_module": "@jupyter-widgets/controls",
            "_model_module_version": "1.5.0",
            "_model_name": "HTMLModel",
            "_view_count": null,
            "_view_module": "@jupyter-widgets/controls",
            "_view_module_version": "1.5.0",
            "_view_name": "HTMLView",
            "description": "",
            "description_tooltip": null,
            "layout": "IPY_MODEL_ba9f304e67ba4a0eac0986523881c6b6",
            "placeholder": "​",
            "style": "IPY_MODEL_40a9fe0842274a34a982421cc5c0923a",
            "value": " 28.0/28.0 [00:00&lt;00:00, 659B/s]"
          }
        },
        "fe5f74ab07344e1cabd5765fcc873e68": {
          "model_module": "@jupyter-widgets/base",
          "model_name": "LayoutModel",
          "model_module_version": "1.2.0",
          "state": {
            "_model_module": "@jupyter-widgets/base",
            "_model_module_version": "1.2.0",
            "_model_name": "LayoutModel",
            "_view_count": null,
            "_view_module": "@jupyter-widgets/base",
            "_view_module_version": "1.2.0",
            "_view_name": "LayoutView",
            "align_content": null,
            "align_items": null,
            "align_self": null,
            "border": null,
            "bottom": null,
            "display": null,
            "flex": null,
            "flex_flow": null,
            "grid_area": null,
            "grid_auto_columns": null,
            "grid_auto_flow": null,
            "grid_auto_rows": null,
            "grid_column": null,
            "grid_gap": null,
            "grid_row": null,
            "grid_template_areas": null,
            "grid_template_columns": null,
            "grid_template_rows": null,
            "height": null,
            "justify_content": null,
            "justify_items": null,
            "left": null,
            "margin": null,
            "max_height": null,
            "max_width": null,
            "min_height": null,
            "min_width": null,
            "object_fit": null,
            "object_position": null,
            "order": null,
            "overflow": null,
            "overflow_x": null,
            "overflow_y": null,
            "padding": null,
            "right": null,
            "top": null,
            "visibility": null,
            "width": null
          }
        },
        "3269d69ec0c6487e883fe6428820b3d9": {
          "model_module": "@jupyter-widgets/base",
          "model_name": "LayoutModel",
          "model_module_version": "1.2.0",
          "state": {
            "_model_module": "@jupyter-widgets/base",
            "_model_module_version": "1.2.0",
            "_model_name": "LayoutModel",
            "_view_count": null,
            "_view_module": "@jupyter-widgets/base",
            "_view_module_version": "1.2.0",
            "_view_name": "LayoutView",
            "align_content": null,
            "align_items": null,
            "align_self": null,
            "border": null,
            "bottom": null,
            "display": null,
            "flex": null,
            "flex_flow": null,
            "grid_area": null,
            "grid_auto_columns": null,
            "grid_auto_flow": null,
            "grid_auto_rows": null,
            "grid_column": null,
            "grid_gap": null,
            "grid_row": null,
            "grid_template_areas": null,
            "grid_template_columns": null,
            "grid_template_rows": null,
            "height": null,
            "justify_content": null,
            "justify_items": null,
            "left": null,
            "margin": null,
            "max_height": null,
            "max_width": null,
            "min_height": null,
            "min_width": null,
            "object_fit": null,
            "object_position": null,
            "order": null,
            "overflow": null,
            "overflow_x": null,
            "overflow_y": null,
            "padding": null,
            "right": null,
            "top": null,
            "visibility": null,
            "width": null
          }
        },
        "0d6ce3d07afb4169a8144654400d83a8": {
          "model_module": "@jupyter-widgets/controls",
          "model_name": "DescriptionStyleModel",
          "model_module_version": "1.5.0",
          "state": {
            "_model_module": "@jupyter-widgets/controls",
            "_model_module_version": "1.5.0",
            "_model_name": "DescriptionStyleModel",
            "_view_count": null,
            "_view_module": "@jupyter-widgets/base",
            "_view_module_version": "1.2.0",
            "_view_name": "StyleView",
            "description_width": ""
          }
        },
        "e9b620a714a840dfa615848431cee6e9": {
          "model_module": "@jupyter-widgets/base",
          "model_name": "LayoutModel",
          "model_module_version": "1.2.0",
          "state": {
            "_model_module": "@jupyter-widgets/base",
            "_model_module_version": "1.2.0",
            "_model_name": "LayoutModel",
            "_view_count": null,
            "_view_module": "@jupyter-widgets/base",
            "_view_module_version": "1.2.0",
            "_view_name": "LayoutView",
            "align_content": null,
            "align_items": null,
            "align_self": null,
            "border": null,
            "bottom": null,
            "display": null,
            "flex": null,
            "flex_flow": null,
            "grid_area": null,
            "grid_auto_columns": null,
            "grid_auto_flow": null,
            "grid_auto_rows": null,
            "grid_column": null,
            "grid_gap": null,
            "grid_row": null,
            "grid_template_areas": null,
            "grid_template_columns": null,
            "grid_template_rows": null,
            "height": null,
            "justify_content": null,
            "justify_items": null,
            "left": null,
            "margin": null,
            "max_height": null,
            "max_width": null,
            "min_height": null,
            "min_width": null,
            "object_fit": null,
            "object_position": null,
            "order": null,
            "overflow": null,
            "overflow_x": null,
            "overflow_y": null,
            "padding": null,
            "right": null,
            "top": null,
            "visibility": null,
            "width": null
          }
        },
        "7122fbe59af943efabf47139104ba89a": {
          "model_module": "@jupyter-widgets/controls",
          "model_name": "ProgressStyleModel",
          "model_module_version": "1.5.0",
          "state": {
            "_model_module": "@jupyter-widgets/controls",
            "_model_module_version": "1.5.0",
            "_model_name": "ProgressStyleModel",
            "_view_count": null,
            "_view_module": "@jupyter-widgets/base",
            "_view_module_version": "1.2.0",
            "_view_name": "StyleView",
            "bar_color": null,
            "description_width": ""
          }
        },
        "ba9f304e67ba4a0eac0986523881c6b6": {
          "model_module": "@jupyter-widgets/base",
          "model_name": "LayoutModel",
          "model_module_version": "1.2.0",
          "state": {
            "_model_module": "@jupyter-widgets/base",
            "_model_module_version": "1.2.0",
            "_model_name": "LayoutModel",
            "_view_count": null,
            "_view_module": "@jupyter-widgets/base",
            "_view_module_version": "1.2.0",
            "_view_name": "LayoutView",
            "align_content": null,
            "align_items": null,
            "align_self": null,
            "border": null,
            "bottom": null,
            "display": null,
            "flex": null,
            "flex_flow": null,
            "grid_area": null,
            "grid_auto_columns": null,
            "grid_auto_flow": null,
            "grid_auto_rows": null,
            "grid_column": null,
            "grid_gap": null,
            "grid_row": null,
            "grid_template_areas": null,
            "grid_template_columns": null,
            "grid_template_rows": null,
            "height": null,
            "justify_content": null,
            "justify_items": null,
            "left": null,
            "margin": null,
            "max_height": null,
            "max_width": null,
            "min_height": null,
            "min_width": null,
            "object_fit": null,
            "object_position": null,
            "order": null,
            "overflow": null,
            "overflow_x": null,
            "overflow_y": null,
            "padding": null,
            "right": null,
            "top": null,
            "visibility": null,
            "width": null
          }
        },
        "40a9fe0842274a34a982421cc5c0923a": {
          "model_module": "@jupyter-widgets/controls",
          "model_name": "DescriptionStyleModel",
          "model_module_version": "1.5.0",
          "state": {
            "_model_module": "@jupyter-widgets/controls",
            "_model_module_version": "1.5.0",
            "_model_name": "DescriptionStyleModel",
            "_view_count": null,
            "_view_module": "@jupyter-widgets/base",
            "_view_module_version": "1.2.0",
            "_view_name": "StyleView",
            "description_width": ""
          }
        },
        "df2c2a9dfd6a4f8d89bb1636a52e39a5": {
          "model_module": "@jupyter-widgets/controls",
          "model_name": "HBoxModel",
          "model_module_version": "1.5.0",
          "state": {
            "_dom_classes": [],
            "_model_module": "@jupyter-widgets/controls",
            "_model_module_version": "1.5.0",
            "_model_name": "HBoxModel",
            "_view_count": null,
            "_view_module": "@jupyter-widgets/controls",
            "_view_module_version": "1.5.0",
            "_view_name": "HBoxView",
            "box_style": "",
            "children": [
              "IPY_MODEL_fbaaa76c01c44e0e893819094d6f6d1e",
              "IPY_MODEL_df0ad0084429491caf6e9a4324e208cb",
              "IPY_MODEL_e62d4f14703f4b8ab07d08c77e6360b3"
            ],
            "layout": "IPY_MODEL_7bfbe1c4d0cf422788c1360554c4f280"
          }
        },
        "fbaaa76c01c44e0e893819094d6f6d1e": {
          "model_module": "@jupyter-widgets/controls",
          "model_name": "HTMLModel",
          "model_module_version": "1.5.0",
          "state": {
            "_dom_classes": [],
            "_model_module": "@jupyter-widgets/controls",
            "_model_module_version": "1.5.0",
            "_model_name": "HTMLModel",
            "_view_count": null,
            "_view_module": "@jupyter-widgets/controls",
            "_view_module_version": "1.5.0",
            "_view_name": "HTMLView",
            "description": "",
            "description_tooltip": null,
            "layout": "IPY_MODEL_1c93a3e5b0554bf6bbb46aa6b496882d",
            "placeholder": "​",
            "style": "IPY_MODEL_c08eec3a7af5437390fe3329d68914f5",
            "value": "Downloading: 100%"
          }
        },
        "df0ad0084429491caf6e9a4324e208cb": {
          "model_module": "@jupyter-widgets/controls",
          "model_name": "FloatProgressModel",
          "model_module_version": "1.5.0",
          "state": {
            "_dom_classes": [],
            "_model_module": "@jupyter-widgets/controls",
            "_model_module_version": "1.5.0",
            "_model_name": "FloatProgressModel",
            "_view_count": null,
            "_view_module": "@jupyter-widgets/controls",
            "_view_module_version": "1.5.0",
            "_view_name": "ProgressView",
            "bar_style": "success",
            "description": "",
            "description_tooltip": null,
            "layout": "IPY_MODEL_d670c40abf6c4f9a85913100a1bd7338",
            "max": 231508,
            "min": 0,
            "orientation": "horizontal",
            "style": "IPY_MODEL_20065886e2f34037900af81356172821",
            "value": 231508
          }
        },
        "e62d4f14703f4b8ab07d08c77e6360b3": {
          "model_module": "@jupyter-widgets/controls",
          "model_name": "HTMLModel",
          "model_module_version": "1.5.0",
          "state": {
            "_dom_classes": [],
            "_model_module": "@jupyter-widgets/controls",
            "_model_module_version": "1.5.0",
            "_model_name": "HTMLModel",
            "_view_count": null,
            "_view_module": "@jupyter-widgets/controls",
            "_view_module_version": "1.5.0",
            "_view_name": "HTMLView",
            "description": "",
            "description_tooltip": null,
            "layout": "IPY_MODEL_a2a9abd30fb34a0d9caf87de9ef19217",
            "placeholder": "​",
            "style": "IPY_MODEL_4a0b330c4cf64d928eb2233cae2e009e",
            "value": " 226k/226k [00:00&lt;00:00, 5.35kB/s]"
          }
        },
        "7bfbe1c4d0cf422788c1360554c4f280": {
          "model_module": "@jupyter-widgets/base",
          "model_name": "LayoutModel",
          "model_module_version": "1.2.0",
          "state": {
            "_model_module": "@jupyter-widgets/base",
            "_model_module_version": "1.2.0",
            "_model_name": "LayoutModel",
            "_view_count": null,
            "_view_module": "@jupyter-widgets/base",
            "_view_module_version": "1.2.0",
            "_view_name": "LayoutView",
            "align_content": null,
            "align_items": null,
            "align_self": null,
            "border": null,
            "bottom": null,
            "display": null,
            "flex": null,
            "flex_flow": null,
            "grid_area": null,
            "grid_auto_columns": null,
            "grid_auto_flow": null,
            "grid_auto_rows": null,
            "grid_column": null,
            "grid_gap": null,
            "grid_row": null,
            "grid_template_areas": null,
            "grid_template_columns": null,
            "grid_template_rows": null,
            "height": null,
            "justify_content": null,
            "justify_items": null,
            "left": null,
            "margin": null,
            "max_height": null,
            "max_width": null,
            "min_height": null,
            "min_width": null,
            "object_fit": null,
            "object_position": null,
            "order": null,
            "overflow": null,
            "overflow_x": null,
            "overflow_y": null,
            "padding": null,
            "right": null,
            "top": null,
            "visibility": null,
            "width": null
          }
        },
        "1c93a3e5b0554bf6bbb46aa6b496882d": {
          "model_module": "@jupyter-widgets/base",
          "model_name": "LayoutModel",
          "model_module_version": "1.2.0",
          "state": {
            "_model_module": "@jupyter-widgets/base",
            "_model_module_version": "1.2.0",
            "_model_name": "LayoutModel",
            "_view_count": null,
            "_view_module": "@jupyter-widgets/base",
            "_view_module_version": "1.2.0",
            "_view_name": "LayoutView",
            "align_content": null,
            "align_items": null,
            "align_self": null,
            "border": null,
            "bottom": null,
            "display": null,
            "flex": null,
            "flex_flow": null,
            "grid_area": null,
            "grid_auto_columns": null,
            "grid_auto_flow": null,
            "grid_auto_rows": null,
            "grid_column": null,
            "grid_gap": null,
            "grid_row": null,
            "grid_template_areas": null,
            "grid_template_columns": null,
            "grid_template_rows": null,
            "height": null,
            "justify_content": null,
            "justify_items": null,
            "left": null,
            "margin": null,
            "max_height": null,
            "max_width": null,
            "min_height": null,
            "min_width": null,
            "object_fit": null,
            "object_position": null,
            "order": null,
            "overflow": null,
            "overflow_x": null,
            "overflow_y": null,
            "padding": null,
            "right": null,
            "top": null,
            "visibility": null,
            "width": null
          }
        },
        "c08eec3a7af5437390fe3329d68914f5": {
          "model_module": "@jupyter-widgets/controls",
          "model_name": "DescriptionStyleModel",
          "model_module_version": "1.5.0",
          "state": {
            "_model_module": "@jupyter-widgets/controls",
            "_model_module_version": "1.5.0",
            "_model_name": "DescriptionStyleModel",
            "_view_count": null,
            "_view_module": "@jupyter-widgets/base",
            "_view_module_version": "1.2.0",
            "_view_name": "StyleView",
            "description_width": ""
          }
        },
        "d670c40abf6c4f9a85913100a1bd7338": {
          "model_module": "@jupyter-widgets/base",
          "model_name": "LayoutModel",
          "model_module_version": "1.2.0",
          "state": {
            "_model_module": "@jupyter-widgets/base",
            "_model_module_version": "1.2.0",
            "_model_name": "LayoutModel",
            "_view_count": null,
            "_view_module": "@jupyter-widgets/base",
            "_view_module_version": "1.2.0",
            "_view_name": "LayoutView",
            "align_content": null,
            "align_items": null,
            "align_self": null,
            "border": null,
            "bottom": null,
            "display": null,
            "flex": null,
            "flex_flow": null,
            "grid_area": null,
            "grid_auto_columns": null,
            "grid_auto_flow": null,
            "grid_auto_rows": null,
            "grid_column": null,
            "grid_gap": null,
            "grid_row": null,
            "grid_template_areas": null,
            "grid_template_columns": null,
            "grid_template_rows": null,
            "height": null,
            "justify_content": null,
            "justify_items": null,
            "left": null,
            "margin": null,
            "max_height": null,
            "max_width": null,
            "min_height": null,
            "min_width": null,
            "object_fit": null,
            "object_position": null,
            "order": null,
            "overflow": null,
            "overflow_x": null,
            "overflow_y": null,
            "padding": null,
            "right": null,
            "top": null,
            "visibility": null,
            "width": null
          }
        },
        "20065886e2f34037900af81356172821": {
          "model_module": "@jupyter-widgets/controls",
          "model_name": "ProgressStyleModel",
          "model_module_version": "1.5.0",
          "state": {
            "_model_module": "@jupyter-widgets/controls",
            "_model_module_version": "1.5.0",
            "_model_name": "ProgressStyleModel",
            "_view_count": null,
            "_view_module": "@jupyter-widgets/base",
            "_view_module_version": "1.2.0",
            "_view_name": "StyleView",
            "bar_color": null,
            "description_width": ""
          }
        },
        "a2a9abd30fb34a0d9caf87de9ef19217": {
          "model_module": "@jupyter-widgets/base",
          "model_name": "LayoutModel",
          "model_module_version": "1.2.0",
          "state": {
            "_model_module": "@jupyter-widgets/base",
            "_model_module_version": "1.2.0",
            "_model_name": "LayoutModel",
            "_view_count": null,
            "_view_module": "@jupyter-widgets/base",
            "_view_module_version": "1.2.0",
            "_view_name": "LayoutView",
            "align_content": null,
            "align_items": null,
            "align_self": null,
            "border": null,
            "bottom": null,
            "display": null,
            "flex": null,
            "flex_flow": null,
            "grid_area": null,
            "grid_auto_columns": null,
            "grid_auto_flow": null,
            "grid_auto_rows": null,
            "grid_column": null,
            "grid_gap": null,
            "grid_row": null,
            "grid_template_areas": null,
            "grid_template_columns": null,
            "grid_template_rows": null,
            "height": null,
            "justify_content": null,
            "justify_items": null,
            "left": null,
            "margin": null,
            "max_height": null,
            "max_width": null,
            "min_height": null,
            "min_width": null,
            "object_fit": null,
            "object_position": null,
            "order": null,
            "overflow": null,
            "overflow_x": null,
            "overflow_y": null,
            "padding": null,
            "right": null,
            "top": null,
            "visibility": null,
            "width": null
          }
        },
        "4a0b330c4cf64d928eb2233cae2e009e": {
          "model_module": "@jupyter-widgets/controls",
          "model_name": "DescriptionStyleModel",
          "model_module_version": "1.5.0",
          "state": {
            "_model_module": "@jupyter-widgets/controls",
            "_model_module_version": "1.5.0",
            "_model_name": "DescriptionStyleModel",
            "_view_count": null,
            "_view_module": "@jupyter-widgets/base",
            "_view_module_version": "1.2.0",
            "_view_name": "StyleView",
            "description_width": ""
          }
        },
        "0dd51015be9147939f56a5a2b2c04c7b": {
          "model_module": "@jupyter-widgets/controls",
          "model_name": "HBoxModel",
          "model_module_version": "1.5.0",
          "state": {
            "_dom_classes": [],
            "_model_module": "@jupyter-widgets/controls",
            "_model_module_version": "1.5.0",
            "_model_name": "HBoxModel",
            "_view_count": null,
            "_view_module": "@jupyter-widgets/controls",
            "_view_module_version": "1.5.0",
            "_view_name": "HBoxView",
            "box_style": "",
            "children": [
              "IPY_MODEL_57f6ca6403cb4ddbaf110e4d6fa31959",
              "IPY_MODEL_d5feef8932de492dab1dd2fcb943ac8c",
              "IPY_MODEL_a2d253cc1bfc4c939ae7a0afa3079159"
            ],
            "layout": "IPY_MODEL_7406d4ff6aa549dbbf1b57814cb98cb1"
          }
        },
        "57f6ca6403cb4ddbaf110e4d6fa31959": {
          "model_module": "@jupyter-widgets/controls",
          "model_name": "HTMLModel",
          "model_module_version": "1.5.0",
          "state": {
            "_dom_classes": [],
            "_model_module": "@jupyter-widgets/controls",
            "_model_module_version": "1.5.0",
            "_model_name": "HTMLModel",
            "_view_count": null,
            "_view_module": "@jupyter-widgets/controls",
            "_view_module_version": "1.5.0",
            "_view_name": "HTMLView",
            "description": "",
            "description_tooltip": null,
            "layout": "IPY_MODEL_9e394257976b4fd9b383b19eef09a994",
            "placeholder": "​",
            "style": "IPY_MODEL_2e09d8d004fb4e25b3ace3d585f98de9",
            "value": "Downloading: 100%"
          }
        },
        "d5feef8932de492dab1dd2fcb943ac8c": {
          "model_module": "@jupyter-widgets/controls",
          "model_name": "FloatProgressModel",
          "model_module_version": "1.5.0",
          "state": {
            "_dom_classes": [],
            "_model_module": "@jupyter-widgets/controls",
            "_model_module_version": "1.5.0",
            "_model_name": "FloatProgressModel",
            "_view_count": null,
            "_view_module": "@jupyter-widgets/controls",
            "_view_module_version": "1.5.0",
            "_view_name": "ProgressView",
            "bar_style": "success",
            "description": "",
            "description_tooltip": null,
            "layout": "IPY_MODEL_b3aa77e28fa24901ac3b636b81038d92",
            "max": 466062,
            "min": 0,
            "orientation": "horizontal",
            "style": "IPY_MODEL_dc1a848f43034dfb8a3600af3e92a02c",
            "value": 466062
          }
        },
        "a2d253cc1bfc4c939ae7a0afa3079159": {
          "model_module": "@jupyter-widgets/controls",
          "model_name": "HTMLModel",
          "model_module_version": "1.5.0",
          "state": {
            "_dom_classes": [],
            "_model_module": "@jupyter-widgets/controls",
            "_model_module_version": "1.5.0",
            "_model_name": "HTMLModel",
            "_view_count": null,
            "_view_module": "@jupyter-widgets/controls",
            "_view_module_version": "1.5.0",
            "_view_name": "HTMLView",
            "description": "",
            "description_tooltip": null,
            "layout": "IPY_MODEL_6c0d66bb9ce54e72ba5ad34b6ca1b8ea",
            "placeholder": "​",
            "style": "IPY_MODEL_02512aa2489a4eca9c27f68163356df5",
            "value": " 455k/455k [00:00&lt;00:00, 1.98MB/s]"
          }
        },
        "7406d4ff6aa549dbbf1b57814cb98cb1": {
          "model_module": "@jupyter-widgets/base",
          "model_name": "LayoutModel",
          "model_module_version": "1.2.0",
          "state": {
            "_model_module": "@jupyter-widgets/base",
            "_model_module_version": "1.2.0",
            "_model_name": "LayoutModel",
            "_view_count": null,
            "_view_module": "@jupyter-widgets/base",
            "_view_module_version": "1.2.0",
            "_view_name": "LayoutView",
            "align_content": null,
            "align_items": null,
            "align_self": null,
            "border": null,
            "bottom": null,
            "display": null,
            "flex": null,
            "flex_flow": null,
            "grid_area": null,
            "grid_auto_columns": null,
            "grid_auto_flow": null,
            "grid_auto_rows": null,
            "grid_column": null,
            "grid_gap": null,
            "grid_row": null,
            "grid_template_areas": null,
            "grid_template_columns": null,
            "grid_template_rows": null,
            "height": null,
            "justify_content": null,
            "justify_items": null,
            "left": null,
            "margin": null,
            "max_height": null,
            "max_width": null,
            "min_height": null,
            "min_width": null,
            "object_fit": null,
            "object_position": null,
            "order": null,
            "overflow": null,
            "overflow_x": null,
            "overflow_y": null,
            "padding": null,
            "right": null,
            "top": null,
            "visibility": null,
            "width": null
          }
        },
        "9e394257976b4fd9b383b19eef09a994": {
          "model_module": "@jupyter-widgets/base",
          "model_name": "LayoutModel",
          "model_module_version": "1.2.0",
          "state": {
            "_model_module": "@jupyter-widgets/base",
            "_model_module_version": "1.2.0",
            "_model_name": "LayoutModel",
            "_view_count": null,
            "_view_module": "@jupyter-widgets/base",
            "_view_module_version": "1.2.0",
            "_view_name": "LayoutView",
            "align_content": null,
            "align_items": null,
            "align_self": null,
            "border": null,
            "bottom": null,
            "display": null,
            "flex": null,
            "flex_flow": null,
            "grid_area": null,
            "grid_auto_columns": null,
            "grid_auto_flow": null,
            "grid_auto_rows": null,
            "grid_column": null,
            "grid_gap": null,
            "grid_row": null,
            "grid_template_areas": null,
            "grid_template_columns": null,
            "grid_template_rows": null,
            "height": null,
            "justify_content": null,
            "justify_items": null,
            "left": null,
            "margin": null,
            "max_height": null,
            "max_width": null,
            "min_height": null,
            "min_width": null,
            "object_fit": null,
            "object_position": null,
            "order": null,
            "overflow": null,
            "overflow_x": null,
            "overflow_y": null,
            "padding": null,
            "right": null,
            "top": null,
            "visibility": null,
            "width": null
          }
        },
        "2e09d8d004fb4e25b3ace3d585f98de9": {
          "model_module": "@jupyter-widgets/controls",
          "model_name": "DescriptionStyleModel",
          "model_module_version": "1.5.0",
          "state": {
            "_model_module": "@jupyter-widgets/controls",
            "_model_module_version": "1.5.0",
            "_model_name": "DescriptionStyleModel",
            "_view_count": null,
            "_view_module": "@jupyter-widgets/base",
            "_view_module_version": "1.2.0",
            "_view_name": "StyleView",
            "description_width": ""
          }
        },
        "b3aa77e28fa24901ac3b636b81038d92": {
          "model_module": "@jupyter-widgets/base",
          "model_name": "LayoutModel",
          "model_module_version": "1.2.0",
          "state": {
            "_model_module": "@jupyter-widgets/base",
            "_model_module_version": "1.2.0",
            "_model_name": "LayoutModel",
            "_view_count": null,
            "_view_module": "@jupyter-widgets/base",
            "_view_module_version": "1.2.0",
            "_view_name": "LayoutView",
            "align_content": null,
            "align_items": null,
            "align_self": null,
            "border": null,
            "bottom": null,
            "display": null,
            "flex": null,
            "flex_flow": null,
            "grid_area": null,
            "grid_auto_columns": null,
            "grid_auto_flow": null,
            "grid_auto_rows": null,
            "grid_column": null,
            "grid_gap": null,
            "grid_row": null,
            "grid_template_areas": null,
            "grid_template_columns": null,
            "grid_template_rows": null,
            "height": null,
            "justify_content": null,
            "justify_items": null,
            "left": null,
            "margin": null,
            "max_height": null,
            "max_width": null,
            "min_height": null,
            "min_width": null,
            "object_fit": null,
            "object_position": null,
            "order": null,
            "overflow": null,
            "overflow_x": null,
            "overflow_y": null,
            "padding": null,
            "right": null,
            "top": null,
            "visibility": null,
            "width": null
          }
        },
        "dc1a848f43034dfb8a3600af3e92a02c": {
          "model_module": "@jupyter-widgets/controls",
          "model_name": "ProgressStyleModel",
          "model_module_version": "1.5.0",
          "state": {
            "_model_module": "@jupyter-widgets/controls",
            "_model_module_version": "1.5.0",
            "_model_name": "ProgressStyleModel",
            "_view_count": null,
            "_view_module": "@jupyter-widgets/base",
            "_view_module_version": "1.2.0",
            "_view_name": "StyleView",
            "bar_color": null,
            "description_width": ""
          }
        },
        "6c0d66bb9ce54e72ba5ad34b6ca1b8ea": {
          "model_module": "@jupyter-widgets/base",
          "model_name": "LayoutModel",
          "model_module_version": "1.2.0",
          "state": {
            "_model_module": "@jupyter-widgets/base",
            "_model_module_version": "1.2.0",
            "_model_name": "LayoutModel",
            "_view_count": null,
            "_view_module": "@jupyter-widgets/base",
            "_view_module_version": "1.2.0",
            "_view_name": "LayoutView",
            "align_content": null,
            "align_items": null,
            "align_self": null,
            "border": null,
            "bottom": null,
            "display": null,
            "flex": null,
            "flex_flow": null,
            "grid_area": null,
            "grid_auto_columns": null,
            "grid_auto_flow": null,
            "grid_auto_rows": null,
            "grid_column": null,
            "grid_gap": null,
            "grid_row": null,
            "grid_template_areas": null,
            "grid_template_columns": null,
            "grid_template_rows": null,
            "height": null,
            "justify_content": null,
            "justify_items": null,
            "left": null,
            "margin": null,
            "max_height": null,
            "max_width": null,
            "min_height": null,
            "min_width": null,
            "object_fit": null,
            "object_position": null,
            "order": null,
            "overflow": null,
            "overflow_x": null,
            "overflow_y": null,
            "padding": null,
            "right": null,
            "top": null,
            "visibility": null,
            "width": null
          }
        },
        "02512aa2489a4eca9c27f68163356df5": {
          "model_module": "@jupyter-widgets/controls",
          "model_name": "DescriptionStyleModel",
          "model_module_version": "1.5.0",
          "state": {
            "_model_module": "@jupyter-widgets/controls",
            "_model_module_version": "1.5.0",
            "_model_name": "DescriptionStyleModel",
            "_view_count": null,
            "_view_module": "@jupyter-widgets/base",
            "_view_module_version": "1.2.0",
            "_view_name": "StyleView",
            "description_width": ""
          }
        }
      }
    }
  },
  "cells": [
    {
      "cell_type": "code",
      "execution_count": null,
      "metadata": {
        "colab": {
          "base_uri": "https://localhost:8080/"
        },
        "id": "RF_mc3l9Z0Dj",
        "outputId": "eaa39c87-80a1-43fa-9174-9ad649bcd7e1"
      },
      "outputs": [
        {
          "output_type": "stream",
          "name": "stdout",
          "text": [
            "Looking in indexes: https://pypi.org/simple, https://us-python.pkg.dev/colab-wheels/public/simple/\n",
            "Collecting transformers\n",
            "  Downloading transformers-4.19.2-py3-none-any.whl (4.2 MB)\n",
            "\u001b[K     |████████████████████████████████| 4.2 MB 5.2 MB/s \n",
            "\u001b[?25hCollecting huggingface-hub<1.0,>=0.1.0\n",
            "  Downloading huggingface_hub-0.6.0-py3-none-any.whl (84 kB)\n",
            "\u001b[K     |████████████████████████████████| 84 kB 2.9 MB/s \n",
            "\u001b[?25hRequirement already satisfied: packaging>=20.0 in /usr/local/lib/python3.7/dist-packages (from transformers) (21.3)\n",
            "Requirement already satisfied: numpy>=1.17 in /usr/local/lib/python3.7/dist-packages (from transformers) (1.21.6)\n",
            "Requirement already satisfied: regex!=2019.12.17 in /usr/local/lib/python3.7/dist-packages (from transformers) (2019.12.20)\n",
            "Requirement already satisfied: requests in /usr/local/lib/python3.7/dist-packages (from transformers) (2.23.0)\n",
            "Collecting pyyaml>=5.1\n",
            "  Downloading PyYAML-6.0-cp37-cp37m-manylinux_2_5_x86_64.manylinux1_x86_64.manylinux_2_12_x86_64.manylinux2010_x86_64.whl (596 kB)\n",
            "\u001b[K     |████████████████████████████████| 596 kB 70.9 MB/s \n",
            "\u001b[?25hRequirement already satisfied: importlib-metadata in /usr/local/lib/python3.7/dist-packages (from transformers) (4.11.3)\n",
            "Requirement already satisfied: filelock in /usr/local/lib/python3.7/dist-packages (from transformers) (3.7.0)\n",
            "Collecting tokenizers!=0.11.3,<0.13,>=0.11.1\n",
            "  Downloading tokenizers-0.12.1-cp37-cp37m-manylinux_2_12_x86_64.manylinux2010_x86_64.whl (6.6 MB)\n",
            "\u001b[K     |████████████████████████████████| 6.6 MB 7.9 MB/s \n",
            "\u001b[?25hRequirement already satisfied: tqdm>=4.27 in /usr/local/lib/python3.7/dist-packages (from transformers) (4.64.0)\n",
            "Requirement already satisfied: typing-extensions>=3.7.4.3 in /usr/local/lib/python3.7/dist-packages (from huggingface-hub<1.0,>=0.1.0->transformers) (4.2.0)\n",
            "Requirement already satisfied: pyparsing!=3.0.5,>=2.0.2 in /usr/local/lib/python3.7/dist-packages (from packaging>=20.0->transformers) (3.0.9)\n",
            "Requirement already satisfied: zipp>=0.5 in /usr/local/lib/python3.7/dist-packages (from importlib-metadata->transformers) (3.8.0)\n",
            "Requirement already satisfied: certifi>=2017.4.17 in /usr/local/lib/python3.7/dist-packages (from requests->transformers) (2022.5.18.1)\n",
            "Requirement already satisfied: idna<3,>=2.5 in /usr/local/lib/python3.7/dist-packages (from requests->transformers) (2.10)\n",
            "Requirement already satisfied: urllib3!=1.25.0,!=1.25.1,<1.26,>=1.21.1 in /usr/local/lib/python3.7/dist-packages (from requests->transformers) (1.24.3)\n",
            "Requirement already satisfied: chardet<4,>=3.0.2 in /usr/local/lib/python3.7/dist-packages (from requests->transformers) (3.0.4)\n",
            "Installing collected packages: pyyaml, tokenizers, huggingface-hub, transformers\n",
            "  Attempting uninstall: pyyaml\n",
            "    Found existing installation: PyYAML 3.13\n",
            "    Uninstalling PyYAML-3.13:\n",
            "      Successfully uninstalled PyYAML-3.13\n",
            "Successfully installed huggingface-hub-0.6.0 pyyaml-6.0 tokenizers-0.12.1 transformers-4.19.2\n"
          ]
        }
      ],
      "source": [
        "!pip install transformers"
      ]
    },
    {
      "cell_type": "code",
      "source": [
        "from transformers import AutoTokenizer, AutoModelForSeq2SeqLM\n",
        "\n",
        "ltokenizer = AutoTokenizer.from_pretrained(\"slauw87/bart_summarisation\")\n",
        "\n",
        "lmodel = AutoModelForSeq2SeqLM.from_pretrained(\"slauw87/bart_summarisation\")"
      ],
      "metadata": {
        "colab": {
          "base_uri": "https://localhost:8080/",
          "height": 241,
          "referenced_widgets": [
            "d5404df6dc9f4a1aaceb350fce1892a7",
            "3adaa8d8bf154e6c92f5873c89fc01f8",
            "b0e70c8ca5b44f93baa1db2655546d71",
            "2ed35b649dc24c0bbfb8c2b5846eba62",
            "cac37e22b96e4e33ba195f26fc97c9ab",
            "2f753a029cd14241a47aae513181683f",
            "2076ac69f7a241d9b3145e6faeccb882",
            "cc8fb470f175473da7087981a09dcf74",
            "09ddee2eef2143579ab17fb88a3f3a1f",
            "602f769a10e5448caa8f4eddd9cdef47",
            "8ad0253bd9b84343a44c7b2a40cb2839",
            "a81381a3ee43492c93ab7c6d541dbfaa",
            "3c957a1c825049f89a5e0b2aec7ddd8f",
            "781398ee47de486d8bf947a806c45e2b",
            "7b9f219cb8634eba8ecb0598be3def23",
            "b98033797b504ab0bf3b910c14570847",
            "1d7ef10d4eeb462abb2828effd900898",
            "437c9cd9fd7b464589620b0e63372d19",
            "ca53aa76092e4051b8d089820f8d920e",
            "3c2295ebf2db412ebd861d51bbbe6199",
            "cb8c6c265db4493e8189c2e08ac38e2c",
            "cffd1adb604d464083fd189beea95c8d",
            "e981ff2cbae2436bb823a75e90b9c0ea",
            "b949c29ec2984b0781fccf9ba80d99f4",
            "5c608800201d4ca8ae29f0238b026c19",
            "851b8bba299a4e7fa6ba493f6779e228",
            "d2c7541f8d204379906cc5388c2ef685",
            "135685e4b770445a9adde384f9998233",
            "a05c1a4bdbe64c53b639f951f830141c",
            "a3a32bc53305430ea4c6fa01c63ec786",
            "8ae1ca7ba0264f5a8c96b811564190be",
            "17589c49b39647a78e3bda2702235775",
            "1d6f61780153482eafa35530f21f4b35",
            "d50b8c09232a4b43803c703ad733db1e",
            "b0d25b121eb74323a925cdd99613c20f",
            "a14bbe660cde468b93138df7486e9c4d",
            "7d1ad3f44e09478d90a0af46c4e56e16",
            "be5405d8f18746b8bfd575ab9a181578",
            "33310930e71e4a1aadbddbcd6933c6f3",
            "364c1ea047a74f788bb12e6bec4f5377",
            "d97378ae279f45b7a8abc208f2f2a07b",
            "86f7cc45870b445396a52f684ee6b97f",
            "e71347538fab45a7a5de9e04938d51d3",
            "f730b27cc51a45109c937b82a8b5b40f",
            "255952e7efdd44639eb873854c8592a7",
            "2a43d714eb6d469bb8b6f0c024a83948",
            "9e5955832f644e49b3f4de3e363add63",
            "0053c559dc6d45bab0b933c7b1faf9ea",
            "c44c3eeb03b24b99a5b70162211339b4",
            "6d06cf1600044bf0bcd6657821b1b654",
            "a5a485bc3a0b4e66b1c6ecaaa26e6982",
            "1a6d5fdf931845ada8bee0e24b07cdc3",
            "b0be24b6295f4c6d9c9da620ddcca27d",
            "95afc5bf0cc345bba91df49061809774",
            "a72f0935fac74d4c962b8c814587165d",
            "50952a2a1a3b435cb95ccbe4fa88cece",
            "72a0b9318b9a44f5ace563d5e519119a",
            "f1288eaef27c4e61a39d38e4f52478f1",
            "52c3312e648247a3aaef1397434a1c99",
            "949d9e230fad422f81a6ed4f30a56790",
            "8dbe62777cc34236aebb93cc205150a2",
            "871102a25566450e83f81b782afc7f81",
            "67aca754b4564c51b6021c525ac00ebd",
            "19904043ae4f4a438ffeb878cf27595b",
            "b5b680f18e3e4dbf9a697dec92d29cb4",
            "0394fba24e5348ad987699978f172767",
            "18614f0c59ff4dd59d46ba28c310506b",
            "1c6785f819a6433ea9659de42ba72882",
            "b7afff8cc8574dbab9b67db2f0d5712b",
            "7cdb4b2f2de84e46b287308183ffa92d",
            "56d9166f4e9a498ab5248c0d40fc18b7",
            "4891a7899da54a0a9425d1c818178fdc",
            "cae675acd5ea43b3bb8f9c679822a1d4",
            "c0bd40c220bd4129ba54a7703fa14f3c",
            "546e20864b884332ad3ba8f546967994",
            "cacf24e1fd9142a4adc2234d5b4da6f3",
            "dc4fdf4475c24baba87269814381b1f5"
          ]
        },
        "id": "vpRj7r4wzJc8",
        "outputId": "a67452c7-5eed-4bbc-c4d1-fe87005f18ad"
      },
      "execution_count": null,
      "outputs": [
        {
          "output_type": "display_data",
          "data": {
            "text/plain": [
              "Downloading:   0%|          | 0.00/300 [00:00<?, ?B/s]"
            ],
            "application/vnd.jupyter.widget-view+json": {
              "version_major": 2,
              "version_minor": 0,
              "model_id": "d5404df6dc9f4a1aaceb350fce1892a7"
            }
          },
          "metadata": {}
        },
        {
          "output_type": "display_data",
          "data": {
            "text/plain": [
              "Downloading:   0%|          | 0.00/1.59k [00:00<?, ?B/s]"
            ],
            "application/vnd.jupyter.widget-view+json": {
              "version_major": 2,
              "version_minor": 0,
              "model_id": "a81381a3ee43492c93ab7c6d541dbfaa"
            }
          },
          "metadata": {}
        },
        {
          "output_type": "display_data",
          "data": {
            "text/plain": [
              "Downloading:   0%|          | 0.00/780k [00:00<?, ?B/s]"
            ],
            "application/vnd.jupyter.widget-view+json": {
              "version_major": 2,
              "version_minor": 0,
              "model_id": "e981ff2cbae2436bb823a75e90b9c0ea"
            }
          },
          "metadata": {}
        },
        {
          "output_type": "display_data",
          "data": {
            "text/plain": [
              "Downloading:   0%|          | 0.00/446k [00:00<?, ?B/s]"
            ],
            "application/vnd.jupyter.widget-view+json": {
              "version_major": 2,
              "version_minor": 0,
              "model_id": "d50b8c09232a4b43803c703ad733db1e"
            }
          },
          "metadata": {}
        },
        {
          "output_type": "display_data",
          "data": {
            "text/plain": [
              "Downloading:   0%|          | 0.00/1.29M [00:00<?, ?B/s]"
            ],
            "application/vnd.jupyter.widget-view+json": {
              "version_major": 2,
              "version_minor": 0,
              "model_id": "255952e7efdd44639eb873854c8592a7"
            }
          },
          "metadata": {}
        },
        {
          "output_type": "display_data",
          "data": {
            "text/plain": [
              "Downloading:   0%|          | 0.00/239 [00:00<?, ?B/s]"
            ],
            "application/vnd.jupyter.widget-view+json": {
              "version_major": 2,
              "version_minor": 0,
              "model_id": "50952a2a1a3b435cb95ccbe4fa88cece"
            }
          },
          "metadata": {}
        },
        {
          "output_type": "display_data",
          "data": {
            "text/plain": [
              "Downloading:   0%|          | 0.00/1.51G [00:00<?, ?B/s]"
            ],
            "application/vnd.jupyter.widget-view+json": {
              "version_major": 2,
              "version_minor": 0,
              "model_id": "18614f0c59ff4dd59d46ba28c310506b"
            }
          },
          "metadata": {}
        }
      ]
    },
    {
      "cell_type": "code",
      "source": [
        "def getSummaryBart(text):\n",
        "    article = text\n",
        "    input_ids = ltokenizer(article, return_tensors=\"pt\").input_ids\n",
        "    output_ids = lmodel.generate(input_ids)\n",
        "    summary = ltokenizer.decode(output_ids[0], skip_special_tokens=True)\n",
        "    return summary"
      ],
      "metadata": {
        "id": "WwtrbcEczLNQ"
      },
      "execution_count": null,
      "outputs": []
    },
    {
      "cell_type": "code",
      "source": [
        "def GenerateSummary(text):\n",
        "  x = getSummaryBart(text)\n",
        "  y = \"\";\n",
        "  prev = '';\n",
        "  for i in range(0, len(x)):\n",
        "      if prev != '.':\n",
        "        y += x[i];\n",
        "      prev = x[i];\n",
        "  return y\n",
        "  # print(y)"
      ],
      "metadata": {
        "id": "H6_fgCLBzNrM"
      },
      "execution_count": null,
      "outputs": []
    },
    {
      "cell_type": "markdown",
      "source": [
        "Damayanti's Swayamvara"
      ],
      "metadata": {
        "id": "fV4eLMR2HorS"
      }
    },
    {
      "cell_type": "code",
      "source": [
        "import nltk\n",
        "from nltk.tokenize import sent_tokenize\n",
        "nltk.download('punkt')\n",
        "\n",
        "file_path = \"/content/drive/MyDrive/Mahabarat/03.txt\"\n",
        "\n",
        "# book_list = [\"01\",\"02\",\"03\",\"04\",\"05\",\"06\",\"07\",\"08\",\"09\",\"10\",\"11\",\"12\",\"13\",\"14\",\"15\",\"16\",\"17\",\"18\"]\n",
        "sen_list = []\n",
        "# for i in book_list:\n",
        "book_path = file_path\n",
        "  #print(book_path)\n",
        "f = open(book_path, \"r\")\n",
        "s = f.read()\n",
        "# temp = sent_tokenize(s)\n",
        "# for x in temp:\n",
        "#   sen_list.append(x)\n",
        "# print(sen_list[100])"
      ],
      "metadata": {
        "colab": {
          "base_uri": "https://localhost:8080/"
        },
        "id": "FvqeqANusiFM",
        "outputId": "8c1765c7-231b-45ee-988c-c36b2b1be2f6"
      },
      "execution_count": null,
      "outputs": [
        {
          "output_type": "stream",
          "name": "stdout",
          "text": [
            "[nltk_data] Downloading package punkt to /root/nltk_data...\n",
            "[nltk_data]   Unzipping tokenizers/punkt.zip.\n"
          ]
        }
      ]
    },
    {
      "cell_type": "code",
      "source": [
        "s = s.split('\\n\\n')"
      ],
      "metadata": {
        "id": "1mG98EeZs32B"
      },
      "execution_count": null,
      "outputs": []
    },
    {
      "cell_type": "code",
      "source": [
        "paras_temp = []\n",
        "sectional_split = []\n",
        "i = 0\n",
        "dict = {}\n",
        "for x in s:\n",
        "  if 'SECTION' in x:\n",
        "    dict[i] = paras_temp\n",
        "    paras_temp = []\n",
        "    i+=1\n",
        "  else:\n",
        "    paras_temp.append(x)\n",
        "    \n"
      ],
      "metadata": {
        "id": "DMhShYjmvqYD"
      },
      "execution_count": null,
      "outputs": []
    },
    {
      "cell_type": "code",
      "source": [
        "print(dict[1])"
      ],
      "metadata": {
        "colab": {
          "base_uri": "https://localhost:8080/"
        },
        "id": "H3HZVb54w3nG",
        "outputId": "02931a13-0bbe-45c6-91f6-239a1267af6a"
      },
      "execution_count": null,
      "outputs": [
        {
          "output_type": "stream",
          "name": "stdout",
          "text": [
            "['(Aranyaka Parva)', 'Om! Having bowed down to Narayana, and Nara the foremost of male beings,\\nand the goddess Saraswati also, must the word Jaya be uttered.', '\"Janamejaya said, \\'O thou foremost of regenerate ones, deceitfully\\ndefeated at dice by the sons of Dhritarashtra and their counsellors,\\nincensed by those wicked ones that thus brought about a fierce animosity,\\nand addressed in language that was so cruel, what did the Kuru princes,\\nmy ancestors--the sons of Pritha--(then) do? How also did the sons of\\nPritha, equal unto Sakra in prowess, deprived of affluence and suddenly\\nover whelmed with misery, pass their days in the forest? Who followed the\\nsteps of those princes plunged in excess of affliction? And how did those\\nhigh souled ones bear themselves and derive their sustenance, and where\\ndid they put up? And, O illustrious ascetic and foremost of Brahmanas,\\nhow did those twelve years (of exile) of those warriors who were slayers\\nof foes, pass away in the forest? And undeserving of pain, how did that\\nprincess, the best of her sex, devoted to her husbands, eminently\\nvirtuous, and always speaking the truth, endure that painful exile in the\\nforest? O thou of ascetic wealth tell me all this in detail, for, O\\nBrahmana, I desire to hear thee narrate the history of those heroes\\npossessed of abundant prowess and lustre. Truly my curiosity is great.\\'', '\"Vaisampayana said, \\'Thus defeated at dice and incensed by the wicked\\nsons of Dhritarashtra and their counsellors, the sons of Pritha set out\\nfrom Hastinapura. And issuing through Vardhamana gate of the city, the\\nPandavas bearing their weapons and accompanied by Draupadi set out in a\\nnorthernly direction. Indrasena and others, with servants numbering\\naltogether fourteen, with their wives, followed them on swift cars. And\\nthe citizens learning of their departure became overwhelmed with sorrow,\\nand began to censure Bhishma and Vidura and Drona and Gautama. And having\\nmet together they thus addressed one another fearlessly.', \"'Alas, our families, we ourselves, and our homes are all gone, when the\\nwicked Duryodhana, backed by the son of Suvala, by Karna and Dussasana,\\naspireth to this kingdom. And, Oh, our families, our (ancestral) usages,\\nour virtue and prosperity, are all doomed where this sinful wretch\\nsupported by wretches as sinful aspireth to the kingdom! And, Oh, how can\\nhappiness be there where these are not! Duryodhana beareth malice towards\\nall superiors, hath taken leave of good conduct, and quarreleth with\\nthose that are near to him in blood. Covetous and vain and mean, he is\\ncruel by nature. The whole earth is doomed when Duryodhana becometh its\\nruler. Thither, therefore, let us proceed whither the merciful and\\nhigh-minded sons of Pandu with passions under control and victorious over\\nfoes, and possessed of modesty and renown, and devoted to pious\\npractices, repair!'\", '\"Vaisampayana said, \\'And saying this, the citizens went after the\\nPandavas, and having met them, they all, with joined hands, thus\\naddressed the sons of Kunti and Madri.', \"'Blest be ye! Where will ye go, leaving us in grief? We will follow you\\nwhithersoever ye will go! Surely have we been distressed upon learning\\nthat ye have been deceitfully vanquished by relentless enemies! It\\nbehoveth you not to forsake us that are your loving subjects and devoted\\nfriends always seeking your welfare and employed in doing what is\\nagreeable to you! We desire not to be overwhelmed in certain destruction\\nliving in the dominions of the Kuru king. Ye bulls among men, listen as\\nwe indicate the merits and demerits springing respectively from\\nassociation with what is good and bad! As cloth, water, the ground, and\\nsesame seeds are perfumed by association with flowers, even so are\\nqualities ever the product of association. Verily association with fools\\nproduceth an illusion that entangleth the mind, as daily communion with\\nthe good and the wise leadeth to the practice of virtue. Therefore, they\\nthat desire emancipation should associate with those that are wise and\\nold and honest and pure in conduct and possessed of ascetic merit. They\\nshould be waited upon whose triple possessions, viz., knowledge (of the\\nVedas), origin and acts, are all pure, and association with them is even\\nsuperior to (the study of the) scriptures. Devoid of the religious acts\\nas we are, we shall yet reap religious merit by association with the\\nrighteous, as we should come by sin by waiting upon the sinful. The very\\nsight and touch of the dishonest, and converse and association with them;\\ncause diminution of virtue, and men (that are doomed to these), never\\nattain purity of mind. Association with the base impaireth the\\nunderstanding, as, indeed, with the indifferent maketh it indifferent,\\nwhile communion with the good ever exalteth it. All those attributes\\nwhich are spoken of in the world as the sources of religious merit, of\\nworldly prosperity and sensual pleasures, which are regarded by the\\npeople, extolled in the Vedas, and approved by the well-behaved, exist in\\nyou, separately and jointly! Therefore, desirous of our own welfare, we\\nwish to live amongst you who possess those attributes!\", '\"Yudhishthira said, \\'Blessed are we since the people with the Brahmanas\\nat their head, moved by affection and compassion credit us with merits we\\nhave not. I, however, with my brothers, would ask all of you to do one\\nthing. Ye should not, through affection and pity for us, act otherwise!\\nOur grandfather Bhishma, the king (Dhritarashtra), Vidura, my mother and\\nmost of my well-wishers, are all in the city of Hastinapura. Therefore,\\nif ye are minded to seek our welfare, cherish ye them with care, uniting\\ntogether as they are overwhelmed with sorrow and afflictions. Grieved at\\nour departure, ye have come far! Go ye back, and let your hearts be\\ndirected with tenderness towards the relatives I entrust to you as\\npledges! This, of all others, is the one act upon which my heart is set,\\nand by doing this ye would give me great satisfaction and pay me your\\nbest regards!', '\"Vaisampayana continued, \\'Thus exhorted by Yudhishthira the just, the\\npeople in a body set up a loud wail exclaiming,--Alas, O king! And\\nafflicted and overwhelmed with sorrow on remembering the virtues of\\nPritha\\'s son, they unwillingly retraced their steps asking leave of the\\nPandavas.', '\\'The citizens having ceased to follow, the Pandavas ascended their cars,\\nand setting out reached (the site of) the mighty banian tree called\\nPramana on the banks of the Ganges. And reaching the site of the banian\\ntree about the close of the day, the heroic sons of Pandu purified\\nthemselves by touching the sacred water, and passed the night there. And\\nafflicted with woe they spent that night taking water alone as their sole\\nsustenance. Certain Brahmanas belonging to both classes, viz., those that\\nmaintained the sacrificial fire and those that maintained it not, who\\nhad, with their disciples and relatives, out of affection followed the\\nPandavas thither also passed the night with them. And surrounded by those\\nutterers of Brahma, the king shone resplendent in their midst. And that\\nevening, at once beautiful and terrible, those Brahmanas having lighted\\ntheir (sacred) fires, began to chant the Vedas and hold mutual converse.\\nAnd those foremost of Brahmanas, with swan-sweet voices spent the night,\\ncomforting that best of Kurus--the king.\"', '']\n"
          ]
        }
      ]
    },
    {
      "cell_type": "code",
      "source": [
        "set_of_secs = {-1}\n",
        "for key in dict:\n",
        "  temp = dict[key]\n",
        "  for x in temp:\n",
        "    if 'Swayamvara' in x:\n",
        "      set_of_secs.add(key)\n",
        "print(set_of_secs)"
      ],
      "metadata": {
        "colab": {
          "base_uri": "https://localhost:8080/"
        },
        "id": "Ef6gRHWvs7yC",
        "outputId": "70eb092b-7764-4e4b-fa9e-23c475f7cb6d"
      },
      "execution_count": null,
      "outputs": [
        {
          "output_type": "stream",
          "name": "stdout",
          "text": [
            "{65, 70, 71, 73, 74, 12, 54, 55, 56, 57, 58, -1}\n"
          ]
        }
      ]
    },
    {
      "cell_type": "code",
      "source": [
        "from operator import length_hint\n",
        "sorted_set = sorted(set_of_secs)\n",
        "print(length_hint(set_of_secs))\n",
        "print(sorted_set)\n",
        "print(type(sorted_set))\n",
        "length_hint(sorted_set)"
      ],
      "metadata": {
        "colab": {
          "base_uri": "https://localhost:8080/"
        },
        "id": "OvjhEE6sxJrG",
        "outputId": "f076c262-c1dc-4362-c1f2-656ba2ad21eb"
      },
      "execution_count": null,
      "outputs": [
        {
          "output_type": "stream",
          "name": "stdout",
          "text": [
            "12\n",
            "[-1, 12, 54, 55, 56, 57, 58, 65, 70, 71, 73, 74]\n",
            "<class 'list'>\n"
          ]
        },
        {
          "output_type": "execute_result",
          "data": {
            "text/plain": [
              "12"
            ]
          },
          "metadata": {},
          "execution_count": 10
        }
      ]
    },
    {
      "cell_type": "code",
      "source": [
        "def ranges(nums):\n",
        "    nums = sorted(set(nums))\n",
        "    gaps = [[s, e] for s, e in zip(nums, nums[1:]) if s+2 < e]\n",
        "    edges = iter(nums[:1] + sum(gaps, []) + nums[-1:])\n",
        "    return list(zip(edges, edges))\n",
        "\n",
        "temp = ranges(sorted_set)\n",
        "final = []\n",
        "# print(temp)\n",
        "for i in temp:\n",
        "  if i[1] - i[0] != 0:\n",
        "    final.append(i)\n",
        "print(final)"
      ],
      "metadata": {
        "colab": {
          "base_uri": "https://localhost:8080/"
        },
        "id": "APe-XT2SxN1g",
        "outputId": "84d0fda6-72b6-4709-a0eb-7ecce8488bc3"
      },
      "execution_count": null,
      "outputs": [
        {
          "output_type": "stream",
          "name": "stdout",
          "text": [
            "[(54, 58), (70, 74)]\n"
          ]
        }
      ]
    },
    {
      "cell_type": "code",
      "source": [
        "print(len(dict[2]))"
      ],
      "metadata": {
        "colab": {
          "base_uri": "https://localhost:8080/"
        },
        "id": "f6e5F7G1yB4P",
        "outputId": "394c2723-71ae-461a-f3e6-bbe1ddbddc52"
      },
      "execution_count": null,
      "outputs": [
        {
          "output_type": "stream",
          "name": "stdout",
          "text": [
            "10\n"
          ]
        }
      ]
    },
    {
      "cell_type": "code",
      "source": [
        "event_sentences = []\n",
        "for x in final:\n",
        "  sentences = []\n",
        "  for i in range(x[0], x[1]+1):\n",
        "    print(i)\n",
        "    temp = dict[i]\n",
        "    for s in temp:\n",
        "      sentences.append(s)\n",
        "  event_sentences.append(sentences)"
      ],
      "metadata": {
        "colab": {
          "base_uri": "https://localhost:8080/"
        },
        "id": "j3VTQF-fyNFl",
        "outputId": "48118959-4e84-4967-d3c8-8f93c7415cee"
      },
      "execution_count": null,
      "outputs": [
        {
          "output_type": "stream",
          "name": "stdout",
          "text": [
            "54\n",
            "55\n",
            "56\n",
            "57\n",
            "58\n",
            "70\n",
            "71\n",
            "72\n",
            "73\n",
            "74\n"
          ]
        }
      ]
    },
    {
      "cell_type": "code",
      "source": [
        "print(event_sentences[1])"
      ],
      "metadata": {
        "colab": {
          "base_uri": "https://localhost:8080/"
        },
        "id": "ryhb1VhaVEW0",
        "outputId": "e0ca7e69-0cc7-419e-bda4-b5e1bf13c7f7"
      },
      "execution_count": null,
      "outputs": [
        {
          "output_type": "stream",
          "name": "stdout",
          "text": [
            "['\"Vrihadaswa said, \\'After a long time had passed away, a Brahmana named\\nParnada returned to the city (of the Vidarbhas), and said unto the\\ndaughter of Bhima, \\'O Damayanti, seeking Nala, the king of Nishadhas, I\\ncame to the city of Ayodhya, and appeared before the son of Bhangasura.\\nAnd, O best of women, I repeated those words of thine in the presence of\\nthe blessed Rituparna. But hearing them neither that ruler of men, nor\\nhis courtiers, answered anything, although I uttered them repeatedly.\\nThen, after I had been dismissed by the monarch, I was accosted by a\\nperson in the service of Rituparna, named Vahuka. And Vahuka is the\\ncharioteer of that king, of unsightly appearance and possessed of short\\narms. And he is skillful in driving with speed, and well acquainted with\\nthe culinary art. And sighing frequently, and weeping again and again, he\\ninquired about my welfare and afterwards said these words, \\'Chaste women,\\nalthough fallen into distress, yet protect themselves and thus certainly\\nsecure heaven. Although they may be deserted by their lords, they do not\\nyet become angry on that account, for women that are chaste lead their\\nlives, encased in the armour of virtuous behaviour. It behoveth her not\\nto be angry, since he that deserted her was overwhelmed with calamity,\\nand deprived of every bliss. A beauteous and virtuous woman should not be\\nangry with one that was deprived by birds of his garment while striving\\nto procure sustenance and who is being consumed with grief. Whether\\ntreated well or ill, such a wife should never indulge in ire, beholding\\nher husband in that plight, despoiled of kingdom and destitute of\\nprosperity, oppressed with hunger and overwhelmed with calamity.\\' Hearing\\nthese words of his, I have speedily come here. Thou hast now heard all.\\nDo what thou thinkest proper, and inform the king of it.\\'', '\"O king, having heard these words of Parnada, Damayanti with tearful eyes\\ncame to her mother, and spake unto her in private, \\'O mother, king Bhima\\nshould not, by any means, be made acquainted with my purpose. In thy\\npresence will I employ that best of Brahmanas, Sudeva! If thou desirest\\nmy welfare, act in such a way that king Bhima may not know my purpose.\\nLet Sudeva without delay go hence to the city of Ayodhya, for the purpose\\nof bringing Nala, O mother, having performed the same auspicious rites by\\nvirtue of which he had speedily brought me into the midst of friends.\\'\\nWith these words, after Parnada had recovered from fatigue, the princess\\nof Vidarbha worshipped him with profuse wealth and also said, \\'When Nala\\nwill come here, O Brahmana, I will bestow on thee wealth in abundance\\nagain. Thou hast done me the immense service which none else, indeed, can\\ndo me, for, (owing to that service of thine), O thou best of the\\nregenerate ones, I shall speedily regain my (lost) lord.\\' And thus\\naddressed by Damayanti, that high-minded Brahmana comforted her, uttering\\nbenedictory words of auspicious import, and then went home, regarding his\\nmission to have been successful. And after he had gone away, Damayanti\\noppressed with grief and distress, calling Sudeva, addressed him, O\\nYudhishthira, in the presence of her mother, saying, \\'O Sudeva, go thou\\nto the city of Ayodhya, straight as a bird, and tell king Rituparna\\nliving there, these words: \\'Bhima\\'s daughter, Damayanti will hold another\\nSwayamvara. All the kings and princes are going thither. Calculating the\\ntime, I find that the ceremony will take place tomorrow. O represser of\\nfoes, if it is possible for thee, go thither without delay. Tomorrow,\\nafter the sun hath risen, she will choose a second husband, as she doth\\nnot know whether the heroic Nala liveth or not. And addressed by her, O\\nmonarch thus, Sudeva set out. And he said unto Rituparna, all that he had\\nbeen directed to say.\\'\"', '', '\"Vrihadaswa continued, \\'Having heard the words of Sudeva king Rituparna,\\nsoothing Vahuka with gentle words, said, \\'O Vahuka, thou art well-skilled\\nin training and guiding horses. If it pleases thee, I intend to go to\\nDamayanti\\'s Swayamvara in course of a single day.\\' Thus addressed, O son\\nof Kunti, by that king, Nala felt his heart to be bursting in grief. And\\nthe high-souled king seemed to burn in sorrow. And he thought within\\nhimself, \\'Perhaps Damayanti in doing this is blinded by sorrow. Or,\\nperhaps, she hath conceived this magnificent scheme for my sake. Alas,\\ncruel is the deed that the innocent princess of Vidarbha intends to do,\\nhaving been deceived by my sinful and low self of little sense. It is\\nseen in the world that the nature of woman is inconstant. My offence also\\nhath been great; perhaps she is acting so, because she hath no longer any\\nlove for me owing to my separation from her. Indeed, that girl of slender\\nwaist, afflicted with grief on my account and with despair, will not\\ncertainly do anything of the kind, when especially, she is the mother of\\noffspring (by me). However whether this is true or false, I shall\\nascertain with certitude by going thither. I will, therefore, accomplish\\nRituparna\\'s and my own purpose also.\\' Having resolved thus in his mind,\\nVahuka, with his heart in sorrow, spake unto king Rituparna, with joined\\nhands, saying, \\'O monarch, I bow to thy behest, and, O tiger among men, I\\nwill go to the city of the Vidarbhas in a single day. O king!\\' Then, O\\nmonarch, at the command of the royal son of Bhangasura, Vahuka went to\\nthe stables and began to examine the horses. And repeatedly urged by\\nRituparna to make haste, Vahuka after much scrutiny and careful\\ndeliberation, selected some steeds that were lean-fleshed, yet strong and\\ncapable of a long journey and endued with energy and strength of high\\nbreed and docility, free from inauspicious marks, with wide nostrils and\\nswelling cheeks, free from faults as regards the ten hairy curls, born in\\n(the country of) Sindhu, and fleet as the winds. And seeing those horses,\\nthe king said somewhat angrily, \\'What is this, that thou wishest to do?\\nThou shouldst not jest with us. How can these horses of mine, weak in\\nstrength and breath, carry us? And how shall we be able to go this long\\nway by help of these?\\' Vahuka replied, \\'Each of these horses bears one\\ncurl on his forehead, two on his temples, four on his sides, four on his\\nchest, and one on his back. Without doubt, these steeds will be able to\\ngo to the country of the Vidarbhas. If, O king, thou thinkest of choosing\\nothers, point them out and I shall yoke them for thee.\\' Rituparna\\nrejoined, \\'O Vahuka, thou art versed in the science of horses and art\\nalso skillful (in guiding them). Do thou speedily yoke those that thou\\nthinkest to be able.\\' Thereupon the skillful Nala yoked upon the car four\\nexcellent steeds of good breed that were, besides, docile and fleet. And\\nafter the steeds had been yoked, the king without loss of time mounted\\nupon the car, when those best of horses fell down upon the ground on\\ntheir knees. Then, O king, that foremost of men, the blessed king Nala\\nbegan to soothe horses endued with energy and strength. And raising them\\nup with the reins and making the charioteer Varshneya sit on the car, he\\nprepared to set out with great speed. And those best of steeds, duly\\nurged by Vahuka, rose to the sky, confounding the occupant of the\\nvehicle. And beholding those steeds gifted with the speed of the wind\\nthus drawing the car, the blessed king of Ayodhaya was exceedingly\\namazed. And noticing the rattle of the car and also the management of the\\nsteeds, Varshneya reflected upon Vahuka\\'s skill in guiding horses. And he\\nthought, \\'Is he Matali, the charioteer of the king of the celestials? I\\nfind the same magnificent indications in the heroic Vahuka. Or, hath\\nSalihotra versed in the science of horses taken this human shape so\\nbeautiful? Or, is it king Nala the reducer of hostile towns that hath\\ncome here? Or, it may be that this Vahuka knoweth the science that Nala\\nknoweth, for I perceive that the knowledge of Vahuka is equal to that of\\nNala. Further, Vahuka and Nala are of the same age. This one, again, may\\nnot be Nala of high prowess, but somebody of equal knowledge. Illustrious\\npersons, however, walk this earth in disguise in consequence of\\nmisfortune, or agreeably to the ordinance of the scriptures. That this\\nperson is of unsightly appearance need not change my opinion; for Nala, I\\nthink, may even be despoiled of his personal features. In respect of age\\nthis one equals Nala. There is difference, however, in personal\\nappearance. Vahuka, again is endued with every accomplishment. I think,\\ntherefore, he is Nala.\\' Having thus reasoned long in his mind, O mighty\\nmonarch, Varshneya, the (former) charioteer of the righteous Nala, became\\nabsorbed in thought. And that foremost of kings Rituparna, also,\\nbeholding the skill of Vahuka in equestrian science experienced great\\ndelight, along with his charioteer Varshneya. And thinking of Vahuka\\'s\\napplication and ardour and the manner of his holding the reins, the king\\nfelt exceedingly glad.\\'\"', '', '\"Vrihadaswa said, \\'Like a bird coursing through the sky, Nala soon\\ncrossed rivers and mountains, and woods and lakes. And while the car was\\ncoursing thus, that conqueror of hostile cities, the royal son of\\nBhangasura, saw his upper garment drop down on the ground. And at soon as\\nhis garment had dropped down the high-minded monarch, without loss of\\ntime, told Nala, \\'I intend to recover it. O thou of profound\\nintelligence, retain these steeds endued with exceeding swiftness until\\nVarshneya bringeth back my garment.\\' Thereupon Nala replied unto him,\\n\\'The sheet is dropped down far away. We have travelled one yojana thence.\\nTherefore, it is incapable of being recovered.\\' After Nala had addressed\\nhim thus, O king, the royal son of Bhangasura came upon a Vibhitaka tree\\nwith fruits in a forest. And seeing that tree, the king hastily said to\\nVahuka, \\'O charioteer, do thou also behold my high proficiency in\\ncalculation. All men do not know everything. There is no one that is\\nversed in every science of art. Knowledge in its entirety is not found in\\nany one person, O Vahuka, the leaves and fruits of this tree that are\\nlying on the ground respectively exceed those that are on it by one\\nhundred and one. The two branches of the tree have fifty millions of\\nleaves, and two thousand and ninety five fruits. Do thou examine these\\ntwo branches and all their boughs.\\' Thereupon staying the car Vahuka\\naddressed the king, saying, \\'O crusher of foes, thou takest credit to\\nthyself in a matter which is beyond my perception. But, O monarch, I will\\nascertain it by the direct evidence of my senses, by cutting down the\\nVibhitaka. O king, when I actually count, it will no longer be matter of\\nspeculation. Therefore, in thy presence, O monarch, I will hew down this\\nVibhitaka. I do not know whether it be not (as thou hast said). In thy\\npresence, O ruler of men, I will count the fruits and leaves. Let\\nVarshneya hold the reins of the horses for a while.\\' Unto the charioteer\\nthe king replied, \\'There is no time to lose.\\' But Vahuka answered with\\nhumility, \\'Stay thou a short space, or, if thou art in a hurry, go then,\\nmaking Varshneya thy charioteer. The road lies direct and even.\\' And at\\nthis, O son of the Kuru race, soothing Vahuka, Rituparna said, \\'O Vahuka,\\nthou art the only charioteer, there is none other in this world. And, O\\nthou versed in horse lore, it is through thy help that I expect to go to\\nthe Vidarbhas. I place myself in thy hands. It behoveth thee not to cause\\nany obstacle. And, O Vahuka, whatever thy wish. I will grant it if taking\\nme to the country of the Vidarbhas to-day, thou makest me see the sun\\nrise.\\' At this, Vahuka answered him, saying, \\'After having counted (the\\nleaves and fruits of the) Vibhitaka, I shall proceed to Vidarbha, do thou\\nagree to my words. Then the king reluctantly told him, \\'Count. And on\\ncounting the leaves and fruits of a portion of this branch, thou wilt be\\nsatisfied of the truth of my assertion.\\' And thereupon Vahuka speedily\\nalighted from the car, and felled that tree. And struck with amazement\\nupon finding the fruits, after calculation, to be what the king had said,\\nhe addressed the king, saying, \\'O monarch, this thy power is wonderful. I\\ndesire, O prince, to know the art by which thou hast ascertained all\\nthis.\\' And at this king, intent upon proceeding speedily, said unto\\nVahuka. \\'Know that I am proficient at dice besides being versed in\\nnumbers. And Vahuka said unto him, \\'Impart unto me this knowledge and, O\\nbull among men, take from me my knowledge of horses.\\' And king Rituparna,\\nhaving regard to the importance of the act that depended upon Vahuka\\'s\\ngood-will, and tempted also by the horse-lore (that his charioteer\\npossessed), said, \\'So be it.\\' As solicited by thee, receive this science\\nof dice from me, and, O Vahuka, let my equine science remain with thee in\\ntrust.\\' And saying this, Rituparna imparted unto Nala the science (he\\ndesired). And Nala upon becoming acquainted with the science of dice,\\nKali came out of his body, incessantly vomiting from his mouth the\\nvirulent poison of Karkotaka.', 'And when Kali, afflicted (by Damayanti\\'s curse) came out (of Nala\\'s\\nbody), the fire of that curse also left Kali. Indeed, long had been the\\ntime for which the king had been afflicted by Kali, as if he were of\\nunregenerate soul. And Kala the ruler of the Nishadhas, in wrath, was\\nbent upon cursing Kali, when the latter, frightened, and trembling, said\\nwith joined hands, \\'Control thy wrath, O king! I will render thee\\nillustrious. Indrasena\\'s mother had formerly cursed me in anger when she\\nhad been deserted by thee. Ever since that time undergoing sore\\naffliction I resided in thee, O mighty monarch, O unconquered one,\\nmiserably and burning night and day with the venom of the prince of\\nsnakes. I seek thy protection. If thou dost not curse me who am\\naffrighted and seek thy protection, then those men that will attentively\\nrecite thy history, shall be even free from fear on my account.\\' And thus\\naddressed by Kali, king Nala controlled his wrath. And thereupon the\\nfrightened Kali speedily entered into the Vibhitaka tree. And while the\\nKali was conversing with Naishadha, he was invisible to others. And\\ndelivered from his afflictions, and having counted the fruits of that\\ntree, the king, filled with great joy and of high energy, mounted on the\\ncar and proceeded with energy, urging those fleet horses. And from the\\ntouch of Kali the Vibhitaka tree from that hour fell into disrepute. And\\nNala, with a glad heart, began to urge those foremost of steeds which\\nsprang into the air once and again like creatures endued with wings. And\\nthe illustrious monarch drove (the car) in the direction of the\\nVidarbhas. And after Nala had gone far away, Kali also returned to his\\nabode. And abandoned by Kali, O king, that lord of earth, the royal Nala,\\nbecame freed from calamity though he did not assume his native form.\\'\"', '', '\"Vrihadaswa said, \\'After Rituparna of prowess incapable of being baffled\\nhad, in the evening, arrived at the city of the Vidarbhas, the people\\nbrought unto king Bhima the tidings (of his arrival). And at the\\ninvitation of Bhima, the king (of Ayodhya) entered the city of Kundina,\\nfilling with the rattle of his car all the ten points, direct and\\ntransverse, of the horizon. And the steeds of Nala that were in that city\\nheard that sound, and hearing it they became delighted as they used to be\\nin the presence of Nala himself. And Damayanti also heard the sound of\\nthat car driven by Nala, like the deep roar of the clouds in the rainy\\nseason. And Bhima and the steeds (of Nala) regarded the clatter of that\\ncar to be like that which they used to hear in days of yore when king\\nNala himself urged his own steeds. And the peacocks on the terraces, and\\nthe elephants in the stables, and the horses also, all heard the rattle\\nof Rituparna\\'s car. And hearing the sound, so like the roar of the\\nclouds, the elephants and the peacocks, O king, began to utter their\\ncries, facing that direction, and filled with delight such as they\\nexperience when they hear the actual roar of the clouds. And Damayanti\\nsaid, \\'Because the rattle of his car filling the whole earth, gladdens my\\nheart, it must be King Nala (that has come). If I do not see Nala, of\\nface bright as the moon, that hero with countless virtues, I shall\\ncertainly die. If I am not clasped today in that hero\\'s thrilling\\nembrace, I shall certainly cease to be. If Naishadha with voice deep as\\nthat of the clouds doth not come to me today, I shall enter into a pyre\\nof golden brilliance. If that foremost of kings, powerful as a lion and\\ngifted with the strength of an infuriated elephant, doth not present\\nhimself before me, I shall certainly cease to live. I do not remember a\\nsingle untruth in him, or a single wrong done by him to others. Never\\nhath he spoken an untruth even in jest. Oh, my Nala is exalted and\\nforgiving and heroic and magnificent and superior to all other kings, and\\nfaithful to his marriage vow and like unto a eunuch in respect of other\\nfemales. Night and day dwelling upon his perceptions, my heart, in\\nabsence of that dear one, is about to burst in grief.\\'', '\"Thus bewailing as if devoid of sense, Damayanti, O Bharata, ascended the\\nterrace (of her mansion) with the desire of seeing the righteous Nala.\\nAnd in the yard of the central mansion she beheld king Rituparna on the\\ncar with Varshneya and Vahuka. And Varshneya and Vahuka, descending for\\nthat excellent vehicle, unyoked the steeds, and kept the vehicle itself\\nin a proper place. And king Rituparna also, descending from the car,\\npresented himself before king Bhima possessed of terrible prowess. And\\nBhima received him with great respect, for in the absence of a proper\\noccasion, a great person cannot be had (as a guest). And honoured by\\nBhima, king Rituparna looked about him again and again, but saw no traces\\nof the Swayamvara. And the ruler of the Vidarbhas, O Bharata, approaching\\nRituparna, said, \\'Welcome! What is the occasion of this thy visit?\\' And\\nking Bhima asked this without knowing that Rituparna had come to obtain\\nthe hand of his daughter. And king Rituparna, of unbaffled prowess and\\ngifted with intelligence, saw that there were no other kings or princes.\\nNor did he hear any talk relating to the Swayamvara, nor saw any\\nconcourse of Brahmanas. And at this, the king of Kosala reflected a while\\nand at length said, \\'I have come here to pay my respects to thee.\\' And\\nthe king Bhima was struck with astonishment, and reflected upon the\\n(probable) cause of Rituparna\\'s coming, having passed over a hundred\\nyojanas. And he reflected, \\'That passing by other sovereigns, and leaving\\nbehind him innumerable countries, he should come simply to pay his\\nrespect to me is scarcely the reason of his arrival. What he assigneth to\\nbe the cause of his coming appeareth to be a trifle. However, I shall\\nlearn the true reason in the future.\\' And although king Bhima thought so,\\nhe did not dismiss Rituparna summarily, but said unto him again and\\nagain, \\'Rest, thou art weary.\\' And honoured thus by the pleased Bhima,\\nking Rituparna was satisfied, and with a delighted heart, he went to his\\nappointed quarters followed by the servants of the royal household.\"', '\"Vrihadaswa continued, \\'And, O king, after Rituparna had gone away with\\nVarshneya, Vahuka took the car to the stables. And there freeing the\\nsteeds, and tending them according to rule, and soothing them himself,\\nsat down on a side of the car. Meanwhile, the princess of Vidharva,\\nDamayanti, afflicted with grief, having beheld the royal son of\\nBhangasura, and Varshneya of the Suta race, and also Vahuka in that\\nguise, asked herself, \\'Whose is this car-rattle? It was loud as that of\\nNala, but I do not see the ruler of the Nishadhas. Certainly, Varshneya\\nhath learnt the art from Nala, and it is for this the rattle of the car\\ndriven by him hath been even like that of Nala. Or, is Rituparna equally\\nskilled with Nala so that the rattle of his car seemeth to be like that\\nof Nala?\\' And reflecting thus, O monarch, the blessed and beauteous girl\\nsent a female messenger in search of Nishada.\"', '', '\"Damayanti said, \\'O Kesini, go thou and learn who that charioteer is that\\nsitteth by the car, unsightly and possessed of short arms. O blessed one,\\nO faultless one, approaching him, cautiously and with suit words, make\\nthou the usual inquiries of courtesy and learn all particulars truly.\\nHaving regard to the feeling of satisfaction my mind experienceth, and\\nthe delight my heart feeleth, I am greatly afraid this one is king Nala\\nhimself. And, O faultless one, having inquired after his welfare, thou\\nshalt speak unto him the words of Parnada. And, O beauteous one,\\nunderstand the reply he may make thereto.\\' Thus instructed, that female\\nmessenger, going cautiously, while the blessed Damayanti watched from the\\nterrace, addressed Vahuka in these words, \\'O foremost of men, thou art\\nwelcome. I wish thee happiness. O bull among men, hear now the words of\\nDamayanti. When did ye all set out, and with what object have ye come\\nhither. Tell us truly, for the princess of Vidarbha wisheth to hear it.\\'\\nThus addressed, Vahuka answered, the illustrious king of Kosala had heard\\nfrom a Brahmana that a second Swayamvara of Damayanti would take place.\\nAnd hearing it, he hath come here, by the help of excellent steeds fleet\\nas the wind and capable of going a hundred yojanas. I am his charioteer.\\nKesini then asked, \\'Whence doth the third among you come, and whose (son)\\nis he? And whose son art thou, and how hast thou come to do this work?\\'\\nThus questioned, Vahuka replied, \\'He (of whom thou inquirest) was the\\ncharioteer of the virtuous Nala, and known to all by the name of\\nVarshneya. After Nala had, O beauteous one, left his kingdom, he came to\\nthe son of Bhangasura. I am skilled in horse-lore, and have, therefore,\\nbeen appointed as charioteer. Indeed, king Rituparna hath himself chosen\\nme as his charioteer and cook.\\' At this Kesini rejoined, \\'Perhaps\\nVarshneya knoweth where king Nala hath gone, and O Vahuka, he may also\\nhave spoken to thee (about his master).\\' Vahuka then said, \\'Having\\nbrought hither the children of Nala of excellent deeds, Varshneya went\\naway whither he listed: He doth not know where Naishadha is. Nor, O\\nillustrious one, doth anybody else know of Nala\\'s whereabouts; for the\\nking (in calamity) wandereth over the world in disguise and despoiled of\\n(his native) beauty. Nala\\'s self only knoweth Nala. Nala never\\ndiscovereth his marks of identity anywhere.\\' Thus addressed, Kesini\\nreturned, \\'The Brahmana that had before this gone to Ayodhya, had\\nrepeatedly said these words suitable to female lips, \\'O beloved gambler,\\nwhere hast thou gone cutting off half my piece of cloth, and deserting\\nme, his dear and devoted wife asleep in the woods? And she herself, as\\ncommanded by him, waiteth expecting him clad in half a garment and\\nburning day and night in grief. O king, O hero, do thou relent towards\\nher that weepeth ceaselessly for that calamity and do thou give her an\\nanswer. O illustrious one, do thou speak the words agreeable to her for\\nthe blameless one panteth to hear them. Hearing these words of the\\nBrahmana thou didst formerly give a reply! The princess of Vidarbha again\\nwisheth to hear the words thou didst then say.\\'\"', '\"Vrihadaswa continued, \\'O son of the Kuru race, hearing these words of\\nKesini, Nala\\'s heart was pained, and his eyes filled with tears. And\\nrepressing his sorrow, the king who was burning in grief, said again\\nthese words, in accents choked with tears: \\'Chaste women, though\\novertaken by calamity, yet protect themselves, and thereby secure heaven.\\nWomen that are chaste, deserted by their lords, never become angry, but\\ncontinue to live, cased in virtue\\'s mail. Deserted by one fallen into\\ncalamity, bereft of sense, and despoiled of bliss, it behoveth her not to\\nbe angry. A virtuous lady should not be angry with one that was deprived\\nby birds of his garment while striving to procure sustenance and who is\\nburning in misery. Whether treated well or ill she would never be angry,\\nseeing her husband in that plight, despoiled of his kingdom, bereft of\\nprosperity, oppressed with hunger, and overwhelmed with calamity.\\' And, O\\nBharata, while speaking thus, Nala oppressed with grief, could not\\nrestrain his tears, but began to weep. And thereupon Kesini went back to\\nDamayanti, and acquainted her with everything about that conversation as\\nwell as that outburst of grief.\"', '']\n"
          ]
        }
      ]
    },
    {
      "cell_type": "code",
      "source": [
        "print(event_sentences[0])"
      ],
      "metadata": {
        "colab": {
          "base_uri": "https://localhost:8080/"
        },
        "id": "l0IlCIV9VIQR",
        "outputId": "dbc18940-d39c-4326-84dd-72c19386e5a8"
      },
      "execution_count": null,
      "outputs": [
        {
          "output_type": "stream",
          "name": "stdout",
          "text": [
            "['\"Vrihadaswa said, \\'O Bharata, hearing those words of the swan, Damayanti\\nthenceforth lost all peace of mind on account of Nala. And heaving\\nfrequent sighs she was filled with anxiety, and became melancholy and\\npale-faced and lean. And with her heart possessed by the god of love, she\\nsoon lost colour, and with her upturned gaze and modes of abstraction,\\nlooked like one demented. And she lost all inclination for beds and seats\\nand object of enjoyment. And she ceased to lie down by day or night,\\nalways weeping with exclamation of Oh! and Alas! And beholding her uneasy\\nand fallen into that condition, her hand-maids represented, O king, the\\nmatter of her illness unto the ruler of Vidarbha by indirect hints. And\\nking Bhima, hearing of this from the handmaids of Damayanti, regarded the\\naffair of his daughter to be serious. And he asked himself, \\'Why is it\\nthat my daughter seemeth to be so ill now?\\' And the king, reflecting by\\nhimself that his daughter had attained to puberty, concluded that\\nDamayanti\\'s Swayamvara should take place. And the monarch, O exalted one,\\n(invited) all the rulers of the earth, saying, Ye heroes, know that\\nDamayanti\\'s Swayamvara is at hand, And all the kings, hearing of\\nDamayanti\\'s Swayamvara, came unto Bhima, agreeable to his message,\\nfilling the earth with the clatter of their cars, the roar of their\\nelephants, and the neighing of their horses, and accompanied with their\\nfine-looking battalions decked in ornaments and graceful garlands. And\\nthe mighty-armed Bhima paid due reverence unto those illustrious\\nmonarchs. And duly honoured by him they took up their quarters there.\\'', '\"And at the juncture, those foremost of celestial Rishis possessed of\\ngreat splendour, of great wisdom and great vows--namely, Narada and\\nParvata--having arrived in course of their wandering at the regions of\\nIndra entered the mansion of the lord of the immortals, receiving proper\\nworship. And Maghavat having worshipped them reverentially, inquired\\nafter their undisturbed peace and welfare as regards all respects. And\\nNarada said, \\'O lord, O divine one, peace attendeth us in every respect.\\nAnd, O Maghavat, peace attendeth also O exalted one, the kings of the\\nwhole world.\\'', '\"Vrihadaswa continued. \\'Hearing the words of Narada the slaver of Vala\\nand Vritra said, \\'Those righteous rulers of the earth who fight\\nrenouncing all desire of life, and who meet death when their time is come\\nby means of weapons, without flying from the field,--theirs is this\\nregion, everlasting unto them and granting all desires, even as it is to\\nme. Where be those Kshatriya heroes? I do not see those kings approach\\n(now) Where are my favourite guests?\\' Thus addressed by Sakra, Narada\\nreplied, \\'Listen, O Mahavat, why seest not thou the kings (now)? The\\nruler of the Vidarbhas hath a daughter--the celebrated Damayanti. In\\nbeauty she transcendeth all the women of the earth. Her Swayamvara, O\\nSakra, will take place shortly. Thither are going all the kings and\\nPrinces from all directions. And all the lords of the earth desire to\\nhave that pearl of the earth,--desire to have her eagerly, O slaver of\\nVala and Vritra.\\' And while they were talking thus, those foremost of the\\nimmortals, the Lokapalas with Agni among them, appeared before the lord\\nof the celestials. And all of them heard the words of Narada fraught with\\ngrave import. And as soon as they heard them, they exclaimed in rapture,\\nWe also will go there. And, O mighty monarch, accompanied by their\\nattendants and mounted on their (respective) vehicles, they set out for\\nthe country of Vidarbhas, whither (had gone) all the kings. And, O son of\\nKunti, the high-souled king Nala also hearing of that concourse of kings,\\nset out with a cheerful heart, full of Damayanti\\'s love. And (it came to\\npass) that the gods saw Nala on the way treading on the earth. And his\\nform owing to its beauty was like that of the god of love himself. And\\nbeholding him resplendent as the sun, the Lokapalas were filled with\\nastonishment at his wealth of beauty, and abandoned their intention. And,\\nO king, leaving their cars in the sky the dwellers of heaven alighted\\nfrom the welkin and spake unto the ruler of the Nishadhas, saying, \\'O\\nforemost of monarchs ruling the Nishadhas, O Nala, thou art devoted to\\ntruth. Do thou help us. O best of men, be thou our messenger.\\'\"', '', '\"Vrihadaswa continued, \\'O Bharata, Nala pledged his word to the\\ncelestials saying, \\'I will do it.\\' And then approaching these, he asked\\nwith folded hands. \\'Who are ye? And who also is he that desireth me to be\\nhis messenger? And what, further, shall I have to do for you? O tell me\\ntruly!\\'--When the king of the Nishadhas spoke thus, Maghavat replied,\\nsaying, \\'Know us as the immortals come hither for Damayanti\\'s sake. I am\\nIndra, this one is Agni, this the lord of waters, and this, O king, is\\neven Yama the destroyer of the bodies of men. Do thou inform Damayanti of\\nour arrival, saying, \\'The guardians of the world, (consisting of) the\\ngreat Indra and the others, are coming to the assembly, desirous of\\nbeholding (the Swayamvara). The gods, Sakra and Agni and Varuna and Yama,\\ndesire to obtain thee. Do thou, therefore, choose one of them for thy\\nlord.\\' Thus addressed by Sakra, Nala said with joined hands, \\'I have come\\nhere with the self same object. It behoveth thee not to send me (on this\\nerrand). How can a person who is himself under the influence of love\\nbring himself to speak thus unto a lady on behalf of others? Therefore,\\nspare me, ye gods\\' The gods, however, said, \\'O ruler of the Nishadhas,\\nhaving promised first, saying, \\'I will! why wilt thou not act accordingly\\nnow? O ruler of the Nishadhas, tell us this without delay.\\'', '\"Vrihadaswa continued, \\'Thus addressed by those celestials, the ruler of\\nNishadhas spake again, saying, \\'Those mansions are well-guarded. How can\\nI hope to enter them?\\' Indra replied, \\'Thou shalt be able to enter.\\' And,\\nsaying, So be it.\\' Nala thereupon went to the palace of Damayanti. And\\nhaving arrived there, he beheld the daughter of the king of Vidarbha\\nsurrounded by her hand-maids, blazing in beauty and excelling in symmetry\\nof form, of limbs exceedingly delicate, of slender waist and fair eyes.\\nAnd she seemed to rebuke the light of the moon by her own splendour. And\\nas he gazed on that lady of sweet smiles. Nala\\'s love increased, but\\ndesirous of keeping his truth, he suppressed his passion. And at the\\nsight of Naishadha, overpowered by his effulgence, those first of women\\nsprang up from their seats in amazement. And filled with wonder (at his\\nsight), they praised Nala in gladness of heart. And without saying\\nanything, they mentally paid him homage, \\'Oh, what comeliness! Oh, what\\ngentleness belongeth to this high-souled one! Who is he? Is he some god\\nor Yaksha or Gandharva?\\' And those foremost of women, confounded by\\nNala\\'s splendour and bashfulness would not accost him at all in speech.\\nAnd Damayanti although herself struck with amazement, smilingly addressed\\nthe warlike Nala who also gently smiled at her, saying, \\'What art thou, O\\nthou of faultless features, that hast come here awakening my love? O\\nsinless one, O hero of celestial form, I am anxious to know who thou art\\nthat hast come hither. And why hast thou come hither? And how is it that\\nthou hast not been discovered by any one, considering that my apartments\\nare well-guarded and the king\\'s mandates are stern.\\' Thus addressed by\\nthe daughter of the king of the Vidarbhas, Nala replied, \\'O beauteous\\nlady, know that my name is Nala. I come here as the messenger of the\\ngods. The celestials, Sakra, Agni, Varuna and Yama, desire to have thee.\\nO beautiful lady, do thou choose one of them for thy lord. It is through\\ntheir power that I have entered here unperceived, and it is for this\\nreason that none saw me on my way or obstructed my entrance. O gentle\\none, I have been sent by the foremost of the celestials even for this\\nobject. Hearing this, O fortunate one, do what thou pleasest.\\'\"', '', '\"Vrihadaswa said, \\'Damayanti, having bowed down unto the gods, thus\\naddressed Nala with a smile, \\'O king, love me with proper regard, and\\ncommand me what I shall do for thee. Myself and what else of wealth is\\nmine are thine. Grant me, O exalted one, thy love in full trust. O king,\\nthe language of the swans in burning me. It is for thy sake, O hero, that\\nI have caused the kings to meet. O giver of proper honour, if thou\\nforsake me who adore thee, for thy sake will I resort to poison, or fire,\\nor water or the rope.\\' Thus addressed by the daughter of the king of the\\nVidarbhas, Nala answered her saying, \\'With the Lokapalas present,\\nchoosest thou a man? Do thou turn thy heart to those high-souled lords,\\nthe creators of the worlds, unto the dust of whose feet I am not equal.\\nDispleasing the gods, a mortal cometh by death. Save me, O thou of\\nfaultless limbs! Choose thou the all-excelling celestials. By accepting\\nthe gods, do thou enjoy spotless robes, and celestial garlands of\\nvariegated hues, and excellent ornaments. What woman would not choose as\\nher lord Hutasana--the chief of the celestials, who compassing the earth\\nswalloweth it? What woman would not choose him as her lord the dread of\\nwhose mace induceth all creatures to tread the path of virtue? And what\\nwoman would not choose as her lord the virtuous and high-souled Mahendra,\\nthe lord of the celestials, the chastiser of Daityas and Danavas? Or, if\\nthou couldst choose in thy heart Varuna amongst the Lokapalas, do so\\nunhesitatingly. O accept this friendly advice.\\' Thus addressed by\\nNaishadha, Damayanti, with eyes bathed in tears of grief spake thus unto\\nNala, \\'O lord of the earth, bowing to all the gods, I choose thee for my\\nlord. Truly do I tell thee this.\\' The king, who had come as the messenger\\nof the gods, replied unto the trembling Damayanti standing with folded\\nhands, \\'O amiable one, do as thou pleasest. Having given my pledge, O\\nblessed one, unto the gods in especial, how can I, having come on other\\'s\\nmission, dare seek my own interest? If seeking my own interest consists\\nwith virtue, I will seek it, and do thou also, O beauteous one, act\\naccordingly.\\' Then Damayanti of luminous smiles slowly spake unto king\\nNala, in words choked with tears, \\'O lord of men I see a blameless way,\\nby which no sin whatever will attach unto thee. O king, do thou, O\\nforemost of men, come to the Swayamvara in company with all the gods\\nheaded by Indra. There, O Monarch, in the presence of the Lokapalas I\\nwill, O tiger among men, choose thee--at which no blame will be thine.\\'\\nThus addressed, O monarch, by the daughter of Vidarbha, king Nala\\nreturned to where the gods were staying together. And beholding him\\napproach those great gods, the Lokapalas, eagerly asked him about all\\nthat had happened saying, \\'Hast thou, O king, seen Damayanti of sweet\\nsmiles? What hath she said unto us all? O sinless monarch, tell us\\neverything.\\' Nala answered, \\'Commanded by you I entered Damayanti\\'s\\npalace furnished with lofty portals guarded by veteran warders bearing\\nwands. And as I entered, no one perceived me, by virtue of your power,\\nexcept the princess. And I saw her hand-maids, and they also saw me. And,\\nO exalted celestials, seeing me, they were filled with wonder. And as I\\nspake unto her of you, the fair-faced maiden, her will fixed on me, O ye\\nbest of the gods, chose me (for her spouse).\\' And the maiden said, \\'Let\\nthe gods, O tiger among men, come with thee to the Swayamvara, I will in\\ntheir presence, choose thee. At this, O thou of mighty arms, no blame\\nwill attach to thee.\\' \\'This is all, ye gods, that took place, as I have\\nsaid. Finally, everything rests with you, ye foremost of celestials.\\'\"', '', '\"Vrihadaswa continued, \\'Then at the sacred hour of the holy lunar day of\\nthe auspicious season, king Bhima summoned the kings to the Swayamvara.\\nAnd hearing of it, all the lords of earth smit with love speedily came\\nthither, desirous of (possessing) Damayanti. And the monarchs entered the\\namphitheatre decorated with golden pillars and a lofty portal arch, like\\nmighty lions entering the mountain wilds. And those lords of earth decked\\nwith fragrant garlands and polished ear-rings hung with jewels seated\\nthemselves on their several seats. And that sacred assembly of Kings,\\ngraced by those tigers among men, resembled the Bhogavati swarming with\\nthe Nagas, or a mountain cavern with tigers. And their arms were robust,\\nand resembling iron maces, and well-shaped, and graceful, and looking\\nlike five-headed snakes. And graced with beautiful locks and fine noses\\nand eyes and brows, the countenance of the kings shone like stars in the\\nfirmament. And (when the time came), Damayanti of beauteous face,\\nstealing the eyes and hearts of the princes by her dazzling light,\\nentered the hall. And the glances of those illustrious kings were\\nrivetted to those parts of her person where they had chanced to fall\\nfirst, without moving at all. And when, O Bharata, the names of the\\nmonarchs were proclaimed, the daughter of Bhima saw five persons all\\nalike in appearance. And beholding them seated there, without difference\\nof any kind in form, doubt filled her mind, and she could not ascertain\\nwhich of them was king Nala. And at whomsoever (among them) she looked,\\nshe regarded him to be the king of the Nishadhas. And filled with\\nanxiety, the beauteous one thought within herself, \\'Oh, how shall I\\ndistinguish the celestials, and how discern the royal Nala?\\' And thinking\\nthus, the daughter of Vidarbha became filled with grief. And, O Bharata,\\nrecollecting the marks belonging to the celestials, of which she had\\nheard, she thought, \\'Those attributes of the celestials, of which I have\\nheard from the aged, do not pertain to any of these deities present here\\nupon the earth.\\' And revolving the matter long in her mind, and\\nreflecting upon it repeatedly, she decided upon seeking the protection of\\nthe gods themselves. And bowing down unto them with mind and speech, with\\nfolded hands, she addressed them trembling, \\'Since I heard the speech of\\nthe swans, I chose the king of the Nishadhas as my lord. For the sake of\\ntruth, O, let the gods reveal him to me. And as in thought or word I have\\nnever swerved from him, O, let the gods, for the sake of that truth,\\nreveal him to me. And as the gods themselves have destined the ruler of\\nthe Nishadhas to be my lord, O, let them, for the sake of that truth,\\nreveal him to me. And as it is for paying homage unto Nala that I have\\nadopted this vow, for the sake of that truth, O, let the gods reveal him\\nunto me, O, let the exalted guardians of the worlds assume their own\\nproper forms, so that I may know the righteous king.\\' Hearing these\\npiteous words of Damayanti, and ascertaining her fixed resolve, and\\nfervent love for the king of Nishadhas, the purity of her heart and her\\ninclination and regard and affection for Nala, the gods did as they had\\nbeen adjured, and assumed their respective attributes as best they could.\\nAnd thereupon she beheld the celestials unmoistened with perspiration,\\nwith winkless eyes, and unfading garlands, unstained with dust, and\\nstaying without touching the ground. And Naishadha stood revealed to his\\nshadow, his fading garlands, himself stained with dust and sweat, resting\\non the ground with winking eyes. And, O Bharata, discerning the gods and\\nthe virtuous Nala the daughter of Bhima chose Naishadha according to her\\ntruth. And the large-eyed damsel then bashfully caught the hem of his\\ngarment and placed round his neck a floral wreath of exceeding grace. And\\nwhen that fair-complexioned maiden had thus chosen Nala for her husband,\\nthe kings suddenly broke out into exclamations of Oh! and Alas! And, O\\nBharata, the gods and the great Rishis in wonder cried Excellent!\\nExcellent!, applauding the king the while. And, O Kauravya, the royal son\\nof Virasena, with heart filled with gladness, comforted the beauteous\\nDamayanti, saying, \\'Since thou, O blessed one, hast chosen a mortal in\\nthe presence of the celestials, know me for a husband even obedient to\\nthy command. And, O thou of sweet smiles, truly do I tell thee this that\\nas long as life continueth in this body of mine, I will remain thine and\\nthine alone. Damayanti also, with folded hands paid homage unto Nala in\\nwords of like import. And the happy pair beholding Agni and the other\\ngods mentally sought their protection. And after the daughter of Bhima\\nhad chosen Naishadha as her husband, the Lokapalas of exceeding\\neffulgence with pleased hearts, bestowed on Nala eight boons. And Sakra,\\nthe lord of Sachi, bestowed on Nala the boon that he should be able to\\nbehold his godship in sacrifices and that he should attain to blessed\\nlegions thereafter, and Hutasana bestowed on him the boon of his own\\npresence whenever Naishadha wished, and regions also bright as himself.\\nAnd Yama granted him subtle taste in food as well as pre-eminence in\\nvirtue. And the lord of waters granted Nala his own presence whenever he\\ndesired, and also garlands of celestial fragrance. And thus each of them\\nbestowed upon him a couple of boons. And having bestowed these the gods\\nwent to heaven. And the kings also, having witnessed with wonder\\nDamayanti\\'s selection of Nala, returned delighted whence they had come.\\nAnd on the departure of those mighty monarchs, the high-souled Bhima,\\nwell pleased, celebrated the wedding of Nala and Damayanti. And having\\nstayed there for a time according to his desire, Naishadha, the best of\\nmen, returned to his own city with the permission of Bhima. And having\\nattained that pearl of a woman, the virtuous king, O monarch, began to\\npass his days in joy, like the slayer of Vala and Vritra in the company\\nof Sachi. And resembling the sun in glory, the king, full of gladness,\\nbegan to rule his subjects righteously, and give them great satisfaction.\\nAnd like unto Yayati, the son of Nahusha, that intelligent monarch\\ncelebrated the horse sacrifice and many other sacrifices with abundant\\ngifts to Brahmanas. And like unto a very god, Nala sported with Damayanti\\nin romantic woods and groves. And the high-minded king begat upon\\nDamayanti a son named Indrasena, and a daughter named Indrasena. And\\ncelebrating sacrifice, and sporting (with Damayanti) thus, the king ruled\\nthe earth abounding in wealth.\\'\"', '', '\"Vrihadaswa said, \\'When the blazing guardians of the worlds were\\nreturning after the daughter of Bhima had chosen Naishadha, on their way\\nthey met Dwapara with Kali approaching towards them. And seeing Kali,\\nSakra the slayer of Vala and Vritra, said, \\'O Kali, say whither thou art\\ngoing with Dwapara.\\' And thereupon Kali replied unto Sakra, \\'Going to\\nDamayanti\\'s Swayamvara, will I obtain her (for my wife), as my heart is\\nfixed upon that damsel.\\' Hearing this, Indra said with a smile, \\'That\\nSwayamvara is already ended. In our sight she hath chosen Nala for her\\nhusband.\\' Thus answered by Sakra, Kali, that vilest of the celestials,\\nfilled with wrath, addressing all those gods spake, \\'Since in the\\npresence of the celestials she hath chosen a mortal for her lord, it is\\nmeet that she should undergo a heavy doom.\\' Upon hearing these words of\\nKali, the celestials answered, \\'It is with our sanction that Damayanti\\nhath chosen Nala. What damsel is there that would not choose king Nala\\nendued with every virtue? Well-versed in all duties, always conducting\\nhimself with rectitude, he hath studied the four Vedas together with the\\nPuranas that are regarded as the fifth. Leading a life of harmlessness\\nunto all creatures, he is truth-telling and firm in his vows, and in his\\nhouse the gods are ever gratified by sacrifices held according to the\\nordinance. In that tiger among men--that king resembling a Lokapala, is\\ntruth, and forbearance, and knowledge, and asceticism, and purity and\\nself-control, and perfect tranquillity of soul. O Kali, the fool that\\nwisheth to curse Nala bearing such a character, curseth himself, and\\ndestroyeth himself by his own act. And, O Kali, he that seeketh to curse\\nNala crowned with such virtues, sinketh into the wide bottomless pit of\\nhell rife with torments.\\' Having said this to Kali and Dwapara, the gods\\nwent to heaven. And when the gods had gone away, Kali said unto Dwapara,\\n\\'I am ill able, O Dwapara, to suppress my anger. I shall possess Nala,\\ndeprive him of his kingdom, and he shall no more sport with Bhima\\'s\\ndaughter. Entering the dice, it behoveth thee to help me.\\'\"', '']\n"
          ]
        }
      ]
    },
    {
      "cell_type": "code",
      "source": [
        "print(event_sentences)"
      ],
      "metadata": {
        "colab": {
          "base_uri": "https://localhost:8080/"
        },
        "id": "_QLWfiPnyOgR",
        "outputId": "d7ae10b6-485c-461a-ad4b-6255b1b9df23"
      },
      "execution_count": null,
      "outputs": [
        {
          "output_type": "stream",
          "name": "stdout",
          "text": [
            "[['\"Vrihadaswa said, \\'O Bharata, hearing those words of the swan, Damayanti\\nthenceforth lost all peace of mind on account of Nala. And heaving\\nfrequent sighs she was filled with anxiety, and became melancholy and\\npale-faced and lean. And with her heart possessed by the god of love, she\\nsoon lost colour, and with her upturned gaze and modes of abstraction,\\nlooked like one demented. And she lost all inclination for beds and seats\\nand object of enjoyment. And she ceased to lie down by day or night,\\nalways weeping with exclamation of Oh! and Alas! And beholding her uneasy\\nand fallen into that condition, her hand-maids represented, O king, the\\nmatter of her illness unto the ruler of Vidarbha by indirect hints. And\\nking Bhima, hearing of this from the handmaids of Damayanti, regarded the\\naffair of his daughter to be serious. And he asked himself, \\'Why is it\\nthat my daughter seemeth to be so ill now?\\' And the king, reflecting by\\nhimself that his daughter had attained to puberty, concluded that\\nDamayanti\\'s Swayamvara should take place. And the monarch, O exalted one,\\n(invited) all the rulers of the earth, saying, Ye heroes, know that\\nDamayanti\\'s Swayamvara is at hand, And all the kings, hearing of\\nDamayanti\\'s Swayamvara, came unto Bhima, agreeable to his message,\\nfilling the earth with the clatter of their cars, the roar of their\\nelephants, and the neighing of their horses, and accompanied with their\\nfine-looking battalions decked in ornaments and graceful garlands. And\\nthe mighty-armed Bhima paid due reverence unto those illustrious\\nmonarchs. And duly honoured by him they took up their quarters there.\\'', '\"And at the juncture, those foremost of celestial Rishis possessed of\\ngreat splendour, of great wisdom and great vows--namely, Narada and\\nParvata--having arrived in course of their wandering at the regions of\\nIndra entered the mansion of the lord of the immortals, receiving proper\\nworship. And Maghavat having worshipped them reverentially, inquired\\nafter their undisturbed peace and welfare as regards all respects. And\\nNarada said, \\'O lord, O divine one, peace attendeth us in every respect.\\nAnd, O Maghavat, peace attendeth also O exalted one, the kings of the\\nwhole world.\\'', '\"Vrihadaswa continued. \\'Hearing the words of Narada the slaver of Vala\\nand Vritra said, \\'Those righteous rulers of the earth who fight\\nrenouncing all desire of life, and who meet death when their time is come\\nby means of weapons, without flying from the field,--theirs is this\\nregion, everlasting unto them and granting all desires, even as it is to\\nme. Where be those Kshatriya heroes? I do not see those kings approach\\n(now) Where are my favourite guests?\\' Thus addressed by Sakra, Narada\\nreplied, \\'Listen, O Mahavat, why seest not thou the kings (now)? The\\nruler of the Vidarbhas hath a daughter--the celebrated Damayanti. In\\nbeauty she transcendeth all the women of the earth. Her Swayamvara, O\\nSakra, will take place shortly. Thither are going all the kings and\\nPrinces from all directions. And all the lords of the earth desire to\\nhave that pearl of the earth,--desire to have her eagerly, O slaver of\\nVala and Vritra.\\' And while they were talking thus, those foremost of the\\nimmortals, the Lokapalas with Agni among them, appeared before the lord\\nof the celestials. And all of them heard the words of Narada fraught with\\ngrave import. And as soon as they heard them, they exclaimed in rapture,\\nWe also will go there. And, O mighty monarch, accompanied by their\\nattendants and mounted on their (respective) vehicles, they set out for\\nthe country of Vidarbhas, whither (had gone) all the kings. And, O son of\\nKunti, the high-souled king Nala also hearing of that concourse of kings,\\nset out with a cheerful heart, full of Damayanti\\'s love. And (it came to\\npass) that the gods saw Nala on the way treading on the earth. And his\\nform owing to its beauty was like that of the god of love himself. And\\nbeholding him resplendent as the sun, the Lokapalas were filled with\\nastonishment at his wealth of beauty, and abandoned their intention. And,\\nO king, leaving their cars in the sky the dwellers of heaven alighted\\nfrom the welkin and spake unto the ruler of the Nishadhas, saying, \\'O\\nforemost of monarchs ruling the Nishadhas, O Nala, thou art devoted to\\ntruth. Do thou help us. O best of men, be thou our messenger.\\'\"', '', '\"Vrihadaswa continued, \\'O Bharata, Nala pledged his word to the\\ncelestials saying, \\'I will do it.\\' And then approaching these, he asked\\nwith folded hands. \\'Who are ye? And who also is he that desireth me to be\\nhis messenger? And what, further, shall I have to do for you? O tell me\\ntruly!\\'--When the king of the Nishadhas spoke thus, Maghavat replied,\\nsaying, \\'Know us as the immortals come hither for Damayanti\\'s sake. I am\\nIndra, this one is Agni, this the lord of waters, and this, O king, is\\neven Yama the destroyer of the bodies of men. Do thou inform Damayanti of\\nour arrival, saying, \\'The guardians of the world, (consisting of) the\\ngreat Indra and the others, are coming to the assembly, desirous of\\nbeholding (the Swayamvara). The gods, Sakra and Agni and Varuna and Yama,\\ndesire to obtain thee. Do thou, therefore, choose one of them for thy\\nlord.\\' Thus addressed by Sakra, Nala said with joined hands, \\'I have come\\nhere with the self same object. It behoveth thee not to send me (on this\\nerrand). How can a person who is himself under the influence of love\\nbring himself to speak thus unto a lady on behalf of others? Therefore,\\nspare me, ye gods\\' The gods, however, said, \\'O ruler of the Nishadhas,\\nhaving promised first, saying, \\'I will! why wilt thou not act accordingly\\nnow? O ruler of the Nishadhas, tell us this without delay.\\'', '\"Vrihadaswa continued, \\'Thus addressed by those celestials, the ruler of\\nNishadhas spake again, saying, \\'Those mansions are well-guarded. How can\\nI hope to enter them?\\' Indra replied, \\'Thou shalt be able to enter.\\' And,\\nsaying, So be it.\\' Nala thereupon went to the palace of Damayanti. And\\nhaving arrived there, he beheld the daughter of the king of Vidarbha\\nsurrounded by her hand-maids, blazing in beauty and excelling in symmetry\\nof form, of limbs exceedingly delicate, of slender waist and fair eyes.\\nAnd she seemed to rebuke the light of the moon by her own splendour. And\\nas he gazed on that lady of sweet smiles. Nala\\'s love increased, but\\ndesirous of keeping his truth, he suppressed his passion. And at the\\nsight of Naishadha, overpowered by his effulgence, those first of women\\nsprang up from their seats in amazement. And filled with wonder (at his\\nsight), they praised Nala in gladness of heart. And without saying\\nanything, they mentally paid him homage, \\'Oh, what comeliness! Oh, what\\ngentleness belongeth to this high-souled one! Who is he? Is he some god\\nor Yaksha or Gandharva?\\' And those foremost of women, confounded by\\nNala\\'s splendour and bashfulness would not accost him at all in speech.\\nAnd Damayanti although herself struck with amazement, smilingly addressed\\nthe warlike Nala who also gently smiled at her, saying, \\'What art thou, O\\nthou of faultless features, that hast come here awakening my love? O\\nsinless one, O hero of celestial form, I am anxious to know who thou art\\nthat hast come hither. And why hast thou come hither? And how is it that\\nthou hast not been discovered by any one, considering that my apartments\\nare well-guarded and the king\\'s mandates are stern.\\' Thus addressed by\\nthe daughter of the king of the Vidarbhas, Nala replied, \\'O beauteous\\nlady, know that my name is Nala. I come here as the messenger of the\\ngods. The celestials, Sakra, Agni, Varuna and Yama, desire to have thee.\\nO beautiful lady, do thou choose one of them for thy lord. It is through\\ntheir power that I have entered here unperceived, and it is for this\\nreason that none saw me on my way or obstructed my entrance. O gentle\\none, I have been sent by the foremost of the celestials even for this\\nobject. Hearing this, O fortunate one, do what thou pleasest.\\'\"', '', '\"Vrihadaswa said, \\'Damayanti, having bowed down unto the gods, thus\\naddressed Nala with a smile, \\'O king, love me with proper regard, and\\ncommand me what I shall do for thee. Myself and what else of wealth is\\nmine are thine. Grant me, O exalted one, thy love in full trust. O king,\\nthe language of the swans in burning me. It is for thy sake, O hero, that\\nI have caused the kings to meet. O giver of proper honour, if thou\\nforsake me who adore thee, for thy sake will I resort to poison, or fire,\\nor water or the rope.\\' Thus addressed by the daughter of the king of the\\nVidarbhas, Nala answered her saying, \\'With the Lokapalas present,\\nchoosest thou a man? Do thou turn thy heart to those high-souled lords,\\nthe creators of the worlds, unto the dust of whose feet I am not equal.\\nDispleasing the gods, a mortal cometh by death. Save me, O thou of\\nfaultless limbs! Choose thou the all-excelling celestials. By accepting\\nthe gods, do thou enjoy spotless robes, and celestial garlands of\\nvariegated hues, and excellent ornaments. What woman would not choose as\\nher lord Hutasana--the chief of the celestials, who compassing the earth\\nswalloweth it? What woman would not choose him as her lord the dread of\\nwhose mace induceth all creatures to tread the path of virtue? And what\\nwoman would not choose as her lord the virtuous and high-souled Mahendra,\\nthe lord of the celestials, the chastiser of Daityas and Danavas? Or, if\\nthou couldst choose in thy heart Varuna amongst the Lokapalas, do so\\nunhesitatingly. O accept this friendly advice.\\' Thus addressed by\\nNaishadha, Damayanti, with eyes bathed in tears of grief spake thus unto\\nNala, \\'O lord of the earth, bowing to all the gods, I choose thee for my\\nlord. Truly do I tell thee this.\\' The king, who had come as the messenger\\nof the gods, replied unto the trembling Damayanti standing with folded\\nhands, \\'O amiable one, do as thou pleasest. Having given my pledge, O\\nblessed one, unto the gods in especial, how can I, having come on other\\'s\\nmission, dare seek my own interest? If seeking my own interest consists\\nwith virtue, I will seek it, and do thou also, O beauteous one, act\\naccordingly.\\' Then Damayanti of luminous smiles slowly spake unto king\\nNala, in words choked with tears, \\'O lord of men I see a blameless way,\\nby which no sin whatever will attach unto thee. O king, do thou, O\\nforemost of men, come to the Swayamvara in company with all the gods\\nheaded by Indra. There, O Monarch, in the presence of the Lokapalas I\\nwill, O tiger among men, choose thee--at which no blame will be thine.\\'\\nThus addressed, O monarch, by the daughter of Vidarbha, king Nala\\nreturned to where the gods were staying together. And beholding him\\napproach those great gods, the Lokapalas, eagerly asked him about all\\nthat had happened saying, \\'Hast thou, O king, seen Damayanti of sweet\\nsmiles? What hath she said unto us all? O sinless monarch, tell us\\neverything.\\' Nala answered, \\'Commanded by you I entered Damayanti\\'s\\npalace furnished with lofty portals guarded by veteran warders bearing\\nwands. And as I entered, no one perceived me, by virtue of your power,\\nexcept the princess. And I saw her hand-maids, and they also saw me. And,\\nO exalted celestials, seeing me, they were filled with wonder. And as I\\nspake unto her of you, the fair-faced maiden, her will fixed on me, O ye\\nbest of the gods, chose me (for her spouse).\\' And the maiden said, \\'Let\\nthe gods, O tiger among men, come with thee to the Swayamvara, I will in\\ntheir presence, choose thee. At this, O thou of mighty arms, no blame\\nwill attach to thee.\\' \\'This is all, ye gods, that took place, as I have\\nsaid. Finally, everything rests with you, ye foremost of celestials.\\'\"', '', '\"Vrihadaswa continued, \\'Then at the sacred hour of the holy lunar day of\\nthe auspicious season, king Bhima summoned the kings to the Swayamvara.\\nAnd hearing of it, all the lords of earth smit with love speedily came\\nthither, desirous of (possessing) Damayanti. And the monarchs entered the\\namphitheatre decorated with golden pillars and a lofty portal arch, like\\nmighty lions entering the mountain wilds. And those lords of earth decked\\nwith fragrant garlands and polished ear-rings hung with jewels seated\\nthemselves on their several seats. And that sacred assembly of Kings,\\ngraced by those tigers among men, resembled the Bhogavati swarming with\\nthe Nagas, or a mountain cavern with tigers. And their arms were robust,\\nand resembling iron maces, and well-shaped, and graceful, and looking\\nlike five-headed snakes. And graced with beautiful locks and fine noses\\nand eyes and brows, the countenance of the kings shone like stars in the\\nfirmament. And (when the time came), Damayanti of beauteous face,\\nstealing the eyes and hearts of the princes by her dazzling light,\\nentered the hall. And the glances of those illustrious kings were\\nrivetted to those parts of her person where they had chanced to fall\\nfirst, without moving at all. And when, O Bharata, the names of the\\nmonarchs were proclaimed, the daughter of Bhima saw five persons all\\nalike in appearance. And beholding them seated there, without difference\\nof any kind in form, doubt filled her mind, and she could not ascertain\\nwhich of them was king Nala. And at whomsoever (among them) she looked,\\nshe regarded him to be the king of the Nishadhas. And filled with\\nanxiety, the beauteous one thought within herself, \\'Oh, how shall I\\ndistinguish the celestials, and how discern the royal Nala?\\' And thinking\\nthus, the daughter of Vidarbha became filled with grief. And, O Bharata,\\nrecollecting the marks belonging to the celestials, of which she had\\nheard, she thought, \\'Those attributes of the celestials, of which I have\\nheard from the aged, do not pertain to any of these deities present here\\nupon the earth.\\' And revolving the matter long in her mind, and\\nreflecting upon it repeatedly, she decided upon seeking the protection of\\nthe gods themselves. And bowing down unto them with mind and speech, with\\nfolded hands, she addressed them trembling, \\'Since I heard the speech of\\nthe swans, I chose the king of the Nishadhas as my lord. For the sake of\\ntruth, O, let the gods reveal him to me. And as in thought or word I have\\nnever swerved from him, O, let the gods, for the sake of that truth,\\nreveal him to me. And as the gods themselves have destined the ruler of\\nthe Nishadhas to be my lord, O, let them, for the sake of that truth,\\nreveal him to me. And as it is for paying homage unto Nala that I have\\nadopted this vow, for the sake of that truth, O, let the gods reveal him\\nunto me, O, let the exalted guardians of the worlds assume their own\\nproper forms, so that I may know the righteous king.\\' Hearing these\\npiteous words of Damayanti, and ascertaining her fixed resolve, and\\nfervent love for the king of Nishadhas, the purity of her heart and her\\ninclination and regard and affection for Nala, the gods did as they had\\nbeen adjured, and assumed their respective attributes as best they could.\\nAnd thereupon she beheld the celestials unmoistened with perspiration,\\nwith winkless eyes, and unfading garlands, unstained with dust, and\\nstaying without touching the ground. And Naishadha stood revealed to his\\nshadow, his fading garlands, himself stained with dust and sweat, resting\\non the ground with winking eyes. And, O Bharata, discerning the gods and\\nthe virtuous Nala the daughter of Bhima chose Naishadha according to her\\ntruth. And the large-eyed damsel then bashfully caught the hem of his\\ngarment and placed round his neck a floral wreath of exceeding grace. And\\nwhen that fair-complexioned maiden had thus chosen Nala for her husband,\\nthe kings suddenly broke out into exclamations of Oh! and Alas! And, O\\nBharata, the gods and the great Rishis in wonder cried Excellent!\\nExcellent!, applauding the king the while. And, O Kauravya, the royal son\\nof Virasena, with heart filled with gladness, comforted the beauteous\\nDamayanti, saying, \\'Since thou, O blessed one, hast chosen a mortal in\\nthe presence of the celestials, know me for a husband even obedient to\\nthy command. And, O thou of sweet smiles, truly do I tell thee this that\\nas long as life continueth in this body of mine, I will remain thine and\\nthine alone. Damayanti also, with folded hands paid homage unto Nala in\\nwords of like import. And the happy pair beholding Agni and the other\\ngods mentally sought their protection. And after the daughter of Bhima\\nhad chosen Naishadha as her husband, the Lokapalas of exceeding\\neffulgence with pleased hearts, bestowed on Nala eight boons. And Sakra,\\nthe lord of Sachi, bestowed on Nala the boon that he should be able to\\nbehold his godship in sacrifices and that he should attain to blessed\\nlegions thereafter, and Hutasana bestowed on him the boon of his own\\npresence whenever Naishadha wished, and regions also bright as himself.\\nAnd Yama granted him subtle taste in food as well as pre-eminence in\\nvirtue. And the lord of waters granted Nala his own presence whenever he\\ndesired, and also garlands of celestial fragrance. And thus each of them\\nbestowed upon him a couple of boons. And having bestowed these the gods\\nwent to heaven. And the kings also, having witnessed with wonder\\nDamayanti\\'s selection of Nala, returned delighted whence they had come.\\nAnd on the departure of those mighty monarchs, the high-souled Bhima,\\nwell pleased, celebrated the wedding of Nala and Damayanti. And having\\nstayed there for a time according to his desire, Naishadha, the best of\\nmen, returned to his own city with the permission of Bhima. And having\\nattained that pearl of a woman, the virtuous king, O monarch, began to\\npass his days in joy, like the slayer of Vala and Vritra in the company\\nof Sachi. And resembling the sun in glory, the king, full of gladness,\\nbegan to rule his subjects righteously, and give them great satisfaction.\\nAnd like unto Yayati, the son of Nahusha, that intelligent monarch\\ncelebrated the horse sacrifice and many other sacrifices with abundant\\ngifts to Brahmanas. And like unto a very god, Nala sported with Damayanti\\nin romantic woods and groves. And the high-minded king begat upon\\nDamayanti a son named Indrasena, and a daughter named Indrasena. And\\ncelebrating sacrifice, and sporting (with Damayanti) thus, the king ruled\\nthe earth abounding in wealth.\\'\"', '', '\"Vrihadaswa said, \\'When the blazing guardians of the worlds were\\nreturning after the daughter of Bhima had chosen Naishadha, on their way\\nthey met Dwapara with Kali approaching towards them. And seeing Kali,\\nSakra the slayer of Vala and Vritra, said, \\'O Kali, say whither thou art\\ngoing with Dwapara.\\' And thereupon Kali replied unto Sakra, \\'Going to\\nDamayanti\\'s Swayamvara, will I obtain her (for my wife), as my heart is\\nfixed upon that damsel.\\' Hearing this, Indra said with a smile, \\'That\\nSwayamvara is already ended. In our sight she hath chosen Nala for her\\nhusband.\\' Thus answered by Sakra, Kali, that vilest of the celestials,\\nfilled with wrath, addressing all those gods spake, \\'Since in the\\npresence of the celestials she hath chosen a mortal for her lord, it is\\nmeet that she should undergo a heavy doom.\\' Upon hearing these words of\\nKali, the celestials answered, \\'It is with our sanction that Damayanti\\nhath chosen Nala. What damsel is there that would not choose king Nala\\nendued with every virtue? Well-versed in all duties, always conducting\\nhimself with rectitude, he hath studied the four Vedas together with the\\nPuranas that are regarded as the fifth. Leading a life of harmlessness\\nunto all creatures, he is truth-telling and firm in his vows, and in his\\nhouse the gods are ever gratified by sacrifices held according to the\\nordinance. In that tiger among men--that king resembling a Lokapala, is\\ntruth, and forbearance, and knowledge, and asceticism, and purity and\\nself-control, and perfect tranquillity of soul. O Kali, the fool that\\nwisheth to curse Nala bearing such a character, curseth himself, and\\ndestroyeth himself by his own act. And, O Kali, he that seeketh to curse\\nNala crowned with such virtues, sinketh into the wide bottomless pit of\\nhell rife with torments.\\' Having said this to Kali and Dwapara, the gods\\nwent to heaven. And when the gods had gone away, Kali said unto Dwapara,\\n\\'I am ill able, O Dwapara, to suppress my anger. I shall possess Nala,\\ndeprive him of his kingdom, and he shall no more sport with Bhima\\'s\\ndaughter. Entering the dice, it behoveth thee to help me.\\'\"', ''], ['\"Vrihadaswa said, \\'After a long time had passed away, a Brahmana named\\nParnada returned to the city (of the Vidarbhas), and said unto the\\ndaughter of Bhima, \\'O Damayanti, seeking Nala, the king of Nishadhas, I\\ncame to the city of Ayodhya, and appeared before the son of Bhangasura.\\nAnd, O best of women, I repeated those words of thine in the presence of\\nthe blessed Rituparna. But hearing them neither that ruler of men, nor\\nhis courtiers, answered anything, although I uttered them repeatedly.\\nThen, after I had been dismissed by the monarch, I was accosted by a\\nperson in the service of Rituparna, named Vahuka. And Vahuka is the\\ncharioteer of that king, of unsightly appearance and possessed of short\\narms. And he is skillful in driving with speed, and well acquainted with\\nthe culinary art. And sighing frequently, and weeping again and again, he\\ninquired about my welfare and afterwards said these words, \\'Chaste women,\\nalthough fallen into distress, yet protect themselves and thus certainly\\nsecure heaven. Although they may be deserted by their lords, they do not\\nyet become angry on that account, for women that are chaste lead their\\nlives, encased in the armour of virtuous behaviour. It behoveth her not\\nto be angry, since he that deserted her was overwhelmed with calamity,\\nand deprived of every bliss. A beauteous and virtuous woman should not be\\nangry with one that was deprived by birds of his garment while striving\\nto procure sustenance and who is being consumed with grief. Whether\\ntreated well or ill, such a wife should never indulge in ire, beholding\\nher husband in that plight, despoiled of kingdom and destitute of\\nprosperity, oppressed with hunger and overwhelmed with calamity.\\' Hearing\\nthese words of his, I have speedily come here. Thou hast now heard all.\\nDo what thou thinkest proper, and inform the king of it.\\'', '\"O king, having heard these words of Parnada, Damayanti with tearful eyes\\ncame to her mother, and spake unto her in private, \\'O mother, king Bhima\\nshould not, by any means, be made acquainted with my purpose. In thy\\npresence will I employ that best of Brahmanas, Sudeva! If thou desirest\\nmy welfare, act in such a way that king Bhima may not know my purpose.\\nLet Sudeva without delay go hence to the city of Ayodhya, for the purpose\\nof bringing Nala, O mother, having performed the same auspicious rites by\\nvirtue of which he had speedily brought me into the midst of friends.\\'\\nWith these words, after Parnada had recovered from fatigue, the princess\\nof Vidarbha worshipped him with profuse wealth and also said, \\'When Nala\\nwill come here, O Brahmana, I will bestow on thee wealth in abundance\\nagain. Thou hast done me the immense service which none else, indeed, can\\ndo me, for, (owing to that service of thine), O thou best of the\\nregenerate ones, I shall speedily regain my (lost) lord.\\' And thus\\naddressed by Damayanti, that high-minded Brahmana comforted her, uttering\\nbenedictory words of auspicious import, and then went home, regarding his\\nmission to have been successful. And after he had gone away, Damayanti\\noppressed with grief and distress, calling Sudeva, addressed him, O\\nYudhishthira, in the presence of her mother, saying, \\'O Sudeva, go thou\\nto the city of Ayodhya, straight as a bird, and tell king Rituparna\\nliving there, these words: \\'Bhima\\'s daughter, Damayanti will hold another\\nSwayamvara. All the kings and princes are going thither. Calculating the\\ntime, I find that the ceremony will take place tomorrow. O represser of\\nfoes, if it is possible for thee, go thither without delay. Tomorrow,\\nafter the sun hath risen, she will choose a second husband, as she doth\\nnot know whether the heroic Nala liveth or not. And addressed by her, O\\nmonarch thus, Sudeva set out. And he said unto Rituparna, all that he had\\nbeen directed to say.\\'\"', '', '\"Vrihadaswa continued, \\'Having heard the words of Sudeva king Rituparna,\\nsoothing Vahuka with gentle words, said, \\'O Vahuka, thou art well-skilled\\nin training and guiding horses. If it pleases thee, I intend to go to\\nDamayanti\\'s Swayamvara in course of a single day.\\' Thus addressed, O son\\nof Kunti, by that king, Nala felt his heart to be bursting in grief. And\\nthe high-souled king seemed to burn in sorrow. And he thought within\\nhimself, \\'Perhaps Damayanti in doing this is blinded by sorrow. Or,\\nperhaps, she hath conceived this magnificent scheme for my sake. Alas,\\ncruel is the deed that the innocent princess of Vidarbha intends to do,\\nhaving been deceived by my sinful and low self of little sense. It is\\nseen in the world that the nature of woman is inconstant. My offence also\\nhath been great; perhaps she is acting so, because she hath no longer any\\nlove for me owing to my separation from her. Indeed, that girl of slender\\nwaist, afflicted with grief on my account and with despair, will not\\ncertainly do anything of the kind, when especially, she is the mother of\\noffspring (by me). However whether this is true or false, I shall\\nascertain with certitude by going thither. I will, therefore, accomplish\\nRituparna\\'s and my own purpose also.\\' Having resolved thus in his mind,\\nVahuka, with his heart in sorrow, spake unto king Rituparna, with joined\\nhands, saying, \\'O monarch, I bow to thy behest, and, O tiger among men, I\\nwill go to the city of the Vidarbhas in a single day. O king!\\' Then, O\\nmonarch, at the command of the royal son of Bhangasura, Vahuka went to\\nthe stables and began to examine the horses. And repeatedly urged by\\nRituparna to make haste, Vahuka after much scrutiny and careful\\ndeliberation, selected some steeds that were lean-fleshed, yet strong and\\ncapable of a long journey and endued with energy and strength of high\\nbreed and docility, free from inauspicious marks, with wide nostrils and\\nswelling cheeks, free from faults as regards the ten hairy curls, born in\\n(the country of) Sindhu, and fleet as the winds. And seeing those horses,\\nthe king said somewhat angrily, \\'What is this, that thou wishest to do?\\nThou shouldst not jest with us. How can these horses of mine, weak in\\nstrength and breath, carry us? And how shall we be able to go this long\\nway by help of these?\\' Vahuka replied, \\'Each of these horses bears one\\ncurl on his forehead, two on his temples, four on his sides, four on his\\nchest, and one on his back. Without doubt, these steeds will be able to\\ngo to the country of the Vidarbhas. If, O king, thou thinkest of choosing\\nothers, point them out and I shall yoke them for thee.\\' Rituparna\\nrejoined, \\'O Vahuka, thou art versed in the science of horses and art\\nalso skillful (in guiding them). Do thou speedily yoke those that thou\\nthinkest to be able.\\' Thereupon the skillful Nala yoked upon the car four\\nexcellent steeds of good breed that were, besides, docile and fleet. And\\nafter the steeds had been yoked, the king without loss of time mounted\\nupon the car, when those best of horses fell down upon the ground on\\ntheir knees. Then, O king, that foremost of men, the blessed king Nala\\nbegan to soothe horses endued with energy and strength. And raising them\\nup with the reins and making the charioteer Varshneya sit on the car, he\\nprepared to set out with great speed. And those best of steeds, duly\\nurged by Vahuka, rose to the sky, confounding the occupant of the\\nvehicle. And beholding those steeds gifted with the speed of the wind\\nthus drawing the car, the blessed king of Ayodhaya was exceedingly\\namazed. And noticing the rattle of the car and also the management of the\\nsteeds, Varshneya reflected upon Vahuka\\'s skill in guiding horses. And he\\nthought, \\'Is he Matali, the charioteer of the king of the celestials? I\\nfind the same magnificent indications in the heroic Vahuka. Or, hath\\nSalihotra versed in the science of horses taken this human shape so\\nbeautiful? Or, is it king Nala the reducer of hostile towns that hath\\ncome here? Or, it may be that this Vahuka knoweth the science that Nala\\nknoweth, for I perceive that the knowledge of Vahuka is equal to that of\\nNala. Further, Vahuka and Nala are of the same age. This one, again, may\\nnot be Nala of high prowess, but somebody of equal knowledge. Illustrious\\npersons, however, walk this earth in disguise in consequence of\\nmisfortune, or agreeably to the ordinance of the scriptures. That this\\nperson is of unsightly appearance need not change my opinion; for Nala, I\\nthink, may even be despoiled of his personal features. In respect of age\\nthis one equals Nala. There is difference, however, in personal\\nappearance. Vahuka, again is endued with every accomplishment. I think,\\ntherefore, he is Nala.\\' Having thus reasoned long in his mind, O mighty\\nmonarch, Varshneya, the (former) charioteer of the righteous Nala, became\\nabsorbed in thought. And that foremost of kings Rituparna, also,\\nbeholding the skill of Vahuka in equestrian science experienced great\\ndelight, along with his charioteer Varshneya. And thinking of Vahuka\\'s\\napplication and ardour and the manner of his holding the reins, the king\\nfelt exceedingly glad.\\'\"', '', '\"Vrihadaswa said, \\'Like a bird coursing through the sky, Nala soon\\ncrossed rivers and mountains, and woods and lakes. And while the car was\\ncoursing thus, that conqueror of hostile cities, the royal son of\\nBhangasura, saw his upper garment drop down on the ground. And at soon as\\nhis garment had dropped down the high-minded monarch, without loss of\\ntime, told Nala, \\'I intend to recover it. O thou of profound\\nintelligence, retain these steeds endued with exceeding swiftness until\\nVarshneya bringeth back my garment.\\' Thereupon Nala replied unto him,\\n\\'The sheet is dropped down far away. We have travelled one yojana thence.\\nTherefore, it is incapable of being recovered.\\' After Nala had addressed\\nhim thus, O king, the royal son of Bhangasura came upon a Vibhitaka tree\\nwith fruits in a forest. And seeing that tree, the king hastily said to\\nVahuka, \\'O charioteer, do thou also behold my high proficiency in\\ncalculation. All men do not know everything. There is no one that is\\nversed in every science of art. Knowledge in its entirety is not found in\\nany one person, O Vahuka, the leaves and fruits of this tree that are\\nlying on the ground respectively exceed those that are on it by one\\nhundred and one. The two branches of the tree have fifty millions of\\nleaves, and two thousand and ninety five fruits. Do thou examine these\\ntwo branches and all their boughs.\\' Thereupon staying the car Vahuka\\naddressed the king, saying, \\'O crusher of foes, thou takest credit to\\nthyself in a matter which is beyond my perception. But, O monarch, I will\\nascertain it by the direct evidence of my senses, by cutting down the\\nVibhitaka. O king, when I actually count, it will no longer be matter of\\nspeculation. Therefore, in thy presence, O monarch, I will hew down this\\nVibhitaka. I do not know whether it be not (as thou hast said). In thy\\npresence, O ruler of men, I will count the fruits and leaves. Let\\nVarshneya hold the reins of the horses for a while.\\' Unto the charioteer\\nthe king replied, \\'There is no time to lose.\\' But Vahuka answered with\\nhumility, \\'Stay thou a short space, or, if thou art in a hurry, go then,\\nmaking Varshneya thy charioteer. The road lies direct and even.\\' And at\\nthis, O son of the Kuru race, soothing Vahuka, Rituparna said, \\'O Vahuka,\\nthou art the only charioteer, there is none other in this world. And, O\\nthou versed in horse lore, it is through thy help that I expect to go to\\nthe Vidarbhas. I place myself in thy hands. It behoveth thee not to cause\\nany obstacle. And, O Vahuka, whatever thy wish. I will grant it if taking\\nme to the country of the Vidarbhas to-day, thou makest me see the sun\\nrise.\\' At this, Vahuka answered him, saying, \\'After having counted (the\\nleaves and fruits of the) Vibhitaka, I shall proceed to Vidarbha, do thou\\nagree to my words. Then the king reluctantly told him, \\'Count. And on\\ncounting the leaves and fruits of a portion of this branch, thou wilt be\\nsatisfied of the truth of my assertion.\\' And thereupon Vahuka speedily\\nalighted from the car, and felled that tree. And struck with amazement\\nupon finding the fruits, after calculation, to be what the king had said,\\nhe addressed the king, saying, \\'O monarch, this thy power is wonderful. I\\ndesire, O prince, to know the art by which thou hast ascertained all\\nthis.\\' And at this king, intent upon proceeding speedily, said unto\\nVahuka. \\'Know that I am proficient at dice besides being versed in\\nnumbers. And Vahuka said unto him, \\'Impart unto me this knowledge and, O\\nbull among men, take from me my knowledge of horses.\\' And king Rituparna,\\nhaving regard to the importance of the act that depended upon Vahuka\\'s\\ngood-will, and tempted also by the horse-lore (that his charioteer\\npossessed), said, \\'So be it.\\' As solicited by thee, receive this science\\nof dice from me, and, O Vahuka, let my equine science remain with thee in\\ntrust.\\' And saying this, Rituparna imparted unto Nala the science (he\\ndesired). And Nala upon becoming acquainted with the science of dice,\\nKali came out of his body, incessantly vomiting from his mouth the\\nvirulent poison of Karkotaka.', 'And when Kali, afflicted (by Damayanti\\'s curse) came out (of Nala\\'s\\nbody), the fire of that curse also left Kali. Indeed, long had been the\\ntime for which the king had been afflicted by Kali, as if he were of\\nunregenerate soul. And Kala the ruler of the Nishadhas, in wrath, was\\nbent upon cursing Kali, when the latter, frightened, and trembling, said\\nwith joined hands, \\'Control thy wrath, O king! I will render thee\\nillustrious. Indrasena\\'s mother had formerly cursed me in anger when she\\nhad been deserted by thee. Ever since that time undergoing sore\\naffliction I resided in thee, O mighty monarch, O unconquered one,\\nmiserably and burning night and day with the venom of the prince of\\nsnakes. I seek thy protection. If thou dost not curse me who am\\naffrighted and seek thy protection, then those men that will attentively\\nrecite thy history, shall be even free from fear on my account.\\' And thus\\naddressed by Kali, king Nala controlled his wrath. And thereupon the\\nfrightened Kali speedily entered into the Vibhitaka tree. And while the\\nKali was conversing with Naishadha, he was invisible to others. And\\ndelivered from his afflictions, and having counted the fruits of that\\ntree, the king, filled with great joy and of high energy, mounted on the\\ncar and proceeded with energy, urging those fleet horses. And from the\\ntouch of Kali the Vibhitaka tree from that hour fell into disrepute. And\\nNala, with a glad heart, began to urge those foremost of steeds which\\nsprang into the air once and again like creatures endued with wings. And\\nthe illustrious monarch drove (the car) in the direction of the\\nVidarbhas. And after Nala had gone far away, Kali also returned to his\\nabode. And abandoned by Kali, O king, that lord of earth, the royal Nala,\\nbecame freed from calamity though he did not assume his native form.\\'\"', '', '\"Vrihadaswa said, \\'After Rituparna of prowess incapable of being baffled\\nhad, in the evening, arrived at the city of the Vidarbhas, the people\\nbrought unto king Bhima the tidings (of his arrival). And at the\\ninvitation of Bhima, the king (of Ayodhya) entered the city of Kundina,\\nfilling with the rattle of his car all the ten points, direct and\\ntransverse, of the horizon. And the steeds of Nala that were in that city\\nheard that sound, and hearing it they became delighted as they used to be\\nin the presence of Nala himself. And Damayanti also heard the sound of\\nthat car driven by Nala, like the deep roar of the clouds in the rainy\\nseason. And Bhima and the steeds (of Nala) regarded the clatter of that\\ncar to be like that which they used to hear in days of yore when king\\nNala himself urged his own steeds. And the peacocks on the terraces, and\\nthe elephants in the stables, and the horses also, all heard the rattle\\nof Rituparna\\'s car. And hearing the sound, so like the roar of the\\nclouds, the elephants and the peacocks, O king, began to utter their\\ncries, facing that direction, and filled with delight such as they\\nexperience when they hear the actual roar of the clouds. And Damayanti\\nsaid, \\'Because the rattle of his car filling the whole earth, gladdens my\\nheart, it must be King Nala (that has come). If I do not see Nala, of\\nface bright as the moon, that hero with countless virtues, I shall\\ncertainly die. If I am not clasped today in that hero\\'s thrilling\\nembrace, I shall certainly cease to be. If Naishadha with voice deep as\\nthat of the clouds doth not come to me today, I shall enter into a pyre\\nof golden brilliance. If that foremost of kings, powerful as a lion and\\ngifted with the strength of an infuriated elephant, doth not present\\nhimself before me, I shall certainly cease to live. I do not remember a\\nsingle untruth in him, or a single wrong done by him to others. Never\\nhath he spoken an untruth even in jest. Oh, my Nala is exalted and\\nforgiving and heroic and magnificent and superior to all other kings, and\\nfaithful to his marriage vow and like unto a eunuch in respect of other\\nfemales. Night and day dwelling upon his perceptions, my heart, in\\nabsence of that dear one, is about to burst in grief.\\'', '\"Thus bewailing as if devoid of sense, Damayanti, O Bharata, ascended the\\nterrace (of her mansion) with the desire of seeing the righteous Nala.\\nAnd in the yard of the central mansion she beheld king Rituparna on the\\ncar with Varshneya and Vahuka. And Varshneya and Vahuka, descending for\\nthat excellent vehicle, unyoked the steeds, and kept the vehicle itself\\nin a proper place. And king Rituparna also, descending from the car,\\npresented himself before king Bhima possessed of terrible prowess. And\\nBhima received him with great respect, for in the absence of a proper\\noccasion, a great person cannot be had (as a guest). And honoured by\\nBhima, king Rituparna looked about him again and again, but saw no traces\\nof the Swayamvara. And the ruler of the Vidarbhas, O Bharata, approaching\\nRituparna, said, \\'Welcome! What is the occasion of this thy visit?\\' And\\nking Bhima asked this without knowing that Rituparna had come to obtain\\nthe hand of his daughter. And king Rituparna, of unbaffled prowess and\\ngifted with intelligence, saw that there were no other kings or princes.\\nNor did he hear any talk relating to the Swayamvara, nor saw any\\nconcourse of Brahmanas. And at this, the king of Kosala reflected a while\\nand at length said, \\'I have come here to pay my respects to thee.\\' And\\nthe king Bhima was struck with astonishment, and reflected upon the\\n(probable) cause of Rituparna\\'s coming, having passed over a hundred\\nyojanas. And he reflected, \\'That passing by other sovereigns, and leaving\\nbehind him innumerable countries, he should come simply to pay his\\nrespect to me is scarcely the reason of his arrival. What he assigneth to\\nbe the cause of his coming appeareth to be a trifle. However, I shall\\nlearn the true reason in the future.\\' And although king Bhima thought so,\\nhe did not dismiss Rituparna summarily, but said unto him again and\\nagain, \\'Rest, thou art weary.\\' And honoured thus by the pleased Bhima,\\nking Rituparna was satisfied, and with a delighted heart, he went to his\\nappointed quarters followed by the servants of the royal household.\"', '\"Vrihadaswa continued, \\'And, O king, after Rituparna had gone away with\\nVarshneya, Vahuka took the car to the stables. And there freeing the\\nsteeds, and tending them according to rule, and soothing them himself,\\nsat down on a side of the car. Meanwhile, the princess of Vidharva,\\nDamayanti, afflicted with grief, having beheld the royal son of\\nBhangasura, and Varshneya of the Suta race, and also Vahuka in that\\nguise, asked herself, \\'Whose is this car-rattle? It was loud as that of\\nNala, but I do not see the ruler of the Nishadhas. Certainly, Varshneya\\nhath learnt the art from Nala, and it is for this the rattle of the car\\ndriven by him hath been even like that of Nala. Or, is Rituparna equally\\nskilled with Nala so that the rattle of his car seemeth to be like that\\nof Nala?\\' And reflecting thus, O monarch, the blessed and beauteous girl\\nsent a female messenger in search of Nishada.\"', '', '\"Damayanti said, \\'O Kesini, go thou and learn who that charioteer is that\\nsitteth by the car, unsightly and possessed of short arms. O blessed one,\\nO faultless one, approaching him, cautiously and with suit words, make\\nthou the usual inquiries of courtesy and learn all particulars truly.\\nHaving regard to the feeling of satisfaction my mind experienceth, and\\nthe delight my heart feeleth, I am greatly afraid this one is king Nala\\nhimself. And, O faultless one, having inquired after his welfare, thou\\nshalt speak unto him the words of Parnada. And, O beauteous one,\\nunderstand the reply he may make thereto.\\' Thus instructed, that female\\nmessenger, going cautiously, while the blessed Damayanti watched from the\\nterrace, addressed Vahuka in these words, \\'O foremost of men, thou art\\nwelcome. I wish thee happiness. O bull among men, hear now the words of\\nDamayanti. When did ye all set out, and with what object have ye come\\nhither. Tell us truly, for the princess of Vidarbha wisheth to hear it.\\'\\nThus addressed, Vahuka answered, the illustrious king of Kosala had heard\\nfrom a Brahmana that a second Swayamvara of Damayanti would take place.\\nAnd hearing it, he hath come here, by the help of excellent steeds fleet\\nas the wind and capable of going a hundred yojanas. I am his charioteer.\\nKesini then asked, \\'Whence doth the third among you come, and whose (son)\\nis he? And whose son art thou, and how hast thou come to do this work?\\'\\nThus questioned, Vahuka replied, \\'He (of whom thou inquirest) was the\\ncharioteer of the virtuous Nala, and known to all by the name of\\nVarshneya. After Nala had, O beauteous one, left his kingdom, he came to\\nthe son of Bhangasura. I am skilled in horse-lore, and have, therefore,\\nbeen appointed as charioteer. Indeed, king Rituparna hath himself chosen\\nme as his charioteer and cook.\\' At this Kesini rejoined, \\'Perhaps\\nVarshneya knoweth where king Nala hath gone, and O Vahuka, he may also\\nhave spoken to thee (about his master).\\' Vahuka then said, \\'Having\\nbrought hither the children of Nala of excellent deeds, Varshneya went\\naway whither he listed: He doth not know where Naishadha is. Nor, O\\nillustrious one, doth anybody else know of Nala\\'s whereabouts; for the\\nking (in calamity) wandereth over the world in disguise and despoiled of\\n(his native) beauty. Nala\\'s self only knoweth Nala. Nala never\\ndiscovereth his marks of identity anywhere.\\' Thus addressed, Kesini\\nreturned, \\'The Brahmana that had before this gone to Ayodhya, had\\nrepeatedly said these words suitable to female lips, \\'O beloved gambler,\\nwhere hast thou gone cutting off half my piece of cloth, and deserting\\nme, his dear and devoted wife asleep in the woods? And she herself, as\\ncommanded by him, waiteth expecting him clad in half a garment and\\nburning day and night in grief. O king, O hero, do thou relent towards\\nher that weepeth ceaselessly for that calamity and do thou give her an\\nanswer. O illustrious one, do thou speak the words agreeable to her for\\nthe blameless one panteth to hear them. Hearing these words of the\\nBrahmana thou didst formerly give a reply! The princess of Vidarbha again\\nwisheth to hear the words thou didst then say.\\'\"', '\"Vrihadaswa continued, \\'O son of the Kuru race, hearing these words of\\nKesini, Nala\\'s heart was pained, and his eyes filled with tears. And\\nrepressing his sorrow, the king who was burning in grief, said again\\nthese words, in accents choked with tears: \\'Chaste women, though\\novertaken by calamity, yet protect themselves, and thereby secure heaven.\\nWomen that are chaste, deserted by their lords, never become angry, but\\ncontinue to live, cased in virtue\\'s mail. Deserted by one fallen into\\ncalamity, bereft of sense, and despoiled of bliss, it behoveth her not to\\nbe angry. A virtuous lady should not be angry with one that was deprived\\nby birds of his garment while striving to procure sustenance and who is\\nburning in misery. Whether treated well or ill she would never be angry,\\nseeing her husband in that plight, despoiled of his kingdom, bereft of\\nprosperity, oppressed with hunger, and overwhelmed with calamity.\\' And, O\\nBharata, while speaking thus, Nala oppressed with grief, could not\\nrestrain his tears, but began to weep. And thereupon Kesini went back to\\nDamayanti, and acquainted her with everything about that conversation as\\nwell as that outburst of grief.\"', '']]\n"
          ]
        }
      ]
    },
    {
      "cell_type": "code",
      "source": [
        "# with open(\"swayamvara_sections.txt\", \"w\") as output:\n",
        "#     output.write(str(event_sentences))"
      ],
      "metadata": {
        "id": "eu0qrPjayaaS"
      },
      "execution_count": null,
      "outputs": []
    },
    {
      "cell_type": "code",
      "source": [
        "# import pandas as pd\n",
        "# dict = {'paras': event_sentences[1]}\n",
        "# df = pd.DataFrame(dict) \n",
        "    \n",
        "# df.to_csv('swayamvara_two.csv') "
      ],
      "metadata": {
        "id": "vOfU5Q_XK024"
      },
      "execution_count": null,
      "outputs": []
    },
    {
      "cell_type": "code",
      "source": [
        "# print(event_sentences[0][1])"
      ],
      "metadata": {
        "id": "SWOthTiryjFt"
      },
      "execution_count": null,
      "outputs": []
    },
    {
      "cell_type": "code",
      "source": [
        "# summary_swayamvara = []\n",
        "# for x in event_sentences:\n",
        "#   summary_temp = []\n",
        "#   for i in x:\n",
        "#     print(len(i))\n",
        "#     if len(i)>3000:\n",
        "#       n = 0\n",
        "#       k = len(i)\n",
        "#       while(n+3000<k):\n",
        "#         print('inside')\n",
        "#         p = i[n:n+3000]\n",
        "#         n+=3000\n",
        "#         summary_temp.append(GenerateSummary(p))\n",
        "#     else:\n",
        "#         summary_temp.append(GenerateSummary(i))\n",
        "#   summary_swayamvara.append(summary_temp)"
      ],
      "metadata": {
        "id": "egtZi7cyyu6-"
      },
      "execution_count": null,
      "outputs": []
    },
    {
      "cell_type": "code",
      "source": [
        "# print(summary_swayamvara[0])"
      ],
      "metadata": {
        "id": "zsqqLreGzUFK"
      },
      "execution_count": null,
      "outputs": []
    },
    {
      "cell_type": "code",
      "source": [
        "# print(len(event_sentences[0]))\n",
        "# print(len(event_sentences[0][9]))\n",
        "# context = event_sentences[0][9]\n",
        "# print(context)\n",
        "# question = \"who summoned the kings for the swayamvara\""
      ],
      "metadata": {
        "id": "4G9o9iFwCz0a"
      },
      "execution_count": null,
      "outputs": []
    },
    {
      "cell_type": "code",
      "source": [
        "# with open(\"swayamvara_sections_summary.txt\", \"w\") as output:\n",
        "#     output.write(str(summary_swayamvara))"
      ],
      "metadata": {
        "id": "sQqVaiCFzZO-"
      },
      "execution_count": null,
      "outputs": []
    },
    {
      "cell_type": "code",
      "source": [
        "# import pandas as pd\n",
        "# dict = {'summary': summary_swayamvara[1]}\n",
        "# df = pd.DataFrame(dict) \n",
        "    \n",
        "# df.to_csv('summary_swayamvara_two.csv') "
      ],
      "metadata": {
        "id": "73XK8OMKEXob"
      },
      "execution_count": null,
      "outputs": []
    },
    {
      "cell_type": "code",
      "source": [
        ""
      ],
      "metadata": {
        "id": "AdAI49G-rHuJ"
      },
      "execution_count": null,
      "outputs": []
    },
    {
      "cell_type": "code",
      "source": [
        "from transformers import pipeline\n",
        "\n",
        "# Replace this with your own checkpoint\n",
        "model_checkpoint = \"bert-large-uncased-whole-word-masking-finetuned-squad\"\n",
        "question_answerer = pipeline(\"question-answering\", model=model_checkpoint)\n"
      ],
      "metadata": {
        "colab": {
          "base_uri": "https://localhost:8080/",
          "height": 177,
          "referenced_widgets": [
            "3a2afa6317294835a1567bb30c2b56fd",
            "9774d03bba124a7c9a75525132a615da",
            "530447e41da14fb0bbbc125357229791",
            "2994d77fceaa4b82bf6aaff460c647f1",
            "28e6371ca272441780432d6ea28fe687",
            "43b2150f24284bf1bba3b1586b5ff28c",
            "91aa997f09814cc0a02c0c68847628d5",
            "d4b8e87277234951af3f6a7a56921c25",
            "51f2ae4d4ead411986fd18549c156a84",
            "21a568f73c53449abb296e8723bebc18",
            "44409c2197e74a5aa6b53239a08d4de2",
            "891a75866f484d62a65e7a73f6b41377",
            "fb870ee20ece4c6ea6bfea085d96ff5f",
            "a4b911c0d9574b1787be488b273f9b98",
            "ece8f637c83c4b5a8181f513cd16c559",
            "b75b394d87b74fc1abec16dc9c5b74a7",
            "391880b4cab84e9dadd68a0d879b3bdb",
            "e4b8c36a0b6f4311888f3cdfd11f5fb5",
            "125d071375624e96ac9c170811a9fb0a",
            "cbc0fbc0e8e649e589d85711ddefad97",
            "80c7f5bd2f234d0398307fc4ecdd98cc",
            "f72c820d76fc4193a611881ceb6e1408",
            "8eeb5b74c3ed4f47b73af4f49d92fa2d",
            "4fc1fde0ef0245edb19db2cc9e2eb9cf",
            "c32f43d775614deeaaead36c9a66339b",
            "df72dbdb59054b978fad9580c869ac9f",
            "fe5f74ab07344e1cabd5765fcc873e68",
            "3269d69ec0c6487e883fe6428820b3d9",
            "0d6ce3d07afb4169a8144654400d83a8",
            "e9b620a714a840dfa615848431cee6e9",
            "7122fbe59af943efabf47139104ba89a",
            "ba9f304e67ba4a0eac0986523881c6b6",
            "40a9fe0842274a34a982421cc5c0923a",
            "df2c2a9dfd6a4f8d89bb1636a52e39a5",
            "fbaaa76c01c44e0e893819094d6f6d1e",
            "df0ad0084429491caf6e9a4324e208cb",
            "e62d4f14703f4b8ab07d08c77e6360b3",
            "7bfbe1c4d0cf422788c1360554c4f280",
            "1c93a3e5b0554bf6bbb46aa6b496882d",
            "c08eec3a7af5437390fe3329d68914f5",
            "d670c40abf6c4f9a85913100a1bd7338",
            "20065886e2f34037900af81356172821",
            "a2a9abd30fb34a0d9caf87de9ef19217",
            "4a0b330c4cf64d928eb2233cae2e009e",
            "0dd51015be9147939f56a5a2b2c04c7b",
            "57f6ca6403cb4ddbaf110e4d6fa31959",
            "d5feef8932de492dab1dd2fcb943ac8c",
            "a2d253cc1bfc4c939ae7a0afa3079159",
            "7406d4ff6aa549dbbf1b57814cb98cb1",
            "9e394257976b4fd9b383b19eef09a994",
            "2e09d8d004fb4e25b3ace3d585f98de9",
            "b3aa77e28fa24901ac3b636b81038d92",
            "dc1a848f43034dfb8a3600af3e92a02c",
            "6c0d66bb9ce54e72ba5ad34b6ca1b8ea",
            "02512aa2489a4eca9c27f68163356df5"
          ]
        },
        "id": "dVkC-8Sdjrzo",
        "outputId": "6e892b32-6218-47e4-a190-c7dacf448663"
      },
      "execution_count": null,
      "outputs": [
        {
          "output_type": "display_data",
          "data": {
            "text/plain": [
              "Downloading:   0%|          | 0.00/443 [00:00<?, ?B/s]"
            ],
            "application/vnd.jupyter.widget-view+json": {
              "version_major": 2,
              "version_minor": 0,
              "model_id": "3a2afa6317294835a1567bb30c2b56fd"
            }
          },
          "metadata": {}
        },
        {
          "output_type": "display_data",
          "data": {
            "text/plain": [
              "Downloading:   0%|          | 0.00/1.25G [00:00<?, ?B/s]"
            ],
            "application/vnd.jupyter.widget-view+json": {
              "version_major": 2,
              "version_minor": 0,
              "model_id": "891a75866f484d62a65e7a73f6b41377"
            }
          },
          "metadata": {}
        },
        {
          "output_type": "display_data",
          "data": {
            "text/plain": [
              "Downloading:   0%|          | 0.00/28.0 [00:00<?, ?B/s]"
            ],
            "application/vnd.jupyter.widget-view+json": {
              "version_major": 2,
              "version_minor": 0,
              "model_id": "8eeb5b74c3ed4f47b73af4f49d92fa2d"
            }
          },
          "metadata": {}
        },
        {
          "output_type": "display_data",
          "data": {
            "text/plain": [
              "Downloading:   0%|          | 0.00/226k [00:00<?, ?B/s]"
            ],
            "application/vnd.jupyter.widget-view+json": {
              "version_major": 2,
              "version_minor": 0,
              "model_id": "df2c2a9dfd6a4f8d89bb1636a52e39a5"
            }
          },
          "metadata": {}
        },
        {
          "output_type": "display_data",
          "data": {
            "text/plain": [
              "Downloading:   0%|          | 0.00/455k [00:00<?, ?B/s]"
            ],
            "application/vnd.jupyter.widget-view+json": {
              "version_major": 2,
              "version_minor": 0,
              "model_id": "0dd51015be9147939f56a5a2b2c04c7b"
            }
          },
          "metadata": {}
        }
      ]
    },
    {
      "cell_type": "code",
      "source": [
        "# question = \"who did Damayanti marry\"\n",
        "def findAns(para, question):\n",
        "  ans = []\n",
        "  dummy = {'score': 0, 'start': 0, 'end': 0, 'answer': 'empty'}\n",
        "  # damayanti = event_sentences[0]\n",
        "  for context in para:\n",
        "    if(len(context)!=0):\n",
        "      ans.append(question_answerer(question=question, context=context))\n",
        "    else: \n",
        "      ans.append(dummy)\n",
        "\n",
        "  score = []\n",
        "  for i in ans:\n",
        "    score.append(i['score'])\n",
        "  # print(score)\n",
        "  maxpos = score.index(max(score)) \n",
        "  # print(ans[maxpos]['answer'])\n",
        "  return ans[maxpos]['answer']"
      ],
      "metadata": {
        "id": "ONNQWmJ0CcTL"
      },
      "execution_count": null,
      "outputs": []
    },
    {
      "cell_type": "code",
      "source": [
        "para = event_sentences[1]\n",
        "# para = event_sentences[0] + event_sentences\n",
        "question = \"who did damayanti marry?\"\n",
        "ans = findAns(para, question)\n",
        "print(ans)"
      ],
      "metadata": {
        "colab": {
          "base_uri": "https://localhost:8080/"
        },
        "id": "po4CUASLPVBu",
        "outputId": "8a293ed7-ac5a-49ab-abcd-0345244d54e8"
      },
      "execution_count": null,
      "outputs": [
        {
          "output_type": "stream",
          "name": "stderr",
          "text": [
            "/usr/local/lib/python3.7/dist-packages/transformers/tokenization_utils_base.py:707: VisibleDeprecationWarning: Creating an ndarray from ragged nested sequences (which is a list-or-tuple of lists-or-tuples-or ndarrays with different lengths or shapes) is deprecated. If you meant to do this, you must specify 'dtype=object' when creating the ndarray.\n",
            "  tensor = as_tensor(value)\n",
            "/usr/local/lib/python3.7/dist-packages/transformers/pipelines/question_answering.py:300: VisibleDeprecationWarning: Creating an ndarray from ragged nested sequences (which is a list-or-tuple of lists-or-tuples-or ndarrays with different lengths or shapes) is deprecated. If you meant to do this, you must specify 'dtype=object' when creating the ndarray.\n",
            "  for span_id in range(num_spans)\n"
          ]
        },
        {
          "output_type": "stream",
          "name": "stdout",
          "text": [
            "King Nala\n"
          ]
        }
      ]
    },
    {
      "cell_type": "markdown",
      "source": [
        "Amba's Swayamvara"
      ],
      "metadata": {
        "id": "mXtp6PgtIOjM"
      }
    },
    {
      "cell_type": "code",
      "source": [
        "import nltk\n",
        "from nltk.tokenize import sent_tokenize\n",
        "nltk.download('punkt')\n",
        "\n",
        "file_path = \"/content/amba-swayamvara.txt\"\n",
        "\n",
        "# book_list = [\"01\",\"02\",\"03\",\"04\",\"05\",\"06\",\"07\",\"08\",\"09\",\"10\",\"11\",\"12\",\"13\",\"14\",\"15\",\"16\",\"17\",\"18\"]\n",
        "sen_list = []\n",
        "# for i in book_list:\n",
        "book_path = file_path\n",
        "  #print(book_path)\n",
        "f = open(book_path, \"r\")\n",
        "s = f.read()\n",
        "# temp = sent_tokenize(s)\n",
        "# for x in temp:\n",
        "#   sen_list.append(x)\n",
        "# print(sen_list[100])"
      ],
      "metadata": {
        "colab": {
          "base_uri": "https://localhost:8080/"
        },
        "id": "ylXBgjpY_h5v",
        "outputId": "0834b9b3-f4a3-4bb9-a876-9830b7f56c66"
      },
      "execution_count": null,
      "outputs": [
        {
          "output_type": "stream",
          "name": "stdout",
          "text": [
            "[nltk_data] Downloading package punkt to /root/nltk_data...\n",
            "[nltk_data]   Package punkt is already up-to-date!\n"
          ]
        }
      ]
    },
    {
      "cell_type": "code",
      "source": [
        "s = s.split('\\n\\n')"
      ],
      "metadata": {
        "id": "kMvmbUm3BGgK"
      },
      "execution_count": null,
      "outputs": []
    },
    {
      "cell_type": "code",
      "source": [
        "paras_temp = []\n",
        "sectional_split = []\n",
        "i = 0\n",
        "dict = {}\n",
        "for x in s:\n",
        "#   if 'SECTION' in x:\n",
        "#     dict[i] = paras_temp\n",
        "#     paras_temp = []\n",
        "#     i+=1\n",
        "  # else:\n",
        "    paras_temp.append(x)\n",
        "dict[0]     = paras_temp\n"
      ],
      "metadata": {
        "id": "fyE-tkPoBGoD"
      },
      "execution_count": null,
      "outputs": []
    },
    {
      "cell_type": "code",
      "source": [
        "x = dict[0]\n",
        "print(x[0])\n",
        "x = x[1:]\n",
        "print(x[0])"
      ],
      "metadata": {
        "id": "ghcqTftKFocb"
      },
      "execution_count": null,
      "outputs": []
    },
    {
      "cell_type": "code",
      "source": [
        "# summary = []\n",
        "# # summary_temp.append(GenerateSummary(i))\n",
        "# for x in dict[0]:\n",
        "#   summary.append(GenerateSummary(x))"
      ],
      "metadata": {
        "id": "2acLPMnbBYg_"
      },
      "execution_count": null,
      "outputs": []
    },
    {
      "cell_type": "code",
      "source": [
        "# import pandas as pd\n",
        "# d = {'summary': summary}\n",
        "# df = pd.DataFrame(d) \n",
        "    \n",
        "# df.to_csv('summary_swayamvara_three.csv') "
      ],
      "metadata": {
        "id": "LQx6zZAgCnZN"
      },
      "execution_count": null,
      "outputs": []
    },
    {
      "cell_type": "code",
      "source": [
        "x = dict[0]\n",
        "print(x[0])\n",
        "x = x[1:]\n",
        "print(x[0])"
      ],
      "metadata": {
        "id": "dMfCmWhlewm5"
      },
      "execution_count": null,
      "outputs": []
    },
    {
      "cell_type": "code",
      "source": [
        "para = x\n",
        "question = \"who challenged Bhishma\"\n",
        "ans = findAns(para, question)\n",
        "print(ans)"
      ],
      "metadata": {
        "colab": {
          "base_uri": "https://localhost:8080/"
        },
        "id": "eX66ggQHEU7Y",
        "outputId": "b2bcb747-1534-4c76-fd44-117376cf3a01"
      },
      "execution_count": null,
      "outputs": [
        {
          "output_type": "stream",
          "name": "stderr",
          "text": [
            "/usr/local/lib/python3.7/dist-packages/transformers/tokenization_utils_base.py:707: VisibleDeprecationWarning: Creating an ndarray from ragged nested sequences (which is a list-or-tuple of lists-or-tuples-or ndarrays with different lengths or shapes) is deprecated. If you meant to do this, you must specify 'dtype=object' when creating the ndarray.\n",
            "  tensor = as_tensor(value)\n",
            "/usr/local/lib/python3.7/dist-packages/transformers/pipelines/question_answering.py:300: VisibleDeprecationWarning: Creating an ndarray from ragged nested sequences (which is a list-or-tuple of lists-or-tuples-or ndarrays with different lengths or shapes) is deprecated. If you meant to do this, you must specify 'dtype=object' when creating the ndarray.\n",
            "  for span_id in range(num_spans)\n"
          ]
        },
        {
          "output_type": "stream",
          "name": "stdout",
          "text": [
            "king Salya\n"
          ]
        }
      ]
    },
    {
      "cell_type": "code",
      "source": [
        "para = x\n",
        "question = \"what did amba, the eldest daughter of king of Kasi say?\"\n",
        "ans = findAns(para, question)\n",
        "print(ans)"
      ],
      "metadata": {
        "colab": {
          "base_uri": "https://localhost:8080/"
        },
        "id": "2Jya5A_ME6W7",
        "outputId": "84e5015f-60d5-4b3a-8d9e-82d77f0debca"
      },
      "execution_count": null,
      "outputs": [
        {
          "output_type": "stream",
          "name": "stderr",
          "text": [
            "/usr/local/lib/python3.7/dist-packages/transformers/tokenization_utils_base.py:707: VisibleDeprecationWarning: Creating an ndarray from ragged nested sequences (which is a list-or-tuple of lists-or-tuples-or ndarrays with different lengths or shapes) is deprecated. If you meant to do this, you must specify 'dtype=object' when creating the ndarray.\n",
            "  tensor = as_tensor(value)\n",
            "/usr/local/lib/python3.7/dist-packages/transformers/pipelines/question_answering.py:300: VisibleDeprecationWarning: Creating an ndarray from ragged nested sequences (which is a list-or-tuple of lists-or-tuples-or ndarrays with different lengths or shapes) is deprecated. If you meant to do this, you must specify 'dtype=object' when creating the ndarray.\n",
            "  for span_id in range(num_spans)\n"
          ]
        },
        {
          "output_type": "stream",
          "name": "stdout",
          "text": [
            "'At heart I had chosen the king of Saubha for my\n",
            "husband\n"
          ]
        }
      ]
    },
    {
      "cell_type": "code",
      "source": [
        "para = x\n",
        "question = \"who did Vichitravirya marry?\"\n",
        "ans = findAns(para, question)\n",
        "print(ans)"
      ],
      "metadata": {
        "id": "EdiIMtcwFuIJ"
      },
      "execution_count": null,
      "outputs": []
    },
    {
      "cell_type": "code",
      "source": [
        ""
      ],
      "metadata": {
        "id": "9h894yhPKNQ2"
      },
      "execution_count": null,
      "outputs": []
    },
    {
      "cell_type": "code",
      "source": [
        "para = x\n",
        "question = \"who did ambika and ambalika marry?\"\n",
        "ans = findAns(para, question)\n",
        "print(ans)"
      ],
      "metadata": {
        "colab": {
          "base_uri": "https://localhost:8080/"
        },
        "id": "1ySqeZXSGe9m",
        "outputId": "a4251874-1432-4554-f6d0-d7045894c35a"
      },
      "execution_count": null,
      "outputs": [
        {
          "output_type": "stream",
          "name": "stderr",
          "text": [
            "/usr/local/lib/python3.7/dist-packages/transformers/tokenization_utils_base.py:707: VisibleDeprecationWarning: Creating an ndarray from ragged nested sequences (which is a list-or-tuple of lists-or-tuples-or ndarrays with different lengths or shapes) is deprecated. If you meant to do this, you must specify 'dtype=object' when creating the ndarray.\n",
            "  tensor = as_tensor(value)\n",
            "/usr/local/lib/python3.7/dist-packages/transformers/pipelines/question_answering.py:300: VisibleDeprecationWarning: Creating an ndarray from ragged nested sequences (which is a list-or-tuple of lists-or-tuples-or ndarrays with different lengths or shapes) is deprecated. If you meant to do this, you must specify 'dtype=object' when creating the ndarray.\n",
            "  for span_id in range(num_spans)\n"
          ]
        },
        {
          "output_type": "stream",
          "name": "stdout",
          "text": [
            "Vichitravirya\n"
          ]
        }
      ]
    },
    {
      "cell_type": "markdown",
      "source": [
        "Panchali's swayamvara"
      ],
      "metadata": {
        "id": "Zf5vO94pJX5V"
      }
    },
    {
      "cell_type": "code",
      "source": [
        "import nltk\n",
        "from nltk.tokenize import sent_tokenize\n",
        "nltk.download('punkt')\n",
        "\n",
        "file_path = \"/content/drive/MyDrive/Mahabarat/01.txt\"\n",
        "\n",
        "# book_list = [\"01\",\"02\",\"03\",\"04\",\"05\",\"06\",\"07\",\"08\",\"09\",\"10\",\"11\",\"12\",\"13\",\"14\",\"15\",\"16\",\"17\",\"18\"]\n",
        "sen_list = []\n",
        "# for i in book_list:\n",
        "book_path = file_path\n",
        "  #print(book_path)\n",
        "f = open(book_path, \"r\")\n",
        "s = f.read()\n",
        "# temp = sent_tokenize(s)\n",
        "# for x in temp:\n",
        "#   sen_list.append(x)\n",
        "# print(sen_list[100])"
      ],
      "metadata": {
        "colab": {
          "base_uri": "https://localhost:8080/"
        },
        "id": "F2Gl4Sf5Jkqp",
        "outputId": "cb1d3d1f-f6ef-467c-c15e-6577b060a6af"
      },
      "execution_count": null,
      "outputs": [
        {
          "output_type": "stream",
          "name": "stdout",
          "text": [
            "[nltk_data] Downloading package punkt to /root/nltk_data...\n",
            "[nltk_data]   Package punkt is already up-to-date!\n"
          ]
        }
      ]
    },
    {
      "cell_type": "code",
      "source": [
        "s = s.split('\\n\\n')"
      ],
      "metadata": {
        "id": "P72rYRXXKRUC"
      },
      "execution_count": null,
      "outputs": []
    },
    {
      "cell_type": "code",
      "source": [
        "paras_temp = []\n",
        "sectional_split = []\n",
        "i = 0\n",
        "dict = {}\n",
        "for x in s:\n",
        "  if 'SECTION' in x:\n",
        "    dict[i] = paras_temp\n",
        "    paras_temp = []\n",
        "    i+=1\n",
        "  else:\n",
        "    paras_temp.append(x)\n",
        "    \n"
      ],
      "metadata": {
        "id": "HtYq7wCkKVIz"
      },
      "execution_count": null,
      "outputs": []
    },
    {
      "cell_type": "code",
      "source": [
        "set_of_secs = {-1}\n",
        "for key in dict:\n",
        "  temp = dict[key]\n",
        "  for x in temp:\n",
        "    if 'Swayamvara' in x:\n",
        "      set_of_secs.add(key)\n",
        "print(set_of_secs)"
      ],
      "metadata": {
        "colab": {
          "base_uri": "https://localhost:8080/"
        },
        "id": "Zgih7up8KX5G",
        "outputId": "382479e7-dbdf-4bf2-861b-03c8ba842855"
      },
      "execution_count": null,
      "outputs": [
        {
          "output_type": "stream",
          "name": "stdout",
          "text": [
            "{192, 193, 2, 190, 184, 185, 186, 187, 188, 189, -1, 191}\n"
          ]
        }
      ]
    },
    {
      "cell_type": "code",
      "source": [
        "from operator import length_hint\n",
        "sorted_set = sorted(set_of_secs)\n",
        "print(length_hint(set_of_secs))\n",
        "print(sorted_set)\n",
        "print(type(sorted_set))\n",
        "length_hint(sorted_set)"
      ],
      "metadata": {
        "colab": {
          "base_uri": "https://localhost:8080/"
        },
        "id": "owywnVHgKbBu",
        "outputId": "7bcc2798-b928-4788-dcb3-75972a13ee8a"
      },
      "execution_count": null,
      "outputs": [
        {
          "output_type": "stream",
          "name": "stdout",
          "text": [
            "12\n",
            "[-1, 2, 184, 185, 186, 187, 188, 189, 190, 191, 192, 193]\n",
            "<class 'list'>\n"
          ]
        },
        {
          "output_type": "execute_result",
          "data": {
            "text/plain": [
              "12"
            ]
          },
          "metadata": {},
          "execution_count": 72
        }
      ]
    },
    {
      "cell_type": "code",
      "source": [
        "def ranges(nums):\n",
        "    nums = sorted(set(nums))\n",
        "    gaps = [[s, e] for s, e in zip(nums, nums[1:]) if s+2 < e]\n",
        "    edges = iter(nums[:1] + sum(gaps, []) + nums[-1:])\n",
        "    return list(zip(edges, edges))\n",
        "\n",
        "temp = ranges(sorted_set)\n",
        "final = []\n",
        "# print(temp)\n",
        "for i in temp:\n",
        "  if i[1] - i[0] != 0:\n",
        "    final.append(i)\n",
        "print(final)"
      ],
      "metadata": {
        "colab": {
          "base_uri": "https://localhost:8080/"
        },
        "id": "f3uiREcfNB_9",
        "outputId": "20c731bf-f5df-419b-e35c-b1b70ba8d831"
      },
      "execution_count": null,
      "outputs": [
        {
          "output_type": "stream",
          "name": "stdout",
          "text": [
            "[(184, 193)]\n"
          ]
        }
      ]
    },
    {
      "cell_type": "code",
      "source": [
        "event_sentences = []\n",
        "for x in final:\n",
        "  sentences = []\n",
        "  for i in range(x[0], x[1]+1):\n",
        "    print(i)\n",
        "    temp = dict[i]\n",
        "    for s in temp:\n",
        "      sentences.append(s)\n",
        "  event_sentences.append(sentences)"
      ],
      "metadata": {
        "colab": {
          "base_uri": "https://localhost:8080/"
        },
        "id": "SsWtJNOJNF8P",
        "outputId": "43c99320-a550-4e09-e060-badb4c8e5137"
      },
      "execution_count": null,
      "outputs": [
        {
          "output_type": "stream",
          "name": "stdout",
          "text": [
            "184\n",
            "185\n",
            "186\n",
            "187\n",
            "188\n",
            "189\n",
            "190\n",
            "191\n",
            "192\n",
            "193\n"
          ]
        }
      ]
    },
    {
      "cell_type": "code",
      "source": [
        "print(event_sentences[0])\n",
        "print(len(event_sentences[0]))"
      ],
      "metadata": {
        "colab": {
          "base_uri": "https://localhost:8080/"
        },
        "id": "hMpXWwoXPfx4",
        "outputId": "4dd94a5a-f368-448f-b61f-f10c87ef88b4"
      },
      "execution_count": null,
      "outputs": [
        {
          "output_type": "stream",
          "name": "stdout",
          "text": [
            "['(Chaitraratha Parva continued)', '\"Arjuna asked, \\'O Gandharva, thou art acquainted with everything. Tell\\nus, therefore, which Veda-knowing Brahmana is worthy to be appointed as\\nour priest.\\'', '\"The Gandharva replied, \\'There is in these woods a shrine of the name of\\nUtkochaka. Dhaumya, the younger brother of Devala is engaged there in\\nascetic penances. Appoint him, if ye desire, your priest.\"', '\"Vaisampayana said, \\'Then Arjuna, highly pleased with everything that had\\nhappened, gave unto that Gandharva, his weapon of fire with befitting\\nceremonies. And addressing him, the Pandava also said, \\'O thou best of\\nGandharvas, let the horses thou givest us remain with thee for a time.\\nWhen the occasion cometh, we will take them from thee. Blest be thou.\\'\\nThen the Gandharva and the Pandavas, respectfully saluting each other,\\nleft the delightful banks of the Bhagirathi and went wheresoever they\\ndesired. Then, O Bharata, the Pandavas going to Utkochaka, the sacred\\nasylum of Dhaumya installed Dhaumya as their priest. And Dhaumya, the\\nforemost of all conversant with the Vedas, receiving them with presents\\nof wild fruits and (edible) roots, consented to become their priest. And\\nthe Pandavas with their mother forming the sixth of the company, having\\nobtained that Brahmana as their priest regarded their sovereignty and\\nkingdom as already regained and the daughter of the Panchala king as\\nalready obtained in the Swayamavara. And those bulls of the Bharata race,\\nhaving obtained the master Dhaumya as their priest, also regarded\\nthemselves as placed under a powerful protector. And the high-souled\\nDhaumya, acquainted with the true meaning of the Vedas and every rule of\\nmorality, becoming the spiritual preceptor of the virtuous Pandavas, made\\nthem his Yajamanas (spiritual disciples). And that Brahmana, beholding\\nthose heroes endued with intelligence and strength and perseverance like\\nunto the celestials, regarded them as already restored, by virtue of\\ntheir own accomplishments to their sovereignty and kingdom. Then those\\nkings of men, having had benedictions uttered upon them by that Brahmana,\\nresolved to go, accompanied by him, to the Swayamvara of the Princess of\\nPanchala.\\'\"', '', '(Swayamvara Parva)', '\"Vaisampayana said, \\'Then those tigers among men--those brothers--the\\nfive Pandavas, set out for Panchala to behold that country and Draupadi\\nand the festivities (in view of her marriage). And those tigers among\\nmen--those oppressors of all enemies--in going along with their mother,\\nsaw on the way numerous Brahmanas proceeding together. And those\\nBrahmanas who were all Brahmacharis beholding the Pandavas, O king, asked\\nthem, \\'Where are ye going to? Whence also are ye come?\\' And Yudhishthira\\nreplied unto them, saying, \\'Ye bulls among Brahmanas, know ye that we are\\nuterine brothers proceeding together with our mother. We are coming even\\nfrom Ekachakra.\\' The Brahmanas then said, \\'Go ye this very day to the\\nabode of Drupada in the country of the Panchalas. A great Swayamvara\\ntakes place there, on which a large sum of money will be spent. We also\\nare proceeding thither. Let us all go together. Extraordinary festivities\\nwill take place (in Drupada\\'s abode). The illustrious Yajnasena,\\notherwise called Drupada, had a daughter risen from the centre of the\\nsacrificial altar. Of eyes like lotus-petals and of faultless features\\nendued with youth and intelligence, she is extremely beautiful. And the\\nslender-waisted Draupadi of every feature perfectly faultless, and whose\\nbody emitteth a fragrance like unto that of the blue lotus for two full\\nmiles around, is the sister of the strong-armed Dhrishtadyumna gifted\\nwith great prowess--the (would-be) slayer of Drona--who was born with\\nnatural mail and sword and bow and arrows from the blazing fire, himself\\nlike unto the second Fire. And that daughter of Yajnasena will select a\\nhusband from among the invited princes. And we are repairing thither to\\nbehold her and the festivities on the occasion, like unto the festivities\\nof heaven. And to that Swayamvara will come from various lands kings and\\nprinces who are performers of sacrifices in which the presents to the\\nBrahmanas are large: who are devoted to study, are holy, illustrious, and\\nof rigid vows; who are young and handsome; and who are mighty\\ncar-warriors and accomplished in arms. Desirous of winning (the hand of)\\nthe maiden those monarchs will all give away much wealth and kine and\\nfood and other articles of enjoyment. And taking all they will give away\\nand witnessing the Swayamvara, and enjoying the festivities, we shall go\\nwheresoever we like. And there will also come unto that Swayamvara, from\\nvarious countries, actors, and bards singing the panegyrics of kings, and\\ndancers, and reciters of Puranas, and heralds, and powerful athletes. And\\nbeholding all these sights and taking what will be given away to\\nillustrious ones, ye will return with us. Ye are all handsome and like\\nunto the celestials! Beholding you, Krishna may, by chance, choose some\\none amongst you superior to the rest. This thy brother of mighty arms and\\nhandsome and endued with beauty also, engaged in (athletic) encounters,\\nmay, by chance, earn great wealth.\\'', '\"On hearing these words of the Brahmanas, Yudhishthira replied, \\'Ye\\nBrahmanas, we will all go with you to witness that maiden\\'s\\nSwayamvara--that excellent jubilee.\\'\"', '', '(Swayamvara Parva continued)', '\"Vaisampayana said, \\'Thus addressed by the Brahmanas, the Pandavas, O\\nJanamejaya, proceeded towards the country of the southern Panchalas ruled\\nover by the king Drupada. And on their way those heroes beheld the\\nillustrious Dwaipayana--that Muni of pure soul, and perfectly sinless.\\nAnd duly saluting the Rishi and saluted by him, after their conversation\\nwas over, commanded by him they proceeded to Drupada\\'s abode. And those\\nmighty chariot-fighters proceeded by slow stages staying for some time\\nwithin those beautiful woods and by fine lakes that they beheld along\\ntheir way. Devoted to study, pure in their practices, amiable, and\\nsweet-speeched, the Pandavas at last entered the country of the\\nPanchalas. And beholding the capital, as also the fort, they took up\\ntheir quarters in the house of a potter, Adopting the Brahmanical\\nprofession, they began to lead an eleemosynary life. And no men\\nrecognised those heroes during their stay in Drupada\\'s capital.', '\"Yajnasena always cherished the desire of bestowing his daughter on\\nKiriti (Arjuna), the son of Pandu. But he never spoke of it to anybody.\\nAnd, O Janamejaya, the king of Panchala thinking of Arjuna caused a very\\nstiff bow to be made that was incapable of being bent by any except\\nArjuna. Causing some machinery to be erected in the sky, the king set up\\na mark attached to that machinery. And Drupada said, \\'He that will string\\nthis bow and with these well-adorned arrows shoot the mark above the\\nmachine shall obtain my daughter.\\'', '\"Vaisampayana continued, \\'With these words king Drupada proclaimed the\\nSwayamvara. On hearing of them, O Bharata, the kings of other lands came\\nto his capital. And there came also many illustrious Rishis desirous of\\nbeholding the Swayamvara. And there came also, O king, Duryodhana and the\\nKurus accompanied by Kama. There also came many superior Brahmanas from\\nevery country. And the monarchs who came there were all received with\\nreverence by the illustrious Drupada. Desirous of beholding the\\nSwayamvara, the citizens, roaring like the sea, all took their seats on\\nthe platforms that were erected around the amphitheatre. The monarch\\nentered the grand amphitheatre by the north-eastern gate. And the\\namphitheatre which itself had been erected on an auspicious and level\\nplain to the north-east of Drupada\\'s capital, was surrounded by beautiful\\nmansions. And it was enclosed on all sides with high walls and a moat\\nwith arched doorways here and there. The vast amphitheatre was also\\nshaded by a canopy of various colours. And resounding with the notes of\\nthousands of trumpets, it was scented with black aloes and sprinkled all\\nover with water mixed with sandal-paste and decorated with garlands of\\nflowers. It was surrounded with high mansions perfectly white and\\nresembling the cloud-kissing peaks of Kailasa. The windows of those\\nmansions were covered with net works of gold; the walls were set with\\ndiamonds and precious costly carpets and cloths. All those mansions\\nadorned with wreaths and garlands of flowers and rendered fragrant with\\nexcellent aloes, were all white and spotless, like unto the necks of\\nswans. And the fragrance therefrom could be perceived from the distance\\nof a Yojana (eight miles). And they were each furnished with a hundred\\ndoors wide enough to admit a crowd of persons; they were adorned with\\ncostly beds and carpets, and beautified with various metals; they\\nresembled the peaks of the Himavat. And in those seven-storied houses of\\nvarious sizes dwelt the monarchs invited by Drupada whose persons were\\nadorned with every ornament and who were possessed with the desire of\\nexcelling one another. And the inhabitants of the city and the country\\nwho had come to behold Krishna and taken their seats on the excellent\\nplatforms erected around, beheld seated within those mansions those lions\\namong kings who were all endued with the energy of great souls. And those\\nexalted sovereigns were all adorned with the fragrant paste of the black\\naloe. Of great liberality, they were all devoted to Brahma and they\\nprotected their kingdoms against all foes. And for their own good deeds\\nthey were loved by the whole world.', '\"The Pandavas, too, entering that amphitheatre, sat with the Brahmanas\\nand beheld the unequalled affluence of the king of the Panchalas. And\\nthat concourse of princes, Brahmanas, and others, looking gay at the\\nperformances of actors and dancers (large presents of every kind of\\nwealth being constantly made), began to swell day by day. And it lasted,\\nO king, several days, till on the sixteenth day when it was at its full,\\nthe daughter of Drupada, O thou bull of the Bharata race, having washed\\nherself clean entered the amphitheatre, richly attired and adorned with\\nevery ornament and bearing in her hand a dish of gold (whereon were the\\nusual offerings of Arghya) and a garland of flowers. Then the priest of\\nthe lunar race--a holy Brahmana conversant with all mantras--ignited the\\nsacrificial fire and poured on it with due rites libations of clarified\\nbutter. And gratifying Agni by these libations and making the Brahmanas\\nutter the auspicious formula of benediction, stopped the musical\\ninstruments that were playing all around. And when that vast\\namphitheatre, O monarch, became perfectly still, Dhrishtadyumna possessed\\nof a voice deep as the sound of the kettledrum or the clouds, taking hold\\nof his sister\\'s arm, stood in the midst of that concourse, and said, with\\na voice loud and deep as the roar of the clouds, these charming words of\\nexcellent import, \\'Hear ye assembled kings, this is the bow, that is the\\nmark, and these are the arrows. Shoot the mark through the orifice of the\\nmachine with these five sharpened arrows. Truly do I say that, possessed\\nof lineage, beauty of persons, and strength whoever achieveth this great\\nfeat shall obtain today this my sister, Krishna for his wife.\\' Having\\nthus spoken unto the assembled monarchs Drupada\\'s son then addressed his\\nsister, reciting unto her the names and lineages and achievements of\\nthose assembled lords of the earth.\\'\"', '', '(Swayamvara Parva continued)', '\"Dhrishtadyumna said, \\'Duryodhana, Durvisaha, Durmukha and\\nDushpradharshana, Vivinsati, Vikarna, Saha, and Duhsasana; Yuyutsu and\\nVayuvega and Bhimavegarava; Ugrayudha, Valaki, Kanakayu, and Virochana,\\nSukundala, Chitrasena, Suvarcha, and Kanakadhwaja; Nandaka, and Vahusali,\\nand Tuhunda, and Vikata; these, O sister, and many other mighty sons of\\nDhritarashtra--all heroes--accompanied by Karna, have come for thy hand.\\nInnumerable other illustrious monarchs all bulls among Kshatriyas--have\\nalso come for thee. Sakuni, Sauvala, Vrisaka, and Vrihadvala,--these sons\\nof the king Gandhara--have also come. Foremost of all wielders of\\nweapons--the illustrious Aswatthaman and Bhoja, adorned with every\\nornament have also come for thee. Vrihanta, Manimana, Dandadhara,\\nSahadeva, Jayatsena, Meghasandhi, Virata with his two sons Sankha and\\nUttara, Vardhakshemi, Susarma, Senavindu, Suketu with his two sons Sunama\\nand Suvarcha, Suchitra, Sukumara, Vrika, Satyadhriti, Suryadhwaja,\\nRochamana, Nila, Chitrayudha, Agsuman, Chekitana, the mighty Sreniman,\\nChandrasena the mighty son of Samudrasena, Jarasandha, Vidanda, and\\nDanda--the father and son, Paundraka, Vasudeva, Bhagadatta endued with\\ngreat energy, Kalinga, Tamralipta, the king of Pattana, the mighty\\ncar-warrior Salya, the king of Madra, with his son, the heroic\\nRukmangada, Rukmaratha, Somadatta of the Kuru race with his three sons,\\nall mighty chariot-fighters and heroes, viz., Bhuri, Bhurisrava, and\\nSala, Sudakshina, Kamvoja of the Puru race, Vrihadvala, Sushena, Sivi,\\nthe son of Usinara, Patcharanihanta, the king of Karusha, Sankarshana\\n(Valadeva), Vasudeva (Krishna) the mighty son of Rukmini, Samva,\\nCharudeshna, the son of Pradyumna with Gada, Akrura, Satyaki, the\\nhigh-souled Uddhava, Kritavarman, the son of Hridika, Prithu, Viprithu,\\nViduratha, Kanka, Sanku with Gaveshana, Asavaha, Aniruddha, Samika,\\nSarimejaya, the heroic Vatapi Jhilli Pindaraka, the powerful Usinara, all\\nthese of the Vrishni race, Bhagiratha, Vrihatkshatra, Jayadratha the son\\nof Sindhu, Vrihadratha, Valhika, the mighty charioteer Srutayu, Uluka,\\nKaitava, Chitrangada and Suvangada, the highly intelligent Vatsaraja, the\\nking of Kosala, Sisupala and the powerful Jarasandha, these and many\\nother great kings--all Kshatriyas celebrated throughout the world--have\\ncome, O blessed one, for thee. Endued with prowess, these will shoot the\\nmark. And thou shalt choose him for thy husband who amongst these will\\nshoot the mark.\\'\"', '', '(Swayamvara Parva continued)', '\"Vaisampayana said, \\'Then those youthful princes adorned with ear-rings,\\nvying with one another and each regarding himself accomplished in arms\\nand gifted with might, stood up brandishing their weapons. And\\nintoxicated with pride of beauty, prowess, lineage, knowledge, wealth,\\nand youth, they were like Himalayan elephants in the season of rut with\\ncrowns split from excess of temporal juice. And beholding each other with\\njealousy and influenced by the god of desire, they suddenly rose up from\\ntheir royal seats, exclaiming \\'Krishna shall be mine.\\' And the Kshatriyas\\nassembled in that amphitheatre, each desirous of winning the daughter of\\nDrupada, looked like the celestial (of old) standing round Uma, the\\ndaughter of the King of mountains. Afflicted with the shafts of the god\\nof the flowery bow and with hearts utterly lost in the contemplation of\\nKrishna, those princes descended into the amphitheatre for winning the\\nPanchala maiden and began to regard even their best friends with\\njealousy. And there came also the celestials on their cars, with the\\nRudras and the Adityas, the Vasus and the twin Aswins, the Swadhas and\\nall the Marutas, and Kuvera with Yama walking ahead. And there came also\\nthe Daityas and the Suparnas, the great Nagas and the celestial Rishis,\\nthe Guhyakas and the Charanas and Viswavasu and Narada and Parvata, and\\nthe principal Gandharvas with Apsaras. And Halayudha (Valadeva) and\\nJanardana (Krishna) and the chief of the Vrishni, Andhaka, and Yadava\\ntribes who obeyed the leadership of Krishna were also there, viewing the\\nscene. And beholding those elephants in rut--the five\\n(Pandavas)--attracted towards Draupadi like mighty elephants towards a\\nlake overgrown with lotuses, or like fire covered with ashes, Krishna the\\nforemost of Yadu heroes began to reflect. And he said unto Rama\\n(Valadeva), \\'That is Yudhishthira; that is Bhima with Jishnu (Arjuna);\\nand those are the twin heroes.\\' And Rama surveying them slowly cast a\\nglance of satisfaction at Krishna. Biting their nether lips in wrath, the\\nother heroes there--sons and grandsons of kings--with their eyes and\\nhearts and thoughts set on Krishna, looked with expanded eyes on Draupadi\\nalone without noticing the Pandavas. And the sons of Pritha also, of\\nmighty arms, and the illustrious twin heroes, beholding Draupadi, were\\nall likewise struck by the shafts of Kama. And crowded with celestial\\nRishis and Gandharvas and Suparnas and Nagas and Asuras and Siddhas, and\\nfilled with celestial perfumes and scattered over with celestial flowers,\\nand resounding with the kettle-drum and the deep hum of infinite voices,\\nand echoing with the softer music of the flute, the Vina, and the tabor,\\nthe cars of the celestials could scarcely find a passage through the\\nfirmament. Then those princes--Karna, Duryodhana, Salwa, Salya,\\nAswatthaman, Kratha, Sunitha, Vakra, the ruler of Kalinga and Banga,\\nPandya, Paundra, the ruler of Videha, the chief of the Yavanas, and many\\nother sons and grandsons of kings,--sovereigns of territories with eyes\\nlike lotus-petals,--one after another began to exhibit prowess for\\n(winning) that maiden of unrivalled beauty. Adorned with crowns,\\ngarlands, bracelets, and other ornaments, endued with mighty arms,\\npossessed of prowess and vigour and bursting with strength and energy,\\nthose princes could not, even in imagination, string that bow of\\nextraordinary stiffness.', '\"And (some amongst) those kings in exerting with swelling lips each\\naccording to his strength, education, skill, and energy,--to string that\\nbow, were tossed on the ground and lay perfectly motionless for some\\ntime. Their strength spent and their crowns and garlands loosened from\\ntheir persons, they began to pant for breath and their ambition of\\nwinning that fair maiden was cooled. Tossed by that tough bow, and their\\ngarlands and bracelets and other ornaments disordered, they began to\\nutter exclamations of woe. And that assemblage of monarchs, their hope of\\nobtaining Krishna gone, looked sad and woeful. And beholding the plight\\nof those monarchs, Karna that foremost of all wielders of the bow went to\\nwhere the bow was, and quickly raising it strung it and placed the arrows\\non the string. And beholding the son of Surya--Karna of the Suta\\ntribe--like unto fire, or Soma, or Surya himself, resolved to shoot the\\nmark, those foremost of bowmen--the sons of Pandu--regarded the mark as\\nalready shot and brought down upon the ground. But seeing Karna, Draupadi\\nloudly said, \\'I will not select a Suta for my lord.\\' Then Karna, laughing\\nin vexation and casting glance at the Sun, threw aside the bow already\\ndrawn to a circle.', 'Then when all those Kshatriyas gave up the task, the heroic king of the\\nChedis--mighty as Yama (Pluto) himself--the illustrious and determined\\nSisupala, the son of Damaghosa, in endeavouring to string the bow,\\nhimself fell upon his knees on the ground. Then king Jarasandha endued\\nwith great strength and powers, approaching the bow stood there for some\\nmoment, fixed and motionless like a mountain. Tossed by the bow, he too\\nfell upon his knees on the ground, and rising up, the monarch left the\\namphitheatre for (returning to) his kingdom. Then the great hero Salya,\\nthe king of Madra, endued with great strength, in endeavouring to string\\nthe bow fell upon his knees on the ground. At last when in that\\nassemblage consisting of highly respectable people, all the monarchs had\\nbecome subjects of derisive talk that foremost of heroes--Jishnu, the son\\nof Kunti--desired to string the bow and placed the arrows on the\\nbow-string.\\'\"', '', '(Swayamvara Parva continued)', '\"Vaisampayana continued, \\'When all the monarchs had desisted from\\nstringing that bow, the high-souled Jishnu arose from among the crowd of\\nBrahmanas seated in that assembly. And beholding Partha possessing the\\ncomplexion of Indra\\'s banner, advancing towards the bow, the principal\\nBrahmanas shaking their deer-skins raised a loud clamour. And while some\\nwere displeased, there were others that were well-pleased. And some there\\nwere, possessed of intelligence and foresight, who addressing one another\\nsaid, \\'Ye Brahmanas, how can a Brahmana stripling unpractised in arms and\\nweak in strength, string that bow which such celebrated Kshatriyas as\\nSalya and others endued with might and accomplished in the science and\\npractice of arms could not? If he doth not achieve success in this\\nuntried task which he hath undertaken from a spirit of boyish\\nunsteadiness, the entire body of Brahmanas here will be rendered\\nridiculous in the eyes of the assembled monarchs. Therefore, forbid this\\nBrahmana that he may not go to string the bow which he is even now\\ndesirous of doing from vanity, childish daring, or mere unsteadiness.\\'\\nOthers replied, \\'We shall not be made ridiculous, nor shall we incur the\\ndisrespect of anybody or the displeasure of the sovereigns. Some\\nremarked, \\'This handsome youth is even like the trunk of a mighty\\nelephant, whose shoulders and arms and thighs are so well-built, who in\\npatience looks like the Himavat, whose gait is even like that of the\\nlion, and whose prowess seems to be like that of an elephant in rut, and\\nwho is so resolute, that it is probable that he will accomplish this\\nfeat. He has strength and resolution. If he had none, he would never go\\nof his own accord. Besides, there is nothing in the three worlds that\\nBrahmanas of all mortal men cannot accomplish. Abstaining from all food\\nor living upon air or eating of fruits, persevering in their vows, and\\nemaciated and weak, Brahmanas are ever strong in their own energy. One\\nshould never disregard a Brahmana whether his acts be right or wrong, by\\nsupposing him incapable of achieving any task that is great or little, or\\nthat is fraught with bliss or woe. Rama the son of Jamadagni defeated in\\nbattle, all the Kshatriyas. Agastya by his Brahma energy drank off the\\nfathomless ocean. Therefore, say ye, \\'Let this youth bend the bow and\\nstring it with ease\\' (and many said), \\'So be it.\\' And the Brahmanas\\ncontinued speaking unto one another these and other words. Then Arjuna\\napproached the bow and stood there like a mountain. And walking round\\nthat bow, and bending his head unto that giver of boons--the lord\\nIsana--and remembering Krishna also, he took it up. And that bow which\\nRukma, Sunitha, Vakra, Radha\\'s son, Duryodhana, Salya, and many other\\nkings accomplished in the science and practice of arms, could not even\\nwith great exertion, string, Arjuna, the son of Indra, that foremost of\\nall persons endued with energy and like unto the younger brother of Indra\\n(Vishnu) in might, strung in the twinkling of an eye. And taking up the\\nfive arrows he shot the mark and caused it to fall down on the ground\\nthrough the hole in the machine above which it had been placed. Then\\nthere arose a loud uproar in the firmament, and the amphitheatre also\\nresounded with a loud clamour. And the gods showered celestial flowers on\\nthe head of Partha the slayer of foes. And thousands of Brahmanas began\\nto wave their upper garments in joy. And all around, the monarchs who had\\nbeen unsuccessful, uttered exclamations of grief and despair. And flowers\\nwere rained from the skies all over the amphitheatre. And the musicians\\nstruck up in concert. Bards and heralds began to chant in sweet tones the\\npraises (of the hero who accomplished the feat). And beholding Arjuna,\\nDrupada--that slayer of foes,--was filled with joy. And the monarch\\ndesired to assist with his forces the hero if the occasion arose. And\\nwhen the uproar was at its height, Yudhishthira, the foremost of all\\nvirtuous men, accompanied by those first of men the twins, hastily left\\nthe amphitheatre for returning to his temporary home. And Krishna\\nbeholding the mark shot and beholding Partha also like unto Indra\\nhimself, who had shot the mark, was filled with joy, and approached the\\nson of Kunti with a white robe and a garland of flowers. And Arjuna the\\naccomplisher of inconceivable feats, having won Draupadi by his success\\nin the amphitheatre, was saluted with reverence by all the Brahmanas. And\\nhe soon after left the lists followed close by her who thus became his\\nwife.\\'\"', '', '(Swayamvara Parva continued)', '\"Vaisampayana said, \\'When the king (Drupada) expressed his desire of\\nbestowing his daughter on that Brahmana (who had shot the mark), all\\nthose monarchs who had been invited to the Swayamvara, looking at one\\nanother, were suddenly filled with wrath. And they said, \\'Passing us by\\nand treating the assembled monarchs as straw this Drupada desireth to\\nbestow his daughter--that first of women,--on a Brahmana! Having planted\\nthe tree he cutteth it down when it is about to bear fruit. The wretch\\nregardeth us not: therefore let us slay him. He deserveth not our respect\\nnor the veneration due to age. Owing to such qualities of his, we shall,\\ntherefore, slay this wretch that insulteth all kings, along with his son.\\nInviting all the monarchs and entertaining them with excellent food, he\\ndisregardeth us at last. In this assemblage of monarchs like unto a\\nconclave of the celestials, doth he not see a single monarch equal unto\\nhimself? The Vedic declaration is well-known that the Swayamvara is for\\nthe Kshatriyas. The Brahmanas have no claim in respect of a selection of\\nhusband by a Kshatriya damsel. Or, ye kings, if this damsel desireth not\\nto select any one of us as her lord, let us cast her into the fire and\\nreturn to our kingdoms. As regards this Brahmana, although he hath, from\\nofficiousness or avarice, done this injury to the monarchs, he should not\\nyet be slain; for our kingdoms, lives, treasures, sons, grandsons, and\\nwhatever other wealth we have, all exist for Brahmanas. Something must be\\ndone here (even unto him), so that from fear of disgrace and the desire\\nof maintaining what properly belongeth unto each order, other Swayamvaras\\nmay not terminate in this way.\\'', '\"Having addressed one another thus, those tigers among monarchs endued\\nwith arms like unto spiked iron maces, took up their weapons and rushed\\nat Drupada to slay him then and there. And Drupada beholding those\\nmonarchs all at once rushing towards him in anger with bows and arrows,\\nsought, from fear, the protection of the Brahmanas. But those mighty\\nbowmen (Bhima and Arjuna) of the Pandavas, capable of chastising all\\nfoes, advanced to oppose those monarchs rushing towards them impetuously\\nlike elephants in the season of rut. Then the monarchs with gloved\\nfingers and upraised weapons rushed in anger at the Kuru princes, Bhima\\nand Arjuna, to slay them. Then the mighty Bhima of extraordinary\\nachievements, endued with the strength of thunder, tore up like an\\nelephant a large tree and divested it of its leaves. And with that tree,\\nthe strong-armed Bhima, the son of Pritha, that grinder of foes, stood,\\nlike unto the mace-bearing king of the dead (Yama) armed with his fierce\\nmace, near Arjuna that bull amongst men. And beholding that feat of his\\nbrother, Jishnu of extraordinary intelligence, himself also of\\ninconceivable feats, wondered much. And equal unto Indra himself in\\nachievements, shaking off all fear he stood with his bow ready to receive\\nthose assailants. And beholding those feats of both Jishnu and his\\nbrother, Damodara (Krishna) of superhuman intelligence and inconceivable\\nfeats, addressing his brother, Halayudha (Valadeva) of fierce energy,\\nsaid, \\'That hero there, of tread like that of a mighty lion, who draweth\\nthe large bow in his hand four full cubits in length, is Arjuna! There is\\nno doubt, O Sankarshana, about this, if I am Vasudeva. That other hero\\nwho having speedily torn up the tree hath suddenly become ready to drive\\noff the monarchs is Vrikodara! For no one in the world, except Vrikodara,\\ncould today perform such a feat in the field of battle. And that other\\nyouth of eyes like unto lotus-petals, of full four cubits height, of gait\\nlike that of a mighty lion, and humble withal, of fair complexion and\\nprominent and shining nose, who had, a little before, left the\\namphitheatre, is Dharma\\'s son (Yudhishthira). The two other youths, like\\nunto Kartikeya, are, I suspect, the sons of the twin Aswins. I heard that\\nthe sons of Pandu along with their mother Pritha had all escaped from the\\nconflagration of the house of lac.\\' Then Halayudha of complexion like\\nunto that of clouds uncharged with rain, addressing his younger brother\\n(Krishna), said with great satisfaction, \\'O, I am happy to hear, as I do\\nfrom sheer good fortune, that our father\\'s sister Pritha with the\\nforemost of the Kaurava princes have all escaped (from death)!\\'\"', '', '(Swayamvara Parva continued)', '\"Vaisampayana said, \\'Then those bulls among Brahmanas shaking their\\ndeer-skins and water-pots made of cocoanut-shells exclaimed, \\'Fear not,\\nwe will fight the foe!\\' Arjuna smilingly addressing those Brahmanas\\nexclaiming thus, said, \\'Stand ye aside as spectators (of the fray)\\nShowering hundreds of arrows furnished with straight points even I shall\\ncheck, like snakes with mantras, all those angry monarchs.\\' Having said\\nthis, the mighty Arjuna taking up the bow he had obtained as dower\\naccompanied by his brother Bhima stood immovable as a mountain. And\\nbeholding those Kshatriyas who were ever furious in battle with Karna\\nahead, the heroic brothers rushed fearlessly at them like two elephants\\nrushing against a hostile elephant. Then those monarchs eager for the\\nfight fiercely exclaimed, \\'The slaughter in battle of one desiring to\\nfight is permitted.\\' And saying this, the monarchs suddenly rushed\\nagainst the Brahmanas. And Karna endued with great energy rushed against\\nJishnu for fight. And Salya the mighty king of Madra rushed against Bhima\\nlike an elephant rushing against another for the sake of a she-elephant\\nin heat; while Duryodhana and others engaged with the Brahmanas,\\nskirmished with them lightly and carelessly. Then the illustrious Arjuna\\nbeholding Karna, the son of Vikartana (Surya), advancing towards him,\\ndrew his tough bow and pieced him with his sharp arrows. And the impetus\\nof those whetted arrows furnished with fierce energy made Radheya (Karna)\\nfaint. Recovering consciousness Karna attacked Arjuna with greater care\\nthan before. Then Karna and Arjuna, both foremost of victorious warriors,\\ndesirous of vanquishing each other, fought madly on. And such was the\\nlightness of hand they both displayed that (each enveloped by the other\\'s\\nshower of arrows) they both became invisible (unto the spectators of\\ntheir encounter). \\'Behold the strength of my arms.\\'--\\'Mark, how I have\\ncounteracted that feat,\\'--those were the words--intelligible to heroes\\nalone--in which they addressed each other. And incensed at finding the\\nstrength and energy of Arjuna\\'s arms unequalled on the earth, Karna, the\\nson of Surya, fought with greater vigour. And parrying all those\\nimpetuous arrows shot at him by Arjuna, Karna sent up a loud shout. And\\nthis feat of his was applauded by all the warriors. Then addressing his\\nantagonist, Karna said, \\'O thou foremost of Brahmanas, I am gratified to\\nobserve the energy of thy arms that knoweth no relaxation in battle and\\nthy weapons themselves fit for achieving victory. Art thou the embodiment\\nof the science of weapons, or art thou Rama that best of Brahmanas, or\\nIndra himself, or Indra\\'s younger brother Vishnu called also Achyuta, who\\nfor disguising himself hath assumed the form of a Brahmana and mustering\\nsuch energy of arms fighteth with me? No other person except the husband\\nhimself of Sachi or Kiriti, the son of Pandu, is capable of fighting with\\nme when I am angry on the field of battle.\\' Then hearing those words of\\nhis, Phalguna replied, saying, \\'O Karna, I am neither the science of arms\\n(personified), nor Rama endued with superhuman powers. I am only a\\nBrahmana who is the foremost of all warriors and all wielders of weapons.\\nBy the grace of my preceptor I have become accomplished in the Brahma and\\nthe Paurandara weapons. I am here to vanquish thee in battle. Therefore,\\nO hero, wait a little.\\'', '\"Vaisampayana continued, \\'Thus addressed (by Arjuna), Karna the adopted\\nson of Radha desisted from the fight, for that mighty chariot-fighter\\nthought that Brahma energy is ever invincible. Meanwhile on another part\\nof the field, the mighty heroes Salya and Vrikodara, well-skilled in\\nbattle and possessed of great strength and proficiency, challenging each\\nother, engaged in fight like two elephants in rut. And they struck each\\nother with their clenched fists and knees. And sometimes pushing each\\nother forward and sometimes dragging each other near, sometimes throwing\\neach other down; face downward, and sometimes on the sides, they fought\\non, striking, each other at times with their clenched fists. And\\nencountering each other with blows hard as the clash of two masses of\\ngranite, the lists rang with the sounds of their combat. Fighting with\\neach other thus for a few seconds, Bhima the foremost of the Kuru heroes\\ntaking up Salya on his arms hurled him to a distance. And Bhimasena, that\\nbull amongst men, surprised all (by the dexterity of his feat) for though\\nhe threw Salya on the ground he did it without hurting him much. And when\\nSalya was thus thrown down and Karna was struck with fear, the other\\nmonarchs were all alarmed. And they hastily surrounded Bhima and\\nexclaimed, \\'Surely these bulls amongst Brahmanas are excellent\\n(warriors)! Ascertain in what race they have been born and where they\\nabide. Who can encounter Karna, the son of Radha, in fight, except Rama\\nor Drona, or Kiriti, the son of Pandu? Who also can encounter Duryodhana\\nin battle except Krishna, the son of Devaki, and Kripa, the son of\\nSaradwan? Who also can overthrow in battle Salya, that first of mighty\\nwarriors, except the hero Valadeva or Vrikodara, the son of Pandu, or the\\nheroic Duryodhana? Let us, therefore, desist from this fight with the\\nBrahmanas. Indeed, Brahmanas, however offending, should yet be ever\\nprotected. And first let us ascertain who these are; for after we have\\ndone that we may cheerfully fight with them.\\'', '\"Vaisampayana continued, \\'And Krishna, having beheld that feat of Bhima,\\nbelieved them both to be the son of Kunti. And gently addressing the\\nassembled monarchs, saying, \\'This maiden hath been justly acquired (by\\nthe Brahmana),\\' he induced them to abandon the fight. Accomplished in\\nbattle, those monarchs then desisted from the fight. And those best of\\nmonarchs then returned to their respective kingdoms, wondering much. And\\nthose who had come there went away saying. \\'The festive scene hath\\nterminated in the victory of the Brahmanas. The princess of Panchala hath\\nbecome the bride of a Brahmana.\\' And surrounded by Brahmanas dressed in\\nskins of deer and other wild animals, Bhima and Dhananjaya passed with\\ndifficulty out of the throng. And those heroes among men, mangled by the\\nenemy and followed by Krishna, on coming at last out of that throng,\\nlooked like the full moon and the sun emerging from the clouds.', '\"Meanwhile Kunti seeing that her sons were late in returning from their\\neleemosynary round, was filled with anxiety. She began to think of\\nvarious evils having overtaken her sons. At one time she thought that the\\nsons of Dhritarashtra having recognised her sons had slain them. Next she\\nfeared that some cruel and strong Rakshasas endued with powers of\\ndeception had slain them. And she asked herself, \\'Could the illustrious\\nVyasa himself (who had directed my sons to come to Panchala) have been\\nguided by perverse intelligence?\\' Thus reflected Pritha in consequence of\\nher affection for her offspring. Then in the stillness of the late\\nafternoon, Jishnu, accompanied by a body of Brahmanas, entered the abode\\nof the potter, like the cloud-covered sun appearing on a cloudy day.\\'\"', '', '(Swayamvara Parva continued)', '\"Vaisampayana said, \\'Then those illustrious sons of Pritha, on returning\\nto the potter\\'s abode, approached their mother. And those first of men\\nrepresented Yajnaseni unto their mother as the alms they had obtained\\nthat day. And Kunti who was there within the room and saw not her sons,\\nreplied, saying, \\'Enjoy ye all (what ye have obtained).\\' The moment\\nafter, she beheld Krishna and then she said, \\'Oh, what have I said?\\' And\\nanxious from fear of sin, and reflecting how every one could be\\nextricated from the situation, she took the cheerful Yajnaseni by the\\nhand, and approaching Yudhishthira said, \\'The daughter of king Yajnasena\\nupon being represented to me by thy younger brothers as the alms they had\\nobtained, from ignorance, O king, I said what was proper, viz., \\'Enjoy ye\\nall what hath been obtained. O thou bull of the Kuru race, tell me how my\\nspeech may not become untrue; how sin may not touch the daughter of the\\nking of Panchala, and how also she may not become uneasy.\\'', '\"Vaisampayana continued, \\'Thus addressed by his mother that hero among\\nmen, that foremost scion of the Kuru race, the intelligent king\\n(Yudhishthira), reflecting for a moment, consoled Kunti, and addressing\\nDhananjaya, said, \\'By thee, O Phalguna, hath Yajnaseni been won. It is\\nproper, therefore, that thou shouldst wed her. O thou withstander of all\\nfoes, igniting the sacred fire, take thou her hand with due rites.\\'', '\"Arjuna, hearing this, replied, \\'O king, do not make me a participator in\\nsin. Thy behest is not conformable to virtue. That is the path followed\\nby the sinful. Thou shouldst wed first, then the strong-armed Bhima of\\ninconceivable feats, then myself, then Nakula, and last of all, Sahadeva\\nendued with great activity. Both Vrikodara and myself, and the twins and\\nthis maiden also, all await, O monarch, thy commands. When such is the\\nstate of things, do that, after reflection, which would be proper, and\\nconformable virtue, and productive of fame, and beneficial unto the king\\nof Panchala. All of us are obedient to thee. O, command us as thou\\nlikest.\\'', '\"Vaisampayana continued, \\'Hearing these words of Jishnu, so full of\\nrespect and affection, the Pandavas all cast their eyes upon the princess\\nof Panchala. And the princess of Panchala also looked at them all. And\\ncasting their glances on the illustrious Krishna, those princes looked at\\none another. And taking their seats, they began to think of Draupadi\\nalone. Indeed, after those princes of immeasurable energy had looked at\\nDraupadi, the God of Desire invaded their hearts and continued to crush\\nall their senses. As the lavishing beauty of Panchali who had been\\nmodelled by the Creator himself, was superior to that of all other women\\non earth, it could captivate the heart of every creature. And\\nYudhishthira, the son of Kunti, beholding his younger brothers,\\nunderstood what was passing in their minds. And that bull among men\\nimmediately recollected the words of Krishna-Dwaipayana. And the king,\\nthen, from fear of a division amongst the brothers, addressing all of\\nthem, said, \\'The auspicious Draupadi shall be the common wife of us all.\\'', '\"Vaisampayana continued, \\'The sons of Pandu, then, hearing those words of\\ntheir eldest brother, began to revolve them in their minds in great\\ncheerfulness. The hero of the Vrishni race (Krishna suspecting the five\\npersons he had seen at the Swayamvara to be none else than the heroes of\\nthe Kuru race), came accompanied by the son of Rohini (Valadeva), to the\\nhouse of the potter where those foremost of men had taken up their\\nquarters. On arriving there, Krishna and Valadeva beheld seated in that\\npotter\\'s house Ajatasanu (Yudhishthira) of well developed and long arms,\\nand his younger brothers passing the splendour of fire sitting around\\nhim. Then Vasudeva approaching that foremost of virtuous men--the son of\\nKunti--and touching the feet of that prince of the Ajamida race, said, \\'I\\nam Krishna.\\' And the son of Rohini (Valadeva) also approaching\\nYudhishthira, did the same. And the Pandavas, beholding Krishna and\\nValadeva, began to express great delight. And, O thou foremost of the\\nBharata race, those heroes of the Yadu race thereafter touched also the\\nfeet of Kunti, their father\\'s sister. And Ajatasatru, that foremost of\\nthe Kuru race, beholding Krishna, enquired after his well-being and\\nasked, \\'How, O Vasudeva, hast thou been able to trace us, as we are\\nliving in disguise?\\' And Vasudeva, smilingly answered, \\'O king, fire,\\neven if it is covered, can be known. Who else among men than the Pandavas\\ncould exhibit such might? Ye resisters of all foes, ye sons of Pandu, by\\nsheer good fortune have ye escaped from that fierce fire. And it is by\\nsheer good fortune alone that the wicked son of Dhritarashtra and his\\ncounsellors have not succeeded in accomplishing their wishes. Blest be\\nye! And grow ye in prosperity like a fire in a cave gradually growing and\\nspreading itself all around. And lest any of the monarchs recognise ye,\\nlet us return to our tent.\\' Then, obtaining Yudhishthira\\'s leave, Krishna\\nof prosperity knowing no decrease, accompanied by Valadeva, hastily went\\naway from the potter\\'s abode.\\'\"', '', '(Swayamvara Parva continued)', '\"Vaisampayana said, \\'When the Kuru princes (Bhima and Arjuna) were\\nwending towards the abode of the potter, Dhrishtadyumna, the Panchala\\nprince followed them. And sending away all his attendants, he concealed\\nhimself in some part of the potter\\'s house, unknown to the Pandavas. Then\\nBhima, that grinder of all foes, and Jishnu, and the illustrious twins,\\non returning from their eleemosynary round in the evening, cheerfully\\ngave everything unto Yudhishthira. Then the kind-hearted Kunti addressing\\nthe daughter of Drupada said, \\'O amiable one, take thou first a portion\\nfrom this and devote it to the gods and give it away to Brahmanas, and\\nfeed those that desire to eat and give unto those who have become our\\nguests. Divide the rest into two halves. Give one of these unto Bhima, O\\namiable one, for this strong youth of fair complexion--equal unto a king\\nof elephants--this hero always eateth much. And divide the other half\\ninto six parts, four for these youths, one for myself, and one for thee.\\'\\nThen the princess hearing those instructive words of her mother-in-law\\ncheerfully did all that she had been directed to do. And those heroes\\nthen all ate of the food prepared by Krishna. Then Sahadeva, the son of\\nMadri, endued with great activity, spread on the ground a bed of kusa\\ngrass. Then those heroes, each spreading thereon his deer-skin, laid\\nthemselves down to sleep. And those foremost of the Kuru princes lay down\\nwith heads towards the south. And Kunti laid herself down along the line\\nof their heads, and Krishna along that of their feet. And Krishna though\\nshe lay with the sons of Pandu on that bed of kusa grass along the line\\nof their feet as if she were their nether pillow, grieved not in her\\nheart nor thought disrespectfully of those bulls amongst the Kurus. Then\\nthose heroes began to converse with one another. And the conversations of\\nthose princes, each worthy to lead an army, was exceedingly interesting\\nthey being upon celestial cars and weapons and elephants, and swords and\\narrows, and battle-axes. And the son of the Panchala king listened (from\\nhis place of concealment) unto all they said. And all those who were with\\nhim beheld Krishna in that state.', '\"When morning came, the prince Dhristadyumna set out from his place of\\nconcealment with great haste in order to report to Drupada in detail all\\nthat had happened at the potter\\'s abode and all that he had heard those\\nheroes speak amongst themselves during the night. The king of Panchala\\nhad been sad because he knew not the Pandavas as those who had taken away\\nhis daughter. And the illustrious monarch asked Dhristadyumna on his\\nreturn, \\'Oh, where hath Krishna gone? Who hath taken her away? Hath any\\nSudra or anybody of mean descent, or hath a tribute-paying Vaisya by\\ntaking my daughter away, placed his dirty foot on my head? O son, hath\\nthat wreath of flowers been thrown away on a grave-yard? Hath any\\nKshatriya of high birth, or any one of the superior order (Brahmana)\\nobtained my daughter? Hath any one of mean descent, by having won\\nKrishna, placed his left foot on my head? I would not, O son, grieve but\\nfeel greatly happy, if my daughter hath been united with Partha that\\nforemost of men! O thou exalted one, tell me truly who hath won my\\ndaughter today? O, are the sons of that foremost of Kurus,\\nVichitravirya\\'s son alive? Was it Partha (Arjuna) that took up the bow\\nand shot the mark?\\'\"', '']\n",
            "47\n"
          ]
        }
      ]
    },
    {
      "cell_type": "code",
      "source": [
        "# print(event_sentences[0][1])"
      ],
      "metadata": {
        "colab": {
          "base_uri": "https://localhost:8080/"
        },
        "id": "IB4OnMuCQRPZ",
        "outputId": "9127d6ca-bd8d-4947-d774-2231c97fbbe9"
      },
      "execution_count": null,
      "outputs": [
        {
          "output_type": "stream",
          "name": "stdout",
          "text": [
            "\"Arjuna asked, 'O Gandharva, thou art acquainted with everything. Tell\n",
            "us, therefore, which Veda-knowing Brahmana is worthy to be appointed as\n",
            "our priest.'\n"
          ]
        }
      ]
    },
    {
      "cell_type": "code",
      "source": [
        "# panchali_sentences = \" \"\n",
        "# for x in event_sentences[0]:\n",
        "#   panchali_sentences = panchali_sentences + \" \" + x\n",
        "# with open(\"panchali-swayamvara_sentences.txt\", \"w\") as output:\n",
        "#     output.write(panchali_sentences)"
      ],
      "metadata": {
        "id": "BdbEP40HQGIR"
      },
      "execution_count": null,
      "outputs": []
    },
    {
      "cell_type": "code",
      "source": [
        "with open(\"panchali-swayamvara.txt\", \"w\") as output:\n",
        "    output.write(str(event_sentences[0]))"
      ],
      "metadata": {
        "id": "dN8Qbv__O-8p"
      },
      "execution_count": null,
      "outputs": []
    },
    {
      "cell_type": "code",
      "source": [
        "import pandas as pd\n",
        "dict = {'paras': event_sentences[0]}\n",
        "df = pd.DataFrame(dict) \n",
        "    \n",
        "df.to_csv('swayamvara_four.csv') "
      ],
      "metadata": {
        "id": "4Rs5KhIxPAQD"
      },
      "execution_count": null,
      "outputs": []
    },
    {
      "cell_type": "code",
      "source": [
        "summary_swayamvara = []\n",
        "for x in event_sentences:\n",
        "  summary_temp = []\n",
        "  for i in x:\n",
        "    print(len(i))\n",
        "    if len(i)>3000:\n",
        "      n = 0\n",
        "      k = len(i)\n",
        "      while(n+3000<k):\n",
        "        print('inside')\n",
        "        p = i[n:n+3000]\n",
        "        n+=3000\n",
        "        summary_temp.append(GenerateSummary(p))\n",
        "    else:\n",
        "        summary_temp.append(GenerateSummary(i))\n",
        "  summary_swayamvara.append(summary_temp)"
      ],
      "metadata": {
        "id": "0fG8h_jBQ02C"
      },
      "execution_count": null,
      "outputs": []
    },
    {
      "cell_type": "code",
      "source": [
        "import pandas as pd\n",
        "dict = {'summary': summary_swayamvara[0]}\n",
        "df = pd.DataFrame(dict) \n",
        "    \n",
        "df.to_csv('summary_swayamvara_Panchali.csv') "
      ],
      "metadata": {
        "id": "9yPJLzH8Q46l"
      },
      "execution_count": null,
      "outputs": []
    },
    {
      "cell_type": "code",
      "source": [
        "para = event_sentences[0]\n",
        "# para = event_sentences[0] + event_sentences\n",
        "question = \"whom did Yajnasena cherish the desire of bestowing his daughter on?\"\n",
        "ans = findAns(para, question)\n",
        "print(ans)"
      ],
      "metadata": {
        "colab": {
          "base_uri": "https://localhost:8080/"
        },
        "id": "0WsyluvrRdMt",
        "outputId": "c91d3ab5-f394-477d-8489-612661068ae6"
      },
      "execution_count": null,
      "outputs": [
        {
          "output_type": "stream",
          "name": "stderr",
          "text": [
            "/usr/local/lib/python3.7/dist-packages/transformers/tokenization_utils_base.py:707: VisibleDeprecationWarning: Creating an ndarray from ragged nested sequences (which is a list-or-tuple of lists-or-tuples-or ndarrays with different lengths or shapes) is deprecated. If you meant to do this, you must specify 'dtype=object' when creating the ndarray.\n",
            "  tensor = as_tensor(value)\n",
            "/usr/local/lib/python3.7/dist-packages/transformers/pipelines/question_answering.py:300: VisibleDeprecationWarning: Creating an ndarray from ragged nested sequences (which is a list-or-tuple of lists-or-tuples-or ndarrays with different lengths or shapes) is deprecated. If you meant to do this, you must specify 'dtype=object' when creating the ndarray.\n",
            "  for span_id in range(num_spans)\n"
          ]
        },
        {
          "output_type": "stream",
          "name": "stdout",
          "text": [
            "Dhananjaya\n"
          ]
        }
      ]
    },
    {
      "cell_type": "code",
      "source": [
        "para = event_sentences[0]\n",
        "# para = event_sentences[0] + event_sentences\n",
        "question = \"Who was Durpada's daughter?\"\n",
        "ans = findAns(para, question)\n",
        "print(ans)"
      ],
      "metadata": {
        "colab": {
          "base_uri": "https://localhost:8080/"
        },
        "id": "a_w1w6eHYS_L",
        "outputId": "48b41bf2-a3e3-4266-fdb9-efce33eebd23"
      },
      "execution_count": null,
      "outputs": [
        {
          "output_type": "stream",
          "name": "stderr",
          "text": [
            "/usr/local/lib/python3.7/dist-packages/transformers/tokenization_utils_base.py:707: VisibleDeprecationWarning: Creating an ndarray from ragged nested sequences (which is a list-or-tuple of lists-or-tuples-or ndarrays with different lengths or shapes) is deprecated. If you meant to do this, you must specify 'dtype=object' when creating the ndarray.\n",
            "  tensor = as_tensor(value)\n",
            "/usr/local/lib/python3.7/dist-packages/transformers/pipelines/question_answering.py:300: VisibleDeprecationWarning: Creating an ndarray from ragged nested sequences (which is a list-or-tuple of lists-or-tuples-or ndarrays with different lengths or shapes) is deprecated. If you meant to do this, you must specify 'dtype=object' when creating the ndarray.\n",
            "  for span_id in range(num_spans)\n"
          ]
        },
        {
          "output_type": "stream",
          "name": "stdout",
          "text": [
            "Kunti\n"
          ]
        }
      ]
    },
    {
      "cell_type": "code",
      "source": [
        "para = event_sentences[0]\n",
        "# para = event_sentences[0] + event_sentences\n",
        "question = \"who are the sons of Dhritarashtra who came for the swayamvara ?\"\n",
        "ans = findAns(para, question)\n",
        "print(ans)"
      ],
      "metadata": {
        "colab": {
          "base_uri": "https://localhost:8080/"
        },
        "id": "zpHkP5eyZ1Up",
        "outputId": "972582a8-0934-4f46-d4c0-3732ae0e6f11"
      },
      "execution_count": null,
      "outputs": [
        {
          "output_type": "stream",
          "name": "stderr",
          "text": [
            "/usr/local/lib/python3.7/dist-packages/transformers/tokenization_utils_base.py:707: VisibleDeprecationWarning: Creating an ndarray from ragged nested sequences (which is a list-or-tuple of lists-or-tuples-or ndarrays with different lengths or shapes) is deprecated. If you meant to do this, you must specify 'dtype=object' when creating the ndarray.\n",
            "  tensor = as_tensor(value)\n",
            "/usr/local/lib/python3.7/dist-packages/transformers/pipelines/question_answering.py:300: VisibleDeprecationWarning: Creating an ndarray from ragged nested sequences (which is a list-or-tuple of lists-or-tuples-or ndarrays with different lengths or shapes) is deprecated. If you meant to do this, you must specify 'dtype=object' when creating the ndarray.\n",
            "  for span_id in range(num_spans)\n"
          ]
        },
        {
          "output_type": "stream",
          "name": "stdout",
          "text": [
            "Dhaumya\n"
          ]
        }
      ]
    }
  ]
}
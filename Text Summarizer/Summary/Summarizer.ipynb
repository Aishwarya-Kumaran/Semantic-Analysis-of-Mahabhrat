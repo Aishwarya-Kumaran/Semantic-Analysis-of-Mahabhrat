{
  "nbformat": 4,
  "nbformat_minor": 0,
  "metadata": {
    "colab": {
      "name": "Summarizer.ipynb",
      "provenance": [],
      "collapsed_sections": []
    },
    "kernelspec": {
      "name": "python3",
      "display_name": "Python 3"
    },
    "language_info": {
      "name": "python"
    }
  },
  "cells": [
    {
      "cell_type": "code",
      "execution_count": null,
      "metadata": {
        "colab": {
          "base_uri": "https://localhost:8080/"
        },
        "id": "F13BVHTzLcs0",
        "outputId": "4ffe7af3-5790-4ed2-98d6-8a451bbb4d33"
      },
      "outputs": [
        {
          "output_type": "stream",
          "name": "stdout",
          "text": [
            "Mounted at /content/drive\n"
          ]
        }
      ],
      "source": [
        "from google.colab import drive\n",
        "drive.mount('/content/drive',force_remount=True)"
      ]
    },
    {
      "cell_type": "code",
      "source": [
        "!pip install transformers"
      ],
      "metadata": {
        "colab": {
          "base_uri": "https://localhost:8080/"
        },
        "id": "M6Bcu7DDL-X_",
        "outputId": "415ab8bc-6954-4060-b063-0b348ff6cca9"
      },
      "execution_count": null,
      "outputs": [
        {
          "output_type": "stream",
          "name": "stdout",
          "text": [
            "Requirement already satisfied: transformers in /usr/local/lib/python3.7/dist-packages (4.19.2)\n",
            "Requirement already satisfied: tqdm>=4.27 in /usr/local/lib/python3.7/dist-packages (from transformers) (4.64.0)\n",
            "Requirement already satisfied: filelock in /usr/local/lib/python3.7/dist-packages (from transformers) (3.7.0)\n",
            "Requirement already satisfied: pyyaml>=5.1 in /usr/local/lib/python3.7/dist-packages (from transformers) (6.0)\n",
            "Requirement already satisfied: huggingface-hub<1.0,>=0.1.0 in /usr/local/lib/python3.7/dist-packages (from transformers) (0.6.0)\n",
            "Requirement already satisfied: tokenizers!=0.11.3,<0.13,>=0.11.1 in /usr/local/lib/python3.7/dist-packages (from transformers) (0.12.1)\n",
            "Requirement already satisfied: numpy>=1.17 in /usr/local/lib/python3.7/dist-packages (from transformers) (1.21.6)\n",
            "Requirement already satisfied: requests in /usr/local/lib/python3.7/dist-packages (from transformers) (2.23.0)\n",
            "Requirement already satisfied: regex!=2019.12.17 in /usr/local/lib/python3.7/dist-packages (from transformers) (2019.12.20)\n",
            "Requirement already satisfied: importlib-metadata in /usr/local/lib/python3.7/dist-packages (from transformers) (4.11.3)\n",
            "Requirement already satisfied: packaging>=20.0 in /usr/local/lib/python3.7/dist-packages (from transformers) (21.3)\n",
            "Requirement already satisfied: typing-extensions>=3.7.4.3 in /usr/local/lib/python3.7/dist-packages (from huggingface-hub<1.0,>=0.1.0->transformers) (4.2.0)\n",
            "Requirement already satisfied: pyparsing!=3.0.5,>=2.0.2 in /usr/local/lib/python3.7/dist-packages (from packaging>=20.0->transformers) (3.0.9)\n",
            "Requirement already satisfied: zipp>=0.5 in /usr/local/lib/python3.7/dist-packages (from importlib-metadata->transformers) (3.8.0)\n",
            "Requirement already satisfied: certifi>=2017.4.17 in /usr/local/lib/python3.7/dist-packages (from requests->transformers) (2021.10.8)\n",
            "Requirement already satisfied: chardet<4,>=3.0.2 in /usr/local/lib/python3.7/dist-packages (from requests->transformers) (3.0.4)\n",
            "Requirement already satisfied: urllib3!=1.25.0,!=1.25.1,<1.26,>=1.21.1 in /usr/local/lib/python3.7/dist-packages (from requests->transformers) (1.24.3)\n",
            "Requirement already satisfied: idna<3,>=2.5 in /usr/local/lib/python3.7/dist-packages (from requests->transformers) (2.10)\n"
          ]
        }
      ]
    },
    {
      "cell_type": "code",
      "source": [
        "# !pip3 install Cython"
      ],
      "metadata": {
        "id": "CMPRfp91rzf2"
      },
      "execution_count": null,
      "outputs": []
    },
    {
      "cell_type": "code",
      "source": [
        "from transformers import AutoTokenizer, AutoModelForSeq2SeqLM\n",
        "\n",
        "ltokenizer = AutoTokenizer.from_pretrained(\"slauw87/bart_summarisation\")\n",
        "\n",
        "lmodel = AutoModelForSeq2SeqLM.from_pretrained(\"slauw87/bart_summarisation\")"
      ],
      "metadata": {
        "id": "u5yJtCDMwbei"
      },
      "execution_count": null,
      "outputs": []
    },
    {
      "cell_type": "code",
      "source": [
        "def getSummaryLED(text):\n",
        "    article = text\n",
        "    input_ids = ltokenizer(article, return_tensors=\"pt\").input_ids\n",
        "    output_ids = lmodel.generate(input_ids)\n",
        "    summary = ltokenizer.decode(output_ids[0], skip_special_tokens=True)\n",
        "    return summary"
      ],
      "metadata": {
        "id": "GORNzkyuML4w"
      },
      "execution_count": null,
      "outputs": []
    },
    {
      "cell_type": "code",
      "source": [
        "def GenerateSummary(text):\n",
        "  x = getSummaryLED(text)\n",
        "  y = \"\";\n",
        "  prev = '';\n",
        "  for i in range(0, len(x)):\n",
        "      if prev != '.':\n",
        "        y += x[i];\n",
        "      prev = x[i];\n",
        "  return y\n",
        "  # print(y)"
      ],
      "metadata": {
        "id": "WUW96Ycsa9U8"
      },
      "execution_count": null,
      "outputs": []
    },
    {
      "cell_type": "code",
      "source": [
        "text = \"\"\"\n",
        "\"Vrihadaswa continued, 'Thus addressed by those celestials, the ruler of Nishadhas spake again, saying, 'Those mansions are well-guarded. How can I hope to enter them?' Indra replied, 'Thou shalt be able to enter.' And, saying, So be it.' Nala thereupon went to the palace of Damayanti. And having arrived there, he beheld the daughter of the king of Vidarbha surrounded by her hand-maids, blazing in beauty and excelling in symmetry of form, of limbs exceedingly delicate, of slender waist and fair eyes. And she seemed to rebuke the light of the moon by her own splendour. And as he gazed on that lady of sweet smiles. Nala's love increased, but desirous of keeping his truth, he suppressed his passion. And at the sight of Naishadha, overpowered by his effulgence, those first of women sprang up from their seats in amazement. And filled with wonder (at his sight), they praised Nala in gladness of heart. And without saying anything, they mentally paid him homage, 'Oh, what comeliness! Oh, what gentleness belongeth to this high-souled one! Who is he? Is he some god or Yaksha or Gandharva?' And those foremost of women, confounded by Nala's splendour and bashfulness would not accost him at all in speech. And Damayanti although herself struck with amazement, smilingly addressed\n",
        "the warlike Nala who also gently smiled at her, saying, 'What art thou, O thou of faultless features, that hast come here awakening my love? O sinless one, O hero of celestial form, I am anxious to know who thou art that hast come hither. And why hast thou come hither? And how is it that thou hast not been discovered by any one, considering that my apartments are well-guarded and the king's mandates are stern.' Thus addressed by the daughter of the king of the Vidarbhas, Nala replied, 'O beauteous lady, know that my name is Nala. I come here as the messenger of the gods. The celestials, Sakra, Agni, Varuna and Yama, desire to have thee. O beautiful lady, do thou choose one of them for thy lord. It is through their power that I have entered here unperceived, and it is for this reason that none saw me on my way or obstructed my entrance. O gentle one, I have been sent by the foremost of the celestials even for this object. Hearing this, O fortunate one, do what thou pleasest.'\"\n",
        "\"\"\"\n",
        "GenerateSummary(text)\n"
      ],
      "metadata": {
        "colab": {
          "base_uri": "https://localhost:8080/",
          "height": 53
        },
        "id": "MBu_NIDiYlL4",
        "outputId": "ac594e62-7b83-4fae-9d26-b2f815a542b3"
      },
      "execution_count": null,
      "outputs": [
        {
          "output_type": "execute_result",
          "data": {
            "text/plain": [
              "'Nala came to the palace of Damayanti to see the daughter of the king of Vidarbha.He was attracted to her, but he wanted to keep his truth.Nala was sent by the foremost celestials Sakra, Agni, Varuna, and Yama to choose one of them for his lord.'"
            ],
            "application/vnd.google.colaboratory.intrinsic+json": {
              "type": "string"
            }
          },
          "metadata": {},
          "execution_count": 31
        }
      ]
    },
    {
      "cell_type": "code",
      "source": [
        "op = GenerateSummary(text)\n",
        "print(op)"
      ],
      "metadata": {
        "colab": {
          "base_uri": "https://localhost:8080/"
        },
        "id": "BVjMy66USD-X",
        "outputId": "001541ae-cd0e-450b-853c-b0dea9f06b3f"
      },
      "execution_count": null,
      "outputs": [
        {
          "output_type": "stream",
          "name": "stdout",
          "text": [
            "Nala came to the palace of Damayanti to see the daughter of the king of Vidarbha.He was attracted to her, but he wanted to keep his truth.Nala was sent by the foremost celestials Sakra, Agni, Varuna, and Yama to choose one of them for his lord.\n"
          ]
        }
      ]
    },
    {
      "cell_type": "code",
      "source": [
        "import nltk\n",
        "from nltk.tokenize import sent_tokenize\n",
        "nltk.download('punkt')\n",
        "\n",
        "file_path = \"/content/drive/MyDrive/Mahabarat/03.txt\"\n",
        "\n",
        "# book_list = [\"01\",\"02\",\"03\",\"04\",\"05\",\"06\",\"07\",\"08\",\"09\",\"10\",\"11\",\"12\",\"13\",\"14\",\"15\",\"16\",\"17\",\"18\"]\n",
        "sen_list = []\n",
        "# for i in book_list:\n",
        "book_path = file_path\n",
        "  #print(book_path)\n",
        "f = open(book_path, \"r\")\n",
        "s = f.read()\n",
        "temp = sent_tokenize(s)\n",
        "for x in temp:\n",
        "  sen_list.append(x)\n",
        "print(sen_list[100])"
      ],
      "metadata": {
        "colab": {
          "base_uri": "https://localhost:8080/"
        },
        "id": "5LRDN-7XyAYd",
        "outputId": "3019796d-351d-45ea-8981-34c95b53a2ba"
      },
      "execution_count": null,
      "outputs": [
        {
          "output_type": "stream",
          "name": "stdout",
          "text": [
            "[nltk_data] Downloading package punkt to /root/nltk_data...\n",
            "[nltk_data]   Package punkt is already up-to-date!\n",
            "He\n",
            "cannot be regarded to have renounced the world who hath merely withdrawn\n",
            "from worldly possessions.\n"
          ]
        }
      ]
    },
    {
      "cell_type": "code",
      "source": [
        "print(sen_list[150:200])"
      ],
      "metadata": {
        "colab": {
          "base_uri": "https://localhost:8080/"
        },
        "id": "_tqREvK-zbcy",
        "outputId": "5511e6c1-7cab-494d-bed3-95340e9c91c1"
      },
      "execution_count": null,
      "outputs": [
        {
          "output_type": "stream",
          "name": "stdout",
          "text": [
            "['Feeding a\\nguest is equivalent to a sacrifice, and the pleasant looks the host\\ncasteth upon the guest, the attention he devoteth to him, the sweet words\\nin which he addresseth him, the respect he payeth by following him, and\\nthe food and drink with which he treateth him, are the five Dakshinas[4]\\nin that sacrifice.', 'He who giveth without stint food to a fatigued\\nwayfarer never seen before, obtaineth merit that is great, and he who\\nleading a domestic life, followeth such practices, acquireth religious\\nmerit that is said to be very great.', 'O Brahmana, what is thy opinion on\\nthis?\"', '\"Saunaka said, \\'Alas, this world is full of contradictions!', 'That which\\nshameth the good, gratifieth the wicked!', 'Alas, moved by ignorance and\\npassion and slaves of their own senses, even fools perform many acts of\\n(apparent merit) to gratify in after-life their appetites!', 'With eyes open\\nare these men led astray by their seducing senses, even as a charioteer,\\nwho hath lost his senses, by restive and wicked steeds!', 'When any of the\\nsix senses findeth its particular object, the desire springeth up in the\\nheart to enjoy that particular object.', \"And thus when one's heart\\nproceedeth to enjoy the objects of any particular sense a wish is\\nentertained which in its turn giveth birth to a resolve.\", 'And finally,\\nlike unto an insect falling into a flame from love of light, the man\\nfalleth into the fire of temptation, pierced by the shafts of the object\\nof enjoyment discharged by the desire constituting the seed of the\\nresolve!', 'And thenceforth blinded by sensual pleasure which he seeketh\\nwithout stint, and steeped in dark ignorance and folly which he mistaketh\\nfor a state of happiness, he knoweth not himself!', 'And like unto a wheel\\nthat is incessantly rolling, every creature, from ignorance and deed and\\ndesire, falleth into various states in this world, wandering from one\\nbirth to another, and rangeth the entire circle of existences from a\\nBrahma to the point of a blade of grass, now in water, now on land, and\\nnow against in the air!', \"'This then is the career of those that are without knowledge.\", 'Listen now\\nto the course of the wise they that are intent on profitable virtue, and\\nare desirous of emancipation!', 'The Vedas enjoin act but renounce (interest\\nin) action.', 'Therefore, shouldst thou act, renouncing Abhimana,[5]\\nperformance of sacrifices, study (of the Vedas), gifts, penance, truth\\n(in both speech and act), forgiveness, subduing the senses, and\\nrenunciation of desire,--these have been declared to be the eight\\n(cardinal) duties constituting the true path.', 'Of these, the four first\\npave the way to the world of the pitris.', 'And these should be practised\\nwithout Abhimana.', 'The four last are always observed by the pious, to\\nattain the heaven of the gods.', 'And the pure in spirit should ever follow\\nthese eight paths.', 'Those who wish to subdue the world for purpose of\\nsalvation, should ever act fully renouncing motives, effectually subduing\\ntheir senses, rigidly observing particular vows, devotedly serving their\\npreceptors, austerely regulating their fare, diligently studying the\\nVedas, renouncing action as mean and restraining their hearts.', 'By\\nrenouncing desire and aversion the gods have attained prosperity.', 'It is\\nby virtue of their wealth of yoga[6] that the Rudras, and the Sadhyas,\\nand the Adityas and the Vasus, and the twin Aswins, rule the creatures.', 'Therefore, O son of Kunti, like unto them, do thou, O Bharata, entirely\\nrefraining from action with motive, strive to attain success in yoga and\\nby ascetic austerities.', 'Thou hast already achieved such success so far as\\nthy debts to thy ancestors, both male and female concerned, and that\\nsuccess also which is derived from action (sacrifices).', 'Do thou, for\\nserving the regenerate ones endeavour to attain success in penances.', 'Those that are crowned with ascetic success, can, by virtue of that\\nsuccess, do whatever they list; do thou, therefore, practising asceticism\\nrealise all thy wishes.\"', 'SECTION III\\n\\n\"Vaisampayana said, \\'Yudhishthira the son of Kunti, thus addressed by\\nSaunaka, approached his priest and in the midst of his brothers said,\\n\\'The Brahmanas versed in the Vedas are following me who am departing for\\nthe forest.', 'Afflicted with many calamities I am unable to support them.', \"I\\ncannot abandon them, nor have I the power to offer them sustenance: Tell\\nme, O holy one, what should be done by me in such a pass.'\", '\"Vaisampayana said, \\'After reflecting for a moment seeking to find out\\nthe (proper) course by his yoga powers, Dhaumya, that foremost of all\\nvirtuous men, addressed Yudhishthira, in these words, \\'In days of old,\\nall living beings that had been created were sorely afflicted with\\nhunger.', 'And like a father (unto all of them), Savita (the sun) took\\ncompassion upon them.', 'And going first into the northern declension, the\\nsun drew up water by his rays, and coming back to the southern\\ndeclension, stayed over the earth, with his heat centered in himself.', 'And\\nwhile the sun so stayed over the earth, the lord of the vegetable world\\n(the moon), converting the effects of the solar heat (vapours) into\\nclouds and pouring them down in the shape of water, caused plants to\\nspring up.', 'Thus it is the sun himself, who, drenched by the lunar\\ninfluence, is transformed, upon the sprouting of seeds, into holy\\nvegetable furnished with the six tastes.', 'And it is these which constitute\\nthe food of all creatures upon the earth.', 'Thus the food that supporteth\\nthe lives of creatures is instinct with solar energy, and the sun is,\\ntherefore, the father of all creatures.', 'Do thou, hence, O Yudhishthira,\\ntake refuge even in him.', 'All illustrious monarchs of pure descent and\\ndeeds are known to have delivered their people by practising high\\nasceticism.', 'The great Karttavirya, and Vainya and Nahusha, had all, by\\nvirtue of ascetic meditation preceded by vows, delivered their people\\nfrom heavy afflictions.', 'Therefore, O virtuous one, as thou art purified\\nby the acts do thou likewise, entering upon a file of austerities.', \"O\\nBharata, virtuously support the regenerate ones.'\", '\"Janamejaya said, \\'How did that bull among the Kurus, king Yudhishthira,\\nfor the sake of the Brahmanas adore the sun of wonderful appearance?\"', '\"Vaisampayana said, \\'Listen attentively, O king, purifying thyself and\\nwithdrawing thy mind from every other thing.', 'And, O king of kings,\\nappoint thou a time.', 'I will tell thee everything in detail, And, O\\nillustrious one, listen to the one hundred and eight names (of the sun)\\nas they were disclosed of old by Dhaumya to the high-souled son of\\nPritha.', \"Dhaumya said, 'Surya, Aryaman, Bhaga, Twastri, Pusha, Arka,\\nSavitri.\", 'Ravi,\\n\\nGabhastimat, Aja, Kala, Mrityu, Dhatri, Prabhakara, Prithibi, Apa, Teja,\\nKha, Vayu, the sole stay, Soma, Vrihaspati, Sukra, Budha, Angaraka,\\nIndra, Vivaswat, Diptanshu, Suchi, Sauri, Sanaichara, Brahma, Vishnu,\\nRudra, Skanda, Vaisravana, Yama, Vaidyutagni, Jatharagni, Aindhna,\\nTejasampati, Dharmadhwaja, Veda-karttri, Vedanga, Vedavahana, Krita,\\nTreta, Dwapara, Kali, full of every impurity, Kala, Kastha, Muhurtta,\\nKshapa, Yama, and Kshana; Samvatsara-kara, Aswattha, Kalachakra,\\nBibhavasu, Purusha, Saswata, Yogin, Vyaktavyakta, Sanatana, Kaladhyaksha,\\nPrajadhyaksha, Viswakarma, Tamounda, Varuna, Sagara, Ansu, Jimuta,\\nJivana, Arihan, Bhutasraya, Bhutapati, Srastri, Samvartaka, Vanhi,\\nSarvadi, Alolupa, Ananta, Kapila, Bhanu, Kamada, Sarvatomukha, Jaya,\\nVisala, Varada, Manas, Suparna, Bhutadi, Sighraga, Prandharana,\\nDhanwantari, Dhumaketu, Adideva, Aditisuta, Dwadasatman, Aravindaksha,\\nPitri, Matri, Pitamaha, Swarga-dwara, Prajadwara, Mokshadwara,\\nTripistapa, Dehakarti, Prasantatman, Viswatman, Viswatomukha,\\nCharacharatman, Sukhsmatman, the merciful Maitreya.', 'These are the hundred\\nand eight names of Surya of immeasurable energy, as told by the\\nself-create (Brahma).', 'For the acquisition of prosperity, I bow down to\\nthee, O Bhaskara, blazing like unto gold or fire, who is worshipped of\\nthe gods and the Pitris and the Yakshas, and who is adored by Asuras,\\nNisacharas, and Siddhas.']\n"
          ]
        }
      ]
    },
    {
      "cell_type": "code",
      "source": [
        "l = []\n",
        "i = 0\n",
        "dict = {}\n",
        "for s in sen_list:\n",
        "  if 'SECTION' in s:\n",
        "    dict[i] = l\n",
        "    l = []\n",
        "    # print(s)\n",
        "    s = s.split('\\n')\n",
        "    s = s[1:]\n",
        "    # print(s)\n",
        "    s1 = \" \"\n",
        "    s1 = ' '.join([str(elem) for elem in s])\n",
        "    l.append(s1)\n",
        "    # print(s1)\n",
        "    # print('-----')\n",
        "    i+=1\n",
        "  else:\n",
        "    l.append(s)"
      ],
      "metadata": {
        "id": "Qw8a37KRzwGS"
      },
      "execution_count": null,
      "outputs": []
    },
    {
      "cell_type": "code",
      "source": [
        "# k = dict[3]\n",
        "# for line in k:\n",
        "#   print(line)"
      ],
      "metadata": {
        "id": "tzt3a3mx0P9F"
      },
      "execution_count": null,
      "outputs": []
    },
    {
      "cell_type": "code",
      "source": [
        "set_of_secs = {-1}\n",
        "for key in dict:\n",
        "  temp = dict[key]\n",
        "  for x in temp:\n",
        "    if 'Swayamvara' in x:\n",
        "      set_of_secs.add(key)\n",
        "print(set_of_secs)"
      ],
      "metadata": {
        "colab": {
          "base_uri": "https://localhost:8080/"
        },
        "id": "zBwwgl8q5zJM",
        "outputId": "fa2f794a-3b0d-463e-b2d4-429aca5b000b"
      },
      "execution_count": null,
      "outputs": [
        {
          "output_type": "stream",
          "name": "stdout",
          "text": [
            "{65, 70, 71, 73, 74, 12, 54, 55, 56, 57, 58, -1}\n"
          ]
        }
      ]
    },
    {
      "cell_type": "code",
      "source": [
        "from operator import length_hint\n",
        "sorted_set = sorted(set_of_secs)\n",
        "print(length_hint(set_of_secs))\n",
        "print(sorted_set)\n",
        "print(type(sorted_set))\n",
        "length_hint(sorted_set)"
      ],
      "metadata": {
        "colab": {
          "base_uri": "https://localhost:8080/"
        },
        "id": "fZvV7fvE7rr6",
        "outputId": "741d21f1-b599-4613-ac03-a0479f59ce1b"
      },
      "execution_count": null,
      "outputs": [
        {
          "output_type": "stream",
          "name": "stdout",
          "text": [
            "12\n",
            "[-1, 12, 54, 55, 56, 57, 58, 65, 70, 71, 73, 74]\n",
            "<class 'list'>\n"
          ]
        },
        {
          "output_type": "execute_result",
          "data": {
            "text/plain": [
              "12"
            ]
          },
          "metadata": {},
          "execution_count": 38
        }
      ]
    },
    {
      "cell_type": "code",
      "source": [
        "# sections_sets_list_start = []\n",
        "# sections_sets_list_end = []\n",
        "# n = length_hint(sorted_set)\n",
        "# for i in range(1, n-1):\n",
        "#   len = 0\n",
        "#   j = i\n",
        "#   # print(sorted_set[i])\n",
        "#   while(j<length_hint(sorted_set) and sorted_set[j-1] - sorted_set[j] == -1):\n",
        "#     j+=1\n",
        "#     len+=1\n",
        "#   if(len>1):\n",
        "#     sections_sets_list_start.append(i)\n",
        "#     sections_sets_list_end.append(i+len-1)\n"
      ],
      "metadata": {
        "id": "86Qr1rxo8lJ-"
      },
      "execution_count": null,
      "outputs": []
    },
    {
      "cell_type": "code",
      "source": [
        "def ranges(nums):\n",
        "    nums = sorted(set(nums))\n",
        "    gaps = [[s, e] for s, e in zip(nums, nums[1:]) if s+2 < e]\n",
        "    edges = iter(nums[:1] + sum(gaps, []) + nums[-1:])\n",
        "    return list(zip(edges, edges))\n",
        "\n",
        "temp = ranges(sorted_set)\n",
        "final = []\n",
        "# print(temp)\n",
        "for i in temp:\n",
        "  if i[1] - i[0] != 0:\n",
        "    final.append(i)\n",
        "print(final)"
      ],
      "metadata": {
        "colab": {
          "base_uri": "https://localhost:8080/"
        },
        "id": "oicC0Mwh_zFk",
        "outputId": "3f8b2ba5-88fe-4409-fb31-a33049549aed"
      },
      "execution_count": null,
      "outputs": [
        {
          "output_type": "stream",
          "name": "stdout",
          "text": [
            "[(54, 58), (70, 74)]\n"
          ]
        }
      ]
    },
    {
      "cell_type": "code",
      "source": [
        "print(len(dict[2]))"
      ],
      "metadata": {
        "colab": {
          "base_uri": "https://localhost:8080/"
        },
        "id": "ss5v9KTmWzSQ",
        "outputId": "28f77f33-c604-4b31-a13f-a0d0b299e353"
      },
      "execution_count": null,
      "outputs": [
        {
          "output_type": "stream",
          "name": "stdout",
          "text": [
            "117\n"
          ]
        }
      ]
    },
    {
      "cell_type": "code",
      "source": [
        "event_sentences = []\n",
        "for x in final:\n",
        "  sentences = []\n",
        "  for i in range(x[0], x[1]+1):\n",
        "    temp = dict[i]\n",
        "    for s in temp:\n",
        "      sentences.append(s)\n",
        "  event_sentences.append(sentences)"
      ],
      "metadata": {
        "id": "ii55BV4IVRna"
      },
      "execution_count": null,
      "outputs": []
    },
    {
      "cell_type": "code",
      "source": [
        "print(len(event_sentences))"
      ],
      "metadata": {
        "colab": {
          "base_uri": "https://localhost:8080/"
        },
        "id": "-Jly-YptWG2T",
        "outputId": "ca68ea9b-94cb-4f37-9ce4-08f15cbdc0bd"
      },
      "execution_count": null,
      "outputs": [
        {
          "output_type": "stream",
          "name": "stdout",
          "text": [
            "2\n"
          ]
        }
      ]
    },
    {
      "cell_type": "code",
      "source": [
        "# print(len(sentences))\n",
        "# print(event_sentences[0][0])"
      ],
      "metadata": {
        "id": "hvvxIo3SWGWj"
      },
      "execution_count": null,
      "outputs": []
    },
    {
      "cell_type": "code",
      "source": [
        "\n",
        "summary = []\n",
        "for x in event_sentences:\n",
        "  i = 0\n",
        "  summary_temp = []\n",
        "  n = 0\n",
        "  s= \" \"\n",
        "  for t in x:\n",
        "    s = s + ' ' + t\n",
        "    n+=1\n",
        "    i+=1\n",
        "    if n >= 10 or i == len(x)-1:\n",
        "      print(len(s))\n",
        "      summary_temp.append(GenerateSummary(s))\n",
        "      n = 0\n",
        "      s = \"\"\n",
        "  summary.append(summary_temp)\n",
        "\n",
        "\n",
        "\n",
        "\n",
        "\n"
      ],
      "metadata": {
        "id": "yXsqlUYBXpkk"
      },
      "execution_count": null,
      "outputs": []
    },
    {
      "cell_type": "code",
      "source": [
        "print(summary[0])"
      ],
      "metadata": {
        "colab": {
          "base_uri": "https://localhost:8080/"
        },
        "id": "gMAJwgsQbjM7",
        "outputId": "36423d4c-f5b7-4c60-a426-8cbd31523e22"
      },
      "execution_count": null,
      "outputs": [
        {
          "output_type": "stream",
          "name": "stdout",
          "text": [
            "[\"Damayanti's relationship with Nala has taken a serious toll on her mental state.Her handmaids informed the king of Vidarbha that Damayanti is ill.King Bhima decided to have her Swayamvara to cure her.\", \"Damayanti's Swayamvara is at hand.All the kings came to Bhima.Narada and Parvata took up their quarters there.Indra entered the mansion of the lord of the immortals.Maghavat inquired after their undisturbed peace and welfare.\", \"Narada's daughter Damayanti is about to have a Swayamvara with her father, the ruler of Vidarbhas, and all the lords of the earth want to have her.Lokapalas and Agni heard Narada's words and they will go there as well.\", \"Vrihadaswa tells the story of Nala, the high-souled king from Vidarbhas.Nala's form was like that of the god of love, Damayanti's love.The gods saw Nala on the way.Lokapalas abandoned their plans to kill him, because of his beauty.\", 'Maghavat, Indra, Agni, Varuna, Yama, Sakra and Nala have come to the Nishadhas to inform Damayanti of their arrival.They are the guardians of the world and they want to obtain the Swayamvara.', 'Nala wants to enter the palace of Damayanti, but the gates are well-guarded, so she goes to the ruler of Nishadhas, Indra, who tells her that she will be able to enter.Nala is angry with the gods for sending her.', \"Nala is in love with Naishadha, the daughter of the king of Vidarbha.She is surrounded by her hand-maids.Nala's love for her increases, but he wants to keep his truth.The first of the women praised Nala in gladness.\", 'Damayanti is surprised that Nala has come to her place.Damayanti wants to know who Nala is and why she has come here.Nala explains that she is a messenger of the gods and they want her to choose one of them for their lord.', 'Damayanti, Vrihadaswa, Nala and Vidarbhas met for the first time.Damayanti asked Nala what she should do for him.Nala refused to turn her heart to the high-souled lords, because she is not equal.', 'Naishadha, Damayanti, Nala, and Varuna want to choose the celestials as their lord.Nala chooses Hutasana, Mahendra, the lord of celestial, the chastiser of Daityas and Danavas, as her lord.', \"Damayanti asked king Nala to come to the Swayamvara in company with all the gods headed by Indra and choose him.Nala accepted Damayanti's request and returned to the place where the gods were staying.The Lokapalas asked him about all that had happened.\", \"Nala entered Damayanti's palace and was greeted by the princess and her handmaids.Nala was chosen for the princess as her spouse.The princess wanted Nala to come with her to the Swayamvara, where she would be chosen by the gods.\", 'King Bhima summoned the kings to the Swayamvara.Damayanti of beauteous face stole the eyes and hearts of the princes by her dazzling light.The names of the monarchs were proclaimed and the daughter of Bhima saw five people all like her in appearance.', \"The daughter of Vidarbha couldn't distinguish between the celestials and the royal Nala.She decided to seek the protection of the gods and chose the king of the Nishadhas as her lord.She asked the gods to reveal him to her.\", 'Damayanti wants to know the king of Nishadhas.Nala, the daughter of Bhima, chose Naishadha for her husband.The gods and the great Rishis congratulated the king and praised Nala for her choice.  .', 'Naishadha chose Nala as her husband.Lokapalas of exceedingeffulgence with pleased hearts bestowed on Nala eight boons.Sakra, Sakra and Hutasana bestowed on him the boon of his own presence whenever he wished.Yama granted him subtle taste in food as well as pre-eminence invirtue.', \"Bhima and Damayanti's daughter, Naishadha, was chosen by Bhima.Bhima, well pleased, celebrated the wedding of Nala and Damyanti.Nala had a son named Indrasena and a daughter called Indrasena.\", \"Kali is going to Damayanti's Swayamvara to get Nala for his wife.Kali is angry because Damayani chose a mortal for her lord.The celestials support Kali's opinion.Nala is well-versed in all duties and has studied the four Vedas and the Puranas.\", \"Kali and Dwapara are angry at Nala, because she cursed Bhima's daughter.Kali threatens to possess Nala and deprive him of his kingdom if he does not back down from his anger.Nala will no longer be able to play with Bhima’s daughter.\"]\n"
          ]
        }
      ]
    },
    {
      "cell_type": "code",
      "source": [
        "print(summary_temp)"
      ],
      "metadata": {
        "colab": {
          "base_uri": "https://localhost:8080/"
        },
        "id": "Y-h88z5MiNl7",
        "outputId": "992a1855-8386-4ab8-e764-a58c8df7fda8"
      },
      "execution_count": null,
      "outputs": [
        {
          "output_type": "stream",
          "name": "stdout",
          "text": [
            "['After a long time, Parnada returned to Vidarbhas.Damayanti was dismissed by the monarch and was accosted by Vahuka, a charioteer in the service of Rituparna, who spoke to her about chaste women.', \"Sudeva will go to Ayodhya to bring Nala to Bhima.Damayanti's mother, Parnada, told her in private that Bhima should not be made acquainted with Sudeva's purpose.After the princess of Vidarbha had recovered from fatigue, she worshipped him with profuse wealth.\", \"Damayanti's daughter, Damayanti, will hold another Swayamvara ceremony tomorrow.Vahuka will go to the ceremony in course of a single day if it pleases him, as he is well-skilled in training and guiding horses.\", \"Damayanti, the princess of Vidarbha, wants to have an affair with Nala's son, Kunti.Nala feels his heart is bursting in grief.Damayanti is the mother of his child, Rituparna.He will go there to find out if it's true or not.\", 'Vahuka will go to Vidarbhas in a single day.He has chosen the best horses for the journey.The king is angry at Vahuka, because the horses are not strong enough to carry him and Rituparna the whole way.', 'The king of Ayodhaya and his charioteer Varshneya are riding horses.Nala and Rituparna are yoking the best horses for Vahuka.They are docile and fleet.The horses draw the car at great speed.', 'Salihotra believes that Vahuka and Nala are of the same age and of equal knowledge.He believes that Nala may have been despoiled of his personal features and that this one equals Nala in respect of age.He also believes that some people walk this earth in disguise.', \"Varshneya used to be the charioteer of the righteous Nala.Vahuka is an expert in equestrian science.Nala's car crossed rivers and mountains, and woods and lakes.Vrihadaswa saw his upper garment drop down on the ground.\", 'The sheet is dropped far away and cannot be recovered.Nala came upon a Vibhitaka tree with fruits in a forest.The two branches of the tree have fifty millions of leaves and two thousand and ninety-five fruits.Vahuka has high proficiency in calculation.', 'Vahuka will count the fruits and leaves in the presence of the king.Varshneya will be the charioteer for Vahuka and he will take the reins of the horses.The king wants Vahukas to hurry up, but he refuses.', 'Rituparna wants Vahuka to take her to Vidarbha.Vahukas promises to do so.He will go there after he counts the leaves and fruits of the Vibhitaka tree.He has already felled the tree.', 'Vahuka is proficient at dice and is versed in numbers.Vahuka wants the king to teach him the science of dice.King Rituparna agrees and imparts the knowledge of dice to Nala.Nala uses it to cure Kali of the poison Karkotaka.', \"Kali, the ruler of the Nishadhas, threatened to curse king Nala.King Nala controlled Kali's wrath.Kali entered into the Vibhitaka tree and was talking to Naishadha, but was invisible to others. \", 'Nala was freed from his afflictions.He was riding a car in the direction of Vidarbhas.Rituparna had arrived at the city and was brought to king Bhima.Nala entered the city of Kundina and the horses of Nala were in that city.', \"Bhima, Nala's steeds, peacocks, elephants, and horses heard the rattle of Rituparna's car.They were filled with delight.Damayanti believes it must be King Nala.If Naishadha does not come to him today, he will die.\", \"Damayanti, O Bharata's wife, wants to see the righteous Nala.Rituparna arrived on a car with Varshneya and Vahuka, unyoked the steeds, and kept the vehicle itself in a proper place.Bhima received him with great respect.\", 'King Bhima is surprised that Rituparna came to Kosala to pay his respects to him.He will find out the true reason for his visit in the future.Rit uparna went back to his quarters and rested after his visit with Bhima.', 'Vahuka took the car to the stables.Varshneya of the Suta race learnt the art from Nala.Damayanti sent a female messenger in search of Nishada.Vrihadaswa suspects the charioteer is king Nala herself.', 'Damayanti asked Vahuka to tell him the words of Parnada and explain to him the second Swayamvara of Damayanti that is taking place.The king of Kosala had heard it from a Brahmana that a second Swaysa would take place and he came here by the help of an excellent steeds fleet.', \"Varshneya is the charioteer and cook of king Rituparna's son Bhangasura.Vahuka is skilled in horse-lore and has been appointed as his charioteser.Nala has left his kingdom and Varshneya doesn't know where she is.\", \"Kesini is angry at Vrihadaswa for deserting his wife and leaving her for a gambler.She is waiting for him in the woods in grief.Nala's heart was pained and his eyes filled with tears when he was told the words of the king.\", \"Bharata was talking to Nala about her husband's sufferings.Nala was oppressed with grief and began to cry, but Bharata couldn't control his tears. He said that a virtuous lady should not be angry with a husband who is suffering.\"]\n"
          ]
        }
      ]
    },
    {
      "cell_type": "code",
      "source": [
        "print(len(summary))"
      ],
      "metadata": {
        "colab": {
          "base_uri": "https://localhost:8080/"
        },
        "id": "NkYpFPhZVykl",
        "outputId": "e3bbeffb-388e-4997-e948-31d015dee6d2"
      },
      "execution_count": null,
      "outputs": [
        {
          "output_type": "stream",
          "name": "stdout",
          "text": [
            "2\n"
          ]
        }
      ]
    },
    {
      "cell_type": "code",
      "source": [
        "with open(\"chap3_summary.txt\", \"w\") as output:\n",
        "    output.write(str(summary))"
      ],
      "metadata": {
        "id": "cC3i_xOaWusd"
      },
      "execution_count": null,
      "outputs": []
    }
  ]
}